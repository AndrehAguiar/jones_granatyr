{
 "cells": [
  {
   "cell_type": "markdown",
   "metadata": {},
   "source": [
    "# EXERCÍCIO\n",
    "\n",
    "Nas aulas anteriores você aprendeu a dividir a base de dados entre treinamento e teste para avaliar os algoritmos de classificação. Porém, existe uma outra técnica que é mais utilizada no meio científico, que é a validação cruzada. Na próxima aula, você terá uma breve introdução teórica a esta técnica\n",
    "\n",
    "O objetivo deste exercício é aplicar a validação cruzada e comparar os resultados com a abordagem de treinamento e teste. Acesse [aqui](https://scikit-learn.org/stable/modules/cross_validation.html) a documentação do sklearn para entender melhor sobre a implementação"
   ]
  },
  {
   "cell_type": "code",
   "execution_count": 1,
   "metadata": {},
   "outputs": [],
   "source": [
    "import numpy as np\n",
    "import pandas as pd\n",
    "import matplotlib.pyplot as plt\n",
    "\n",
    "from scipy import stats\n",
    "\n",
    "from sklearn import preprocessing\n",
    "from sklearn.pipeline import make_pipeline\n",
    "from sklearn.metrics import accuracy_score\n",
    "from sklearn.naive_bayes import GaussianNB\n",
    "from sklearn.linear_model import LogisticRegression\n",
    "from sklearn.ensemble import RandomForestClassifier\n",
    "from sklearn.model_selection import train_test_split, cross_val_score, ShuffleSplit, KFold"
   ]
  },
  {
   "cell_type": "code",
   "execution_count": 2,
   "metadata": {},
   "outputs": [
    {
     "data": {
      "text/plain": [
       "(2000, 5)"
      ]
     },
     "execution_count": 2,
     "metadata": {},
     "output_type": "execute_result"
    }
   ],
   "source": [
    "df = pd.read_csv('CSVs/credit_data.csv')\n",
    "df.shape"
   ]
  },
  {
   "cell_type": "code",
   "execution_count": 3,
   "metadata": {},
   "outputs": [
    {
     "data": {
      "text/html": [
       "<div>\n",
       "<style scoped>\n",
       "    .dataframe tbody tr th:only-of-type {\n",
       "        vertical-align: middle;\n",
       "    }\n",
       "\n",
       "    .dataframe tbody tr th {\n",
       "        vertical-align: top;\n",
       "    }\n",
       "\n",
       "    .dataframe thead th {\n",
       "        text-align: right;\n",
       "    }\n",
       "</style>\n",
       "<table border=\"1\" class=\"dataframe\">\n",
       "  <thead>\n",
       "    <tr style=\"text-align: right;\">\n",
       "      <th></th>\n",
       "      <th>i#clientid</th>\n",
       "      <th>income</th>\n",
       "      <th>age</th>\n",
       "      <th>loan</th>\n",
       "      <th>c#default</th>\n",
       "    </tr>\n",
       "  </thead>\n",
       "  <tbody>\n",
       "    <tr>\n",
       "      <th>0</th>\n",
       "      <td>1</td>\n",
       "      <td>66155.925095</td>\n",
       "      <td>59.017015</td>\n",
       "      <td>8106.532131</td>\n",
       "      <td>0</td>\n",
       "    </tr>\n",
       "    <tr>\n",
       "      <th>1</th>\n",
       "      <td>2</td>\n",
       "      <td>34415.153966</td>\n",
       "      <td>48.117153</td>\n",
       "      <td>6564.745018</td>\n",
       "      <td>0</td>\n",
       "    </tr>\n",
       "    <tr>\n",
       "      <th>2</th>\n",
       "      <td>3</td>\n",
       "      <td>57317.170063</td>\n",
       "      <td>63.108049</td>\n",
       "      <td>8020.953296</td>\n",
       "      <td>0</td>\n",
       "    </tr>\n",
       "    <tr>\n",
       "      <th>3</th>\n",
       "      <td>4</td>\n",
       "      <td>42709.534201</td>\n",
       "      <td>45.751972</td>\n",
       "      <td>6103.642260</td>\n",
       "      <td>0</td>\n",
       "    </tr>\n",
       "    <tr>\n",
       "      <th>4</th>\n",
       "      <td>5</td>\n",
       "      <td>66952.688845</td>\n",
       "      <td>18.584336</td>\n",
       "      <td>8770.099235</td>\n",
       "      <td>1</td>\n",
       "    </tr>\n",
       "  </tbody>\n",
       "</table>\n",
       "</div>"
      ],
      "text/plain": [
       "   i#clientid        income        age         loan  c#default\n",
       "0           1  66155.925095  59.017015  8106.532131          0\n",
       "1           2  34415.153966  48.117153  6564.745018          0\n",
       "2           3  57317.170063  63.108049  8020.953296          0\n",
       "3           4  42709.534201  45.751972  6103.642260          0\n",
       "4           5  66952.688845  18.584336  8770.099235          1"
      ]
     },
     "execution_count": 3,
     "metadata": {},
     "output_type": "execute_result"
    }
   ],
   "source": [
    "df.dropna(inplace=True)\n",
    "df.head()"
   ]
  },
  {
   "cell_type": "code",
   "execution_count": 4,
   "metadata": {},
   "outputs": [
    {
     "data": {
      "text/plain": [
       "array([[6.61559251e+04, 5.90170151e+01, 8.10653213e+03],\n",
       "       [3.44151540e+04, 4.81171531e+01, 6.56474502e+03],\n",
       "       [5.73171701e+04, 6.31080495e+01, 8.02095330e+03],\n",
       "       ...,\n",
       "       [4.43114493e+04, 2.80171669e+01, 5.52278669e+03],\n",
       "       [4.37560566e+04, 6.39717958e+01, 1.62272260e+03],\n",
       "       [6.94365796e+04, 5.61526170e+01, 7.37883360e+03]])"
      ]
     },
     "execution_count": 4,
     "metadata": {},
     "output_type": "execute_result"
    }
   ],
   "source": [
    "X = df.iloc[:, 1:4].values\n",
    "X"
   ]
  },
  {
   "cell_type": "code",
   "execution_count": 5,
   "metadata": {},
   "outputs": [
    {
     "data": {
      "text/plain": [
       "array([0, 0, 0, ..., 1, 0, 0], dtype=int64)"
      ]
     },
     "execution_count": 5,
     "metadata": {},
     "output_type": "execute_result"
    }
   ],
   "source": [
    "y = df.iloc[:,4].values\n",
    "y"
   ]
  },
  {
   "cell_type": "code",
   "execution_count": 6,
   "metadata": {},
   "outputs": [],
   "source": [
    "from Models.Stats import Stats\n",
    "cls_stats = Stats()"
   ]
  },
  {
   "cell_type": "code",
   "execution_count": 7,
   "metadata": {},
   "outputs": [],
   "source": [
    "results_nb = []\n",
    "results_lr = []\n",
    "results_rf = []\n",
    "\n",
    "for i in range(30):\n",
    "    \n",
    "    cv = ShuffleSplit(n_splits=10, test_size=0.2, random_state=i)\n",
    "\n",
    "    nb = GaussianNB()\n",
    "    clf_nb = make_pipeline(preprocessing.StandardScaler(), nb)\n",
    "    scores_nb = cross_val_score(clf_nb, X, y, cv=cv, scoring='accuracy')\n",
    "    results_nb.append(cls_stats.mean(scores_nb))\n",
    "    \n",
    "    lr = LogisticRegression()\n",
    "    clf_lr = make_pipeline(preprocessing.StandardScaler(), lr)\n",
    "    scores_lr = cross_val_score(clf_lr, X, y, cv=cv, scoring='accuracy')\n",
    "    results_lr.append(cls_stats.mean(scores_lr))\n",
    "\n",
    "    rf = RandomForestClassifier(criterion='entropy')\n",
    "    clf_rf = make_pipeline(preprocessing.StandardScaler(), rf)\n",
    "    scores_rf = cross_val_score(clf_rf, X, y, cv=cv, scoring='accuracy')\n",
    "    results_rf.append(cls_stats.mean(scores_rf))"
   ]
  },
  {
   "cell_type": "code",
   "execution_count": 8,
   "metadata": {},
   "outputs": [],
   "source": [
    "results_nb_kfold = []\n",
    "results_lr_kfold = []\n",
    "results_rf_kfold = []\n",
    "\n",
    "for i in range(30):\n",
    "    \n",
    "    kfold = KFold(n_splits=10, shuffle=True, random_state=i)\n",
    "\n",
    "    nb_kfold = GaussianNB()\n",
    "    clf_nb_kfold = make_pipeline(preprocessing.StandardScaler(), nb_kfold)\n",
    "    scores_nb_kfold = cross_val_score(clf_nb_kfold, X, y, cv=kfold, scoring='accuracy')\n",
    "    results_nb_kfold.append(cls_stats.mean(scores_nb_kfold))\n",
    "    \n",
    "    lr_kfold = LogisticRegression()\n",
    "    clf_lr_kfold = make_pipeline(preprocessing.StandardScaler(), lr_kfold)\n",
    "    scores_lr_kfold = cross_val_score(clf_lr_kfold, X, y, cv=kfold, scoring='accuracy')\n",
    "    results_lr_kfold.append(cls_stats.mean(scores_lr_kfold))\n",
    "\n",
    "    rf_kfold = RandomForestClassifier(criterion='entropy')\n",
    "    clf_rf_kfold = make_pipeline(preprocessing.StandardScaler(), rf_kfold)\n",
    "    scores_rf_kfold = cross_val_score(clf_rf_kfold, X, y, cv=kfold, scoring='accuracy')\n",
    "    results_rf_kfold.append(cls_stats.mean(scores_rf_kfold))"
   ]
  },
  {
   "cell_type": "code",
   "execution_count": 9,
   "metadata": {},
   "outputs": [
    {
     "data": {
      "image/png": "[encoded data removed]",
      "text/plain": [
       "<Figure size 432x288 with 1 Axes>"
      ]
     },
     "metadata": {
      "needs_background": "light"
     },
     "output_type": "display_data"
    }
   ],
   "source": [
    "plt.plot(list(range(0, 30)), results_nb, label='ACC Naive Bayes')\n",
    "plt.plot(list(range(0, 30)), results_lr, label='ACC Logistic Regressor')\n",
    "plt.plot(list(range(0, 30)), results_rf, label='ACC Random Forest')\n",
    "plt.title('Resultados da Validação Cruzada')\n",
    "plt.legend()\n",
    "plt.grid();"
   ]
  },
  {
   "cell_type": "code",
   "execution_count": 10,
   "metadata": {},
   "outputs": [
    {
     "data": {
      "image/png": "[encoded data removed]",
      "text/plain": [
       "<Figure size 432x288 with 1 Axes>"
      ]
     },
     "metadata": {
      "needs_background": "light"
     },
     "output_type": "display_data"
    }
   ],
   "source": [
    "plt.plot(list(range(0, 30)), results_nb_kfold, label='ACC Naive Bayes')\n",
    "plt.plot(list(range(0, 30)), results_lr_kfold, label='ACC Logistic Regressor')\n",
    "plt.plot(list(range(0, 30)), results_rf_kfold, label='ACC Random Forest')\n",
    "plt.title('Resultados da Validação Cruzada com KFold')\n",
    "plt.legend()\n",
    "plt.grid();"
   ]
  },
  {
   "cell_type": "markdown",
   "metadata": {},
   "source": [
    "## Média da Acurácia"
   ]
  },
  {
   "cell_type": "code",
   "execution_count": 11,
   "metadata": {},
   "outputs": [
    {
     "name": "stdout",
     "output_type": "stream",
     "text": [
      "Naive Bayes: 0.9260833333333333\n",
      "Logistic Regressor: 0.9449666666666668\n",
      "Random Forest: 0.9863500000000001\n"
     ]
    }
   ],
   "source": [
    "print(f'Naive Bayes: {cls_stats.mean(results_nb)}')\n",
    "print(f'Logistic Regressor: {cls_stats.mean(results_lr)}')\n",
    "print(f'Random Forest: {cls_stats.mean(results_rf)}')"
   ]
  },
  {
   "cell_type": "markdown",
   "metadata": {},
   "source": [
    "### KFold"
   ]
  },
  {
   "cell_type": "code",
   "execution_count": 12,
   "metadata": {},
   "outputs": [
    {
     "name": "stdout",
     "output_type": "stream",
     "text": [
      "Naive Bayes: 0.9249859296482411\n",
      "Logistic Regressor: 0.9456841708542714\n",
      "Random Forest: 0.986796733668342\n"
     ]
    }
   ],
   "source": [
    "print(f'Naive Bayes: {cls_stats.mean(results_nb_kfold)}')\n",
    "print(f'Logistic Regressor: {cls_stats.mean(results_lr_kfold)}')\n",
    "print(f'Random Forest: {cls_stats.mean(results_rf_kfold)}')"
   ]
  },
  {
   "cell_type": "markdown",
   "metadata": {},
   "source": [
    "## Moda da Acurácia"
   ]
  },
  {
   "cell_type": "code",
   "execution_count": 13,
   "metadata": {},
   "outputs": [
    {
     "name": "stdout",
     "output_type": "stream",
     "text": [
      "Naive Bayes: (array([0.9245 , 0.92525, 0.92625, 0.92825, 0.929  ]), 2)\n",
      "Logistic Regressor: (array([0.947]), 3)\n",
      "Random Forest: (array([0.9875]), 4)\n"
     ]
    }
   ],
   "source": [
    "print(f'Naive Bayes: {cls_stats.mode(results_nb)}')\n",
    "print(f'Logistic Regressor: {cls_stats.mode(results_lr)}')\n",
    "print(f'Random Forest: {cls_stats.mode(results_rf)}')"
   ]
  },
  {
   "cell_type": "markdown",
   "metadata": {},
   "source": [
    "### KFold"
   ]
  },
  {
   "cell_type": "code",
   "execution_count": 14,
   "metadata": {},
   "outputs": [
    {
     "name": "stdout",
     "output_type": "stream",
     "text": [
      "Naive Bayes: (array([0.92588442]), 3)\n",
      "Logistic Regressor: (array([0.94491206]), 3)\n",
      "Random Forest: (array([0.98598492, 0.98748492]), 2)\n"
     ]
    }
   ],
   "source": [
    "print(f'Naive Bayes: {cls_stats.mode(results_nb_kfold)}')\n",
    "print(f'Logistic Regressor: {cls_stats.mode(results_lr_kfold)}')\n",
    "print(f'Random Forest: {cls_stats.mode(results_rf_kfold)}')"
   ]
  },
  {
   "cell_type": "markdown",
   "metadata": {},
   "source": [
    "## Mediana da Acurácia"
   ]
  },
  {
   "cell_type": "code",
   "execution_count": 15,
   "metadata": {},
   "outputs": [
    {
     "name": "stdout",
     "output_type": "stream",
     "text": [
      "Naive Bayes: 0.9261250000000001\n",
      "Logistic Regressor: 0.9450000000000001\n",
      "Random Forest: 0.9865\n"
     ]
    }
   ],
   "source": [
    "print(f'Naive Bayes: {cls_stats.median(results_nb)}')\n",
    "print(f'Logistic Regressor: {cls_stats.median(results_lr)}')\n",
    "print(f'Random Forest: {cls_stats.median(results_rf)}')"
   ]
  },
  {
   "cell_type": "markdown",
   "metadata": {},
   "source": [
    "### KFold"
   ]
  },
  {
   "cell_type": "code",
   "execution_count": 16,
   "metadata": {},
   "outputs": [
    {
     "name": "stdout",
     "output_type": "stream",
     "text": [
      "Naive Bayes: 0.9248881909547738\n",
      "Logistic Regressor: 0.9456608040201004\n",
      "Random Forest: 0.9869773869346734\n"
     ]
    }
   ],
   "source": [
    "print(f'Naive Bayes: {cls_stats.median(results_nb_kfold)}')\n",
    "print(f'Logistic Regressor: {cls_stats.median(results_lr_kfold)}')\n",
    "print(f'Random Forest: {cls_stats.median(results_rf_kfold)}')"
   ]
  },
  {
   "cell_type": "markdown",
   "metadata": {},
   "source": [
    "## Variância da Acurácia"
   ]
  },
  {
   "cell_type": "code",
   "execution_count": 17,
   "metadata": {},
   "outputs": [
    {
     "name": "stdout",
     "output_type": "stream",
     "text": [
      "Naive Bayes: 1.1576388888888818e-05\n",
      "Logistic Regressor: 1.1911388888888922e-05\n",
      "Random Forest: 2.219166666666588e-06\n"
     ]
    }
   ],
   "source": [
    "print(f'Naive Bayes: {cls_stats.variance(results_nb)}')\n",
    "print(f'Logistic Regressor: {cls_stats.variance(results_lr)}')\n",
    "print(f'Random Forest: {cls_stats.variance(results_rf)}')"
   ]
  },
  {
   "cell_type": "markdown",
   "metadata": {},
   "source": [
    "### KFold"
   ]
  },
  {
   "cell_type": "code",
   "execution_count": 18,
   "metadata": {},
   "outputs": [
    {
     "name": "stdout",
     "output_type": "stream",
     "text": [
      "Naive Bayes: 7.058877301078126e-07\n",
      "Logistic Regressor: 9.351443776673137e-07\n",
      "Random Forest: 2.230344498876316e-06\n"
     ]
    }
   ],
   "source": [
    "print(f'Naive Bayes: {cls_stats.variance(results_nb_kfold)}')\n",
    "print(f'Logistic Regressor: {cls_stats.variance(results_lr_kfold)}')\n",
    "print(f'Random Forest: {cls_stats.variance(results_rf_kfold)}')"
   ]
  },
  {
   "cell_type": "code",
   "execution_count": 19,
   "metadata": {},
   "outputs": [
    {
     "data": {
      "text/plain": [
       "2.219166666666588e-06"
      ]
     },
     "execution_count": 19,
     "metadata": {},
     "output_type": "execute_result"
    }
   ],
   "source": [
    "np.min([cls_stats.variance(results_nb), cls_stats.variance(results_lr), cls_stats.variance(results_rf)])"
   ]
  },
  {
   "cell_type": "markdown",
   "metadata": {},
   "source": [
    "### KFold"
   ]
  },
  {
   "cell_type": "code",
   "execution_count": 20,
   "metadata": {},
   "outputs": [
    {
     "data": {
      "text/plain": [
       "7.058877301078126e-07"
      ]
     },
     "execution_count": 20,
     "metadata": {},
     "output_type": "execute_result"
    }
   ],
   "source": [
    "np.min([cls_stats.variance(results_nb_kfold), cls_stats.variance(results_lr_kfold), cls_stats.variance(results_rf_kfold)])"
   ]
  },
  {
   "cell_type": "code",
   "execution_count": 21,
   "metadata": {},
   "outputs": [
    {
     "data": {
      "text/plain": [
       "1.1911388888888922e-05"
      ]
     },
     "execution_count": 21,
     "metadata": {},
     "output_type": "execute_result"
    }
   ],
   "source": [
    "np.max([cls_stats.variance(results_nb), cls_stats.variance(results_lr), cls_stats.variance(results_rf)])"
   ]
  },
  {
   "cell_type": "markdown",
   "metadata": {},
   "source": [
    "### KFold"
   ]
  },
  {
   "cell_type": "code",
   "execution_count": 22,
   "metadata": {},
   "outputs": [
    {
     "data": {
      "text/plain": [
       "2.230344498876316e-06"
      ]
     },
     "execution_count": 22,
     "metadata": {},
     "output_type": "execute_result"
    }
   ],
   "source": [
    "np.max([cls_stats.variance(results_nb_kfold), cls_stats.variance(results_lr_kfold), cls_stats.variance(results_rf_kfold)])"
   ]
  },
  {
   "cell_type": "markdown",
   "metadata": {},
   "source": [
    "## Desvio Padrão da Acurácia"
   ]
  },
  {
   "cell_type": "code",
   "execution_count": 23,
   "metadata": {},
   "outputs": [
    {
     "name": "stdout",
     "output_type": "stream",
     "text": [
      "Naive Bayes: 0.003402409277098923\n",
      "Logistic Regressor: 0.003451288004338224\n",
      "Random Forest: 0.001489686767970565\n"
     ]
    }
   ],
   "source": [
    "print(f'Naive Bayes: {cls_stats.std_deviation(results_nb)}')\n",
    "print(f'Logistic Regressor: {cls_stats.std_deviation(results_lr)}')\n",
    "print(f'Random Forest: {cls_stats.std_deviation(results_rf)}')"
   ]
  },
  {
   "cell_type": "markdown",
   "metadata": {},
   "source": [
    "### KFold"
   ]
  },
  {
   "cell_type": "code",
   "execution_count": 24,
   "metadata": {},
   "outputs": [
    {
     "name": "stdout",
     "output_type": "stream",
     "text": [
      "Naive Bayes: 0.000840171250464935\n",
      "Logistic Regressor: 0.0009670286333233953\n",
      "Random Forest: 0.0014934337946076873\n"
     ]
    }
   ],
   "source": [
    "print(f'Naive Bayes: {cls_stats.std_deviation(results_nb_kfold)}')\n",
    "print(f'Logistic Regressor: {cls_stats.std_deviation(results_lr_kfold)}')\n",
    "print(f'Random Forest: {cls_stats.std_deviation(results_rf_kfold)}')"
   ]
  },
  {
   "cell_type": "markdown",
   "metadata": {},
   "source": [
    "## Coeficiente de Variação da Acurácia"
   ]
  },
  {
   "cell_type": "code",
   "execution_count": 25,
   "metadata": {},
   "outputs": [
    {
     "name": "stdout",
     "output_type": "stream",
     "text": [
      "Naive Bayes: 0.367397744310151\n",
      "Logistic Regressor: 0.36522854467581467\n",
      "Random Forest: 0.15103023956714806\n"
     ]
    }
   ],
   "source": [
    "print(f'Naive Bayes: {cls_stats.coef_deviation(results_nb)}')\n",
    "print(f'Logistic Regressor: {cls_stats.coef_deviation(results_lr)}')\n",
    "print(f'Random Forest: {cls_stats.coef_deviation(results_rf)}')"
   ]
  },
  {
   "cell_type": "markdown",
   "metadata": {},
   "source": [
    "### KFold"
   ]
  },
  {
   "cell_type": "code",
   "execution_count": 26,
   "metadata": {},
   "outputs": [
    {
     "name": "stdout",
     "output_type": "stream",
     "text": [
      "Naive Bayes: 0.0908307060178137\n",
      "Logistic Regressor: 0.10225703920261696\n",
      "Random Forest: 0.15134158268400022\n"
     ]
    }
   ],
   "source": [
    "print(f'Naive Bayes: {cls_stats.coef_deviation(results_nb_kfold)}')\n",
    "print(f'Logistic Regressor: {cls_stats.coef_deviation(results_lr_kfold)}')\n",
    "print(f'Random Forest: {cls_stats.coef_deviation(results_rf_kfold)}')"
   ]
  },
  {
   "cell_type": "markdown",
   "metadata": {},
   "source": [
    "### O Random Forest se mostrou mais consistente nos principais quesitos avaliados, apesar de resultar numa variância e num desvio padrão maiores, a média, a moda e a mediana da acurácia dos 30 testes estão acima de 98,5%."
   ]
  }
 ],
 "metadata": {
  "kernelspec": {
   "display_name": "Python 3",
   "language": "python",
   "name": "python3"
  },
  "language_info": {
   "codemirror_mode": {
    "name": "ipython",
    "version": 3
   },
   "file_extension": ".py",
   "mimetype": "text/x-python",
   "name": "python",
   "nbconvert_exporter": "python",
   "pygments_lexer": "ipython3",
   "version": "3.7.6"
  }
 },
 "nbformat": 4,
 "nbformat_minor": 4
}
