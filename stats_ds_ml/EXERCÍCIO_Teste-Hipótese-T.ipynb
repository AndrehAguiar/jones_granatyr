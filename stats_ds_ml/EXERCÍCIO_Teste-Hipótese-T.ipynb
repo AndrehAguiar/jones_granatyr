{
 "cells": [
  {
   "cell_type": "markdown",
   "metadata": {},
   "source": [
    "# EXERCÍCIO\n",
    "\n",
    "\n",
    "Assim como você pode fazer testes de hipóteses usando a estatística Z, é também possível utilizar a estatística T da Distribuição T Student para realizar testes de hipóteses quando você possui poucos registros (até 30 amostras). Implemente a base de dados abaixo com a alturas de somente 9 pessoas\n",
    "\n",
    "    1 | np.array([149. , 160., 147., 189., 175., 168., 156., 160., 152.])\n",
    "\n",
    "Depois siga o seguinte roteiro:\n",
    "\n",
    "- Crie uma nova variável também com alturas de 9 pessoas, porém, com valores diferentes\n",
    "\n",
    "\n",
    "- Faça a importação do pacote `from scipy.stats import ttest_rel` para realizar o teste de hipótese. Caso tenha dúvidas, consulte aqui a documentação\n",
    "\n",
    "\n",
    "- Realize o teste de hipótese para verificar se as distribuições são ou não são diferentes"
   ]
  },
  {
   "cell_type": "code",
   "execution_count": 2,
   "metadata": {},
   "outputs": [],
   "source": [
    "import math\n",
    "import numpy as np\n",
    "\n",
    "from scipy.stats import ttest_rel"
   ]
  },
  {
   "cell_type": "code",
   "execution_count": 8,
   "metadata": {},
   "outputs": [],
   "source": [
    "data_raw = np.array([149. , 160., 147., 189., 175., 168., 156., 160., 152.])"
   ]
  },
  {
   "cell_type": "code",
   "execution_count": 17,
   "metadata": {},
   "outputs": [
    {
     "data": {
      "text/plain": [
       "(161.77777777777777, 12.786953227391823)"
      ]
     },
     "execution_count": 17,
     "metadata": {},
     "output_type": "execute_result"
    }
   ],
   "source": [
    "data_raw.mean(), np.std(data_raw)"
   ]
  },
  {
   "cell_type": "code",
   "execution_count": 9,
   "metadata": {},
   "outputs": [],
   "source": [
    "data_new = data_raw * 1.003"
   ]
  },
  {
   "cell_type": "code",
   "execution_count": 10,
   "metadata": {},
   "outputs": [
    {
     "data": {
      "text/plain": [
       "array([149., 160., 147., 189., 175., 168., 156., 160., 152.])"
      ]
     },
     "execution_count": 10,
     "metadata": {},
     "output_type": "execute_result"
    }
   ],
   "source": [
    "data_raw"
   ]
  },
  {
   "cell_type": "code",
   "execution_count": 11,
   "metadata": {},
   "outputs": [
    {
     "data": {
      "text/plain": [
       "array([149.447, 160.48 , 147.441, 189.567, 175.525, 168.504, 156.468,\n",
       "       160.48 , 152.456])"
      ]
     },
     "execution_count": 11,
     "metadata": {},
     "output_type": "execute_result"
    }
   ],
   "source": [
    "data_new"
   ]
  },
  {
   "cell_type": "code",
   "execution_count": 16,
   "metadata": {},
   "outputs": [
    {
     "data": {
      "text/plain": [
       "(162.26311111111107, 12.825314087073998)"
      ]
     },
     "execution_count": 16,
     "metadata": {},
     "output_type": "execute_result"
    }
   ],
   "source": [
    "data_new.mean(), np.std(data_new)"
   ]
  },
  {
   "cell_type": "code",
   "execution_count": 13,
   "metadata": {},
   "outputs": [
    {
     "data": {
      "text/plain": [
       "4.072922493930834e-10"
      ]
     },
     "execution_count": 13,
     "metadata": {},
     "output_type": "execute_result"
    }
   ],
   "source": [
    "_, p = ttest_rel(data_raw, data_new)\n",
    "p"
   ]
  },
  {
   "cell_type": "code",
   "execution_count": 15,
   "metadata": {},
   "outputs": [
    {
     "name": "stdout",
     "output_type": "stream",
     "text": [
      "Hipótese (H0) nula rejeitada\n"
     ]
    }
   ],
   "source": [
    "alpha = 0.01\n",
    "if p <= alpha:\n",
    "    print('Hipótese (H0) nula rejeitada')\n",
    "else:\n",
    "    print('Hipótese alternativa (H1) rejeitada')"
   ]
  }
 ],
 "metadata": {
  "kernelspec": {
   "display_name": "Python 3",
   "language": "python",
   "name": "python3"
  },
  "language_info": {
   "codemirror_mode": {
    "name": "ipython",
    "version": 3
   },
   "file_extension": ".py",
   "mimetype": "text/x-python",
   "name": "python",
   "nbconvert_exporter": "python",
   "pygments_lexer": "ipython3",
   "version": "3.7.6"
  }
 },
 "nbformat": 4,
 "nbformat_minor": 4
}
