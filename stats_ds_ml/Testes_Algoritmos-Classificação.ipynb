{
 "cells": [
  {
   "cell_type": "markdown",
   "metadata": {},
   "source": [
    "# Testes com algoritmos de classificação\n",
    "\n",
    "* Naive Bayes\n",
    "* Logistic Regression\n",
    "* Random Forest"
   ]
  },
  {
   "cell_type": "code",
   "execution_count": 1,
   "metadata": {},
   "outputs": [],
   "source": [
    "import numpy as np\n",
    "import pandas as pd\n",
    "import matplotlib.pyplot as plt\n",
    "\n",
    "from scipy import stats\n",
    "\n",
    "from sklearn.metrics import accuracy_score\n",
    "from sklearn.naive_bayes import GaussianNB\n",
    "from sklearn.linear_model import LogisticRegression\n",
    "from sklearn.ensemble import RandomForestClassifier\n",
    "from sklearn.model_selection import train_test_split"
   ]
  },
  {
   "cell_type": "code",
   "execution_count": 2,
   "metadata": {},
   "outputs": [
    {
     "data": {
      "text/plain": [
       "(2000, 5)"
      ]
     },
     "execution_count": 2,
     "metadata": {},
     "output_type": "execute_result"
    }
   ],
   "source": [
    "df = pd.read_csv('CSVs/credit_data.csv')\n",
    "df.shape"
   ]
  },
  {
   "cell_type": "code",
   "execution_count": 3,
   "metadata": {},
   "outputs": [
    {
     "name": "stdout",
     "output_type": "stream",
     "text": [
      "<class 'pandas.core.frame.DataFrame'>\n",
      "RangeIndex: 2000 entries, 0 to 1999\n",
      "Data columns (total 5 columns):\n",
      " #   Column      Non-Null Count  Dtype  \n",
      "---  ------      --------------  -----  \n",
      " 0   i#clientid  2000 non-null   int64  \n",
      " 1   income      2000 non-null   float64\n",
      " 2   age         1997 non-null   float64\n",
      " 3   loan        2000 non-null   float64\n",
      " 4   c#default   2000 non-null   int64  \n",
      "dtypes: float64(3), int64(2)\n",
      "memory usage: 78.2 KB\n"
     ]
    }
   ],
   "source": [
    "df.info()"
   ]
  },
  {
   "cell_type": "code",
   "execution_count": 4,
   "metadata": {},
   "outputs": [
    {
     "data": {
      "text/plain": [
       "(1997, 5)"
      ]
     },
     "execution_count": 4,
     "metadata": {},
     "output_type": "execute_result"
    }
   ],
   "source": [
    "df.dropna(inplace=True)\n",
    "df.shape"
   ]
  },
  {
   "cell_type": "code",
   "execution_count": 5,
   "metadata": {},
   "outputs": [
    {
     "data": {
      "text/html": [
       "<div>\n",
       "<style scoped>\n",
       "    .dataframe tbody tr th:only-of-type {\n",
       "        vertical-align: middle;\n",
       "    }\n",
       "\n",
       "    .dataframe tbody tr th {\n",
       "        vertical-align: top;\n",
       "    }\n",
       "\n",
       "    .dataframe thead th {\n",
       "        text-align: right;\n",
       "    }\n",
       "</style>\n",
       "<table border=\"1\" class=\"dataframe\">\n",
       "  <thead>\n",
       "    <tr style=\"text-align: right;\">\n",
       "      <th></th>\n",
       "      <th>i#clientid</th>\n",
       "      <th>income</th>\n",
       "      <th>age</th>\n",
       "      <th>loan</th>\n",
       "      <th>c#default</th>\n",
       "    </tr>\n",
       "  </thead>\n",
       "  <tbody>\n",
       "    <tr>\n",
       "      <th>0</th>\n",
       "      <td>1</td>\n",
       "      <td>66155.925095</td>\n",
       "      <td>59.017015</td>\n",
       "      <td>8106.532131</td>\n",
       "      <td>0</td>\n",
       "    </tr>\n",
       "    <tr>\n",
       "      <th>1</th>\n",
       "      <td>2</td>\n",
       "      <td>34415.153966</td>\n",
       "      <td>48.117153</td>\n",
       "      <td>6564.745018</td>\n",
       "      <td>0</td>\n",
       "    </tr>\n",
       "    <tr>\n",
       "      <th>2</th>\n",
       "      <td>3</td>\n",
       "      <td>57317.170063</td>\n",
       "      <td>63.108049</td>\n",
       "      <td>8020.953296</td>\n",
       "      <td>0</td>\n",
       "    </tr>\n",
       "    <tr>\n",
       "      <th>3</th>\n",
       "      <td>4</td>\n",
       "      <td>42709.534201</td>\n",
       "      <td>45.751972</td>\n",
       "      <td>6103.642260</td>\n",
       "      <td>0</td>\n",
       "    </tr>\n",
       "    <tr>\n",
       "      <th>4</th>\n",
       "      <td>5</td>\n",
       "      <td>66952.688845</td>\n",
       "      <td>18.584336</td>\n",
       "      <td>8770.099235</td>\n",
       "      <td>1</td>\n",
       "    </tr>\n",
       "  </tbody>\n",
       "</table>\n",
       "</div>"
      ],
      "text/plain": [
       "   i#clientid        income        age         loan  c#default\n",
       "0           1  66155.925095  59.017015  8106.532131          0\n",
       "1           2  34415.153966  48.117153  6564.745018          0\n",
       "2           3  57317.170063  63.108049  8020.953296          0\n",
       "3           4  42709.534201  45.751972  6103.642260          0\n",
       "4           5  66952.688845  18.584336  8770.099235          1"
      ]
     },
     "execution_count": 5,
     "metadata": {},
     "output_type": "execute_result"
    }
   ],
   "source": [
    "df.head()"
   ]
  },
  {
   "cell_type": "code",
   "execution_count": 6,
   "metadata": {},
   "outputs": [
    {
     "data": {
      "text/html": [
       "<div>\n",
       "<style scoped>\n",
       "    .dataframe tbody tr th:only-of-type {\n",
       "        vertical-align: middle;\n",
       "    }\n",
       "\n",
       "    .dataframe tbody tr th {\n",
       "        vertical-align: top;\n",
       "    }\n",
       "\n",
       "    .dataframe thead th {\n",
       "        text-align: right;\n",
       "    }\n",
       "</style>\n",
       "<table border=\"1\" class=\"dataframe\">\n",
       "  <thead>\n",
       "    <tr style=\"text-align: right;\">\n",
       "      <th></th>\n",
       "      <th>i#clientid</th>\n",
       "      <th>income</th>\n",
       "      <th>age</th>\n",
       "      <th>loan</th>\n",
       "      <th>c#default</th>\n",
       "    </tr>\n",
       "  </thead>\n",
       "  <tbody>\n",
       "    <tr>\n",
       "      <th>count</th>\n",
       "      <td>1997.000000</td>\n",
       "      <td>1997.000000</td>\n",
       "      <td>1997.000000</td>\n",
       "      <td>1997.000000</td>\n",
       "      <td>1997.000000</td>\n",
       "    </tr>\n",
       "    <tr>\n",
       "      <th>mean</th>\n",
       "      <td>1001.956935</td>\n",
       "      <td>45333.864334</td>\n",
       "      <td>40.807559</td>\n",
       "      <td>4445.487716</td>\n",
       "      <td>0.141713</td>\n",
       "    </tr>\n",
       "    <tr>\n",
       "      <th>std</th>\n",
       "      <td>576.702206</td>\n",
       "      <td>14325.131177</td>\n",
       "      <td>13.624469</td>\n",
       "      <td>3046.792457</td>\n",
       "      <td>0.348842</td>\n",
       "    </tr>\n",
       "    <tr>\n",
       "      <th>min</th>\n",
       "      <td>1.000000</td>\n",
       "      <td>20014.489470</td>\n",
       "      <td>-52.423280</td>\n",
       "      <td>1.377630</td>\n",
       "      <td>0.000000</td>\n",
       "    </tr>\n",
       "    <tr>\n",
       "      <th>25%</th>\n",
       "      <td>503.000000</td>\n",
       "      <td>32804.904487</td>\n",
       "      <td>28.990415</td>\n",
       "      <td>1936.813257</td>\n",
       "      <td>0.000000</td>\n",
       "    </tr>\n",
       "    <tr>\n",
       "      <th>50%</th>\n",
       "      <td>1002.000000</td>\n",
       "      <td>45788.747100</td>\n",
       "      <td>41.317159</td>\n",
       "      <td>3977.287432</td>\n",
       "      <td>0.000000</td>\n",
       "    </tr>\n",
       "    <tr>\n",
       "      <th>75%</th>\n",
       "      <td>1501.000000</td>\n",
       "      <td>57787.565659</td>\n",
       "      <td>52.587040</td>\n",
       "      <td>6440.861434</td>\n",
       "      <td>0.000000</td>\n",
       "    </tr>\n",
       "    <tr>\n",
       "      <th>max</th>\n",
       "      <td>2000.000000</td>\n",
       "      <td>69995.685578</td>\n",
       "      <td>63.971796</td>\n",
       "      <td>13766.051239</td>\n",
       "      <td>1.000000</td>\n",
       "    </tr>\n",
       "  </tbody>\n",
       "</table>\n",
       "</div>"
      ],
      "text/plain": [
       "        i#clientid        income          age          loan    c#default\n",
       "count  1997.000000   1997.000000  1997.000000   1997.000000  1997.000000\n",
       "mean   1001.956935  45333.864334    40.807559   4445.487716     0.141713\n",
       "std     576.702206  14325.131177    13.624469   3046.792457     0.348842\n",
       "min       1.000000  20014.489470   -52.423280      1.377630     0.000000\n",
       "25%     503.000000  32804.904487    28.990415   1936.813257     0.000000\n",
       "50%    1002.000000  45788.747100    41.317159   3977.287432     0.000000\n",
       "75%    1501.000000  57787.565659    52.587040   6440.861434     0.000000\n",
       "max    2000.000000  69995.685578    63.971796  13766.051239     1.000000"
      ]
     },
     "execution_count": 6,
     "metadata": {},
     "output_type": "execute_result"
    }
   ],
   "source": [
    "df.describe()"
   ]
  },
  {
   "cell_type": "code",
   "execution_count": 7,
   "metadata": {},
   "outputs": [
    {
     "data": {
      "text/plain": [
       "array([[6.61559251e+04, 5.90170151e+01, 8.10653213e+03],\n",
       "       [3.44151540e+04, 4.81171531e+01, 6.56474502e+03],\n",
       "       [5.73171701e+04, 6.31080495e+01, 8.02095330e+03],\n",
       "       ...,\n",
       "       [4.43114493e+04, 2.80171669e+01, 5.52278669e+03],\n",
       "       [4.37560566e+04, 6.39717958e+01, 1.62272260e+03],\n",
       "       [6.94365796e+04, 5.61526170e+01, 7.37883360e+03]])"
      ]
     },
     "execution_count": 7,
     "metadata": {},
     "output_type": "execute_result"
    }
   ],
   "source": [
    "X = df.iloc[:, 1:4].values\n",
    "X"
   ]
  },
  {
   "cell_type": "code",
   "execution_count": 8,
   "metadata": {},
   "outputs": [
    {
     "data": {
      "text/plain": [
       "array([0, 0, 0, ..., 1, 0, 0], dtype=int64)"
      ]
     },
     "execution_count": 8,
     "metadata": {},
     "output_type": "execute_result"
    }
   ],
   "source": [
    "y = df.iloc[:,4].values\n",
    "y"
   ]
  },
  {
   "cell_type": "code",
   "execution_count": 31,
   "metadata": {},
   "outputs": [],
   "source": [
    "result_nb = []\n",
    "result_lr = []\n",
    "result_rf = []\n",
    "\n",
    "for i in range(30):\n",
    "    X_train, X_test, y_train, y_test = train_test_split(X, y, test_size=0.2,\n",
    "                                                       stratify = y, random_state=i)\n",
    "    \n",
    "    nb = GaussianNB()\n",
    "    nb.fit(X_train, y_train)\n",
    "    result_nb.append(accuracy_score(y_test,\n",
    "                                   nb.predict(X_test)))\n",
    "    \n",
    "    lr = LogisticRegression()\n",
    "    lr.fit(X_train, y_train)\n",
    "    result_lr.append(accuracy_score(y_test,\n",
    "                                   lr.predict(X_test)))\n",
    "    \n",
    "    rf = RandomForestClassifier(criterion='entropy')\n",
    "    rf.fit(X_train, y_train)\n",
    "    result_rf.append(accuracy_score(y_test,\n",
    "                                   rf.predict(X_test)))"
   ]
  },
  {
   "cell_type": "code",
   "execution_count": 32,
   "metadata": {},
   "outputs": [
    {
     "name": "stdout",
     "output_type": "stream",
     "text": [
      "[0.925, 0.925, 0.9325, 0.925, 0.92, 0.905, 0.9175, 0.9175, 0.9125, 0.9325, 0.9225, 0.9125, 0.935, 0.9175, 0.925, 0.9175, 0.9275, 0.92, 0.9325, 0.92, 0.93, 0.905, 0.9175, 0.9325, 0.9425, 0.9375, 0.94, 0.92, 0.935, 0.925]\n"
     ]
    }
   ],
   "source": [
    "print(result_nb)"
   ]
  },
  {
   "cell_type": "code",
   "execution_count": 33,
   "metadata": {},
   "outputs": [
    {
     "name": "stdout",
     "output_type": "stream",
     "text": [
      "[0.9325, 0.91, 0.9125, 0.9225, 0.9075, 0.89, 0.91, 0.9075, 0.8775, 0.915, 0.9175, 0.9, 0.925, 0.9175, 0.9025, 0.9125, 0.9525, 0.91, 0.9225, 0.9075, 0.925, 0.905, 0.9075, 0.945, 0.9225, 0.9275, 0.9225, 0.9175, 0.91, 0.9]\n"
     ]
    }
   ],
   "source": [
    "print(result_lr)"
   ]
  },
  {
   "cell_type": "code",
   "execution_count": 34,
   "metadata": {},
   "outputs": [
    {
     "name": "stdout",
     "output_type": "stream",
     "text": [
      "[0.975, 0.985, 0.9825, 0.995, 0.98, 0.98, 0.985, 0.9875, 0.9825, 0.9875, 0.9825, 0.98, 0.9875, 0.9875, 0.9825, 0.9825, 0.9875, 0.9875, 0.9875, 0.985, 0.9725, 0.9825, 0.985, 0.985, 0.985, 0.9925, 0.9925, 0.9825, 0.985, 0.9875]\n"
     ]
    }
   ],
   "source": [
    "print(result_rf)"
   ]
  },
  {
   "cell_type": "code",
   "execution_count": 35,
   "metadata": {},
   "outputs": [
    {
     "data": {
      "image/png": "[encoded data removed]",
      "text/plain": [
       "<Figure size 432x288 with 1 Axes>"
      ]
     },
     "metadata": {
      "needs_background": "light"
     },
     "output_type": "display_data"
    }
   ],
   "source": [
    "plt.plot(list(range(0, 30)), result_nb, label='ACC Naive Bayes')\n",
    "plt.plot(list(range(0, 30)), result_lr, label='ACC Logistic Regressor')\n",
    "plt.plot(list(range(0, 30)), result_rf, label='ACC Random Forest')\n",
    "plt.legend()\n",
    "plt.grid();"
   ]
  },
  {
   "cell_type": "code",
   "execution_count": 36,
   "metadata": {},
   "outputs": [],
   "source": [
    "result_nb = np.array(result_nb)\n",
    "result_lr = np.array(result_lr)\n",
    "result_rf = np.array(result_rf)"
   ]
  },
  {
   "cell_type": "code",
   "execution_count": 37,
   "metadata": {},
   "outputs": [],
   "source": [
    "from Models.Stats import Stats\n",
    "cls_stats = Stats()"
   ]
  },
  {
   "cell_type": "markdown",
   "metadata": {},
   "source": [
    "## Acurácia Média"
   ]
  },
  {
   "cell_type": "code",
   "execution_count": 38,
   "metadata": {},
   "outputs": [
    {
     "name": "stdout",
     "output_type": "stream",
     "text": [
      "Naive Bayes: 0.92425\n",
      "Logistic Regressor: 0.9145\n",
      "Random Forest: 0.9846666666666668\n"
     ]
    }
   ],
   "source": [
    "print(f'Naive Bayes: {result_nb.mean()}')\n",
    "print(f'Logistic Regressor: {result_lr.mean()}')\n",
    "print(f'Random Forest: {result_rf.mean()}')"
   ]
  },
  {
   "cell_type": "code",
   "execution_count": 39,
   "metadata": {},
   "outputs": [
    {
     "name": "stdout",
     "output_type": "stream",
     "text": [
      "Naive Bayes: 0.9242500000000003\n",
      "Logistic Regressor: 0.9145\n",
      "Random Forest: 0.9846666666666669\n"
     ]
    }
   ],
   "source": [
    "print(f'Naive Bayes: {cls_stats.mean(result_nb)}')\n",
    "print(f'Logistic Regressor: {cls_stats.mean(result_lr)}')\n",
    "print(f'Random Forest: {cls_stats.mean(result_rf)}')"
   ]
  },
  {
   "cell_type": "markdown",
   "metadata": {},
   "source": [
    "## Mode"
   ]
  },
  {
   "cell_type": "code",
   "execution_count": 41,
   "metadata": {},
   "outputs": [
    {
     "name": "stdout",
     "output_type": "stream",
     "text": [
      "Naive Bayes: ModeResult(mode=array([0.9175]), count=array([5]))\n",
      "Logistic Regressor: ModeResult(mode=array([0.9075]), count=array([4]))\n",
      "Random Forest: ModeResult(mode=array([0.9875]), count=array([8]))\n"
     ]
    }
   ],
   "source": [
    "print(f'Naive Bayes: {stats.mode(result_nb)}')\n",
    "print(f'Logistic Regressor: {stats.mode(result_lr)}')\n",
    "print(f'Random Forest: {stats.mode(result_rf)}')"
   ]
  },
  {
   "cell_type": "code",
   "execution_count": 42,
   "metadata": {},
   "outputs": [
    {
     "name": "stdout",
     "output_type": "stream",
     "text": [
      "Naive Bayes: (array([0.9175, 0.925 ]), 5)\n",
      "Logistic Regressor: (array([0.9075, 0.91  , 0.9225]), 4)\n",
      "Random Forest: (array([0.9875]), 8)\n"
     ]
    }
   ],
   "source": [
    "print(f'Naive Bayes: {cls_stats.mode(result_nb)}')\n",
    "print(f'Logistic Regressor: {cls_stats.mode(result_lr)}')\n",
    "print(f'Random Forest: {cls_stats.mode(result_rf)}')"
   ]
  },
  {
   "cell_type": "markdown",
   "metadata": {},
   "source": [
    "## Mediana"
   ]
  },
  {
   "cell_type": "code",
   "execution_count": 43,
   "metadata": {},
   "outputs": [
    {
     "name": "stdout",
     "output_type": "stream",
     "text": [
      "Naive Bayes: 0.925\n",
      "Logistic Regressor: 0.9125\n",
      "Random Forest: 0.985\n"
     ]
    }
   ],
   "source": [
    "print(f'Naive Bayes: {np.median(result_nb)}')\n",
    "print(f'Logistic Regressor: {np.median(result_lr)}')\n",
    "print(f'Random Forest: {np.median(result_rf)}')"
   ]
  },
  {
   "cell_type": "code",
   "execution_count": 44,
   "metadata": {},
   "outputs": [
    {
     "name": "stdout",
     "output_type": "stream",
     "text": [
      "Naive Bayes: 0.925\n",
      "Logistic Regressor: 0.9125\n",
      "Random Forest: 0.985\n"
     ]
    }
   ],
   "source": [
    "print(f'Naive Bayes: {cls_stats.median(result_nb)}')\n",
    "print(f'Logistic Regressor: {cls_stats.median(result_lr)}')\n",
    "print(f'Random Forest: {cls_stats.median(result_rf)}')"
   ]
  },
  {
   "cell_type": "markdown",
   "metadata": {},
   "source": [
    "## Variância"
   ]
  },
  {
   "cell_type": "code",
   "execution_count": 45,
   "metadata": {},
   "outputs": [
    {
     "name": "stdout",
     "output_type": "stream",
     "text": [
      "Naive Bayes: 8.756250000000001e-05\n",
      "Logistic Regressor: 0.00020933333333333337\n",
      "Random Forest: 2.1138888888888968e-05\n"
     ]
    }
   ],
   "source": [
    "np.set_printoptions(suppress=True)\n",
    "print(f'Naive Bayes: {np.var(result_nb)}')\n",
    "print(f'Logistic Regressor: {np.var(result_lr)}')\n",
    "print(f'Random Forest: {np.var(result_rf)}')"
   ]
  },
  {
   "cell_type": "code",
   "execution_count": 46,
   "metadata": {},
   "outputs": [
    {
     "name": "stdout",
     "output_type": "stream",
     "text": [
      "Naive Bayes: 8.756250000000001e-05\n",
      "Logistic Regressor: 0.00020933333333333337\n",
      "Random Forest: 2.1138888888888964e-05\n"
     ]
    }
   ],
   "source": [
    "print(f'Naive Bayes: {cls_stats.variance(result_nb)}')\n",
    "print(f'Logistic Regressor: {cls_stats.variance(result_lr)}')\n",
    "print(f'Random Forest: {cls_stats.variance(result_rf)}')"
   ]
  },
  {
   "cell_type": "code",
   "execution_count": 47,
   "metadata": {},
   "outputs": [
    {
     "data": {
      "text/plain": [
       "2.1138888888888964e-05"
      ]
     },
     "execution_count": 47,
     "metadata": {},
     "output_type": "execute_result"
    }
   ],
   "source": [
    "np.min([cls_stats.variance(result_nb), cls_stats.variance(result_lr), cls_stats.variance(result_rf)])"
   ]
  },
  {
   "cell_type": "code",
   "execution_count": 48,
   "metadata": {},
   "outputs": [
    {
     "data": {
      "text/plain": [
       "0.00020933333333333337"
      ]
     },
     "execution_count": 48,
     "metadata": {},
     "output_type": "execute_result"
    }
   ],
   "source": [
    "np.max([cls_stats.variance(result_nb), cls_stats.variance(result_lr), cls_stats.variance(result_rf)])"
   ]
  },
  {
   "cell_type": "markdown",
   "metadata": {},
   "source": [
    "## Desvio Padrão"
   ]
  },
  {
   "cell_type": "code",
   "execution_count": 52,
   "metadata": {},
   "outputs": [
    {
     "name": "stdout",
     "output_type": "stream",
     "text": [
      "Naive Bayes: 0.00935748363610645\n",
      "Logistic Regressor: 0.014468356276140472\n",
      "Random Forest: 0.004597704741377916\n"
     ]
    }
   ],
   "source": [
    "print(f'Naive Bayes: {np.std(result_nb)}')\n",
    "print(f'Logistic Regressor: {np.std(result_lr)}')\n",
    "print(f'Random Forest: {np.std(result_rf)}')"
   ]
  },
  {
   "cell_type": "code",
   "execution_count": 49,
   "metadata": {},
   "outputs": [
    {
     "name": "stdout",
     "output_type": "stream",
     "text": [
      "Naive Bayes: 0.00935748363610645\n",
      "Logistic Regressor: 0.014468356276140472\n",
      "Random Forest: 0.004597704741377915\n"
     ]
    }
   ],
   "source": [
    "print(f'Naive Bayes: {cls_stats.std_deviation(result_nb)}')\n",
    "print(f'Logistic Regressor: {cls_stats.std_deviation(result_lr)}')\n",
    "print(f'Random Forest: {cls_stats.std_deviation(result_rf)}')"
   ]
  },
  {
   "cell_type": "markdown",
   "metadata": {},
   "source": [
    "## Coeficiente de Variação"
   ]
  },
  {
   "cell_type": "code",
   "execution_count": 55,
   "metadata": {},
   "outputs": [
    {
     "name": "stdout",
     "output_type": "stream",
     "text": [
      "Naive Bayes: 1.0124407504578252\n",
      "Logistic Regressor: 1.5821056616884057\n",
      "Random Forest: 0.46693006852179236\n"
     ]
    }
   ],
   "source": [
    "print(f'Naive Bayes: {stats.variation(result_nb) * 100}')\n",
    "print(f'Logistic Regressor: {stats.variation(result_lr) * 100}')\n",
    "print(f'Random Forest: {stats.variation(result_rf) * 100}')"
   ]
  },
  {
   "cell_type": "code",
   "execution_count": 53,
   "metadata": {},
   "outputs": [
    {
     "name": "stdout",
     "output_type": "stream",
     "text": [
      "Naive Bayes: 1.012440750457825\n",
      "Logistic Regressor: 1.5821056616884057\n",
      "Random Forest: 0.4669300685217922\n"
     ]
    }
   ],
   "source": [
    "print(f'Naive Bayes: {cls_stats.coef_deviation(result_nb)}')\n",
    "print(f'Logistic Regressor: {cls_stats.coef_deviation(result_lr)}')\n",
    "print(f'Random Forest: {cls_stats.coef_deviation(result_rf)}')"
   ]
  }
 ],
 "metadata": {
  "kernelspec": {
   "display_name": "Python 3",
   "language": "python",
   "name": "python3"
  },
  "language_info": {
   "codemirror_mode": {
    "name": "ipython",
    "version": 3
   },
   "file_extension": ".py",
   "mimetype": "text/x-python",
   "name": "python",
   "nbconvert_exporter": "python",
   "pygments_lexer": "ipython3",
   "version": "3.7.6"
  }
 },
 "nbformat": 4,
 "nbformat_minor": 4
}
