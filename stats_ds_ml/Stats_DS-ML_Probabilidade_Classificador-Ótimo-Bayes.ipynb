{
 "cells": [
  {
   "cell_type": "markdown",
   "metadata": {},
   "source": [
    "# Classificador ótimo de Bayes\n",
    "\n",
    "## Probabilidade a priori\n",
    "\n",
    "- <big>${P(c|x) = \\frac{x}{c}}$</big>\n",
    "\n",
    "## Probabilidade a posteriori\n",
    "\n",
    "\n",
    "- <big>${P(c_j|X_t) = \\frac{P(x_t|c_j).P(c_j)}{P(x_t)}}$</big>"
   ]
  },
  {
   "cell_type": "code",
   "execution_count": 1,
   "metadata": {},
   "outputs": [],
   "source": [
    "import pandas as pd"
   ]
  },
  {
   "cell_type": "code",
   "execution_count": 2,
   "metadata": {},
   "outputs": [],
   "source": [
    "hist = ['Ruim','Desconhecida','Desconhecida','Desconhecida',\n",
    "        'Desconhecida','Desconhecida','Ruim','Ruim','Boa',\n",
    "        'Boa','Boa','Boa','Boa','Ruim']\n",
    "divida = ['Alta','Alta','Baixa','Baixa','Baixa','Baixa',\n",
    "          'Baixa','Baixa','Baixa','Alta','Alta','Alta','Alta','Alta']\n",
    "garantia = ['Nenhuma','Nenhuma','Nenhuma','Nenhuma','Nenhuma',\n",
    "           'Adequada','Nenhuma', 'Adequada','Nenhuma', 'Adequada','Nenhuma',\n",
    "           'Nenhuma','Nenhuma','Nenhuma']\n",
    "renda = ['< 15.000', '>= 15.000 a 35.000', '>= 15.000 a 35.000',\n",
    "        '< 15.000', '> 35.000', '> 35.000','< 15.000', '> 35.000',\n",
    "         '> 35.000','> 35.000','< 15.000','>= 15.000 a 35.000',\n",
    "         '> 35.000','>= 15.000 a 35.000']\n",
    "risco = ['Alto','Alto','Moderado','Alto','Baixo','Baixo','Alto',\n",
    "         'Moderado','Baixo','Baixo','Alto','Moderado','Baixo','Alto']"
   ]
  },
  {
   "cell_type": "code",
   "execution_count": 3,
   "metadata": {},
   "outputs": [
    {
     "data": {
      "text/plain": [
       "(14, 14, 14, 14, 14)"
      ]
     },
     "execution_count": 3,
     "metadata": {},
     "output_type": "execute_result"
    }
   ],
   "source": [
    "len(hist), len(divida), len(garantia), len(renda), len(risco)"
   ]
  },
  {
   "cell_type": "code",
   "execution_count": 4,
   "metadata": {},
   "outputs": [],
   "source": [
    "data = {'Historico':hist, 'Divida':divida,'Garantias':garantia, 'Renda':renda, 'Risco':risco}"
   ]
  },
  {
   "cell_type": "code",
   "execution_count": 5,
   "metadata": {},
   "outputs": [
    {
     "data": {
      "text/html": [
       "<div>\n",
       "<style scoped>\n",
       "    .dataframe tbody tr th:only-of-type {\n",
       "        vertical-align: middle;\n",
       "    }\n",
       "\n",
       "    .dataframe tbody tr th {\n",
       "        vertical-align: top;\n",
       "    }\n",
       "\n",
       "    .dataframe thead th {\n",
       "        text-align: right;\n",
       "    }\n",
       "</style>\n",
       "<table border=\"1\" class=\"dataframe\">\n",
       "  <thead>\n",
       "    <tr style=\"text-align: right;\">\n",
       "      <th></th>\n",
       "      <th>Historico</th>\n",
       "      <th>Divida</th>\n",
       "      <th>Garantias</th>\n",
       "      <th>Renda</th>\n",
       "      <th>Risco</th>\n",
       "    </tr>\n",
       "  </thead>\n",
       "  <tbody>\n",
       "    <tr>\n",
       "      <th>0</th>\n",
       "      <td>Ruim</td>\n",
       "      <td>Alta</td>\n",
       "      <td>Nenhuma</td>\n",
       "      <td>&lt; 15.000</td>\n",
       "      <td>Alto</td>\n",
       "    </tr>\n",
       "    <tr>\n",
       "      <th>1</th>\n",
       "      <td>Desconhecida</td>\n",
       "      <td>Alta</td>\n",
       "      <td>Nenhuma</td>\n",
       "      <td>&gt;= 15.000 a 35.000</td>\n",
       "      <td>Alto</td>\n",
       "    </tr>\n",
       "    <tr>\n",
       "      <th>2</th>\n",
       "      <td>Desconhecida</td>\n",
       "      <td>Baixa</td>\n",
       "      <td>Nenhuma</td>\n",
       "      <td>&gt;= 15.000 a 35.000</td>\n",
       "      <td>Moderado</td>\n",
       "    </tr>\n",
       "    <tr>\n",
       "      <th>3</th>\n",
       "      <td>Desconhecida</td>\n",
       "      <td>Baixa</td>\n",
       "      <td>Nenhuma</td>\n",
       "      <td>&lt; 15.000</td>\n",
       "      <td>Alto</td>\n",
       "    </tr>\n",
       "    <tr>\n",
       "      <th>4</th>\n",
       "      <td>Desconhecida</td>\n",
       "      <td>Baixa</td>\n",
       "      <td>Nenhuma</td>\n",
       "      <td>&gt; 35.000</td>\n",
       "      <td>Baixo</td>\n",
       "    </tr>\n",
       "    <tr>\n",
       "      <th>5</th>\n",
       "      <td>Desconhecida</td>\n",
       "      <td>Baixa</td>\n",
       "      <td>Adequada</td>\n",
       "      <td>&gt; 35.000</td>\n",
       "      <td>Baixo</td>\n",
       "    </tr>\n",
       "    <tr>\n",
       "      <th>6</th>\n",
       "      <td>Ruim</td>\n",
       "      <td>Baixa</td>\n",
       "      <td>Nenhuma</td>\n",
       "      <td>&lt; 15.000</td>\n",
       "      <td>Alto</td>\n",
       "    </tr>\n",
       "    <tr>\n",
       "      <th>7</th>\n",
       "      <td>Ruim</td>\n",
       "      <td>Baixa</td>\n",
       "      <td>Adequada</td>\n",
       "      <td>&gt; 35.000</td>\n",
       "      <td>Moderado</td>\n",
       "    </tr>\n",
       "    <tr>\n",
       "      <th>8</th>\n",
       "      <td>Boa</td>\n",
       "      <td>Baixa</td>\n",
       "      <td>Nenhuma</td>\n",
       "      <td>&gt; 35.000</td>\n",
       "      <td>Baixo</td>\n",
       "    </tr>\n",
       "    <tr>\n",
       "      <th>9</th>\n",
       "      <td>Boa</td>\n",
       "      <td>Alta</td>\n",
       "      <td>Adequada</td>\n",
       "      <td>&gt; 35.000</td>\n",
       "      <td>Baixo</td>\n",
       "    </tr>\n",
       "    <tr>\n",
       "      <th>10</th>\n",
       "      <td>Boa</td>\n",
       "      <td>Alta</td>\n",
       "      <td>Nenhuma</td>\n",
       "      <td>&lt; 15.000</td>\n",
       "      <td>Alto</td>\n",
       "    </tr>\n",
       "    <tr>\n",
       "      <th>11</th>\n",
       "      <td>Boa</td>\n",
       "      <td>Alta</td>\n",
       "      <td>Nenhuma</td>\n",
       "      <td>&gt;= 15.000 a 35.000</td>\n",
       "      <td>Moderado</td>\n",
       "    </tr>\n",
       "    <tr>\n",
       "      <th>12</th>\n",
       "      <td>Boa</td>\n",
       "      <td>Alta</td>\n",
       "      <td>Nenhuma</td>\n",
       "      <td>&gt; 35.000</td>\n",
       "      <td>Baixo</td>\n",
       "    </tr>\n",
       "    <tr>\n",
       "      <th>13</th>\n",
       "      <td>Ruim</td>\n",
       "      <td>Alta</td>\n",
       "      <td>Nenhuma</td>\n",
       "      <td>&gt;= 15.000 a 35.000</td>\n",
       "      <td>Alto</td>\n",
       "    </tr>\n",
       "  </tbody>\n",
       "</table>\n",
       "</div>"
      ],
      "text/plain": [
       "       Historico Divida Garantias               Renda     Risco\n",
       "0           Ruim   Alta   Nenhuma            < 15.000      Alto\n",
       "1   Desconhecida   Alta   Nenhuma  >= 15.000 a 35.000      Alto\n",
       "2   Desconhecida  Baixa   Nenhuma  >= 15.000 a 35.000  Moderado\n",
       "3   Desconhecida  Baixa   Nenhuma            < 15.000      Alto\n",
       "4   Desconhecida  Baixa   Nenhuma            > 35.000     Baixo\n",
       "5   Desconhecida  Baixa  Adequada            > 35.000     Baixo\n",
       "6           Ruim  Baixa   Nenhuma            < 15.000      Alto\n",
       "7           Ruim  Baixa  Adequada            > 35.000  Moderado\n",
       "8            Boa  Baixa   Nenhuma            > 35.000     Baixo\n",
       "9            Boa   Alta  Adequada            > 35.000     Baixo\n",
       "10           Boa   Alta   Nenhuma            < 15.000      Alto\n",
       "11           Boa   Alta   Nenhuma  >= 15.000 a 35.000  Moderado\n",
       "12           Boa   Alta   Nenhuma            > 35.000     Baixo\n",
       "13          Ruim   Alta   Nenhuma  >= 15.000 a 35.000      Alto"
      ]
     },
     "execution_count": 5,
     "metadata": {},
     "output_type": "execute_result"
    }
   ],
   "source": [
    "df = pd.DataFrame(data)\n",
    "df"
   ]
  },
  {
   "cell_type": "code",
   "execution_count": 6,
   "metadata": {},
   "outputs": [],
   "source": [
    "def indep_event(target: list, space: list, event: int = 1) -> float:\n",
    "    p = 1\n",
    "    target = len(target)\n",
    "    space = len(space)\n",
    "    \n",
    "    for i in range(event):\n",
    "        p *= round((target / space), 2)\n",
    "        \n",
    "    return p"
   ]
  },
  {
   "cell_type": "code",
   "execution_count": 7,
   "metadata": {},
   "outputs": [
    {
     "data": {
      "text/plain": [
       "array(['Alto', 'Moderado', 'Baixo'], dtype=object)"
      ]
     },
     "execution_count": 7,
     "metadata": {},
     "output_type": "execute_result"
    }
   ],
   "source": [
    "df['Risco'].unique()"
   ]
  },
  {
   "cell_type": "code",
   "execution_count": 8,
   "metadata": {},
   "outputs": [
    {
     "data": {
      "text/plain": [
       "14"
      ]
     },
     "execution_count": 8,
     "metadata": {},
     "output_type": "execute_result"
    }
   ],
   "source": [
    "len(df)"
   ]
  },
  {
   "cell_type": "code",
   "execution_count": 9,
   "metadata": {},
   "outputs": [
    {
     "data": {
      "text/plain": [
       "[0.43, 0.21, 0.36]"
      ]
     },
     "execution_count": 9,
     "metadata": {},
     "output_type": "execute_result"
    }
   ],
   "source": [
    "# Probabilidade a priori das classes\n",
    "p_class = [indep_event(df[df['Risco']==classe], df['Risco']) for classe in df['Risco'].unique()]\n",
    "p_class"
   ]
  },
  {
   "cell_type": "code",
   "execution_count": 10,
   "metadata": {},
   "outputs": [
    {
     "data": {
      "text/plain": [
       "[3, 2, 2, 3, 3]"
      ]
     },
     "execution_count": 10,
     "metadata": {},
     "output_type": "execute_result"
    }
   ],
   "source": [
    "var_class = [len(df[col].unique()) for col in df.columns]\n",
    "var_class"
   ]
  },
  {
   "cell_type": "code",
   "execution_count": 11,
   "metadata": {},
   "outputs": [
    {
     "data": {
      "text/plain": [
       "(108, {'Historico': 3, 'Divida': 2, 'Garantias': 2, 'Renda': 3, 'Risco': 3})"
      ]
     },
     "execution_count": 11,
     "metadata": {},
     "output_type": "execute_result"
    }
   ],
   "source": [
    "dct_class = {}\n",
    "p = 1\n",
    "for key, val in zip(df.columns, var_class):\n",
    "    dct_class[key] = val\n",
    "    \n",
    "    if key != 'Risco':\n",
    "        p *= val\n",
    "    else:\n",
    "        p *= val\n",
    "        break\n",
    "        \n",
    "p, dct_class"
   ]
  },
  {
   "cell_type": "code",
   "execution_count": 12,
   "metadata": {},
   "outputs": [
    {
     "data": {
      "text/plain": [
       "Index(['Historico', 'Divida', 'Garantias', 'Renda'], dtype='object')"
      ]
     },
     "execution_count": 12,
     "metadata": {},
     "output_type": "execute_result"
    }
   ],
   "source": [
    "df.columns[:-1]"
   ]
  },
  {
   "cell_type": "code",
   "execution_count": 13,
   "metadata": {},
   "outputs": [],
   "source": [
    "prob_cond = dct_class['Risco'] * (\n",
    "    dct_class['Historico'] * dct_class['Divida'] * dct_class['Garantias'] * dct_class['Renda'])"
   ]
  },
  {
   "cell_type": "code",
   "execution_count": 14,
   "metadata": {},
   "outputs": [
    {
     "data": {
      "text/plain": [
       "108"
      ]
     },
     "execution_count": 14,
     "metadata": {},
     "output_type": "execute_result"
    }
   ],
   "source": [
    "prob_cond"
   ]
  },
  {
   "cell_type": "code",
   "execution_count": 15,
   "metadata": {},
   "outputs": [
    {
     "data": {
      "text/plain": [
       "{'Alto': 0.43, 'Moderado': 0.21, 'Baixo': 0.36}"
      ]
     },
     "execution_count": 15,
     "metadata": {},
     "output_type": "execute_result"
    }
   ],
   "source": [
    "prob_apriori = {key:val for key, val in zip(df['Risco'].unique(), p_class)}\n",
    "prob_apriori"
   ]
  },
  {
   "cell_type": "code",
   "execution_count": 16,
   "metadata": {},
   "outputs": [
    {
     "data": {
      "text/html": [
       "<div>\n",
       "<style scoped>\n",
       "    .dataframe tbody tr th:only-of-type {\n",
       "        vertical-align: middle;\n",
       "    }\n",
       "\n",
       "    .dataframe tbody tr th {\n",
       "        vertical-align: top;\n",
       "    }\n",
       "\n",
       "    .dataframe thead th {\n",
       "        text-align: right;\n",
       "    }\n",
       "</style>\n",
       "<table border=\"1\" class=\"dataframe\">\n",
       "  <thead>\n",
       "    <tr style=\"text-align: right;\">\n",
       "      <th></th>\n",
       "      <th>Historico</th>\n",
       "      <th>Divida</th>\n",
       "      <th>Garantias</th>\n",
       "      <th>Renda</th>\n",
       "      <th>Risco</th>\n",
       "    </tr>\n",
       "  </thead>\n",
       "  <tbody>\n",
       "    <tr>\n",
       "      <th>12</th>\n",
       "      <td>Boa</td>\n",
       "      <td>Alta</td>\n",
       "      <td>Nenhuma</td>\n",
       "      <td>&gt; 35.000</td>\n",
       "      <td>Baixo</td>\n",
       "    </tr>\n",
       "  </tbody>\n",
       "</table>\n",
       "</div>"
      ],
      "text/plain": [
       "   Historico Divida Garantias     Renda  Risco\n",
       "12       Boa   Alta   Nenhuma  > 35.000  Baixo"
      ]
     },
     "execution_count": 16,
     "metadata": {},
     "output_type": "execute_result"
    }
   ],
   "source": [
    "x = df.query('Historico == \"Boa\" & Divida == \"Alta\" & Garantias == \"Nenhuma\" & Renda == \"> 35.000\"')\n",
    "x"
   ]
  },
  {
   "cell_type": "code",
   "execution_count": 17,
   "metadata": {},
   "outputs": [
    {
     "data": {
      "text/plain": [
       "650.16"
      ]
     },
     "execution_count": 17,
     "metadata": {},
     "output_type": "execute_result"
    }
   ],
   "source": [
    "# Probabilidade a posteriori\n",
    "# Risco Alto\n",
    "108 * prob_apriori['Alto'] / (len(x) / len(df))"
   ]
  },
  {
   "cell_type": "code",
   "execution_count": 18,
   "metadata": {},
   "outputs": [
    {
     "data": {
      "text/plain": [
       "317.52000000000004"
      ]
     },
     "execution_count": 18,
     "metadata": {},
     "output_type": "execute_result"
    }
   ],
   "source": [
    "# Risco Moderado\n",
    "108 * prob_apriori['Moderado'] / (len(x) / len(df))"
   ]
  },
  {
   "cell_type": "code",
   "execution_count": 19,
   "metadata": {},
   "outputs": [
    {
     "data": {
      "text/plain": [
       "544.3199999999999"
      ]
     },
     "execution_count": 19,
     "metadata": {},
     "output_type": "execute_result"
    }
   ],
   "source": [
    "# Risco Baixo\n",
    "108 * prob_apriori['Baixo'] / (len(x) / len(df))"
   ]
  },
  {
   "cell_type": "markdown",
   "metadata": {},
   "source": [
    "## Naive Bayes"
   ]
  },
  {
   "cell_type": "code",
   "execution_count": 20,
   "metadata": {},
   "outputs": [
    {
     "data": {
      "text/html": [
       "<div>\n",
       "<style scoped>\n",
       "    .dataframe tbody tr th:only-of-type {\n",
       "        vertical-align: middle;\n",
       "    }\n",
       "\n",
       "    .dataframe tbody tr th {\n",
       "        vertical-align: top;\n",
       "    }\n",
       "\n",
       "    .dataframe thead th {\n",
       "        text-align: right;\n",
       "    }\n",
       "</style>\n",
       "<table border=\"1\" class=\"dataframe\">\n",
       "  <thead>\n",
       "    <tr style=\"text-align: right;\">\n",
       "      <th></th>\n",
       "      <th>Historico</th>\n",
       "      <th>Divida</th>\n",
       "      <th>Garantias</th>\n",
       "      <th>Renda</th>\n",
       "      <th>Risco</th>\n",
       "    </tr>\n",
       "  </thead>\n",
       "  <tbody>\n",
       "    <tr>\n",
       "      <th>12</th>\n",
       "      <td>Boa</td>\n",
       "      <td>Alta</td>\n",
       "      <td>Nenhuma</td>\n",
       "      <td>&gt; 35.000</td>\n",
       "      <td>Baixo</td>\n",
       "    </tr>\n",
       "  </tbody>\n",
       "</table>\n",
       "</div>"
      ],
      "text/plain": [
       "   Historico Divida Garantias     Renda  Risco\n",
       "12       Boa   Alta   Nenhuma  > 35.000  Baixo"
      ]
     },
     "execution_count": 20,
     "metadata": {},
     "output_type": "execute_result"
    }
   ],
   "source": [
    "x"
   ]
  },
  {
   "cell_type": "markdown",
   "metadata": {},
   "source": [
    "${P(A,x) = P(Risco A) . P(Risco A, X Hist) . P(Risco A, X Divida) . P(Risco A, X Garantias) . P(Risco A, X Renda)}$\n",
    "\n",
    "<big>${P(A) = \\frac{P(A,x)}{\\frac{\\sum{(P(A,x),P(M,x),P(B,x))}}{100}}}$</big>\n",
    "\n",
    "---\n",
    "\n",
    "${P(M,x) = P(Risco M) . P(Risco M, X Hist) . P(Risco M, X Divida) . P(Risco M, X Garantias) . P(Risco M, X Renda)}$\n",
    "\n",
    "<big>${P(M) = \\frac{P(M,x)}{\\frac{\\sum{(P(A,x),P(M,x),P(B,x))}}{100}}}$</big>\n",
    "\n",
    "---\n",
    "\n",
    "${P(B,x) = P(Risco B) . P(Risco B, X Hist) . P(Risco B, X Divida) . P(Risco B, X Garantias) . P(Risco B, X Renda)}$\n",
    "\n",
    "<big>${P(B) = \\frac{P(B,x)}{\\frac{\\sum{(P(A,x),P(M,x),P(B,x))}}{100}}}$</big>"
   ]
  },
  {
   "cell_type": "code",
   "execution_count": 21,
   "metadata": {},
   "outputs": [
    {
     "data": {
      "text/html": [
       "<div>\n",
       "<style scoped>\n",
       "    .dataframe tbody tr th:only-of-type {\n",
       "        vertical-align: middle;\n",
       "    }\n",
       "\n",
       "    .dataframe tbody tr th {\n",
       "        vertical-align: top;\n",
       "    }\n",
       "\n",
       "    .dataframe thead th {\n",
       "        text-align: right;\n",
       "    }\n",
       "</style>\n",
       "<table border=\"1\" class=\"dataframe\">\n",
       "  <thead>\n",
       "    <tr style=\"text-align: right;\">\n",
       "      <th></th>\n",
       "      <th>Historico</th>\n",
       "      <th>Divida</th>\n",
       "      <th>Garantias</th>\n",
       "      <th>Renda</th>\n",
       "      <th>Risco</th>\n",
       "    </tr>\n",
       "  </thead>\n",
       "  <tbody>\n",
       "    <tr>\n",
       "      <th>0</th>\n",
       "      <td>Ruim</td>\n",
       "      <td>Alta</td>\n",
       "      <td>Nenhuma</td>\n",
       "      <td>&lt; 15.000</td>\n",
       "      <td>Alto</td>\n",
       "    </tr>\n",
       "    <tr>\n",
       "      <th>1</th>\n",
       "      <td>Desconhecida</td>\n",
       "      <td>Alta</td>\n",
       "      <td>Nenhuma</td>\n",
       "      <td>&gt;= 15.000 a 35.000</td>\n",
       "      <td>Alto</td>\n",
       "    </tr>\n",
       "    <tr>\n",
       "      <th>3</th>\n",
       "      <td>Desconhecida</td>\n",
       "      <td>Baixa</td>\n",
       "      <td>Nenhuma</td>\n",
       "      <td>&lt; 15.000</td>\n",
       "      <td>Alto</td>\n",
       "    </tr>\n",
       "    <tr>\n",
       "      <th>6</th>\n",
       "      <td>Ruim</td>\n",
       "      <td>Baixa</td>\n",
       "      <td>Nenhuma</td>\n",
       "      <td>&lt; 15.000</td>\n",
       "      <td>Alto</td>\n",
       "    </tr>\n",
       "    <tr>\n",
       "      <th>10</th>\n",
       "      <td>Boa</td>\n",
       "      <td>Alta</td>\n",
       "      <td>Nenhuma</td>\n",
       "      <td>&lt; 15.000</td>\n",
       "      <td>Alto</td>\n",
       "    </tr>\n",
       "    <tr>\n",
       "      <th>13</th>\n",
       "      <td>Ruim</td>\n",
       "      <td>Alta</td>\n",
       "      <td>Nenhuma</td>\n",
       "      <td>&gt;= 15.000 a 35.000</td>\n",
       "      <td>Alto</td>\n",
       "    </tr>\n",
       "  </tbody>\n",
       "</table>\n",
       "</div>"
      ],
      "text/plain": [
       "       Historico Divida Garantias               Renda Risco\n",
       "0           Ruim   Alta   Nenhuma            < 15.000  Alto\n",
       "1   Desconhecida   Alta   Nenhuma  >= 15.000 a 35.000  Alto\n",
       "3   Desconhecida  Baixa   Nenhuma            < 15.000  Alto\n",
       "6           Ruim  Baixa   Nenhuma            < 15.000  Alto\n",
       "10           Boa   Alta   Nenhuma            < 15.000  Alto\n",
       "13          Ruim   Alta   Nenhuma  >= 15.000 a 35.000  Alto"
      ]
     },
     "execution_count": 21,
     "metadata": {},
     "output_type": "execute_result"
    }
   ],
   "source": [
    "hist_alto = df.query('Risco == \"Alto\"')\n",
    "hist_alto"
   ]
  },
  {
   "cell_type": "code",
   "execution_count": 22,
   "metadata": {},
   "outputs": [
    {
     "data": {
      "text/html": [
       "<div>\n",
       "<style scoped>\n",
       "    .dataframe tbody tr th:only-of-type {\n",
       "        vertical-align: middle;\n",
       "    }\n",
       "\n",
       "    .dataframe tbody tr th {\n",
       "        vertical-align: top;\n",
       "    }\n",
       "\n",
       "    .dataframe thead th {\n",
       "        text-align: right;\n",
       "    }\n",
       "</style>\n",
       "<table border=\"1\" class=\"dataframe\">\n",
       "  <thead>\n",
       "    <tr style=\"text-align: right;\">\n",
       "      <th></th>\n",
       "      <th>Historico</th>\n",
       "      <th>Divida</th>\n",
       "      <th>Garantias</th>\n",
       "      <th>Renda</th>\n",
       "      <th>Risco</th>\n",
       "    </tr>\n",
       "  </thead>\n",
       "  <tbody>\n",
       "    <tr>\n",
       "      <th>10</th>\n",
       "      <td>Boa</td>\n",
       "      <td>Alta</td>\n",
       "      <td>Nenhuma</td>\n",
       "      <td>&lt; 15.000</td>\n",
       "      <td>Alto</td>\n",
       "    </tr>\n",
       "  </tbody>\n",
       "</table>\n",
       "</div>"
      ],
      "text/plain": [
       "   Historico Divida Garantias     Renda Risco\n",
       "10       Boa   Alta   Nenhuma  < 15.000  Alto"
      ]
     },
     "execution_count": 22,
     "metadata": {},
     "output_type": "execute_result"
    }
   ],
   "source": [
    "hist_boa_alto = df.query('Historico == \"Boa\" & Risco == \"Alto\"')\n",
    "hist_boa_alto"
   ]
  },
  {
   "cell_type": "code",
   "execution_count": 23,
   "metadata": {},
   "outputs": [
    {
     "data": {
      "text/html": [
       "<div>\n",
       "<style scoped>\n",
       "    .dataframe tbody tr th:only-of-type {\n",
       "        vertical-align: middle;\n",
       "    }\n",
       "\n",
       "    .dataframe tbody tr th {\n",
       "        vertical-align: top;\n",
       "    }\n",
       "\n",
       "    .dataframe thead th {\n",
       "        text-align: right;\n",
       "    }\n",
       "</style>\n",
       "<table border=\"1\" class=\"dataframe\">\n",
       "  <thead>\n",
       "    <tr style=\"text-align: right;\">\n",
       "      <th></th>\n",
       "      <th>Historico</th>\n",
       "      <th>Divida</th>\n",
       "      <th>Garantias</th>\n",
       "      <th>Renda</th>\n",
       "      <th>Risco</th>\n",
       "    </tr>\n",
       "  </thead>\n",
       "  <tbody>\n",
       "    <tr>\n",
       "      <th>0</th>\n",
       "      <td>Ruim</td>\n",
       "      <td>Alta</td>\n",
       "      <td>Nenhuma</td>\n",
       "      <td>&lt; 15.000</td>\n",
       "      <td>Alto</td>\n",
       "    </tr>\n",
       "    <tr>\n",
       "      <th>1</th>\n",
       "      <td>Desconhecida</td>\n",
       "      <td>Alta</td>\n",
       "      <td>Nenhuma</td>\n",
       "      <td>&gt;= 15.000 a 35.000</td>\n",
       "      <td>Alto</td>\n",
       "    </tr>\n",
       "    <tr>\n",
       "      <th>10</th>\n",
       "      <td>Boa</td>\n",
       "      <td>Alta</td>\n",
       "      <td>Nenhuma</td>\n",
       "      <td>&lt; 15.000</td>\n",
       "      <td>Alto</td>\n",
       "    </tr>\n",
       "    <tr>\n",
       "      <th>13</th>\n",
       "      <td>Ruim</td>\n",
       "      <td>Alta</td>\n",
       "      <td>Nenhuma</td>\n",
       "      <td>&gt;= 15.000 a 35.000</td>\n",
       "      <td>Alto</td>\n",
       "    </tr>\n",
       "  </tbody>\n",
       "</table>\n",
       "</div>"
      ],
      "text/plain": [
       "       Historico Divida Garantias               Renda Risco\n",
       "0           Ruim   Alta   Nenhuma            < 15.000  Alto\n",
       "1   Desconhecida   Alta   Nenhuma  >= 15.000 a 35.000  Alto\n",
       "10           Boa   Alta   Nenhuma            < 15.000  Alto\n",
       "13          Ruim   Alta   Nenhuma  >= 15.000 a 35.000  Alto"
      ]
     },
     "execution_count": 23,
     "metadata": {},
     "output_type": "execute_result"
    }
   ],
   "source": [
    "hist_div_alto = df.query('Risco == \"Alto\" & Divida == \"Alta\"')\n",
    "hist_div_alto"
   ]
  },
  {
   "cell_type": "code",
   "execution_count": 24,
   "metadata": {},
   "outputs": [
    {
     "data": {
      "text/html": [
       "<div>\n",
       "<style scoped>\n",
       "    .dataframe tbody tr th:only-of-type {\n",
       "        vertical-align: middle;\n",
       "    }\n",
       "\n",
       "    .dataframe tbody tr th {\n",
       "        vertical-align: top;\n",
       "    }\n",
       "\n",
       "    .dataframe thead th {\n",
       "        text-align: right;\n",
       "    }\n",
       "</style>\n",
       "<table border=\"1\" class=\"dataframe\">\n",
       "  <thead>\n",
       "    <tr style=\"text-align: right;\">\n",
       "      <th></th>\n",
       "      <th>Historico</th>\n",
       "      <th>Divida</th>\n",
       "      <th>Garantias</th>\n",
       "      <th>Renda</th>\n",
       "      <th>Risco</th>\n",
       "    </tr>\n",
       "  </thead>\n",
       "  <tbody>\n",
       "    <tr>\n",
       "      <th>0</th>\n",
       "      <td>Ruim</td>\n",
       "      <td>Alta</td>\n",
       "      <td>Nenhuma</td>\n",
       "      <td>&lt; 15.000</td>\n",
       "      <td>Alto</td>\n",
       "    </tr>\n",
       "    <tr>\n",
       "      <th>1</th>\n",
       "      <td>Desconhecida</td>\n",
       "      <td>Alta</td>\n",
       "      <td>Nenhuma</td>\n",
       "      <td>&gt;= 15.000 a 35.000</td>\n",
       "      <td>Alto</td>\n",
       "    </tr>\n",
       "    <tr>\n",
       "      <th>3</th>\n",
       "      <td>Desconhecida</td>\n",
       "      <td>Baixa</td>\n",
       "      <td>Nenhuma</td>\n",
       "      <td>&lt; 15.000</td>\n",
       "      <td>Alto</td>\n",
       "    </tr>\n",
       "    <tr>\n",
       "      <th>6</th>\n",
       "      <td>Ruim</td>\n",
       "      <td>Baixa</td>\n",
       "      <td>Nenhuma</td>\n",
       "      <td>&lt; 15.000</td>\n",
       "      <td>Alto</td>\n",
       "    </tr>\n",
       "    <tr>\n",
       "      <th>10</th>\n",
       "      <td>Boa</td>\n",
       "      <td>Alta</td>\n",
       "      <td>Nenhuma</td>\n",
       "      <td>&lt; 15.000</td>\n",
       "      <td>Alto</td>\n",
       "    </tr>\n",
       "    <tr>\n",
       "      <th>13</th>\n",
       "      <td>Ruim</td>\n",
       "      <td>Alta</td>\n",
       "      <td>Nenhuma</td>\n",
       "      <td>&gt;= 15.000 a 35.000</td>\n",
       "      <td>Alto</td>\n",
       "    </tr>\n",
       "  </tbody>\n",
       "</table>\n",
       "</div>"
      ],
      "text/plain": [
       "       Historico Divida Garantias               Renda Risco\n",
       "0           Ruim   Alta   Nenhuma            < 15.000  Alto\n",
       "1   Desconhecida   Alta   Nenhuma  >= 15.000 a 35.000  Alto\n",
       "3   Desconhecida  Baixa   Nenhuma            < 15.000  Alto\n",
       "6           Ruim  Baixa   Nenhuma            < 15.000  Alto\n",
       "10           Boa   Alta   Nenhuma            < 15.000  Alto\n",
       "13          Ruim   Alta   Nenhuma  >= 15.000 a 35.000  Alto"
      ]
     },
     "execution_count": 24,
     "metadata": {},
     "output_type": "execute_result"
    }
   ],
   "source": [
    "hist_gar_alto = df.query('Risco == \"Alto\" & Garantias == \"Nenhuma\"')\n",
    "hist_gar_alto"
   ]
  },
  {
   "cell_type": "code",
   "execution_count": 25,
   "metadata": {},
   "outputs": [
    {
     "data": {
      "text/html": [
       "<div>\n",
       "<style scoped>\n",
       "    .dataframe tbody tr th:only-of-type {\n",
       "        vertical-align: middle;\n",
       "    }\n",
       "\n",
       "    .dataframe tbody tr th {\n",
       "        vertical-align: top;\n",
       "    }\n",
       "\n",
       "    .dataframe thead th {\n",
       "        text-align: right;\n",
       "    }\n",
       "</style>\n",
       "<table border=\"1\" class=\"dataframe\">\n",
       "  <thead>\n",
       "    <tr style=\"text-align: right;\">\n",
       "      <th></th>\n",
       "      <th>Historico</th>\n",
       "      <th>Divida</th>\n",
       "      <th>Garantias</th>\n",
       "      <th>Renda</th>\n",
       "      <th>Risco</th>\n",
       "    </tr>\n",
       "  </thead>\n",
       "  <tbody>\n",
       "  </tbody>\n",
       "</table>\n",
       "</div>"
      ],
      "text/plain": [
       "Empty DataFrame\n",
       "Columns: [Historico, Divida, Garantias, Renda, Risco]\n",
       "Index: []"
      ]
     },
     "execution_count": 25,
     "metadata": {},
     "output_type": "execute_result"
    }
   ],
   "source": [
    "hist_renda_alto = df.query('Risco == \"Alto\" & Renda == \"> 35.000\"')\n",
    "hist_renda_alto"
   ]
  },
  {
   "cell_type": "code",
   "execution_count": 26,
   "metadata": {},
   "outputs": [
    {
     "data": {
      "text/plain": [
       "0.007936507936507936"
      ]
     },
     "execution_count": 26,
     "metadata": {},
     "output_type": "execute_result"
    }
   ],
   "source": [
    "pa = (len(hist_alto) / len(df)) \\\n",
    "* (len(hist_boa_alto) / len(hist_alto)) \\\n",
    "* (len(hist_div_alto) / len(hist_alto)) \\\n",
    "* (len(hist_gar_alto) / len(hist_alto)) \\\n",
    "* ((len(hist_renda_alto)+1) / len(hist_alto)) \n",
    "pa"
   ]
  },
  {
   "cell_type": "code",
   "execution_count": 27,
   "metadata": {},
   "outputs": [
    {
     "data": {
      "text/html": [
       "<div>\n",
       "<style scoped>\n",
       "    .dataframe tbody tr th:only-of-type {\n",
       "        vertical-align: middle;\n",
       "    }\n",
       "\n",
       "    .dataframe tbody tr th {\n",
       "        vertical-align: top;\n",
       "    }\n",
       "\n",
       "    .dataframe thead th {\n",
       "        text-align: right;\n",
       "    }\n",
       "</style>\n",
       "<table border=\"1\" class=\"dataframe\">\n",
       "  <thead>\n",
       "    <tr style=\"text-align: right;\">\n",
       "      <th></th>\n",
       "      <th>Historico</th>\n",
       "      <th>Divida</th>\n",
       "      <th>Garantias</th>\n",
       "      <th>Renda</th>\n",
       "      <th>Risco</th>\n",
       "    </tr>\n",
       "  </thead>\n",
       "  <tbody>\n",
       "    <tr>\n",
       "      <th>2</th>\n",
       "      <td>Desconhecida</td>\n",
       "      <td>Baixa</td>\n",
       "      <td>Nenhuma</td>\n",
       "      <td>&gt;= 15.000 a 35.000</td>\n",
       "      <td>Moderado</td>\n",
       "    </tr>\n",
       "    <tr>\n",
       "      <th>7</th>\n",
       "      <td>Ruim</td>\n",
       "      <td>Baixa</td>\n",
       "      <td>Adequada</td>\n",
       "      <td>&gt; 35.000</td>\n",
       "      <td>Moderado</td>\n",
       "    </tr>\n",
       "    <tr>\n",
       "      <th>11</th>\n",
       "      <td>Boa</td>\n",
       "      <td>Alta</td>\n",
       "      <td>Nenhuma</td>\n",
       "      <td>&gt;= 15.000 a 35.000</td>\n",
       "      <td>Moderado</td>\n",
       "    </tr>\n",
       "  </tbody>\n",
       "</table>\n",
       "</div>"
      ],
      "text/plain": [
       "       Historico Divida Garantias               Renda     Risco\n",
       "2   Desconhecida  Baixa   Nenhuma  >= 15.000 a 35.000  Moderado\n",
       "7           Ruim  Baixa  Adequada            > 35.000  Moderado\n",
       "11           Boa   Alta   Nenhuma  >= 15.000 a 35.000  Moderado"
      ]
     },
     "execution_count": 27,
     "metadata": {},
     "output_type": "execute_result"
    }
   ],
   "source": [
    "hist_mod = df.query('Risco == \"Moderado\"')\n",
    "hist_mod"
   ]
  },
  {
   "cell_type": "code",
   "execution_count": 28,
   "metadata": {},
   "outputs": [
    {
     "data": {
      "text/html": [
       "<div>\n",
       "<style scoped>\n",
       "    .dataframe tbody tr th:only-of-type {\n",
       "        vertical-align: middle;\n",
       "    }\n",
       "\n",
       "    .dataframe tbody tr th {\n",
       "        vertical-align: top;\n",
       "    }\n",
       "\n",
       "    .dataframe thead th {\n",
       "        text-align: right;\n",
       "    }\n",
       "</style>\n",
       "<table border=\"1\" class=\"dataframe\">\n",
       "  <thead>\n",
       "    <tr style=\"text-align: right;\">\n",
       "      <th></th>\n",
       "      <th>Historico</th>\n",
       "      <th>Divida</th>\n",
       "      <th>Garantias</th>\n",
       "      <th>Renda</th>\n",
       "      <th>Risco</th>\n",
       "    </tr>\n",
       "  </thead>\n",
       "  <tbody>\n",
       "    <tr>\n",
       "      <th>11</th>\n",
       "      <td>Boa</td>\n",
       "      <td>Alta</td>\n",
       "      <td>Nenhuma</td>\n",
       "      <td>&gt;= 15.000 a 35.000</td>\n",
       "      <td>Moderado</td>\n",
       "    </tr>\n",
       "  </tbody>\n",
       "</table>\n",
       "</div>"
      ],
      "text/plain": [
       "   Historico Divida Garantias               Renda     Risco\n",
       "11       Boa   Alta   Nenhuma  >= 15.000 a 35.000  Moderado"
      ]
     },
     "execution_count": 28,
     "metadata": {},
     "output_type": "execute_result"
    }
   ],
   "source": [
    "hist_boa_mod = df.query('Historico == \"Boa\" & Risco == \"Moderado\"')\n",
    "hist_boa_mod"
   ]
  },
  {
   "cell_type": "code",
   "execution_count": 29,
   "metadata": {},
   "outputs": [
    {
     "data": {
      "text/html": [
       "<div>\n",
       "<style scoped>\n",
       "    .dataframe tbody tr th:only-of-type {\n",
       "        vertical-align: middle;\n",
       "    }\n",
       "\n",
       "    .dataframe tbody tr th {\n",
       "        vertical-align: top;\n",
       "    }\n",
       "\n",
       "    .dataframe thead th {\n",
       "        text-align: right;\n",
       "    }\n",
       "</style>\n",
       "<table border=\"1\" class=\"dataframe\">\n",
       "  <thead>\n",
       "    <tr style=\"text-align: right;\">\n",
       "      <th></th>\n",
       "      <th>Historico</th>\n",
       "      <th>Divida</th>\n",
       "      <th>Garantias</th>\n",
       "      <th>Renda</th>\n",
       "      <th>Risco</th>\n",
       "    </tr>\n",
       "  </thead>\n",
       "  <tbody>\n",
       "    <tr>\n",
       "      <th>11</th>\n",
       "      <td>Boa</td>\n",
       "      <td>Alta</td>\n",
       "      <td>Nenhuma</td>\n",
       "      <td>&gt;= 15.000 a 35.000</td>\n",
       "      <td>Moderado</td>\n",
       "    </tr>\n",
       "  </tbody>\n",
       "</table>\n",
       "</div>"
      ],
      "text/plain": [
       "   Historico Divida Garantias               Renda     Risco\n",
       "11       Boa   Alta   Nenhuma  >= 15.000 a 35.000  Moderado"
      ]
     },
     "execution_count": 29,
     "metadata": {},
     "output_type": "execute_result"
    }
   ],
   "source": [
    "hist_div_mod = df.query('Divida == \"Alta\" & Risco == \"Moderado\"')\n",
    "hist_div_mod"
   ]
  },
  {
   "cell_type": "code",
   "execution_count": 30,
   "metadata": {},
   "outputs": [
    {
     "data": {
      "text/html": [
       "<div>\n",
       "<style scoped>\n",
       "    .dataframe tbody tr th:only-of-type {\n",
       "        vertical-align: middle;\n",
       "    }\n",
       "\n",
       "    .dataframe tbody tr th {\n",
       "        vertical-align: top;\n",
       "    }\n",
       "\n",
       "    .dataframe thead th {\n",
       "        text-align: right;\n",
       "    }\n",
       "</style>\n",
       "<table border=\"1\" class=\"dataframe\">\n",
       "  <thead>\n",
       "    <tr style=\"text-align: right;\">\n",
       "      <th></th>\n",
       "      <th>Historico</th>\n",
       "      <th>Divida</th>\n",
       "      <th>Garantias</th>\n",
       "      <th>Renda</th>\n",
       "      <th>Risco</th>\n",
       "    </tr>\n",
       "  </thead>\n",
       "  <tbody>\n",
       "    <tr>\n",
       "      <th>2</th>\n",
       "      <td>Desconhecida</td>\n",
       "      <td>Baixa</td>\n",
       "      <td>Nenhuma</td>\n",
       "      <td>&gt;= 15.000 a 35.000</td>\n",
       "      <td>Moderado</td>\n",
       "    </tr>\n",
       "    <tr>\n",
       "      <th>11</th>\n",
       "      <td>Boa</td>\n",
       "      <td>Alta</td>\n",
       "      <td>Nenhuma</td>\n",
       "      <td>&gt;= 15.000 a 35.000</td>\n",
       "      <td>Moderado</td>\n",
       "    </tr>\n",
       "  </tbody>\n",
       "</table>\n",
       "</div>"
      ],
      "text/plain": [
       "       Historico Divida Garantias               Renda     Risco\n",
       "2   Desconhecida  Baixa   Nenhuma  >= 15.000 a 35.000  Moderado\n",
       "11           Boa   Alta   Nenhuma  >= 15.000 a 35.000  Moderado"
      ]
     },
     "execution_count": 30,
     "metadata": {},
     "output_type": "execute_result"
    }
   ],
   "source": [
    "hist_gar_mod = df.query('Garantias == \"Nenhuma\" & Risco == \"Moderado\"')\n",
    "hist_gar_mod"
   ]
  },
  {
   "cell_type": "code",
   "execution_count": 31,
   "metadata": {},
   "outputs": [
    {
     "data": {
      "text/html": [
       "<div>\n",
       "<style scoped>\n",
       "    .dataframe tbody tr th:only-of-type {\n",
       "        vertical-align: middle;\n",
       "    }\n",
       "\n",
       "    .dataframe tbody tr th {\n",
       "        vertical-align: top;\n",
       "    }\n",
       "\n",
       "    .dataframe thead th {\n",
       "        text-align: right;\n",
       "    }\n",
       "</style>\n",
       "<table border=\"1\" class=\"dataframe\">\n",
       "  <thead>\n",
       "    <tr style=\"text-align: right;\">\n",
       "      <th></th>\n",
       "      <th>Historico</th>\n",
       "      <th>Divida</th>\n",
       "      <th>Garantias</th>\n",
       "      <th>Renda</th>\n",
       "      <th>Risco</th>\n",
       "    </tr>\n",
       "  </thead>\n",
       "  <tbody>\n",
       "    <tr>\n",
       "      <th>7</th>\n",
       "      <td>Ruim</td>\n",
       "      <td>Baixa</td>\n",
       "      <td>Adequada</td>\n",
       "      <td>&gt; 35.000</td>\n",
       "      <td>Moderado</td>\n",
       "    </tr>\n",
       "  </tbody>\n",
       "</table>\n",
       "</div>"
      ],
      "text/plain": [
       "  Historico Divida Garantias     Renda     Risco\n",
       "7      Ruim  Baixa  Adequada  > 35.000  Moderado"
      ]
     },
     "execution_count": 31,
     "metadata": {},
     "output_type": "execute_result"
    }
   ],
   "source": [
    "hist_renda_mod = df.query('Renda == \"> 35.000\" & Risco == \"Moderado\"')\n",
    "hist_renda_mod"
   ]
  },
  {
   "cell_type": "code",
   "execution_count": 32,
   "metadata": {},
   "outputs": [
    {
     "data": {
      "text/plain": [
       "(3, 14)"
      ]
     },
     "execution_count": 32,
     "metadata": {},
     "output_type": "execute_result"
    }
   ],
   "source": [
    "len(hist_mod), len(df)"
   ]
  },
  {
   "cell_type": "code",
   "execution_count": 33,
   "metadata": {},
   "outputs": [
    {
     "data": {
      "text/plain": [
       "(1, 3)"
      ]
     },
     "execution_count": 33,
     "metadata": {},
     "output_type": "execute_result"
    }
   ],
   "source": [
    "len(hist_boa_mod), len(hist_mod)"
   ]
  },
  {
   "cell_type": "code",
   "execution_count": 34,
   "metadata": {},
   "outputs": [
    {
     "data": {
      "text/plain": [
       "(1, 3)"
      ]
     },
     "execution_count": 34,
     "metadata": {},
     "output_type": "execute_result"
    }
   ],
   "source": [
    "len(hist_div_mod), len(hist_mod)"
   ]
  },
  {
   "cell_type": "code",
   "execution_count": 35,
   "metadata": {},
   "outputs": [
    {
     "data": {
      "text/plain": [
       "(2, 3)"
      ]
     },
     "execution_count": 35,
     "metadata": {},
     "output_type": "execute_result"
    }
   ],
   "source": [
    "len(hist_gar_mod), len(hist_mod)"
   ]
  },
  {
   "cell_type": "code",
   "execution_count": 36,
   "metadata": {},
   "outputs": [
    {
     "data": {
      "text/plain": [
       "(1, 3)"
      ]
     },
     "execution_count": 36,
     "metadata": {},
     "output_type": "execute_result"
    }
   ],
   "source": [
    "len(hist_renda_mod), len(hist_mod)"
   ]
  },
  {
   "cell_type": "code",
   "execution_count": 37,
   "metadata": {},
   "outputs": [
    {
     "data": {
      "text/plain": [
       "0.005291005291005291"
      ]
     },
     "execution_count": 37,
     "metadata": {},
     "output_type": "execute_result"
    }
   ],
   "source": [
    "pm = (len(hist_mod) / len(df)) \\\n",
    "* (len(hist_boa_mod) / len(hist_mod)) \\\n",
    "* (len(hist_div_mod) / len(hist_mod)) \\\n",
    "* (len(hist_gar_mod) / len(hist_mod)) \\\n",
    "* (len(hist_renda_mod) / len(hist_mod)) \n",
    "pm"
   ]
  },
  {
   "cell_type": "code",
   "execution_count": 38,
   "metadata": {},
   "outputs": [
    {
     "data": {
      "text/html": [
       "<div>\n",
       "<style scoped>\n",
       "    .dataframe tbody tr th:only-of-type {\n",
       "        vertical-align: middle;\n",
       "    }\n",
       "\n",
       "    .dataframe tbody tr th {\n",
       "        vertical-align: top;\n",
       "    }\n",
       "\n",
       "    .dataframe thead th {\n",
       "        text-align: right;\n",
       "    }\n",
       "</style>\n",
       "<table border=\"1\" class=\"dataframe\">\n",
       "  <thead>\n",
       "    <tr style=\"text-align: right;\">\n",
       "      <th></th>\n",
       "      <th>Historico</th>\n",
       "      <th>Divida</th>\n",
       "      <th>Garantias</th>\n",
       "      <th>Renda</th>\n",
       "      <th>Risco</th>\n",
       "    </tr>\n",
       "  </thead>\n",
       "  <tbody>\n",
       "    <tr>\n",
       "      <th>4</th>\n",
       "      <td>Desconhecida</td>\n",
       "      <td>Baixa</td>\n",
       "      <td>Nenhuma</td>\n",
       "      <td>&gt; 35.000</td>\n",
       "      <td>Baixo</td>\n",
       "    </tr>\n",
       "    <tr>\n",
       "      <th>5</th>\n",
       "      <td>Desconhecida</td>\n",
       "      <td>Baixa</td>\n",
       "      <td>Adequada</td>\n",
       "      <td>&gt; 35.000</td>\n",
       "      <td>Baixo</td>\n",
       "    </tr>\n",
       "    <tr>\n",
       "      <th>8</th>\n",
       "      <td>Boa</td>\n",
       "      <td>Baixa</td>\n",
       "      <td>Nenhuma</td>\n",
       "      <td>&gt; 35.000</td>\n",
       "      <td>Baixo</td>\n",
       "    </tr>\n",
       "    <tr>\n",
       "      <th>9</th>\n",
       "      <td>Boa</td>\n",
       "      <td>Alta</td>\n",
       "      <td>Adequada</td>\n",
       "      <td>&gt; 35.000</td>\n",
       "      <td>Baixo</td>\n",
       "    </tr>\n",
       "    <tr>\n",
       "      <th>12</th>\n",
       "      <td>Boa</td>\n",
       "      <td>Alta</td>\n",
       "      <td>Nenhuma</td>\n",
       "      <td>&gt; 35.000</td>\n",
       "      <td>Baixo</td>\n",
       "    </tr>\n",
       "  </tbody>\n",
       "</table>\n",
       "</div>"
      ],
      "text/plain": [
       "       Historico Divida Garantias     Renda  Risco\n",
       "4   Desconhecida  Baixa   Nenhuma  > 35.000  Baixo\n",
       "5   Desconhecida  Baixa  Adequada  > 35.000  Baixo\n",
       "8            Boa  Baixa   Nenhuma  > 35.000  Baixo\n",
       "9            Boa   Alta  Adequada  > 35.000  Baixo\n",
       "12           Boa   Alta   Nenhuma  > 35.000  Baixo"
      ]
     },
     "execution_count": 38,
     "metadata": {},
     "output_type": "execute_result"
    }
   ],
   "source": [
    "hist_baixo = df.query('Risco == \"Baixo\"')\n",
    "hist_baixo"
   ]
  },
  {
   "cell_type": "code",
   "execution_count": 39,
   "metadata": {},
   "outputs": [
    {
     "data": {
      "text/html": [
       "<div>\n",
       "<style scoped>\n",
       "    .dataframe tbody tr th:only-of-type {\n",
       "        vertical-align: middle;\n",
       "    }\n",
       "\n",
       "    .dataframe tbody tr th {\n",
       "        vertical-align: top;\n",
       "    }\n",
       "\n",
       "    .dataframe thead th {\n",
       "        text-align: right;\n",
       "    }\n",
       "</style>\n",
       "<table border=\"1\" class=\"dataframe\">\n",
       "  <thead>\n",
       "    <tr style=\"text-align: right;\">\n",
       "      <th></th>\n",
       "      <th>Historico</th>\n",
       "      <th>Divida</th>\n",
       "      <th>Garantias</th>\n",
       "      <th>Renda</th>\n",
       "      <th>Risco</th>\n",
       "    </tr>\n",
       "  </thead>\n",
       "  <tbody>\n",
       "    <tr>\n",
       "      <th>8</th>\n",
       "      <td>Boa</td>\n",
       "      <td>Baixa</td>\n",
       "      <td>Nenhuma</td>\n",
       "      <td>&gt; 35.000</td>\n",
       "      <td>Baixo</td>\n",
       "    </tr>\n",
       "    <tr>\n",
       "      <th>9</th>\n",
       "      <td>Boa</td>\n",
       "      <td>Alta</td>\n",
       "      <td>Adequada</td>\n",
       "      <td>&gt; 35.000</td>\n",
       "      <td>Baixo</td>\n",
       "    </tr>\n",
       "    <tr>\n",
       "      <th>12</th>\n",
       "      <td>Boa</td>\n",
       "      <td>Alta</td>\n",
       "      <td>Nenhuma</td>\n",
       "      <td>&gt; 35.000</td>\n",
       "      <td>Baixo</td>\n",
       "    </tr>\n",
       "  </tbody>\n",
       "</table>\n",
       "</div>"
      ],
      "text/plain": [
       "   Historico Divida Garantias     Renda  Risco\n",
       "8        Boa  Baixa   Nenhuma  > 35.000  Baixo\n",
       "9        Boa   Alta  Adequada  > 35.000  Baixo\n",
       "12       Boa   Alta   Nenhuma  > 35.000  Baixo"
      ]
     },
     "execution_count": 39,
     "metadata": {},
     "output_type": "execute_result"
    }
   ],
   "source": [
    "hist_boa_baixo = df.query('Historico == \"Boa\" & Risco == \"Baixo\"')\n",
    "hist_boa_baixo"
   ]
  },
  {
   "cell_type": "code",
   "execution_count": 40,
   "metadata": {},
   "outputs": [
    {
     "data": {
      "text/html": [
       "<div>\n",
       "<style scoped>\n",
       "    .dataframe tbody tr th:only-of-type {\n",
       "        vertical-align: middle;\n",
       "    }\n",
       "\n",
       "    .dataframe tbody tr th {\n",
       "        vertical-align: top;\n",
       "    }\n",
       "\n",
       "    .dataframe thead th {\n",
       "        text-align: right;\n",
       "    }\n",
       "</style>\n",
       "<table border=\"1\" class=\"dataframe\">\n",
       "  <thead>\n",
       "    <tr style=\"text-align: right;\">\n",
       "      <th></th>\n",
       "      <th>Historico</th>\n",
       "      <th>Divida</th>\n",
       "      <th>Garantias</th>\n",
       "      <th>Renda</th>\n",
       "      <th>Risco</th>\n",
       "    </tr>\n",
       "  </thead>\n",
       "  <tbody>\n",
       "    <tr>\n",
       "      <th>9</th>\n",
       "      <td>Boa</td>\n",
       "      <td>Alta</td>\n",
       "      <td>Adequada</td>\n",
       "      <td>&gt; 35.000</td>\n",
       "      <td>Baixo</td>\n",
       "    </tr>\n",
       "    <tr>\n",
       "      <th>12</th>\n",
       "      <td>Boa</td>\n",
       "      <td>Alta</td>\n",
       "      <td>Nenhuma</td>\n",
       "      <td>&gt; 35.000</td>\n",
       "      <td>Baixo</td>\n",
       "    </tr>\n",
       "  </tbody>\n",
       "</table>\n",
       "</div>"
      ],
      "text/plain": [
       "   Historico Divida Garantias     Renda  Risco\n",
       "9        Boa   Alta  Adequada  > 35.000  Baixo\n",
       "12       Boa   Alta   Nenhuma  > 35.000  Baixo"
      ]
     },
     "execution_count": 40,
     "metadata": {},
     "output_type": "execute_result"
    }
   ],
   "source": [
    "hist_div_baixo = df.query('Risco == \"Baixo\" & Divida == \"Alta\"')\n",
    "hist_div_baixo"
   ]
  },
  {
   "cell_type": "code",
   "execution_count": 41,
   "metadata": {},
   "outputs": [
    {
     "data": {
      "text/html": [
       "<div>\n",
       "<style scoped>\n",
       "    .dataframe tbody tr th:only-of-type {\n",
       "        vertical-align: middle;\n",
       "    }\n",
       "\n",
       "    .dataframe tbody tr th {\n",
       "        vertical-align: top;\n",
       "    }\n",
       "\n",
       "    .dataframe thead th {\n",
       "        text-align: right;\n",
       "    }\n",
       "</style>\n",
       "<table border=\"1\" class=\"dataframe\">\n",
       "  <thead>\n",
       "    <tr style=\"text-align: right;\">\n",
       "      <th></th>\n",
       "      <th>Historico</th>\n",
       "      <th>Divida</th>\n",
       "      <th>Garantias</th>\n",
       "      <th>Renda</th>\n",
       "      <th>Risco</th>\n",
       "    </tr>\n",
       "  </thead>\n",
       "  <tbody>\n",
       "    <tr>\n",
       "      <th>4</th>\n",
       "      <td>Desconhecida</td>\n",
       "      <td>Baixa</td>\n",
       "      <td>Nenhuma</td>\n",
       "      <td>&gt; 35.000</td>\n",
       "      <td>Baixo</td>\n",
       "    </tr>\n",
       "    <tr>\n",
       "      <th>8</th>\n",
       "      <td>Boa</td>\n",
       "      <td>Baixa</td>\n",
       "      <td>Nenhuma</td>\n",
       "      <td>&gt; 35.000</td>\n",
       "      <td>Baixo</td>\n",
       "    </tr>\n",
       "    <tr>\n",
       "      <th>12</th>\n",
       "      <td>Boa</td>\n",
       "      <td>Alta</td>\n",
       "      <td>Nenhuma</td>\n",
       "      <td>&gt; 35.000</td>\n",
       "      <td>Baixo</td>\n",
       "    </tr>\n",
       "  </tbody>\n",
       "</table>\n",
       "</div>"
      ],
      "text/plain": [
       "       Historico Divida Garantias     Renda  Risco\n",
       "4   Desconhecida  Baixa   Nenhuma  > 35.000  Baixo\n",
       "8            Boa  Baixa   Nenhuma  > 35.000  Baixo\n",
       "12           Boa   Alta   Nenhuma  > 35.000  Baixo"
      ]
     },
     "execution_count": 41,
     "metadata": {},
     "output_type": "execute_result"
    }
   ],
   "source": [
    "hist_gar_baixo = df.query('Garantias == \"Nenhuma\" & Risco == \"Baixo\"')\n",
    "hist_gar_baixo"
   ]
  },
  {
   "cell_type": "code",
   "execution_count": 42,
   "metadata": {},
   "outputs": [
    {
     "data": {
      "text/html": [
       "<div>\n",
       "<style scoped>\n",
       "    .dataframe tbody tr th:only-of-type {\n",
       "        vertical-align: middle;\n",
       "    }\n",
       "\n",
       "    .dataframe tbody tr th {\n",
       "        vertical-align: top;\n",
       "    }\n",
       "\n",
       "    .dataframe thead th {\n",
       "        text-align: right;\n",
       "    }\n",
       "</style>\n",
       "<table border=\"1\" class=\"dataframe\">\n",
       "  <thead>\n",
       "    <tr style=\"text-align: right;\">\n",
       "      <th></th>\n",
       "      <th>Historico</th>\n",
       "      <th>Divida</th>\n",
       "      <th>Garantias</th>\n",
       "      <th>Renda</th>\n",
       "      <th>Risco</th>\n",
       "    </tr>\n",
       "  </thead>\n",
       "  <tbody>\n",
       "    <tr>\n",
       "      <th>4</th>\n",
       "      <td>Desconhecida</td>\n",
       "      <td>Baixa</td>\n",
       "      <td>Nenhuma</td>\n",
       "      <td>&gt; 35.000</td>\n",
       "      <td>Baixo</td>\n",
       "    </tr>\n",
       "    <tr>\n",
       "      <th>5</th>\n",
       "      <td>Desconhecida</td>\n",
       "      <td>Baixa</td>\n",
       "      <td>Adequada</td>\n",
       "      <td>&gt; 35.000</td>\n",
       "      <td>Baixo</td>\n",
       "    </tr>\n",
       "    <tr>\n",
       "      <th>8</th>\n",
       "      <td>Boa</td>\n",
       "      <td>Baixa</td>\n",
       "      <td>Nenhuma</td>\n",
       "      <td>&gt; 35.000</td>\n",
       "      <td>Baixo</td>\n",
       "    </tr>\n",
       "    <tr>\n",
       "      <th>9</th>\n",
       "      <td>Boa</td>\n",
       "      <td>Alta</td>\n",
       "      <td>Adequada</td>\n",
       "      <td>&gt; 35.000</td>\n",
       "      <td>Baixo</td>\n",
       "    </tr>\n",
       "    <tr>\n",
       "      <th>12</th>\n",
       "      <td>Boa</td>\n",
       "      <td>Alta</td>\n",
       "      <td>Nenhuma</td>\n",
       "      <td>&gt; 35.000</td>\n",
       "      <td>Baixo</td>\n",
       "    </tr>\n",
       "  </tbody>\n",
       "</table>\n",
       "</div>"
      ],
      "text/plain": [
       "       Historico Divida Garantias     Renda  Risco\n",
       "4   Desconhecida  Baixa   Nenhuma  > 35.000  Baixo\n",
       "5   Desconhecida  Baixa  Adequada  > 35.000  Baixo\n",
       "8            Boa  Baixa   Nenhuma  > 35.000  Baixo\n",
       "9            Boa   Alta  Adequada  > 35.000  Baixo\n",
       "12           Boa   Alta   Nenhuma  > 35.000  Baixo"
      ]
     },
     "execution_count": 42,
     "metadata": {},
     "output_type": "execute_result"
    }
   ],
   "source": [
    "hist_renda_baixo = df.query('Renda == \"> 35.000\" & Risco == \"Baixo\"')\n",
    "hist_renda_baixo"
   ]
  },
  {
   "cell_type": "code",
   "execution_count": 43,
   "metadata": {},
   "outputs": [
    {
     "data": {
      "text/plain": [
       "0.05142857142857143"
      ]
     },
     "execution_count": 43,
     "metadata": {},
     "output_type": "execute_result"
    }
   ],
   "source": [
    "pb = (len(hist_baixo) / len(df)) \\\n",
    "* (len(hist_boa_baixo) / len(hist_baixo)) \\\n",
    "* (len(hist_div_baixo) / len(hist_baixo)) \\\n",
    "* (len(hist_gar_baixo) / len(hist_baixo)) \\\n",
    "* ((len(hist_renda_baixo)) / len(hist_baixo)) \n",
    "pb"
   ]
  },
  {
   "cell_type": "code",
   "execution_count": 44,
   "metadata": {},
   "outputs": [
    {
     "data": {
      "text/plain": [
       "(0.007936507936507936, 0.005291005291005291, 0.05142857142857143)"
      ]
     },
     "execution_count": 44,
     "metadata": {},
     "output_type": "execute_result"
    }
   ],
   "source": [
    "pa, pm, pb"
   ]
  },
  {
   "cell_type": "code",
   "execution_count": 45,
   "metadata": {},
   "outputs": [
    {
     "data": {
      "text/plain": [
       "0.06465608465608466"
      ]
     },
     "execution_count": 45,
     "metadata": {},
     "output_type": "execute_result"
    }
   ],
   "source": [
    "sum_ps = pa + pm + pb\n",
    "sum_ps"
   ]
  },
  {
   "cell_type": "code",
   "execution_count": 46,
   "metadata": {},
   "outputs": [
    {
     "name": "stdout",
     "output_type": "stream",
     "text": [
      "Probabilidade do risco ser Alto: 12.27%\n"
     ]
    }
   ],
   "source": [
    "pa = (pa / sum_ps) * 100\n",
    "print(f'Probabilidade do risco ser Alto: {round(pa, 2)}%')"
   ]
  },
  {
   "cell_type": "code",
   "execution_count": 47,
   "metadata": {},
   "outputs": [
    {
     "name": "stdout",
     "output_type": "stream",
     "text": [
      "Probabilidade do risco ser Moderado: 8.18%\n"
     ]
    }
   ],
   "source": [
    "pm = (pm / sum_ps) * 100\n",
    "print(f'Probabilidade do risco ser Moderado: {round(pm, 2)}%')"
   ]
  },
  {
   "cell_type": "code",
   "execution_count": 48,
   "metadata": {},
   "outputs": [
    {
     "name": "stdout",
     "output_type": "stream",
     "text": [
      "Probabilidade do risco ser baixo: 79.54%\n"
     ]
    }
   ],
   "source": [
    "pb = (pb / sum_ps) * 100\n",
    "print(f'Probabilidade do risco ser baixo: {round(pb, 2)}%')"
   ]
  },
  {
   "cell_type": "code",
   "execution_count": 49,
   "metadata": {},
   "outputs": [
    {
     "data": {
      "text/plain": [
       "99.99000000000001"
      ]
     },
     "execution_count": 49,
     "metadata": {},
     "output_type": "execute_result"
    }
   ],
   "source": [
    "12.27 + 8.18 + 79.54"
   ]
  },
  {
   "cell_type": "code",
   "execution_count": 50,
   "metadata": {},
   "outputs": [
    {
     "data": {
      "text/plain": [
       "Index(['Historico', 'Divida', 'Garantias', 'Renda'], dtype='object')"
      ]
     },
     "execution_count": 50,
     "metadata": {},
     "output_type": "execute_result"
    }
   ],
   "source": [
    "target = \"Risco\"\n",
    "first = df.drop(target, axis=1).columns\n",
    "first"
   ]
  },
  {
   "cell_type": "code",
   "execution_count": 51,
   "metadata": {},
   "outputs": [],
   "source": [
    "micolumns = []\n",
    "for col in first:\n",
    "    for val in df[col].unique():\n",
    "        micolumns.append((col, val))\n",
    "        \n",
    "micolumns.append(('Total','Proba'))"
   ]
  },
  {
   "cell_type": "code",
   "execution_count": 52,
   "metadata": {
    "scrolled": true
   },
   "outputs": [
    {
     "name": "stdout",
     "output_type": "stream",
     "text": [
      "MultiIndex([('Historico',               'Ruim'),\n",
      "            ('Historico',       'Desconhecida'),\n",
      "            ('Historico',                'Boa'),\n",
      "            (   'Divida',               'Alta'),\n",
      "            (   'Divida',              'Baixa'),\n",
      "            ('Garantias',            'Nenhuma'),\n",
      "            ('Garantias',           'Adequada'),\n",
      "            (    'Renda',           '< 15.000'),\n",
      "            (    'Renda', '>= 15.000 a 35.000'),\n",
      "            (    'Renda',           '> 35.000'),\n",
      "            (    'Total',              'Proba')],\n",
      "           names=['Classe', 'Risco'])\n"
     ]
    }
   ],
   "source": [
    "df_mult = pd.MultiIndex.from_tuples(micolumns, names=['Classe',target])\n",
    "print(df_mult)"
   ]
  },
  {
   "cell_type": "code",
   "execution_count": 53,
   "metadata": {},
   "outputs": [
    {
     "data": {
      "text/html": [
       "<div>\n",
       "<style scoped>\n",
       "    .dataframe tbody tr th:only-of-type {\n",
       "        vertical-align: middle;\n",
       "    }\n",
       "\n",
       "    .dataframe tbody tr th {\n",
       "        vertical-align: top;\n",
       "    }\n",
       "\n",
       "    .dataframe thead tr th {\n",
       "        text-align: left;\n",
       "    }\n",
       "</style>\n",
       "<table border=\"1\" class=\"dataframe\">\n",
       "  <thead>\n",
       "    <tr>\n",
       "      <th>Classe</th>\n",
       "      <th colspan=\"3\" halign=\"left\">Historico</th>\n",
       "      <th colspan=\"2\" halign=\"left\">Divida</th>\n",
       "      <th colspan=\"2\" halign=\"left\">Garantias</th>\n",
       "      <th colspan=\"3\" halign=\"left\">Renda</th>\n",
       "      <th>Total</th>\n",
       "    </tr>\n",
       "    <tr>\n",
       "      <th>Risco</th>\n",
       "      <th>Ruim</th>\n",
       "      <th>Desconhecida</th>\n",
       "      <th>Boa</th>\n",
       "      <th>Alta</th>\n",
       "      <th>Baixa</th>\n",
       "      <th>Nenhuma</th>\n",
       "      <th>Adequada</th>\n",
       "      <th>&lt; 15.000</th>\n",
       "      <th>&gt;= 15.000 a 35.000</th>\n",
       "      <th>&gt; 35.000</th>\n",
       "      <th>Proba</th>\n",
       "    </tr>\n",
       "  </thead>\n",
       "  <tbody>\n",
       "    <tr>\n",
       "      <th>Alto</th>\n",
       "      <td>NaN</td>\n",
       "      <td>NaN</td>\n",
       "      <td>NaN</td>\n",
       "      <td>NaN</td>\n",
       "      <td>NaN</td>\n",
       "      <td>NaN</td>\n",
       "      <td>NaN</td>\n",
       "      <td>NaN</td>\n",
       "      <td>NaN</td>\n",
       "      <td>NaN</td>\n",
       "      <td>NaN</td>\n",
       "    </tr>\n",
       "    <tr>\n",
       "      <th>Baixo</th>\n",
       "      <td>NaN</td>\n",
       "      <td>NaN</td>\n",
       "      <td>NaN</td>\n",
       "      <td>NaN</td>\n",
       "      <td>NaN</td>\n",
       "      <td>NaN</td>\n",
       "      <td>NaN</td>\n",
       "      <td>NaN</td>\n",
       "      <td>NaN</td>\n",
       "      <td>NaN</td>\n",
       "      <td>NaN</td>\n",
       "    </tr>\n",
       "    <tr>\n",
       "      <th>Moderado</th>\n",
       "      <td>NaN</td>\n",
       "      <td>NaN</td>\n",
       "      <td>NaN</td>\n",
       "      <td>NaN</td>\n",
       "      <td>NaN</td>\n",
       "      <td>NaN</td>\n",
       "      <td>NaN</td>\n",
       "      <td>NaN</td>\n",
       "      <td>NaN</td>\n",
       "      <td>NaN</td>\n",
       "      <td>NaN</td>\n",
       "    </tr>\n",
       "  </tbody>\n",
       "</table>\n",
       "</div>"
      ],
      "text/plain": [
       "Classe   Historico                   Divida       Garantias             Renda  \\\n",
       "Risco         Ruim Desconhecida  Boa   Alta Baixa   Nenhuma Adequada < 15.000   \n",
       "Alto           NaN          NaN  NaN    NaN   NaN       NaN      NaN      NaN   \n",
       "Baixo          NaN          NaN  NaN    NaN   NaN       NaN      NaN      NaN   \n",
       "Moderado       NaN          NaN  NaN    NaN   NaN       NaN      NaN      NaN   \n",
       "\n",
       "Classe                               Total  \n",
       "Risco    >= 15.000 a 35.000 > 35.000 Proba  \n",
       "Alto                    NaN      NaN   NaN  \n",
       "Baixo                   NaN      NaN   NaN  \n",
       "Moderado                NaN      NaN   NaN  "
      ]
     },
     "execution_count": 53,
     "metadata": {},
     "output_type": "execute_result"
    }
   ],
   "source": [
    "dfmi = pd.DataFrame(columns = df_mult, index=sorted(df[target].unique()))\n",
    "dfmi"
   ]
  },
  {
   "cell_type": "code",
   "execution_count": 54,
   "metadata": {},
   "outputs": [],
   "source": [
    "dfmi.loc[tuple(sorted(df[target].unique())),(\"Total\")] = (df[target].value_counts() / len(df)).values"
   ]
  },
  {
   "cell_type": "code",
   "execution_count": 55,
   "metadata": {},
   "outputs": [
    {
     "data": {
      "text/html": [
       "<div>\n",
       "<style scoped>\n",
       "    .dataframe tbody tr th:only-of-type {\n",
       "        vertical-align: middle;\n",
       "    }\n",
       "\n",
       "    .dataframe tbody tr th {\n",
       "        vertical-align: top;\n",
       "    }\n",
       "\n",
       "    .dataframe thead tr th {\n",
       "        text-align: left;\n",
       "    }\n",
       "</style>\n",
       "<table border=\"1\" class=\"dataframe\">\n",
       "  <thead>\n",
       "    <tr>\n",
       "      <th>Classe</th>\n",
       "      <th colspan=\"3\" halign=\"left\">Historico</th>\n",
       "      <th colspan=\"2\" halign=\"left\">Divida</th>\n",
       "      <th colspan=\"2\" halign=\"left\">Garantias</th>\n",
       "      <th colspan=\"3\" halign=\"left\">Renda</th>\n",
       "      <th>Total</th>\n",
       "    </tr>\n",
       "    <tr>\n",
       "      <th>Risco</th>\n",
       "      <th>Ruim</th>\n",
       "      <th>Desconhecida</th>\n",
       "      <th>Boa</th>\n",
       "      <th>Alta</th>\n",
       "      <th>Baixa</th>\n",
       "      <th>Nenhuma</th>\n",
       "      <th>Adequada</th>\n",
       "      <th>&lt; 15.000</th>\n",
       "      <th>&gt;= 15.000 a 35.000</th>\n",
       "      <th>&gt; 35.000</th>\n",
       "      <th>Proba</th>\n",
       "    </tr>\n",
       "  </thead>\n",
       "  <tbody>\n",
       "    <tr>\n",
       "      <th>Alto</th>\n",
       "      <td>NaN</td>\n",
       "      <td>NaN</td>\n",
       "      <td>NaN</td>\n",
       "      <td>NaN</td>\n",
       "      <td>NaN</td>\n",
       "      <td>NaN</td>\n",
       "      <td>NaN</td>\n",
       "      <td>NaN</td>\n",
       "      <td>NaN</td>\n",
       "      <td>NaN</td>\n",
       "      <td>0.428571</td>\n",
       "    </tr>\n",
       "    <tr>\n",
       "      <th>Baixo</th>\n",
       "      <td>NaN</td>\n",
       "      <td>NaN</td>\n",
       "      <td>NaN</td>\n",
       "      <td>NaN</td>\n",
       "      <td>NaN</td>\n",
       "      <td>NaN</td>\n",
       "      <td>NaN</td>\n",
       "      <td>NaN</td>\n",
       "      <td>NaN</td>\n",
       "      <td>NaN</td>\n",
       "      <td>0.357143</td>\n",
       "    </tr>\n",
       "    <tr>\n",
       "      <th>Moderado</th>\n",
       "      <td>NaN</td>\n",
       "      <td>NaN</td>\n",
       "      <td>NaN</td>\n",
       "      <td>NaN</td>\n",
       "      <td>NaN</td>\n",
       "      <td>NaN</td>\n",
       "      <td>NaN</td>\n",
       "      <td>NaN</td>\n",
       "      <td>NaN</td>\n",
       "      <td>NaN</td>\n",
       "      <td>0.214286</td>\n",
       "    </tr>\n",
       "  </tbody>\n",
       "</table>\n",
       "</div>"
      ],
      "text/plain": [
       "Classe   Historico                   Divida       Garantias             Renda  \\\n",
       "Risco         Ruim Desconhecida  Boa   Alta Baixa   Nenhuma Adequada < 15.000   \n",
       "Alto           NaN          NaN  NaN    NaN   NaN       NaN      NaN      NaN   \n",
       "Baixo          NaN          NaN  NaN    NaN   NaN       NaN      NaN      NaN   \n",
       "Moderado       NaN          NaN  NaN    NaN   NaN       NaN      NaN      NaN   \n",
       "\n",
       "Classe                                   Total  \n",
       "Risco    >= 15.000 a 35.000 > 35.000     Proba  \n",
       "Alto                    NaN      NaN  0.428571  \n",
       "Baixo                   NaN      NaN  0.357143  \n",
       "Moderado                NaN      NaN  0.214286  "
      ]
     },
     "execution_count": 55,
     "metadata": {},
     "output_type": "execute_result"
    }
   ],
   "source": [
    "dfmi"
   ]
  },
  {
   "cell_type": "code",
   "execution_count": 56,
   "metadata": {},
   "outputs": [
    {
     "data": {
      "text/html": [
       "<div>\n",
       "<style scoped>\n",
       "    .dataframe tbody tr th:only-of-type {\n",
       "        vertical-align: middle;\n",
       "    }\n",
       "\n",
       "    .dataframe tbody tr th {\n",
       "        vertical-align: top;\n",
       "    }\n",
       "\n",
       "    .dataframe thead tr th {\n",
       "        text-align: left;\n",
       "    }\n",
       "</style>\n",
       "<table border=\"1\" class=\"dataframe\">\n",
       "  <thead>\n",
       "    <tr>\n",
       "      <th>Classe</th>\n",
       "      <th colspan=\"3\" halign=\"left\">Historico</th>\n",
       "      <th colspan=\"2\" halign=\"left\">Divida</th>\n",
       "      <th colspan=\"2\" halign=\"left\">Garantias</th>\n",
       "      <th colspan=\"3\" halign=\"left\">Renda</th>\n",
       "      <th>Total</th>\n",
       "    </tr>\n",
       "    <tr>\n",
       "      <th>Risco</th>\n",
       "      <th>Ruim</th>\n",
       "      <th>Desconhecida</th>\n",
       "      <th>Boa</th>\n",
       "      <th>Alta</th>\n",
       "      <th>Baixa</th>\n",
       "      <th>Nenhuma</th>\n",
       "      <th>Adequada</th>\n",
       "      <th>&lt; 15.000</th>\n",
       "      <th>&gt;= 15.000 a 35.000</th>\n",
       "      <th>&gt; 35.000</th>\n",
       "      <th>Proba</th>\n",
       "    </tr>\n",
       "  </thead>\n",
       "  <tbody>\n",
       "    <tr>\n",
       "      <th>Alto</th>\n",
       "      <td>0.500000</td>\n",
       "      <td>0.333333</td>\n",
       "      <td>0.166667</td>\n",
       "      <td>0.666667</td>\n",
       "      <td>0.333333</td>\n",
       "      <td>1.000000</td>\n",
       "      <td>0.166667</td>\n",
       "      <td>0.666667</td>\n",
       "      <td>0.333333</td>\n",
       "      <td>0.166667</td>\n",
       "      <td>0.428571</td>\n",
       "    </tr>\n",
       "    <tr>\n",
       "      <th>Baixo</th>\n",
       "      <td>0.200000</td>\n",
       "      <td>0.400000</td>\n",
       "      <td>0.600000</td>\n",
       "      <td>0.400000</td>\n",
       "      <td>0.600000</td>\n",
       "      <td>0.600000</td>\n",
       "      <td>0.400000</td>\n",
       "      <td>0.200000</td>\n",
       "      <td>0.200000</td>\n",
       "      <td>1.000000</td>\n",
       "      <td>0.357143</td>\n",
       "    </tr>\n",
       "    <tr>\n",
       "      <th>Moderado</th>\n",
       "      <td>0.333333</td>\n",
       "      <td>0.333333</td>\n",
       "      <td>0.333333</td>\n",
       "      <td>0.333333</td>\n",
       "      <td>0.666667</td>\n",
       "      <td>0.666667</td>\n",
       "      <td>0.333333</td>\n",
       "      <td>0.333333</td>\n",
       "      <td>0.666667</td>\n",
       "      <td>0.333333</td>\n",
       "      <td>0.214286</td>\n",
       "    </tr>\n",
       "  </tbody>\n",
       "</table>\n",
       "</div>"
      ],
      "text/plain": [
       "Classe   Historico                           Divida           Garantias  \\\n",
       "Risco         Ruim Desconhecida       Boa      Alta     Baixa   Nenhuma   \n",
       "Alto      0.500000     0.333333  0.166667  0.666667  0.333333  1.000000   \n",
       "Baixo     0.200000     0.400000  0.600000  0.400000  0.600000  0.600000   \n",
       "Moderado  0.333333     0.333333  0.333333  0.333333  0.666667  0.666667   \n",
       "\n",
       "Classe                 Renda                                  Total  \n",
       "Risco     Adequada  < 15.000 >= 15.000 a 35.000  > 35.000     Proba  \n",
       "Alto      0.166667  0.666667           0.333333  0.166667  0.428571  \n",
       "Baixo     0.400000  0.200000           0.200000  1.000000  0.357143  \n",
       "Moderado  0.333333  0.333333           0.666667  0.333333  0.214286  "
      ]
     },
     "execution_count": 56,
     "metadata": {},
     "output_type": "execute_result"
    }
   ],
   "source": [
    "for classe, col in dfmi.columns[:-1]:\n",
    "    values = []\n",
    "    for idx in dfmi.index:\n",
    "        freq = len(df.query(f'{target} == \"{idx}\" & {classe} == \"{col}\"'))\n",
    "        freq_cls = len(df.query(f'{target} == \"{idx}\"'))\n",
    "        if freq == 0:\n",
    "            freq = 1\n",
    "            \n",
    "        values.append(freq / freq_cls)\n",
    "            \n",
    "    dfmi.loc[tuple(dfmi.index),(classe, col)] = values\n",
    "        \n",
    "dfmi "
   ]
  },
  {
   "cell_type": "code",
   "execution_count": 57,
   "metadata": {},
   "outputs": [
    {
     "data": {
      "text/html": [
       "<div>\n",
       "<style scoped>\n",
       "    .dataframe tbody tr th:only-of-type {\n",
       "        vertical-align: middle;\n",
       "    }\n",
       "\n",
       "    .dataframe tbody tr th {\n",
       "        vertical-align: top;\n",
       "    }\n",
       "\n",
       "    .dataframe thead th {\n",
       "        text-align: right;\n",
       "    }\n",
       "</style>\n",
       "<table border=\"1\" class=\"dataframe\">\n",
       "  <thead>\n",
       "    <tr style=\"text-align: right;\">\n",
       "      <th></th>\n",
       "      <th>Historico</th>\n",
       "      <th>Divida</th>\n",
       "      <th>Garantias</th>\n",
       "      <th>Renda</th>\n",
       "      <th>Risco</th>\n",
       "    </tr>\n",
       "  </thead>\n",
       "  <tbody>\n",
       "    <tr>\n",
       "      <th>12</th>\n",
       "      <td>Boa</td>\n",
       "      <td>Alta</td>\n",
       "      <td>Nenhuma</td>\n",
       "      <td>&gt; 35.000</td>\n",
       "      <td>Baixo</td>\n",
       "    </tr>\n",
       "  </tbody>\n",
       "</table>\n",
       "</div>"
      ],
      "text/plain": [
       "   Historico Divida Garantias     Renda  Risco\n",
       "12       Boa   Alta   Nenhuma  > 35.000  Baixo"
      ]
     },
     "execution_count": 57,
     "metadata": {},
     "output_type": "execute_result"
    }
   ],
   "source": [
    "x"
   ]
  },
  {
   "cell_type": "code",
   "execution_count": 58,
   "metadata": {},
   "outputs": [
    {
     "data": {
      "text/plain": [
       "('Historico', 'Divida', 'Garantias', 'Renda')"
      ]
     },
     "execution_count": 58,
     "metadata": {},
     "output_type": "execute_result"
    }
   ],
   "source": [
    "tuple(x.columns[:-1])"
   ]
  },
  {
   "cell_type": "code",
   "execution_count": 59,
   "metadata": {},
   "outputs": [
    {
     "data": {
      "text/plain": [
       "('Boa', 'Alta', 'Nenhuma', '> 35.000')"
      ]
     },
     "execution_count": 59,
     "metadata": {},
     "output_type": "execute_result"
    }
   ],
   "source": [
    "tuple(x.values[0][:-1])"
   ]
  },
  {
   "cell_type": "code",
   "execution_count": 60,
   "metadata": {},
   "outputs": [
    {
     "data": {
      "text/plain": [
       "[('Historico', 'Boa'),\n",
       " ('Divida', 'Alta'),\n",
       " ('Garantias', 'Nenhuma'),\n",
       " ('Renda', '> 35.000')]"
      ]
     },
     "execution_count": 60,
     "metadata": {},
     "output_type": "execute_result"
    }
   ],
   "source": [
    "x = [col for col in zip(tuple(x.columns[:-1]), tuple(x.values[0][:-1]))]\n",
    "x"
   ]
  },
  {
   "cell_type": "code",
   "execution_count": 61,
   "metadata": {},
   "outputs": [
    {
     "data": {
      "text/plain": [
       "Alto        0.428571\n",
       "Baixo       0.357143\n",
       "Moderado    0.214286\n",
       "Name: (Total, Proba), dtype: float64"
      ]
     },
     "execution_count": 61,
     "metadata": {},
     "output_type": "execute_result"
    }
   ],
   "source": [
    "dfmi[('Total','Proba')]"
   ]
  },
  {
   "cell_type": "code",
   "execution_count": 62,
   "metadata": {},
   "outputs": [
    {
     "data": {
      "text/html": [
       "<div>\n",
       "<style scoped>\n",
       "    .dataframe tbody tr th:only-of-type {\n",
       "        vertical-align: middle;\n",
       "    }\n",
       "\n",
       "    .dataframe tbody tr th {\n",
       "        vertical-align: top;\n",
       "    }\n",
       "\n",
       "    .dataframe thead tr th {\n",
       "        text-align: left;\n",
       "    }\n",
       "</style>\n",
       "<table border=\"1\" class=\"dataframe\">\n",
       "  <thead>\n",
       "    <tr>\n",
       "      <th>Classe</th>\n",
       "      <th>Historico</th>\n",
       "      <th>Divida</th>\n",
       "      <th>Garantias</th>\n",
       "      <th>Renda</th>\n",
       "      <th>Total</th>\n",
       "    </tr>\n",
       "    <tr>\n",
       "      <th>Risco</th>\n",
       "      <th>Boa</th>\n",
       "      <th>Alta</th>\n",
       "      <th>Nenhuma</th>\n",
       "      <th>&gt; 35.000</th>\n",
       "      <th>Proba</th>\n",
       "    </tr>\n",
       "  </thead>\n",
       "  <tbody>\n",
       "    <tr>\n",
       "      <th>Alto</th>\n",
       "      <td>0.166667</td>\n",
       "      <td>0.666667</td>\n",
       "      <td>1.000000</td>\n",
       "      <td>0.166667</td>\n",
       "      <td>0.428571</td>\n",
       "    </tr>\n",
       "    <tr>\n",
       "      <th>Baixo</th>\n",
       "      <td>0.600000</td>\n",
       "      <td>0.400000</td>\n",
       "      <td>0.600000</td>\n",
       "      <td>1.000000</td>\n",
       "      <td>0.357143</td>\n",
       "    </tr>\n",
       "    <tr>\n",
       "      <th>Moderado</th>\n",
       "      <td>0.333333</td>\n",
       "      <td>0.333333</td>\n",
       "      <td>0.666667</td>\n",
       "      <td>0.333333</td>\n",
       "      <td>0.214286</td>\n",
       "    </tr>\n",
       "  </tbody>\n",
       "</table>\n",
       "</div>"
      ],
      "text/plain": [
       "Classe   Historico    Divida Garantias     Renda     Total\n",
       "Risco          Boa      Alta   Nenhuma  > 35.000     Proba\n",
       "Alto      0.166667  0.666667  1.000000  0.166667  0.428571\n",
       "Baixo     0.600000  0.400000  0.600000  1.000000  0.357143\n",
       "Moderado  0.333333  0.333333  0.666667  0.333333  0.214286"
      ]
     },
     "execution_count": 62,
     "metadata": {},
     "output_type": "execute_result"
    }
   ],
   "source": [
    "df_x = dfmi.loc[tuple(dfmi.index), (x)]\n",
    "df_x[('Total','Proba')] = dfmi[('Total','Proba')]\n",
    "df_x"
   ]
  },
  {
   "cell_type": "code",
   "execution_count": 63,
   "metadata": {},
   "outputs": [
    {
     "data": {
      "text/plain": [
       "[0.007936507936507936, 0.05142857142857143, 0.005291005291005291]"
      ]
     },
     "execution_count": 63,
     "metadata": {},
     "output_type": "execute_result"
    }
   ],
   "source": [
    "sum_probs = []\n",
    "for line in df_x.iterrows():\n",
    "    p = 1\n",
    "    for val in line[1].values:\n",
    "        p*=val\n",
    "    sum_probs.append(p)\n",
    "    \n",
    "sum_probs"
   ]
  },
  {
   "cell_type": "code",
   "execution_count": 64,
   "metadata": {},
   "outputs": [
    {
     "data": {
      "text/plain": [
       "0.06465608465608466"
      ]
     },
     "execution_count": 64,
     "metadata": {},
     "output_type": "execute_result"
    }
   ],
   "source": [
    "summatory = sum(sum_probs)\n",
    "summatory"
   ]
  },
  {
   "cell_type": "code",
   "execution_count": 65,
   "metadata": {},
   "outputs": [
    {
     "data": {
      "text/plain": [
       "'Alto'"
      ]
     },
     "execution_count": 65,
     "metadata": {},
     "output_type": "execute_result"
    }
   ],
   "source": [
    "df_x.index[0]"
   ]
  },
  {
   "cell_type": "code",
   "execution_count": 66,
   "metadata": {},
   "outputs": [
    {
     "data": {
      "text/plain": [
       "{'Alto': '12.27495908346972%',\n",
       " 'Baixo': '79.54173486088378%',\n",
       " 'Moderado': '8.183306055646481%'}"
      ]
     },
     "execution_count": 66,
     "metadata": {},
     "output_type": "execute_result"
    }
   ],
   "source": [
    "cls_prob = {}\n",
    "for i, val in enumerate(sum_probs):\n",
    "    cls_prob[df_x.index[i]] = f'{(val / summatory) * 100}%'\n",
    "    \n",
    "cls_prob"
   ]
  },
  {
   "cell_type": "code",
   "execution_count": 67,
   "metadata": {},
   "outputs": [],
   "source": [
    "class NaiveBayes:\n",
    "    \n",
    "    \n",
    "    def __init__(self, df:pd.DataFrame, target:str):\n",
    "        self.data = df\n",
    "        self.target = target\n",
    "        self.df = self.__build_df()\n",
    "        self.proba = None\n",
    "        \n",
    "        \n",
    "    def __format_columns(self, cols:list) -> pd.MultiIndex:\n",
    "        \n",
    "        micolumns = []\n",
    "        for col in first:\n",
    "            for val in df[col].unique():\n",
    "                micolumns.append((col, val))\n",
    "\n",
    "        micolumns.append(('Total','Proba'))\n",
    "        \n",
    "        return pd.MultiIndex.from_tuples(micolumns, names=['Classe',target])\n",
    "    \n",
    "    \n",
    "    def __prob_calculates(self) -> pd.DataFrame:\n",
    "        \n",
    "       \n",
    "        for classe, col in self.df.columns[:-1]:\n",
    "            values = []\n",
    "            for idx in self.df.index:\n",
    "                freq = len(self.data.query(f'{target} == \"{idx}\" & {classe} == \"{col}\"'))\n",
    "                freq_cls = len(self.data.query(f'{target} == \"{idx}\"'))\n",
    "                if freq == 0:\n",
    "                    freq = 1\n",
    "\n",
    "                values.append(freq / freq_cls)\n",
    "\n",
    "            self.df.loc[tuple(self.df.index),(classe, col)] = values\n",
    "            \n",
    "        self.df.loc[tuple(sorted(self.data[target].unique())),(\"Total\")] = (\n",
    "            self.data[target].value_counts() / len(self.data)).values\n",
    "            \n",
    "        return self.df\n",
    "        \n",
    "    \n",
    "    def __build_df(self) -> pd.DataFrame:\n",
    "        \n",
    "        cols = self.data.drop(self.target, axis=1).columns\n",
    "        \n",
    "        df_mult = self.__format_columns(cols)\n",
    "        self.df = pd.DataFrame(columns = df_mult, index=sorted(df[target].unique()))\n",
    "        \n",
    "        return self.__prob_calculates()\n",
    "    \n",
    "    def __sum_calculates(self, x):\n",
    "        sum_probs = []\n",
    "        for line in df_x.iterrows():\n",
    "            p = 1\n",
    "            for val in line[1].values:\n",
    "                p*=val\n",
    "            sum_probs.append(p)\n",
    "        \n",
    "        return sum(sum_probs)\n",
    "    \n",
    "        \n",
    "    def get_nb(self):\n",
    "        return self.df\n",
    "    \n",
    "    def classify(self, x: list) -> dict:\n",
    "        cols = self.data.drop(self.target, axis=1).columns\n",
    "        x = [col for col in zip(cols, x)]\n",
    "        \n",
    "        df_x = dfmi.loc[tuple(dfmi.index), (x)]\n",
    "        df_x[('Total','Proba')] = dfmi[('Total','Proba')]\n",
    "        \n",
    "        cls_prob = {}\n",
    "        for i, val in enumerate(sum_probs):\n",
    "            cls_prob[df_x.index[i]] = f'{(val / summatory) * 100}%'\n",
    "            \n",
    "        return cls_prob\n",
    "        "
   ]
  },
  {
   "cell_type": "code",
   "execution_count": 68,
   "metadata": {},
   "outputs": [],
   "source": [
    "from Models.NaiveBayes import NaiveBayes"
   ]
  },
  {
   "cell_type": "code",
   "execution_count": 69,
   "metadata": {},
   "outputs": [
    {
     "data": {
      "text/html": [
       "<div>\n",
       "<style scoped>\n",
       "    .dataframe tbody tr th:only-of-type {\n",
       "        vertical-align: middle;\n",
       "    }\n",
       "\n",
       "    .dataframe tbody tr th {\n",
       "        vertical-align: top;\n",
       "    }\n",
       "\n",
       "    .dataframe thead tr th {\n",
       "        text-align: left;\n",
       "    }\n",
       "</style>\n",
       "<table border=\"1\" class=\"dataframe\">\n",
       "  <thead>\n",
       "    <tr>\n",
       "      <th>Classe</th>\n",
       "      <th colspan=\"3\" halign=\"left\">Historico</th>\n",
       "      <th colspan=\"2\" halign=\"left\">Divida</th>\n",
       "      <th colspan=\"2\" halign=\"left\">Garantias</th>\n",
       "      <th colspan=\"3\" halign=\"left\">Renda</th>\n",
       "      <th>Total</th>\n",
       "    </tr>\n",
       "    <tr>\n",
       "      <th>Risco</th>\n",
       "      <th>Ruim</th>\n",
       "      <th>Desconhecida</th>\n",
       "      <th>Boa</th>\n",
       "      <th>Alta</th>\n",
       "      <th>Baixa</th>\n",
       "      <th>Nenhuma</th>\n",
       "      <th>Adequada</th>\n",
       "      <th>&lt; 15.000</th>\n",
       "      <th>&gt;= 15.000 a 35.000</th>\n",
       "      <th>&gt; 35.000</th>\n",
       "      <th>Proba</th>\n",
       "    </tr>\n",
       "  </thead>\n",
       "  <tbody>\n",
       "    <tr>\n",
       "      <th>Alto</th>\n",
       "      <td>0.5</td>\n",
       "      <td>0.333333</td>\n",
       "      <td>0.166667</td>\n",
       "      <td>0.666667</td>\n",
       "      <td>0.333333</td>\n",
       "      <td>1</td>\n",
       "      <td>0.166667</td>\n",
       "      <td>0.666667</td>\n",
       "      <td>0.333333</td>\n",
       "      <td>0.166667</td>\n",
       "      <td>0.428571</td>\n",
       "    </tr>\n",
       "    <tr>\n",
       "      <th>Baixo</th>\n",
       "      <td>0.2</td>\n",
       "      <td>0.4</td>\n",
       "      <td>0.6</td>\n",
       "      <td>0.4</td>\n",
       "      <td>0.6</td>\n",
       "      <td>0.6</td>\n",
       "      <td>0.4</td>\n",
       "      <td>0.2</td>\n",
       "      <td>0.2</td>\n",
       "      <td>1</td>\n",
       "      <td>0.357143</td>\n",
       "    </tr>\n",
       "    <tr>\n",
       "      <th>Moderado</th>\n",
       "      <td>0.333333</td>\n",
       "      <td>0.333333</td>\n",
       "      <td>0.333333</td>\n",
       "      <td>0.333333</td>\n",
       "      <td>0.666667</td>\n",
       "      <td>0.666667</td>\n",
       "      <td>0.333333</td>\n",
       "      <td>0.333333</td>\n",
       "      <td>0.666667</td>\n",
       "      <td>0.333333</td>\n",
       "      <td>0.214286</td>\n",
       "    </tr>\n",
       "  </tbody>\n",
       "</table>\n",
       "</div>"
      ],
      "text/plain": [
       "Classe   Historico                           Divida           Garantias  \\\n",
       "Risco         Ruim Desconhecida       Boa      Alta     Baixa   Nenhuma   \n",
       "Alto           0.5     0.333333  0.166667  0.666667  0.333333         1   \n",
       "Baixo          0.2          0.4       0.6       0.4       0.6       0.6   \n",
       "Moderado  0.333333     0.333333  0.333333  0.333333  0.666667  0.666667   \n",
       "\n",
       "Classe                 Renda                                  Total  \n",
       "Risco     Adequada  < 15.000 >= 15.000 a 35.000  > 35.000     Proba  \n",
       "Alto      0.166667  0.666667           0.333333  0.166667  0.428571  \n",
       "Baixo          0.4       0.2                0.2         1  0.357143  \n",
       "Moderado  0.333333  0.333333           0.666667  0.333333  0.214286  "
      ]
     },
     "execution_count": 69,
     "metadata": {},
     "output_type": "execute_result"
    }
   ],
   "source": [
    "nb = NaiveBayes(df, 'Risco')\n",
    "nb.get_nb()"
   ]
  },
  {
   "cell_type": "code",
   "execution_count": 70,
   "metadata": {},
   "outputs": [
    {
     "data": {
      "text/plain": [
       "{'Alto': '12.27%', 'Baixo': '79.54%', 'Moderado': '8.18%'}"
      ]
     },
     "execution_count": 70,
     "metadata": {},
     "output_type": "execute_result"
    }
   ],
   "source": [
    "x = ['Boa', 'Alta', 'Nenhuma', '> 35.000']\n",
    "\n",
    "nb.classify(x)"
   ]
  },
  {
   "cell_type": "code",
   "execution_count": 71,
   "metadata": {},
   "outputs": [
    {
     "data": {
      "text/plain": [
       "{'Alto': '51.49%', 'Baixo': '37.07%', 'Moderado': '11.44%'}"
      ]
     },
     "execution_count": 71,
     "metadata": {},
     "output_type": "execute_result"
    }
   ],
   "source": [
    "x = ['Ruim', 'Alta', 'Nenhuma', '> 35.000']\n",
    "nb.classify(x)"
   ]
  },
  {
   "cell_type": "code",
   "execution_count": 72,
   "metadata": {},
   "outputs": [
    {
     "data": {
      "text/plain": [
       "{'Alto': '1.15%', 'Baixo': '89.63%', 'Moderado': '9.22%'}"
      ]
     },
     "execution_count": 72,
     "metadata": {},
     "output_type": "execute_result"
    }
   ],
   "source": [
    "x = ['Boa', 'Baixa', 'Adequada', '> 35.000']\n",
    "nb.classify(x)"
   ]
  },
  {
   "cell_type": "code",
   "execution_count": 82,
   "metadata": {},
   "outputs": [
    {
     "data": {
      "text/plain": [
       "{'Alto': '22.07%', 'Baixo': '19.07%', 'Moderado': '58.86%'}"
      ]
     },
     "execution_count": 82,
     "metadata": {},
     "output_type": "execute_result"
    }
   ],
   "source": [
    "x = ['Ruim', 'Baixa', 'Adequada', '>= 15.000 a 35.000']\n",
    "nb.classify(x)"
   ]
  }
 ],
 "metadata": {
  "kernelspec": {
   "display_name": "Python 3",
   "language": "python",
   "name": "python3"
  },
  "language_info": {
   "codemirror_mode": {
    "name": "ipython",
    "version": 3
   },
   "file_extension": ".py",
   "mimetype": "text/x-python",
   "name": "python",
   "nbconvert_exporter": "python",
   "pygments_lexer": "ipython3",
   "version": "3.7.6"
  }
 },
 "nbformat": 4,
 "nbformat_minor": 4
}
