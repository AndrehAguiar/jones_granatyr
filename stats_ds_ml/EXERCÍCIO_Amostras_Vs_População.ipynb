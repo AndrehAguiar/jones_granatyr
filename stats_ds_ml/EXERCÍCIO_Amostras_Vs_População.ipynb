{
 "cells": [
  {
   "cell_type": "markdown",
   "metadata": {},
   "source": [
    "# EXERCÍCIO Amostras Vs População\n",
    "---\n",
    "\n",
    "### O objetivo deste exercício é utilizar outra base de dados para testar as amostragens e comparar os resultados\n",
    "---\n",
    "\n",
    "* Faça o download e carregue a base de dados `credit_data.csv`, que possui informações sobre empréstimos (se o cliente pagará ou não pagará o empréstimo)\n",
    "\n",
    "\n",
    "* Teste cada uma das técnicas de amostragem, selecionando 1000 registros\n",
    "\n",
    "\n",
    "* Para a amostragem estratificada, utilize o atributo `c#default` para separar as categorias\n",
    "\n",
    "\n",
    "* No final, faça o comparativo da média utilizando os atributos `age`, `income` e `loan`"
   ]
  },
  {
   "cell_type": "code",
   "execution_count": 1,
   "metadata": {},
   "outputs": [],
   "source": [
    "import pandas as pd\n",
    "from Models.Sample import Sample\n",
    "\n",
    "sample = Sample()"
   ]
  },
  {
   "cell_type": "markdown",
   "metadata": {},
   "source": [
    "### Population"
   ]
  },
  {
   "cell_type": "code",
   "execution_count": 2,
   "metadata": {},
   "outputs": [
    {
     "data": {
      "text/plain": [
       "(2000, 4)"
      ]
     },
     "execution_count": 2,
     "metadata": {},
     "output_type": "execute_result"
    }
   ],
   "source": [
    "df_pop = pd.read_csv('CSVs/credit_data.csv', index_col=0)\n",
    "df_pop.shape"
   ]
  },
  {
   "cell_type": "code",
   "execution_count": 3,
   "metadata": {},
   "outputs": [
    {
     "data": {
      "text/html": [
       "<div>\n",
       "<style scoped>\n",
       "    .dataframe tbody tr th:only-of-type {\n",
       "        vertical-align: middle;\n",
       "    }\n",
       "\n",
       "    .dataframe tbody tr th {\n",
       "        vertical-align: top;\n",
       "    }\n",
       "\n",
       "    .dataframe thead th {\n",
       "        text-align: right;\n",
       "    }\n",
       "</style>\n",
       "<table border=\"1\" class=\"dataframe\">\n",
       "  <thead>\n",
       "    <tr style=\"text-align: right;\">\n",
       "      <th></th>\n",
       "      <th>income</th>\n",
       "      <th>age</th>\n",
       "      <th>loan</th>\n",
       "      <th>c#default</th>\n",
       "    </tr>\n",
       "    <tr>\n",
       "      <th>i#clientid</th>\n",
       "      <th></th>\n",
       "      <th></th>\n",
       "      <th></th>\n",
       "      <th></th>\n",
       "    </tr>\n",
       "  </thead>\n",
       "  <tbody>\n",
       "    <tr>\n",
       "      <th>1</th>\n",
       "      <td>66155.925095</td>\n",
       "      <td>59.017015</td>\n",
       "      <td>8106.532131</td>\n",
       "      <td>0</td>\n",
       "    </tr>\n",
       "    <tr>\n",
       "      <th>2</th>\n",
       "      <td>34415.153966</td>\n",
       "      <td>48.117153</td>\n",
       "      <td>6564.745018</td>\n",
       "      <td>0</td>\n",
       "    </tr>\n",
       "    <tr>\n",
       "      <th>3</th>\n",
       "      <td>57317.170063</td>\n",
       "      <td>63.108049</td>\n",
       "      <td>8020.953296</td>\n",
       "      <td>0</td>\n",
       "    </tr>\n",
       "    <tr>\n",
       "      <th>4</th>\n",
       "      <td>42709.534201</td>\n",
       "      <td>45.751972</td>\n",
       "      <td>6103.642260</td>\n",
       "      <td>0</td>\n",
       "    </tr>\n",
       "    <tr>\n",
       "      <th>5</th>\n",
       "      <td>66952.688845</td>\n",
       "      <td>18.584336</td>\n",
       "      <td>8770.099235</td>\n",
       "      <td>1</td>\n",
       "    </tr>\n",
       "  </tbody>\n",
       "</table>\n",
       "</div>"
      ],
      "text/plain": [
       "                  income        age         loan  c#default\n",
       "i#clientid                                                 \n",
       "1           66155.925095  59.017015  8106.532131          0\n",
       "2           34415.153966  48.117153  6564.745018          0\n",
       "3           57317.170063  63.108049  8020.953296          0\n",
       "4           42709.534201  45.751972  6103.642260          0\n",
       "5           66952.688845  18.584336  8770.099235          1"
      ]
     },
     "execution_count": 3,
     "metadata": {},
     "output_type": "execute_result"
    }
   ],
   "source": [
    "df_pop.head()"
   ]
  },
  {
   "cell_type": "code",
   "execution_count": 4,
   "metadata": {},
   "outputs": [
    {
     "data": {
      "text/html": [
       "<div>\n",
       "<style scoped>\n",
       "    .dataframe tbody tr th:only-of-type {\n",
       "        vertical-align: middle;\n",
       "    }\n",
       "\n",
       "    .dataframe tbody tr th {\n",
       "        vertical-align: top;\n",
       "    }\n",
       "\n",
       "    .dataframe thead th {\n",
       "        text-align: right;\n",
       "    }\n",
       "</style>\n",
       "<table border=\"1\" class=\"dataframe\">\n",
       "  <thead>\n",
       "    <tr style=\"text-align: right;\">\n",
       "      <th></th>\n",
       "      <th>income</th>\n",
       "      <th>age</th>\n",
       "      <th>loan</th>\n",
       "      <th>c#default</th>\n",
       "    </tr>\n",
       "    <tr>\n",
       "      <th>i#clientid</th>\n",
       "      <th></th>\n",
       "      <th></th>\n",
       "      <th></th>\n",
       "      <th></th>\n",
       "    </tr>\n",
       "  </thead>\n",
       "  <tbody>\n",
       "    <tr>\n",
       "      <th>1996</th>\n",
       "      <td>59221.044874</td>\n",
       "      <td>48.518179</td>\n",
       "      <td>1926.729397</td>\n",
       "      <td>0</td>\n",
       "    </tr>\n",
       "    <tr>\n",
       "      <th>1997</th>\n",
       "      <td>69516.127573</td>\n",
       "      <td>23.162104</td>\n",
       "      <td>3503.176156</td>\n",
       "      <td>0</td>\n",
       "    </tr>\n",
       "    <tr>\n",
       "      <th>1998</th>\n",
       "      <td>44311.449262</td>\n",
       "      <td>28.017167</td>\n",
       "      <td>5522.786693</td>\n",
       "      <td>1</td>\n",
       "    </tr>\n",
       "    <tr>\n",
       "      <th>1999</th>\n",
       "      <td>43756.056605</td>\n",
       "      <td>63.971796</td>\n",
       "      <td>1622.722598</td>\n",
       "      <td>0</td>\n",
       "    </tr>\n",
       "    <tr>\n",
       "      <th>2000</th>\n",
       "      <td>69436.579552</td>\n",
       "      <td>56.152617</td>\n",
       "      <td>7378.833599</td>\n",
       "      <td>0</td>\n",
       "    </tr>\n",
       "  </tbody>\n",
       "</table>\n",
       "</div>"
      ],
      "text/plain": [
       "                  income        age         loan  c#default\n",
       "i#clientid                                                 \n",
       "1996        59221.044874  48.518179  1926.729397          0\n",
       "1997        69516.127573  23.162104  3503.176156          0\n",
       "1998        44311.449262  28.017167  5522.786693          1\n",
       "1999        43756.056605  63.971796  1622.722598          0\n",
       "2000        69436.579552  56.152617  7378.833599          0"
      ]
     },
     "execution_count": 4,
     "metadata": {},
     "output_type": "execute_result"
    }
   ],
   "source": [
    "df_pop.tail()"
   ]
  },
  {
   "cell_type": "markdown",
   "metadata": {},
   "source": [
    "---\n",
    "### Ramdom Simple Sample"
   ]
  },
  {
   "cell_type": "code",
   "execution_count": 5,
   "metadata": {},
   "outputs": [
    {
     "data": {
      "text/plain": [
       "(1000, 4)"
      ]
     },
     "execution_count": 5,
     "metadata": {},
     "output_type": "execute_result"
    }
   ],
   "source": [
    "df_sp_sample = sample.simple_sample(df_pop, 1000, 42)\n",
    "df_sp_sample.shape"
   ]
  },
  {
   "cell_type": "code",
   "execution_count": 6,
   "metadata": {},
   "outputs": [
    {
     "data": {
      "text/html": [
       "<div>\n",
       "<style scoped>\n",
       "    .dataframe tbody tr th:only-of-type {\n",
       "        vertical-align: middle;\n",
       "    }\n",
       "\n",
       "    .dataframe tbody tr th {\n",
       "        vertical-align: top;\n",
       "    }\n",
       "\n",
       "    .dataframe thead th {\n",
       "        text-align: right;\n",
       "    }\n",
       "</style>\n",
       "<table border=\"1\" class=\"dataframe\">\n",
       "  <thead>\n",
       "    <tr style=\"text-align: right;\">\n",
       "      <th></th>\n",
       "      <th>income</th>\n",
       "      <th>age</th>\n",
       "      <th>loan</th>\n",
       "      <th>c#default</th>\n",
       "    </tr>\n",
       "    <tr>\n",
       "      <th>i#clientid</th>\n",
       "      <th></th>\n",
       "      <th></th>\n",
       "      <th></th>\n",
       "      <th></th>\n",
       "    </tr>\n",
       "  </thead>\n",
       "  <tbody>\n",
       "    <tr>\n",
       "      <th>1861</th>\n",
       "      <td>40240.727556</td>\n",
       "      <td>26.959005</td>\n",
       "      <td>7498.630447</td>\n",
       "      <td>1</td>\n",
       "    </tr>\n",
       "    <tr>\n",
       "      <th>354</th>\n",
       "      <td>46706.458861</td>\n",
       "      <td>18.830336</td>\n",
       "      <td>7084.263509</td>\n",
       "      <td>1</td>\n",
       "    </tr>\n",
       "    <tr>\n",
       "      <th>1334</th>\n",
       "      <td>51211.654039</td>\n",
       "      <td>45.628568</td>\n",
       "      <td>4093.360006</td>\n",
       "      <td>0</td>\n",
       "    </tr>\n",
       "    <tr>\n",
       "      <th>906</th>\n",
       "      <td>67675.804771</td>\n",
       "      <td>37.740396</td>\n",
       "      <td>4396.076877</td>\n",
       "      <td>0</td>\n",
       "    </tr>\n",
       "    <tr>\n",
       "      <th>1290</th>\n",
       "      <td>36965.742479</td>\n",
       "      <td>53.762359</td>\n",
       "      <td>6333.391588</td>\n",
       "      <td>0</td>\n",
       "    </tr>\n",
       "  </tbody>\n",
       "</table>\n",
       "</div>"
      ],
      "text/plain": [
       "                  income        age         loan  c#default\n",
       "i#clientid                                                 \n",
       "1861        40240.727556  26.959005  7498.630447          1\n",
       "354         46706.458861  18.830336  7084.263509          1\n",
       "1334        51211.654039  45.628568  4093.360006          0\n",
       "906         67675.804771  37.740396  4396.076877          0\n",
       "1290        36965.742479  53.762359  6333.391588          0"
      ]
     },
     "execution_count": 6,
     "metadata": {},
     "output_type": "execute_result"
    }
   ],
   "source": [
    "sample.df_sp_sample.head()"
   ]
  },
  {
   "cell_type": "code",
   "execution_count": 7,
   "metadata": {},
   "outputs": [
    {
     "data": {
      "text/html": [
       "<div>\n",
       "<style scoped>\n",
       "    .dataframe tbody tr th:only-of-type {\n",
       "        vertical-align: middle;\n",
       "    }\n",
       "\n",
       "    .dataframe tbody tr th {\n",
       "        vertical-align: top;\n",
       "    }\n",
       "\n",
       "    .dataframe thead th {\n",
       "        text-align: right;\n",
       "    }\n",
       "</style>\n",
       "<table border=\"1\" class=\"dataframe\">\n",
       "  <thead>\n",
       "    <tr style=\"text-align: right;\">\n",
       "      <th></th>\n",
       "      <th>income</th>\n",
       "      <th>age</th>\n",
       "      <th>loan</th>\n",
       "      <th>c#default</th>\n",
       "    </tr>\n",
       "    <tr>\n",
       "      <th>i#clientid</th>\n",
       "      <th></th>\n",
       "      <th></th>\n",
       "      <th></th>\n",
       "      <th></th>\n",
       "    </tr>\n",
       "  </thead>\n",
       "  <tbody>\n",
       "    <tr>\n",
       "      <th>26</th>\n",
       "      <td>47451.630123</td>\n",
       "      <td>27.031741</td>\n",
       "      <td>5361.282716</td>\n",
       "      <td>0</td>\n",
       "    </tr>\n",
       "    <tr>\n",
       "      <th>1859</th>\n",
       "      <td>60672.145586</td>\n",
       "      <td>43.055909</td>\n",
       "      <td>6279.687007</td>\n",
       "      <td>0</td>\n",
       "    </tr>\n",
       "    <tr>\n",
       "      <th>715</th>\n",
       "      <td>50831.427535</td>\n",
       "      <td>24.351603</td>\n",
       "      <td>9572.586884</td>\n",
       "      <td>1</td>\n",
       "    </tr>\n",
       "    <tr>\n",
       "      <th>1010</th>\n",
       "      <td>35620.418626</td>\n",
       "      <td>40.824674</td>\n",
       "      <td>3611.295903</td>\n",
       "      <td>0</td>\n",
       "    </tr>\n",
       "    <tr>\n",
       "      <th>194</th>\n",
       "      <td>42522.922407</td>\n",
       "      <td>53.868651</td>\n",
       "      <td>6790.850263</td>\n",
       "      <td>0</td>\n",
       "    </tr>\n",
       "  </tbody>\n",
       "</table>\n",
       "</div>"
      ],
      "text/plain": [
       "                  income        age         loan  c#default\n",
       "i#clientid                                                 \n",
       "26          47451.630123  27.031741  5361.282716          0\n",
       "1859        60672.145586  43.055909  6279.687007          0\n",
       "715         50831.427535  24.351603  9572.586884          1\n",
       "1010        35620.418626  40.824674  3611.295903          0\n",
       "194         42522.922407  53.868651  6790.850263          0"
      ]
     },
     "execution_count": 7,
     "metadata": {},
     "output_type": "execute_result"
    }
   ],
   "source": [
    "sample.df_sp_sample.tail()"
   ]
  },
  {
   "cell_type": "code",
   "execution_count": 8,
   "metadata": {},
   "outputs": [
    {
     "data": {
      "text/plain": [
       "(999, 4)"
      ]
     },
     "execution_count": 8,
     "metadata": {},
     "output_type": "execute_result"
    }
   ],
   "source": [
    "df_sys_sample = sample.systematic_sample(df_pop, 1000, 42)\n",
    "df_sys_sample.shape"
   ]
  },
  {
   "cell_type": "code",
   "execution_count": 9,
   "metadata": {},
   "outputs": [
    {
     "data": {
      "text/html": [
       "<div>\n",
       "<style scoped>\n",
       "    .dataframe tbody tr th:only-of-type {\n",
       "        vertical-align: middle;\n",
       "    }\n",
       "\n",
       "    .dataframe tbody tr th {\n",
       "        vertical-align: top;\n",
       "    }\n",
       "\n",
       "    .dataframe thead th {\n",
       "        text-align: right;\n",
       "    }\n",
       "</style>\n",
       "<table border=\"1\" class=\"dataframe\">\n",
       "  <thead>\n",
       "    <tr style=\"text-align: right;\">\n",
       "      <th></th>\n",
       "      <th>income</th>\n",
       "      <th>age</th>\n",
       "      <th>loan</th>\n",
       "      <th>c#default</th>\n",
       "    </tr>\n",
       "    <tr>\n",
       "      <th>i#clientid</th>\n",
       "      <th></th>\n",
       "      <th></th>\n",
       "      <th></th>\n",
       "      <th></th>\n",
       "    </tr>\n",
       "  </thead>\n",
       "  <tbody>\n",
       "    <tr>\n",
       "      <th>3</th>\n",
       "      <td>57317.170063</td>\n",
       "      <td>63.108049</td>\n",
       "      <td>8020.953296</td>\n",
       "      <td>0</td>\n",
       "    </tr>\n",
       "    <tr>\n",
       "      <th>5</th>\n",
       "      <td>66952.688845</td>\n",
       "      <td>18.584336</td>\n",
       "      <td>8770.099235</td>\n",
       "      <td>1</td>\n",
       "    </tr>\n",
       "    <tr>\n",
       "      <th>7</th>\n",
       "      <td>48430.359613</td>\n",
       "      <td>26.809132</td>\n",
       "      <td>5722.581981</td>\n",
       "      <td>0</td>\n",
       "    </tr>\n",
       "    <tr>\n",
       "      <th>9</th>\n",
       "      <td>40654.892537</td>\n",
       "      <td>55.496853</td>\n",
       "      <td>4755.825280</td>\n",
       "      <td>0</td>\n",
       "    </tr>\n",
       "    <tr>\n",
       "      <th>11</th>\n",
       "      <td>64131.415372</td>\n",
       "      <td>25.679575</td>\n",
       "      <td>4351.028971</td>\n",
       "      <td>0</td>\n",
       "    </tr>\n",
       "  </tbody>\n",
       "</table>\n",
       "</div>"
      ],
      "text/plain": [
       "                  income        age         loan  c#default\n",
       "i#clientid                                                 \n",
       "3           57317.170063  63.108049  8020.953296          0\n",
       "5           66952.688845  18.584336  8770.099235          1\n",
       "7           48430.359613  26.809132  5722.581981          0\n",
       "9           40654.892537  55.496853  4755.825280          0\n",
       "11          64131.415372  25.679575  4351.028971          0"
      ]
     },
     "execution_count": 9,
     "metadata": {},
     "output_type": "execute_result"
    }
   ],
   "source": [
    "sample.df_sys_sample.head()"
   ]
  },
  {
   "cell_type": "code",
   "execution_count": 10,
   "metadata": {},
   "outputs": [
    {
     "data": {
      "text/html": [
       "<div>\n",
       "<style scoped>\n",
       "    .dataframe tbody tr th:only-of-type {\n",
       "        vertical-align: middle;\n",
       "    }\n",
       "\n",
       "    .dataframe tbody tr th {\n",
       "        vertical-align: top;\n",
       "    }\n",
       "\n",
       "    .dataframe thead th {\n",
       "        text-align: right;\n",
       "    }\n",
       "</style>\n",
       "<table border=\"1\" class=\"dataframe\">\n",
       "  <thead>\n",
       "    <tr style=\"text-align: right;\">\n",
       "      <th></th>\n",
       "      <th>income</th>\n",
       "      <th>age</th>\n",
       "      <th>loan</th>\n",
       "      <th>c#default</th>\n",
       "    </tr>\n",
       "    <tr>\n",
       "      <th>i#clientid</th>\n",
       "      <th></th>\n",
       "      <th></th>\n",
       "      <th></th>\n",
       "      <th></th>\n",
       "    </tr>\n",
       "  </thead>\n",
       "  <tbody>\n",
       "    <tr>\n",
       "      <th>1991</th>\n",
       "      <td>34237.575419</td>\n",
       "      <td>34.101654</td>\n",
       "      <td>2658.090632</td>\n",
       "      <td>0</td>\n",
       "    </tr>\n",
       "    <tr>\n",
       "      <th>1993</th>\n",
       "      <td>30803.806165</td>\n",
       "      <td>23.250084</td>\n",
       "      <td>623.024153</td>\n",
       "      <td>0</td>\n",
       "    </tr>\n",
       "    <tr>\n",
       "      <th>1995</th>\n",
       "      <td>24254.700791</td>\n",
       "      <td>37.751622</td>\n",
       "      <td>2225.284643</td>\n",
       "      <td>0</td>\n",
       "    </tr>\n",
       "    <tr>\n",
       "      <th>1997</th>\n",
       "      <td>69516.127573</td>\n",
       "      <td>23.162104</td>\n",
       "      <td>3503.176156</td>\n",
       "      <td>0</td>\n",
       "    </tr>\n",
       "    <tr>\n",
       "      <th>1999</th>\n",
       "      <td>43756.056605</td>\n",
       "      <td>63.971796</td>\n",
       "      <td>1622.722598</td>\n",
       "      <td>0</td>\n",
       "    </tr>\n",
       "  </tbody>\n",
       "</table>\n",
       "</div>"
      ],
      "text/plain": [
       "                  income        age         loan  c#default\n",
       "i#clientid                                                 \n",
       "1991        34237.575419  34.101654  2658.090632          0\n",
       "1993        30803.806165  23.250084   623.024153          0\n",
       "1995        24254.700791  37.751622  2225.284643          0\n",
       "1997        69516.127573  23.162104  3503.176156          0\n",
       "1999        43756.056605  63.971796  1622.722598          0"
      ]
     },
     "execution_count": 10,
     "metadata": {},
     "output_type": "execute_result"
    }
   ],
   "source": [
    "sample.df_sys_sample.tail()"
   ]
  },
  {
   "cell_type": "markdown",
   "metadata": {},
   "source": [
    "---\n",
    "### Group Sample"
   ]
  },
  {
   "cell_type": "code",
   "execution_count": 11,
   "metadata": {},
   "outputs": [
    {
     "data": {
      "text/plain": [
       "(1000, 5)"
      ]
     },
     "execution_count": 11,
     "metadata": {},
     "output_type": "execute_result"
    }
   ],
   "source": [
    "# To receive a sample with 1000 individuals\n",
    "# Population = 2000\n",
    "# n_groups: Population / 2 = 1000\n",
    "df_grp_sample = sample.group_sample(df_pop, 2, 42)\n",
    "df_grp_sample.shape"
   ]
  },
  {
   "cell_type": "code",
   "execution_count": 12,
   "metadata": {},
   "outputs": [
    {
     "data": {
      "text/html": [
       "<div>\n",
       "<style scoped>\n",
       "    .dataframe tbody tr th:only-of-type {\n",
       "        vertical-align: middle;\n",
       "    }\n",
       "\n",
       "    .dataframe tbody tr th {\n",
       "        vertical-align: top;\n",
       "    }\n",
       "\n",
       "    .dataframe thead th {\n",
       "        text-align: right;\n",
       "    }\n",
       "</style>\n",
       "<table border=\"1\" class=\"dataframe\">\n",
       "  <thead>\n",
       "    <tr style=\"text-align: right;\">\n",
       "      <th></th>\n",
       "      <th>income</th>\n",
       "      <th>age</th>\n",
       "      <th>loan</th>\n",
       "      <th>c#default</th>\n",
       "      <th>group</th>\n",
       "    </tr>\n",
       "    <tr>\n",
       "      <th>i#clientid</th>\n",
       "      <th></th>\n",
       "      <th></th>\n",
       "      <th></th>\n",
       "      <th></th>\n",
       "      <th></th>\n",
       "    </tr>\n",
       "  </thead>\n",
       "  <tbody>\n",
       "    <tr>\n",
       "      <th>1001</th>\n",
       "      <td>50793.355720</td>\n",
       "      <td>41.601886</td>\n",
       "      <td>421.640380</td>\n",
       "      <td>0</td>\n",
       "      <td>1</td>\n",
       "    </tr>\n",
       "    <tr>\n",
       "      <th>1002</th>\n",
       "      <td>62422.203789</td>\n",
       "      <td>32.145221</td>\n",
       "      <td>2841.633423</td>\n",
       "      <td>0</td>\n",
       "      <td>1</td>\n",
       "    </tr>\n",
       "    <tr>\n",
       "      <th>1003</th>\n",
       "      <td>63166.994955</td>\n",
       "      <td>56.510040</td>\n",
       "      <td>4058.789534</td>\n",
       "      <td>0</td>\n",
       "      <td>1</td>\n",
       "    </tr>\n",
       "    <tr>\n",
       "      <th>1004</th>\n",
       "      <td>23717.567853</td>\n",
       "      <td>49.325770</td>\n",
       "      <td>1530.090242</td>\n",
       "      <td>0</td>\n",
       "      <td>1</td>\n",
       "    </tr>\n",
       "    <tr>\n",
       "      <th>1005</th>\n",
       "      <td>66797.664673</td>\n",
       "      <td>21.380429</td>\n",
       "      <td>11921.199537</td>\n",
       "      <td>1</td>\n",
       "      <td>1</td>\n",
       "    </tr>\n",
       "  </tbody>\n",
       "</table>\n",
       "</div>"
      ],
      "text/plain": [
       "                  income        age          loan  c#default  group\n",
       "i#clientid                                                         \n",
       "1001        50793.355720  41.601886    421.640380          0      1\n",
       "1002        62422.203789  32.145221   2841.633423          0      1\n",
       "1003        63166.994955  56.510040   4058.789534          0      1\n",
       "1004        23717.567853  49.325770   1530.090242          0      1\n",
       "1005        66797.664673  21.380429  11921.199537          1      1"
      ]
     },
     "execution_count": 12,
     "metadata": {},
     "output_type": "execute_result"
    }
   ],
   "source": [
    "sample.df_grp_sample.head()"
   ]
  },
  {
   "cell_type": "code",
   "execution_count": 13,
   "metadata": {},
   "outputs": [
    {
     "data": {
      "text/html": [
       "<div>\n",
       "<style scoped>\n",
       "    .dataframe tbody tr th:only-of-type {\n",
       "        vertical-align: middle;\n",
       "    }\n",
       "\n",
       "    .dataframe tbody tr th {\n",
       "        vertical-align: top;\n",
       "    }\n",
       "\n",
       "    .dataframe thead th {\n",
       "        text-align: right;\n",
       "    }\n",
       "</style>\n",
       "<table border=\"1\" class=\"dataframe\">\n",
       "  <thead>\n",
       "    <tr style=\"text-align: right;\">\n",
       "      <th></th>\n",
       "      <th>income</th>\n",
       "      <th>age</th>\n",
       "      <th>loan</th>\n",
       "      <th>c#default</th>\n",
       "      <th>group</th>\n",
       "    </tr>\n",
       "    <tr>\n",
       "      <th>i#clientid</th>\n",
       "      <th></th>\n",
       "      <th></th>\n",
       "      <th></th>\n",
       "      <th></th>\n",
       "      <th></th>\n",
       "    </tr>\n",
       "  </thead>\n",
       "  <tbody>\n",
       "    <tr>\n",
       "      <th>1996</th>\n",
       "      <td>59221.044874</td>\n",
       "      <td>48.518179</td>\n",
       "      <td>1926.729397</td>\n",
       "      <td>0</td>\n",
       "      <td>1</td>\n",
       "    </tr>\n",
       "    <tr>\n",
       "      <th>1997</th>\n",
       "      <td>69516.127573</td>\n",
       "      <td>23.162104</td>\n",
       "      <td>3503.176156</td>\n",
       "      <td>0</td>\n",
       "      <td>1</td>\n",
       "    </tr>\n",
       "    <tr>\n",
       "      <th>1998</th>\n",
       "      <td>44311.449262</td>\n",
       "      <td>28.017167</td>\n",
       "      <td>5522.786693</td>\n",
       "      <td>1</td>\n",
       "      <td>1</td>\n",
       "    </tr>\n",
       "    <tr>\n",
       "      <th>1999</th>\n",
       "      <td>43756.056605</td>\n",
       "      <td>63.971796</td>\n",
       "      <td>1622.722598</td>\n",
       "      <td>0</td>\n",
       "      <td>1</td>\n",
       "    </tr>\n",
       "    <tr>\n",
       "      <th>2000</th>\n",
       "      <td>69436.579552</td>\n",
       "      <td>56.152617</td>\n",
       "      <td>7378.833599</td>\n",
       "      <td>0</td>\n",
       "      <td>1</td>\n",
       "    </tr>\n",
       "  </tbody>\n",
       "</table>\n",
       "</div>"
      ],
      "text/plain": [
       "                  income        age         loan  c#default  group\n",
       "i#clientid                                                        \n",
       "1996        59221.044874  48.518179  1926.729397          0      1\n",
       "1997        69516.127573  23.162104  3503.176156          0      1\n",
       "1998        44311.449262  28.017167  5522.786693          1      1\n",
       "1999        43756.056605  63.971796  1622.722598          0      1\n",
       "2000        69436.579552  56.152617  7378.833599          0      1"
      ]
     },
     "execution_count": 13,
     "metadata": {},
     "output_type": "execute_result"
    }
   ],
   "source": [
    "sample.df_grp_sample.tail()"
   ]
  },
  {
   "cell_type": "code",
   "execution_count": 14,
   "metadata": {},
   "outputs": [
    {
     "data": {
      "text/plain": [
       "1    1000\n",
       "Name: group, dtype: int64"
      ]
     },
     "execution_count": 14,
     "metadata": {},
     "output_type": "execute_result"
    }
   ],
   "source": [
    "sample.df_grp_sample['group'].value_counts()"
   ]
  },
  {
   "cell_type": "markdown",
   "metadata": {},
   "source": [
    "---\n",
    "### Stratify Sample"
   ]
  },
  {
   "cell_type": "code",
   "execution_count": 15,
   "metadata": {},
   "outputs": [
    {
     "data": {
      "text/plain": [
       "(1000, 4)"
      ]
     },
     "execution_count": 15,
     "metadata": {},
     "output_type": "execute_result"
    }
   ],
   "source": [
    "df_stf_sample = sample.stratify_sample(df_pop, 'c#default', 1000, 42)\n",
    "df_stf_sample.shape"
   ]
  },
  {
   "cell_type": "code",
   "execution_count": 16,
   "metadata": {},
   "outputs": [
    {
     "data": {
      "text/html": [
       "<div>\n",
       "<style scoped>\n",
       "    .dataframe tbody tr th:only-of-type {\n",
       "        vertical-align: middle;\n",
       "    }\n",
       "\n",
       "    .dataframe tbody tr th {\n",
       "        vertical-align: top;\n",
       "    }\n",
       "\n",
       "    .dataframe thead th {\n",
       "        text-align: right;\n",
       "    }\n",
       "</style>\n",
       "<table border=\"1\" class=\"dataframe\">\n",
       "  <thead>\n",
       "    <tr style=\"text-align: right;\">\n",
       "      <th></th>\n",
       "      <th>income</th>\n",
       "      <th>age</th>\n",
       "      <th>loan</th>\n",
       "      <th>c#default</th>\n",
       "    </tr>\n",
       "    <tr>\n",
       "      <th>i#clientid</th>\n",
       "      <th></th>\n",
       "      <th></th>\n",
       "      <th></th>\n",
       "      <th></th>\n",
       "    </tr>\n",
       "  </thead>\n",
       "  <tbody>\n",
       "    <tr>\n",
       "      <th>705</th>\n",
       "      <td>57575.009791</td>\n",
       "      <td>33.800135</td>\n",
       "      <td>9857.229950</td>\n",
       "      <td>1</td>\n",
       "    </tr>\n",
       "    <tr>\n",
       "      <th>479</th>\n",
       "      <td>38665.033928</td>\n",
       "      <td>55.125922</td>\n",
       "      <td>6152.004833</td>\n",
       "      <td>0</td>\n",
       "    </tr>\n",
       "    <tr>\n",
       "      <th>903</th>\n",
       "      <td>48991.853679</td>\n",
       "      <td>18.621307</td>\n",
       "      <td>7453.264268</td>\n",
       "      <td>1</td>\n",
       "    </tr>\n",
       "    <tr>\n",
       "      <th>1206</th>\n",
       "      <td>50289.664748</td>\n",
       "      <td>24.074054</td>\n",
       "      <td>6127.381688</td>\n",
       "      <td>1</td>\n",
       "    </tr>\n",
       "    <tr>\n",
       "      <th>133</th>\n",
       "      <td>37049.386236</td>\n",
       "      <td>29.423019</td>\n",
       "      <td>6056.817214</td>\n",
       "      <td>1</td>\n",
       "    </tr>\n",
       "  </tbody>\n",
       "</table>\n",
       "</div>"
      ],
      "text/plain": [
       "                  income        age         loan  c#default\n",
       "i#clientid                                                 \n",
       "705         57575.009791  33.800135  9857.229950          1\n",
       "479         38665.033928  55.125922  6152.004833          0\n",
       "903         48991.853679  18.621307  7453.264268          1\n",
       "1206        50289.664748  24.074054  6127.381688          1\n",
       "133         37049.386236  29.423019  6056.817214          1"
      ]
     },
     "execution_count": 16,
     "metadata": {},
     "output_type": "execute_result"
    }
   ],
   "source": [
    "sample.df_stf_sample.head()"
   ]
  },
  {
   "cell_type": "code",
   "execution_count": 17,
   "metadata": {},
   "outputs": [
    {
     "data": {
      "text/html": [
       "<div>\n",
       "<style scoped>\n",
       "    .dataframe tbody tr th:only-of-type {\n",
       "        vertical-align: middle;\n",
       "    }\n",
       "\n",
       "    .dataframe tbody tr th {\n",
       "        vertical-align: top;\n",
       "    }\n",
       "\n",
       "    .dataframe thead th {\n",
       "        text-align: right;\n",
       "    }\n",
       "</style>\n",
       "<table border=\"1\" class=\"dataframe\">\n",
       "  <thead>\n",
       "    <tr style=\"text-align: right;\">\n",
       "      <th></th>\n",
       "      <th>income</th>\n",
       "      <th>age</th>\n",
       "      <th>loan</th>\n",
       "      <th>c#default</th>\n",
       "    </tr>\n",
       "    <tr>\n",
       "      <th>i#clientid</th>\n",
       "      <th></th>\n",
       "      <th></th>\n",
       "      <th></th>\n",
       "      <th></th>\n",
       "    </tr>\n",
       "  </thead>\n",
       "  <tbody>\n",
       "    <tr>\n",
       "      <th>747</th>\n",
       "      <td>45622.290710</td>\n",
       "      <td>41.632545</td>\n",
       "      <td>528.181250</td>\n",
       "      <td>0</td>\n",
       "    </tr>\n",
       "    <tr>\n",
       "      <th>881</th>\n",
       "      <td>67730.443696</td>\n",
       "      <td>26.303147</td>\n",
       "      <td>8881.583636</td>\n",
       "      <td>1</td>\n",
       "    </tr>\n",
       "    <tr>\n",
       "      <th>619</th>\n",
       "      <td>29668.320720</td>\n",
       "      <td>38.683740</td>\n",
       "      <td>2042.436463</td>\n",
       "      <td>0</td>\n",
       "    </tr>\n",
       "    <tr>\n",
       "      <th>1831</th>\n",
       "      <td>53812.226483</td>\n",
       "      <td>44.919152</td>\n",
       "      <td>3245.041667</td>\n",
       "      <td>0</td>\n",
       "    </tr>\n",
       "    <tr>\n",
       "      <th>1146</th>\n",
       "      <td>49032.662406</td>\n",
       "      <td>54.556072</td>\n",
       "      <td>1777.953131</td>\n",
       "      <td>0</td>\n",
       "    </tr>\n",
       "  </tbody>\n",
       "</table>\n",
       "</div>"
      ],
      "text/plain": [
       "                  income        age         loan  c#default\n",
       "i#clientid                                                 \n",
       "747         45622.290710  41.632545   528.181250          0\n",
       "881         67730.443696  26.303147  8881.583636          1\n",
       "619         29668.320720  38.683740  2042.436463          0\n",
       "1831        53812.226483  44.919152  3245.041667          0\n",
       "1146        49032.662406  54.556072  1777.953131          0"
      ]
     },
     "execution_count": 17,
     "metadata": {},
     "output_type": "execute_result"
    }
   ],
   "source": [
    "sample.df_stf_sample.tail()"
   ]
  },
  {
   "cell_type": "code",
   "execution_count": 18,
   "metadata": {},
   "outputs": [
    {
     "data": {
      "text/plain": [
       "0    858.5\n",
       "1    141.5\n",
       "Name: c#default, dtype: float64"
      ]
     },
     "execution_count": 18,
     "metadata": {},
     "output_type": "execute_result"
    }
   ],
   "source": [
    "df_pop['c#default'].value_counts() / len(df_pop) * 1000"
   ]
  },
  {
   "cell_type": "code",
   "execution_count": 19,
   "metadata": {},
   "outputs": [
    {
     "data": {
      "text/plain": [
       "0    858\n",
       "1    142\n",
       "Name: c#default, dtype: int64"
      ]
     },
     "execution_count": 19,
     "metadata": {},
     "output_type": "execute_result"
    }
   ],
   "source": [
    "df_stf_sample['c#default'].value_counts()"
   ]
  },
  {
   "cell_type": "markdown",
   "metadata": {},
   "source": [
    "---\n",
    "### Reservoir Sample"
   ]
  },
  {
   "cell_type": "code",
   "execution_count": 20,
   "metadata": {},
   "outputs": [
    {
     "data": {
      "text/plain": [
       "(1000, 4)"
      ]
     },
     "execution_count": 20,
     "metadata": {},
     "output_type": "execute_result"
    }
   ],
   "source": [
    "df_res_sample = sample.reservoir_sample(df_pop, 1000)\n",
    "df_res_sample.shape"
   ]
  },
  {
   "cell_type": "code",
   "execution_count": 21,
   "metadata": {},
   "outputs": [
    {
     "data": {
      "text/html": [
       "<div>\n",
       "<style scoped>\n",
       "    .dataframe tbody tr th:only-of-type {\n",
       "        vertical-align: middle;\n",
       "    }\n",
       "\n",
       "    .dataframe tbody tr th {\n",
       "        vertical-align: top;\n",
       "    }\n",
       "\n",
       "    .dataframe thead th {\n",
       "        text-align: right;\n",
       "    }\n",
       "</style>\n",
       "<table border=\"1\" class=\"dataframe\">\n",
       "  <thead>\n",
       "    <tr style=\"text-align: right;\">\n",
       "      <th></th>\n",
       "      <th>income</th>\n",
       "      <th>age</th>\n",
       "      <th>loan</th>\n",
       "      <th>c#default</th>\n",
       "    </tr>\n",
       "    <tr>\n",
       "      <th>i#clientid</th>\n",
       "      <th></th>\n",
       "      <th></th>\n",
       "      <th></th>\n",
       "      <th></th>\n",
       "    </tr>\n",
       "  </thead>\n",
       "  <tbody>\n",
       "    <tr>\n",
       "      <th>547</th>\n",
       "      <td>53719.651110</td>\n",
       "      <td>42.890102</td>\n",
       "      <td>1670.737893</td>\n",
       "      <td>0</td>\n",
       "    </tr>\n",
       "    <tr>\n",
       "      <th>525</th>\n",
       "      <td>66505.775687</td>\n",
       "      <td>25.618241</td>\n",
       "      <td>6571.197021</td>\n",
       "      <td>0</td>\n",
       "    </tr>\n",
       "    <tr>\n",
       "      <th>1068</th>\n",
       "      <td>33274.050271</td>\n",
       "      <td>23.953435</td>\n",
       "      <td>2244.883109</td>\n",
       "      <td>0</td>\n",
       "    </tr>\n",
       "    <tr>\n",
       "      <th>14</th>\n",
       "      <td>27267.995458</td>\n",
       "      <td>61.576776</td>\n",
       "      <td>4759.787581</td>\n",
       "      <td>0</td>\n",
       "    </tr>\n",
       "    <tr>\n",
       "      <th>413</th>\n",
       "      <td>43509.757756</td>\n",
       "      <td>18.075336</td>\n",
       "      <td>7363.037639</td>\n",
       "      <td>1</td>\n",
       "    </tr>\n",
       "  </tbody>\n",
       "</table>\n",
       "</div>"
      ],
      "text/plain": [
       "                  income        age         loan  c#default\n",
       "i#clientid                                                 \n",
       "547         53719.651110  42.890102  1670.737893          0\n",
       "525         66505.775687  25.618241  6571.197021          0\n",
       "1068        33274.050271  23.953435  2244.883109          0\n",
       "14          27267.995458  61.576776  4759.787581          0\n",
       "413         43509.757756  18.075336  7363.037639          1"
      ]
     },
     "execution_count": 21,
     "metadata": {},
     "output_type": "execute_result"
    }
   ],
   "source": [
    "sample.df_res_sample.head()"
   ]
  },
  {
   "cell_type": "code",
   "execution_count": 22,
   "metadata": {},
   "outputs": [
    {
     "data": {
      "text/html": [
       "<div>\n",
       "<style scoped>\n",
       "    .dataframe tbody tr th:only-of-type {\n",
       "        vertical-align: middle;\n",
       "    }\n",
       "\n",
       "    .dataframe tbody tr th {\n",
       "        vertical-align: top;\n",
       "    }\n",
       "\n",
       "    .dataframe thead th {\n",
       "        text-align: right;\n",
       "    }\n",
       "</style>\n",
       "<table border=\"1\" class=\"dataframe\">\n",
       "  <thead>\n",
       "    <tr style=\"text-align: right;\">\n",
       "      <th></th>\n",
       "      <th>income</th>\n",
       "      <th>age</th>\n",
       "      <th>loan</th>\n",
       "      <th>c#default</th>\n",
       "    </tr>\n",
       "    <tr>\n",
       "      <th>i#clientid</th>\n",
       "      <th></th>\n",
       "      <th></th>\n",
       "      <th></th>\n",
       "      <th></th>\n",
       "    </tr>\n",
       "  </thead>\n",
       "  <tbody>\n",
       "    <tr>\n",
       "      <th>1834</th>\n",
       "      <td>28713.830519</td>\n",
       "      <td>54.700846</td>\n",
       "      <td>1936.813257</td>\n",
       "      <td>0</td>\n",
       "    </tr>\n",
       "    <tr>\n",
       "      <th>1579</th>\n",
       "      <td>29849.967144</td>\n",
       "      <td>39.928724</td>\n",
       "      <td>3678.899676</td>\n",
       "      <td>0</td>\n",
       "    </tr>\n",
       "    <tr>\n",
       "      <th>1</th>\n",
       "      <td>66155.925095</td>\n",
       "      <td>59.017015</td>\n",
       "      <td>8106.532131</td>\n",
       "      <td>0</td>\n",
       "    </tr>\n",
       "    <tr>\n",
       "      <th>1</th>\n",
       "      <td>66155.925095</td>\n",
       "      <td>59.017015</td>\n",
       "      <td>8106.532131</td>\n",
       "      <td>0</td>\n",
       "    </tr>\n",
       "    <tr>\n",
       "      <th>1166</th>\n",
       "      <td>67470.117023</td>\n",
       "      <td>52.232637</td>\n",
       "      <td>12715.294721</td>\n",
       "      <td>0</td>\n",
       "    </tr>\n",
       "  </tbody>\n",
       "</table>\n",
       "</div>"
      ],
      "text/plain": [
       "                  income        age          loan  c#default\n",
       "i#clientid                                                  \n",
       "1834        28713.830519  54.700846   1936.813257          0\n",
       "1579        29849.967144  39.928724   3678.899676          0\n",
       "1           66155.925095  59.017015   8106.532131          0\n",
       "1           66155.925095  59.017015   8106.532131          0\n",
       "1166        67470.117023  52.232637  12715.294721          0"
      ]
     },
     "execution_count": 22,
     "metadata": {},
     "output_type": "execute_result"
    }
   ],
   "source": [
    "sample.df_res_sample.tail()"
   ]
  },
  {
   "cell_type": "code",
   "execution_count": 26,
   "metadata": {},
   "outputs": [
    {
     "data": {
      "text/plain": [
       "(1000, 4)"
      ]
     },
     "execution_count": 26,
     "metadata": {},
     "output_type": "execute_result"
    }
   ],
   "source": [
    "df_res_sample = sample.reservoir_sample(df_pop, 1000)\n",
    "df_res_sample.shape"
   ]
  },
  {
   "cell_type": "code",
   "execution_count": 27,
   "metadata": {},
   "outputs": [
    {
     "data": {
      "text/html": [
       "<div>\n",
       "<style scoped>\n",
       "    .dataframe tbody tr th:only-of-type {\n",
       "        vertical-align: middle;\n",
       "    }\n",
       "\n",
       "    .dataframe tbody tr th {\n",
       "        vertical-align: top;\n",
       "    }\n",
       "\n",
       "    .dataframe thead th {\n",
       "        text-align: right;\n",
       "    }\n",
       "</style>\n",
       "<table border=\"1\" class=\"dataframe\">\n",
       "  <thead>\n",
       "    <tr style=\"text-align: right;\">\n",
       "      <th></th>\n",
       "      <th>income</th>\n",
       "      <th>age</th>\n",
       "      <th>loan</th>\n",
       "      <th>c#default</th>\n",
       "    </tr>\n",
       "    <tr>\n",
       "      <th>i#clientid</th>\n",
       "      <th></th>\n",
       "      <th></th>\n",
       "      <th></th>\n",
       "      <th></th>\n",
       "    </tr>\n",
       "  </thead>\n",
       "  <tbody>\n",
       "    <tr>\n",
       "      <th>1797</th>\n",
       "      <td>43052.968562</td>\n",
       "      <td>31.526854</td>\n",
       "      <td>488.937273</td>\n",
       "      <td>0</td>\n",
       "    </tr>\n",
       "    <tr>\n",
       "      <th>325</th>\n",
       "      <td>62040.889629</td>\n",
       "      <td>62.049801</td>\n",
       "      <td>7643.631046</td>\n",
       "      <td>0</td>\n",
       "    </tr>\n",
       "    <tr>\n",
       "      <th>1628</th>\n",
       "      <td>24877.684405</td>\n",
       "      <td>29.823620</td>\n",
       "      <td>1546.422886</td>\n",
       "      <td>0</td>\n",
       "    </tr>\n",
       "    <tr>\n",
       "      <th>126</th>\n",
       "      <td>36116.365092</td>\n",
       "      <td>22.535884</td>\n",
       "      <td>1494.984568</td>\n",
       "      <td>0</td>\n",
       "    </tr>\n",
       "    <tr>\n",
       "      <th>1051</th>\n",
       "      <td>69456.567771</td>\n",
       "      <td>48.053557</td>\n",
       "      <td>13190.365886</td>\n",
       "      <td>0</td>\n",
       "    </tr>\n",
       "  </tbody>\n",
       "</table>\n",
       "</div>"
      ],
      "text/plain": [
       "                  income        age          loan  c#default\n",
       "i#clientid                                                  \n",
       "1797        43052.968562  31.526854    488.937273          0\n",
       "325         62040.889629  62.049801   7643.631046          0\n",
       "1628        24877.684405  29.823620   1546.422886          0\n",
       "126         36116.365092  22.535884   1494.984568          0\n",
       "1051        69456.567771  48.053557  13190.365886          0"
      ]
     },
     "execution_count": 27,
     "metadata": {},
     "output_type": "execute_result"
    }
   ],
   "source": [
    "sample.df_res_sample.head()"
   ]
  },
  {
   "cell_type": "code",
   "execution_count": 28,
   "metadata": {},
   "outputs": [
    {
     "data": {
      "text/html": [
       "<div>\n",
       "<style scoped>\n",
       "    .dataframe tbody tr th:only-of-type {\n",
       "        vertical-align: middle;\n",
       "    }\n",
       "\n",
       "    .dataframe tbody tr th {\n",
       "        vertical-align: top;\n",
       "    }\n",
       "\n",
       "    .dataframe thead th {\n",
       "        text-align: right;\n",
       "    }\n",
       "</style>\n",
       "<table border=\"1\" class=\"dataframe\">\n",
       "  <thead>\n",
       "    <tr style=\"text-align: right;\">\n",
       "      <th></th>\n",
       "      <th>income</th>\n",
       "      <th>age</th>\n",
       "      <th>loan</th>\n",
       "      <th>c#default</th>\n",
       "    </tr>\n",
       "    <tr>\n",
       "      <th>i#clientid</th>\n",
       "      <th></th>\n",
       "      <th></th>\n",
       "      <th></th>\n",
       "      <th></th>\n",
       "    </tr>\n",
       "  </thead>\n",
       "  <tbody>\n",
       "    <tr>\n",
       "      <th>1372</th>\n",
       "      <td>45435.267237</td>\n",
       "      <td>21.042198</td>\n",
       "      <td>2143.386972</td>\n",
       "      <td>0</td>\n",
       "    </tr>\n",
       "    <tr>\n",
       "      <th>1242</th>\n",
       "      <td>34051.528042</td>\n",
       "      <td>35.745652</td>\n",
       "      <td>6224.152886</td>\n",
       "      <td>0</td>\n",
       "    </tr>\n",
       "    <tr>\n",
       "      <th>1509</th>\n",
       "      <td>66274.072898</td>\n",
       "      <td>21.825604</td>\n",
       "      <td>11576.542237</td>\n",
       "      <td>1</td>\n",
       "    </tr>\n",
       "    <tr>\n",
       "      <th>1466</th>\n",
       "      <td>47704.380825</td>\n",
       "      <td>21.840361</td>\n",
       "      <td>2717.079485</td>\n",
       "      <td>0</td>\n",
       "    </tr>\n",
       "    <tr>\n",
       "      <th>1</th>\n",
       "      <td>66155.925095</td>\n",
       "      <td>59.017015</td>\n",
       "      <td>8106.532131</td>\n",
       "      <td>0</td>\n",
       "    </tr>\n",
       "  </tbody>\n",
       "</table>\n",
       "</div>"
      ],
      "text/plain": [
       "                  income        age          loan  c#default\n",
       "i#clientid                                                  \n",
       "1372        45435.267237  21.042198   2143.386972          0\n",
       "1242        34051.528042  35.745652   6224.152886          0\n",
       "1509        66274.072898  21.825604  11576.542237          1\n",
       "1466        47704.380825  21.840361   2717.079485          0\n",
       "1           66155.925095  59.017015   8106.532131          0"
      ]
     },
     "execution_count": 28,
     "metadata": {},
     "output_type": "execute_result"
    }
   ],
   "source": [
    "sample.df_res_sample.tail()"
   ]
  },
  {
   "cell_type": "markdown",
   "metadata": {},
   "source": [
    "---\n",
    "## Samples Comparation"
   ]
  },
  {
   "cell_type": "markdown",
   "metadata": {},
   "source": [
    "### Age"
   ]
  },
  {
   "cell_type": "code",
   "execution_count": 45,
   "metadata": {},
   "outputs": [
    {
     "name": "stdout",
     "output_type": "stream",
     "text": [
      "             Population mean age = 40.81\n",
      "          Random sample mean age = 40.55\n",
      "      Systematic sample mean age = 40.89\n",
      "           Group sample mean age = 40.57\n",
      "        Stratify sample mean age = 40.25\n",
      "       Reservoir sample mean age = 45.23\n"
     ]
    }
   ],
   "source": [
    "print(f'Population mean age = {round(df_pop.age.mean(), 2)}'.rjust(40, \" \"))\n",
    "print(f'Random sample mean age = {round(df_sp_sample.age.mean(), 2)}'.rjust(40, \" \"))\n",
    "print(f'Systematic sample mean age = {round(df_sys_sample.age.mean(), 2)}'.rjust(40, \" \"))\n",
    "print(f'Group sample mean age = {round(df_grp_sample.age.mean(), 2)}'.rjust(40, \" \"))\n",
    "print(f'Stratify sample mean age = {round(df_stf_sample.age.mean(), 2)}'.rjust(40, \" \"))\n",
    "print(f'Reservoir sample mean age = {round(df_res_sample.age.mean(), 2)}'.rjust(40, \" \"))"
   ]
  },
  {
   "cell_type": "code",
   "execution_count": 63,
   "metadata": {},
   "outputs": [
    {
     "name": "stdout",
     "output_type": "stream",
     "text": [
      "Difference between the population age and:\n",
      "      Simple sample 0.25680476639567473\n",
      "      Systematic sample -0.08545411079079201\n",
      "      Group sample 0.23439807910931876\n",
      "      stratify sample 0.5590485436506114\n",
      "      Reservoir sample -4.418495081946311\n"
     ]
    }
   ],
   "source": [
    "sp_age_dif = df_pop.age.mean() - df_sp_sample.age.mean()\n",
    "sys_age_dif = df_pop.age.mean() - df_sys_sample.age.mean()\n",
    "grp_age_dif = df_pop.age.mean() - df_grp_sample.age.mean()\n",
    "stf_age_dif = df_pop.age.mean() - df_stf_sample.age.mean()\n",
    "res_age_dif = df_pop.age.mean() - df_res_sample.age.mean()\n",
    "print(f'Difference between the population age and:\\n\\\n",
    "      Simple sample {sp_age_dif}\\n\\\n",
    "      Systematic sample {sys_age_dif}\\n\\\n",
    "      Group sample {grp_age_dif}\\n\\\n",
    "      stratify sample {stf_age_dif}\\n\\\n",
    "      Reservoir sample {res_age_dif}')"
   ]
  },
  {
   "cell_type": "markdown",
   "metadata": {},
   "source": [
    "---\n",
    "### Income"
   ]
  },
  {
   "cell_type": "code",
   "execution_count": 52,
   "metadata": {},
   "outputs": [
    {
     "name": "stdout",
     "output_type": "stream",
     "text": [
      "        Population mean income = 45331.6\n",
      "    Random sample mean income = 45703.02\n",
      "Systematic sample mean income = 45671.01\n",
      "      Group sample mean income = 45822.4\n",
      "  Stratify sample mean income = 45058.05\n",
      " Reservoir sample mean income = 50675.66\n"
     ]
    }
   ],
   "source": [
    "print(f'Population mean income = {round(df_pop.income.mean(), 2)}'.rjust(40, \" \"))\n",
    "print(f'Random sample mean income = {round(df_sp_sample.income.mean(), 2)}'.rjust(40, \" \"))\n",
    "print(f'Systematic sample mean income = {round(df_sys_sample.income.mean(), 2)}'.rjust(40, \" \"))\n",
    "print(f'Group sample mean income = {round(df_grp_sample.income.mean(), 2)}'.rjust(40, \" \"))\n",
    "print(f'Stratify sample mean income = {round(df_stf_sample.income.mean(), 2)}'.rjust(40, \" \"))\n",
    "print(f'Reservoir sample mean income = {round(df_res_sample.income.mean(), 2)}'.rjust(40, \" \"))"
   ]
  },
  {
   "cell_type": "code",
   "execution_count": 64,
   "metadata": {},
   "outputs": [
    {
     "name": "stdout",
     "output_type": "stream",
     "text": [
      "Difference between the population income and:\n",
      "      Simple sample -371.418907976491\n",
      "      Systematic sample -339.4138216205174\n",
      "      Group sample -490.79736439164117\n",
      "      stratify sample 273.5465766338675\n",
      "      Reservoir sample -5344.057714828428\n"
     ]
    }
   ],
   "source": [
    "sp_income_dif = df_pop.income.mean() - df_sp_sample.income.mean()\n",
    "sys_income_dif = df_pop.income.mean() - df_sys_sample.income.mean()\n",
    "grp_income_dif = df_pop.income.mean() - df_grp_sample.income.mean()\n",
    "stf_income_dif = df_pop.income.mean() - df_stf_sample.income.mean()\n",
    "res_income_dif = df_pop.income.mean() - df_res_sample.income.mean()\n",
    "print(f'Difference between the population income and:\\n\\\n",
    "      Simple sample {sp_income_dif}\\n\\\n",
    "      Systematic sample {sys_income_dif}\\n\\\n",
    "      Group sample {grp_income_dif}\\n\\\n",
    "      stratify sample {stf_income_dif}\\n\\\n",
    "      Reservoir sample {res_income_dif}')"
   ]
  },
  {
   "cell_type": "markdown",
   "metadata": {},
   "source": [
    "---\n",
    "### Loan"
   ]
  },
  {
   "cell_type": "code",
   "execution_count": 51,
   "metadata": {},
   "outputs": [
    {
     "name": "stdout",
     "output_type": "stream",
     "text": [
      "          Population mean loan = 4444.37\n",
      "       Random sample mean loan = 4498.39\n",
      "   Systematic sample mean loan = 4503.18\n",
      "        Group sample mean loan = 4494.61\n",
      "     Stratify sample mean loan = 4426.27\n",
      "    Reservoir sample mean loan = 5263.86\n"
     ]
    }
   ],
   "source": [
    "print(f'Population mean loan = {round(df_pop.loan.mean(), 2)}'.rjust(40, \" \"))\n",
    "print(f'Random sample mean loan = {round(df_sp_sample.loan.mean(), 2)}'.rjust(40, \" \"))\n",
    "print(f'Systematic sample mean loan = {round(df_sys_sample.loan.mean(), 2)}'.rjust(40, \" \"))\n",
    "print(f'Group sample mean loan = {round(df_grp_sample.loan.mean(), 2)}'.rjust(40, \" \"))\n",
    "print(f'Stratify sample mean loan = {round(df_stf_sample.loan.mean(), 2)}'.rjust(40, \" \"))\n",
    "print(f'Reservoir sample mean loan = {round(df_res_sample.loan.mean(), 2)}'.rjust(40, \" \"))"
   ]
  },
  {
   "cell_type": "code",
   "execution_count": 65,
   "metadata": {},
   "outputs": [
    {
     "name": "stdout",
     "output_type": "stream",
     "text": [
      "Difference between the population loan and:\n",
      "      Simple sample -54.01909530442845\n",
      "      Systematic sample -58.81493423570464\n",
      "      Group sample -50.239679829896886\n",
      "      stratify sample 18.102045979438117\n",
      "      Reservoir sample -819.4865086518721\n"
     ]
    }
   ],
   "source": [
    "sp_loan_dif = df_pop.loan.mean() - df_sp_sample.loan.mean()\n",
    "sys_loan_dif = df_pop.loan.mean() - df_sys_sample.loan.mean()\n",
    "grp_loan_dif = df_pop.loan.mean() - df_grp_sample.loan.mean()\n",
    "stf_loan_dif = df_pop.loan.mean() - df_stf_sample.loan.mean()\n",
    "res_loan_dif = df_pop.loan.mean() - df_res_sample.loan.mean()\n",
    "print(f'Difference between the population loan and:\\n\\\n",
    "      Simple sample {sp_loan_dif}\\n\\\n",
    "      Systematic sample {sys_loan_dif}\\n\\\n",
    "      Group sample {grp_loan_dif}\\n\\\n",
    "      stratify sample {stf_loan_dif}\\n\\\n",
    "      Reservoir sample {res_loan_dif}')"
   ]
  }
 ],
 "metadata": {
  "kernelspec": {
   "display_name": "Python 3",
   "language": "python",
   "name": "python3"
  },
  "language_info": {
   "codemirror_mode": {
    "name": "ipython",
    "version": 3
   },
   "file_extension": ".py",
   "mimetype": "text/x-python",
   "name": "python",
   "nbconvert_exporter": "python",
   "pygments_lexer": "ipython3",
   "version": "3.7.6"
  }
 },
 "nbformat": 4,
 "nbformat_minor": 4
}
