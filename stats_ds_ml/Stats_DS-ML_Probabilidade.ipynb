{
 "cells": [
  {
   "cell_type": "markdown",
   "metadata": {},
   "source": [
    "# Probabilidade\n",
    "## Importações"
   ]
  },
  {
   "cell_type": "code",
   "execution_count": 1,
   "metadata": {},
   "outputs": [],
   "source": [
    "import numpy as np\n",
    "import seaborn as sns\n",
    "\n",
    "from scipy import stats"
   ]
  },
  {
   "cell_type": "markdown",
   "metadata": {},
   "source": [
    "## Permutação"
   ]
  },
  {
   "cell_type": "code",
   "execution_count": 2,
   "metadata": {},
   "outputs": [],
   "source": [
    "import math"
   ]
  },
  {
   "cell_type": "code",
   "execution_count": 3,
   "metadata": {},
   "outputs": [
    {
     "data": {
      "text/plain": [
       "6"
      ]
     },
     "execution_count": 3,
     "metadata": {},
     "output_type": "execute_result"
    }
   ],
   "source": [
    "math.factorial(3)"
   ]
  },
  {
   "cell_type": "markdown",
   "metadata": {},
   "source": [
    "### Permutação para subconjuntos\n",
    "- Criar uma senha com 5 caracteres, que pode ser composto por letras e números de 0 até 9\n",
    "- Números e letras $NÃO$ $PODEM$ ser repetidos\n",
    "- Evento: 5 caracteres\n",
    "- Espaço amostral: 26 letras + 10 dígitos = 36"
   ]
  },
  {
   "cell_type": "code",
   "execution_count": 4,
   "metadata": {},
   "outputs": [
    {
     "data": {
      "text/plain": [
       "45239040.0"
      ]
     },
     "execution_count": 4,
     "metadata": {},
     "output_type": "execute_result"
    }
   ],
   "source": [
    "math.factorial(36) / math.factorial(36 - 5)"
   ]
  },
  {
   "cell_type": "markdown",
   "metadata": {},
   "source": [
    "- Criar uma senha com 5 caracteres, que pode ser composto por letras e números de 0 até 9\n",
    "- Números e letras $PODEM$ ser repetidos\n",
    "- Evento: 5 caracteres\n",
    "- Espaço amostral: 26 letras + 10 dígitos = 36\n",
    "- <big>${n^r = 36^5 = 60.466.176}$</big>"
   ]
  },
  {
   "cell_type": "code",
   "execution_count": 5,
   "metadata": {},
   "outputs": [
    {
     "data": {
      "text/plain": [
       "60466176.0"
      ]
     },
     "execution_count": 5,
     "metadata": {},
     "output_type": "execute_result"
    }
   ],
   "source": [
    "math.pow(36, 5)"
   ]
  },
  {
   "cell_type": "markdown",
   "metadata": {},
   "source": [
    "### Combinação\n",
    "\n",
    "- Número possível de arranjos em uma coleção (a ordem não importa como na permutação)\n",
    "- Quantas combinações de 2 letras podem ser feitas com $ABCDEF$?\n",
    "- $DESCONSIDERANDO$ repetições\n",
    "- n = 2 letras\n",
    "- r = 6 coleção\n",
    "---\n",
    "\n",
    "- <big>${C_{(nr)}=\\frac{n!}{r!(n-r)!}}$</big>\n",
    "\n",
    "\n",
    "- <big>${C_{(nr)}=\\frac{6!}{2!(6-2)!}=15}$</big>"
   ]
  },
  {
   "cell_type": "code",
   "execution_count": 6,
   "metadata": {},
   "outputs": [
    {
     "data": {
      "text/plain": [
       "15.0"
      ]
     },
     "execution_count": 6,
     "metadata": {},
     "output_type": "execute_result"
    }
   ],
   "source": [
    "n = 2\n",
    "r = 6\n",
    "math.factorial(r) / (math.factorial(n) * math.factorial(r - n))"
   ]
  },
  {
   "cell_type": "markdown",
   "metadata": {},
   "source": [
    "- Número possível de arranjos em uma coleção (a ordem não importa como na permutação)\n",
    "- Quantas combinações de 2 letras podem ser feitas com $ABCDEF$?\n",
    "- $CONSIDERANDO$ repetições\n",
    "- n = 2 letras\n",
    "- r = 6 coleção\n",
    "---\n",
    "- <big>${C_{(nr)}=\\frac{(n+r-1)!}{r!(n-1)!}}$</big>\n",
    "\n",
    "\n",
    "- <big>${C_{(nr)}=\\frac{(2 + 6 -1 )!}{2!(6-2)!}=105}$</big>"
   ]
  },
  {
   "cell_type": "code",
   "execution_count": 7,
   "metadata": {},
   "outputs": [
    {
     "data": {
      "text/plain": [
       "105.0"
      ]
     },
     "execution_count": 7,
     "metadata": {},
     "output_type": "execute_result"
    }
   ],
   "source": [
    "n = 2\n",
    "r = 6\n",
    "math.factorial(n + r - 1) / (math.factorial(n) * math.factorial(r - n))"
   ]
  },
  {
   "cell_type": "markdown",
   "metadata": {},
   "source": [
    "## Conjunto"
   ]
  },
  {
   "cell_type": "code",
   "execution_count": 8,
   "metadata": {},
   "outputs": [],
   "source": [
    "a = (0,1,2,3,4,5,6,7)\n",
    "b = (0,2,4,6,8)"
   ]
  },
  {
   "cell_type": "markdown",
   "metadata": {},
   "source": [
    "### Interseção"
   ]
  },
  {
   "cell_type": "code",
   "execution_count": 9,
   "metadata": {},
   "outputs": [
    {
     "data": {
      "text/plain": [
       "({0, 2, 4, 6}, {0, 2, 4, 6, 8})"
      ]
     },
     "execution_count": 9,
     "metadata": {},
     "output_type": "execute_result"
    }
   ],
   "source": [
    "# CORRETO ======== INCORRETO #\n",
    "set(a) & set(b), set(a) and set(b)"
   ]
  },
  {
   "cell_type": "code",
   "execution_count": 10,
   "metadata": {},
   "outputs": [
    {
     "data": {
      "text/plain": [
       "{0, 2, 4, 6}"
      ]
     },
     "execution_count": 10,
     "metadata": {},
     "output_type": "execute_result"
    }
   ],
   "source": [
    "set(a).intersection(b)"
   ]
  },
  {
   "cell_type": "markdown",
   "metadata": {},
   "source": [
    "### União"
   ]
  },
  {
   "cell_type": "code",
   "execution_count": 11,
   "metadata": {},
   "outputs": [
    {
     "data": {
      "text/plain": [
       "({0, 1, 2, 3, 4, 5, 6, 7, 8}, {0, 1, 2, 3, 4, 5, 6, 7})"
      ]
     },
     "execution_count": 11,
     "metadata": {},
     "output_type": "execute_result"
    }
   ],
   "source": [
    "# CORRETO ======== INCORRETO #\n",
    "set(a) | set(b), set(a) or set(b)"
   ]
  },
  {
   "cell_type": "code",
   "execution_count": 12,
   "metadata": {},
   "outputs": [
    {
     "data": {
      "text/plain": [
       "{0, 1, 2, 3, 4, 5, 6, 7, 8}"
      ]
     },
     "execution_count": 12,
     "metadata": {},
     "output_type": "execute_result"
    }
   ],
   "source": [
    "set(a + b)"
   ]
  },
  {
   "cell_type": "code",
   "execution_count": 13,
   "metadata": {},
   "outputs": [
    {
     "data": {
      "text/plain": [
       "{0, 1, 2, 3, 4, 5, 6, 7, 8}"
      ]
     },
     "execution_count": 13,
     "metadata": {},
     "output_type": "execute_result"
    }
   ],
   "source": [
    "set(a).union(b)"
   ]
  },
  {
   "cell_type": "markdown",
   "metadata": {},
   "source": [
    "### Diferença"
   ]
  },
  {
   "cell_type": "code",
   "execution_count": 14,
   "metadata": {},
   "outputs": [
    {
     "data": {
      "text/plain": [
       "{1, 3, 5, 7}"
      ]
     },
     "execution_count": 14,
     "metadata": {},
     "output_type": "execute_result"
    }
   ],
   "source": [
    "set(a).difference(set(b))"
   ]
  },
  {
   "cell_type": "code",
   "execution_count": 15,
   "metadata": {},
   "outputs": [
    {
     "data": {
      "text/plain": [
       "{1, 3, 5, 7}"
      ]
     },
     "execution_count": 15,
     "metadata": {},
     "output_type": "execute_result"
    }
   ],
   "source": [
    "set(a) - set(b)"
   ]
  },
  {
   "cell_type": "code",
   "execution_count": 16,
   "metadata": {},
   "outputs": [
    {
     "data": {
      "text/plain": [
       "{8}"
      ]
     },
     "execution_count": 16,
     "metadata": {},
     "output_type": "execute_result"
    }
   ],
   "source": [
    "set(b).difference(set(a))"
   ]
  },
  {
   "cell_type": "code",
   "execution_count": 17,
   "metadata": {},
   "outputs": [
    {
     "data": {
      "text/plain": [
       "{8}"
      ]
     },
     "execution_count": 17,
     "metadata": {},
     "output_type": "execute_result"
    }
   ],
   "source": [
    "set(b) - set(a)"
   ]
  },
  {
   "cell_type": "markdown",
   "metadata": {},
   "source": [
    "## Eventos Independentes\n",
    "\n",
    "- O resultado de um evento $NÃO$ influencia na resposta do outro evento\n",
    "- Jogar uma moeda 2 vezes (as chances são as independentes)\n",
    "- Calcular a probabilidade de obter 2 \"coroas\" em duas tentativas\n",
    "---\n",
    "\n",
    "- <big>${P = \\frac{1}{2}.\\frac{1}{2}}$</big>\n",
    "\n",
    "\n",
    "- <big>${P = \\frac{1}{4}=0.25=(25\\%) }$</big>\n",
    "\n",
    "---"
   ]
  },
  {
   "cell_type": "markdown",
   "metadata": {},
   "source": [
    "## Eventos Dependentes\n",
    "\n",
    "- O resultado de um evento $INFLUENCIA$ na resposta do outro evento\n",
    "- Um baralho possui 52 cartas e 13 dessas são de \"espada\"\n",
    "- Qual a probabilidade de tirar 2 cartas de espada?\n",
    "---\n",
    "\n",
    "- <big>${P = \\frac{13}{52}.\\frac{12}{51}}$</big>\n",
    "\n",
    "\n",
    "- <big>${P = \\frac{156}{2652}=0.05=(5,88\\%) }$</big>\n",
    "---"
   ]
  },
  {
   "cell_type": "markdown",
   "metadata": {},
   "source": [
    "## Probabilidade Condicional\n",
    "\n",
    "Calcular a probabilidade do evento A, dado que o evento B ocorreu\n",
    "\n",
    "\n",
    "- ${P(a|b) = x}$, pode ser lido como: \"Dado o evento $b$, a probabilidade do evento $a$ é $x$\"\n",
    "\n",
    "\n",
    "- <big>${P(A|B) = \\frac{P(A \\cap B)}{P(B)}}$</big>\n",
    "\n",
    "\n",
    "- <big>${P(A|B) = \\frac{P(A \\cap B)}{P(B)}}$</big>, ou ${P(a|b).P(b) = P(a,b).P(a,b)}$ é a probabilidade do evento conjunto ${a \\wedge b}$\n",
    "---\n",
    "\n",
    "Exemplos\n",
    "- ${P(Cárie|Dor) = 0.8}$, indica que caso um paciente esteja com dor (de dente) e nenhuma outra informação esteja disponível, então, a probabilidade do paciente ter uma cárie é de $0.8$ \n",
    "---\n",
    " \n",
    "Em um grupo de 90 pessoas, 40 compraram o livro de Python, 30 compraram o livro de Java e 20 compraram o livro de Python e também o livro de Java. Se escolhermos uma pessoa que comprou o livro de Python, qual a probabilidade desta pessoa ter comprado o livro de Java também?    \n",
    "    \n",
    "\n",
    "- <big>${P(B|A) = \\frac{P(A \\cap B)}{P(A)}}$</big>\n",
    "\n",
    "\n",
    "- ${P(A \\cap B) = 20}$\n",
    "\n",
    "- ${P(A) = 40}$\n",
    "\n",
    "\n",
    "- <big>${P(B|A) = \\frac{20}{40} = 0.5 = (50\\%)}$</big>\n",
    "---"
   ]
  },
  {
   "cell_type": "markdown",
   "metadata": {},
   "source": [
    "### Probabilidade Condicional - Adição\n",
    "\n",
    "Selecionar um elemento randomicamente, qual a probabilidade de comprar o livro de Python ou de Java?\n",
    "\n",
    "\n",
    "- ${P(A \\cup B) = P(A) + P(B) - P(A \\cap B)}$\n",
    "\n",
    "\n",
    "- <big>${P(A) = \\frac{40}{90}}$</big>\n",
    "\n",
    "\n",
    "- <big>${P(B) = \\frac{30}{90}}$</big>\n",
    "\n",
    "\n",
    "- <big>${P(A \\cup B) = \\frac{20}{90}}$</big>\n",
    "\n",
    "\n",
    "- <big>${P(A \\cup B) = \\frac{40}{90} + \\frac{30}{90} - \\frac{20}{90}}$</big>\n",
    "\n",
    "\n",
    "- ${P(A \\cup B) = 0,4 + 0,3 - 0,2}$\n",
    "\n",
    "\n",
    "- ${P(A \\cup B) = 0,5}$\n",
    "---"
   ]
  },
  {
   "cell_type": "markdown",
   "metadata": {},
   "source": [
    "## Redes Bayesianas\n",
    "\n",
    "- Probabilidade condicional\n",
    "\n",
    "    - ${P(a|b)=x}$, pode ser lido como: \"Dado o evento $b$, a probabilidade do evento $a$ é $x$\".\n",
    "    \n",
    "    - ${P(a|b)=\\frac{P(a,b)}{P(b)}}$, ou ${P(a|b).P(b) = P(a,b).P(a,b)}$ é a probabilidade do evento conjunto do evento ${a \\wedge b}$.\n",
    "---    \n",
    "    \n",
    "- Exemplo 1\n",
    "\n",
    "    - ${P(Cárie|Dor) = 0.8}$, indica que caso um paciente esteja com dor (de dente) e nenhuma outra informação esteja disponível, então, a probabilidade do paciente ter uma cárie é de $0.8$ \n",
    "---\n",
    "    \n",
    "    \n",
    "- Exemplo 2\n",
    "\n",
    "    - Um médico sabe que a menigite causa torcicolo em $50%$ dos casos. Porém, o médico também conhece algumas probabilidades incondicionais que dizem que, um caso de meningite atinge $1/50000 $ pessoas e, a probabilidade de alguém ter torcicolo é de $1/20$.    \n",
    "    \n",
    "    - $T$ e $M$, é probabilidade incondicional de um paciente ter torcicolo e a probabilidade incondicional de um paciente ter meningite.\n",
    "    \n",
    "        - ${P(T|M) = 0.5}$ (probabilidade de ter torcicolo tendo meningite)\n",
    "        \n",
    "        - ${P(M) = \\frac{1}{50000}}$\n",
    "        \n",
    "        - ${P(T) = \\frac{1}{20}}$\n",
    "--- \n",
    "\n",
    "- Aplicando a fórmula\n",
    "\n",
    "    - ${P(T|M) = \\frac{(P(T|M).P(M))}{P(T)}}$\n",
    "\n",
    "    - ${P(T|M) = \\frac{(0,5 . \\frac{1}{50000})}{\\frac{1}{20}}}$\n",
    "    \n",
    "    - ${P(T|M) = 0,0002}$\n",
    "---"
   ]
  },
  {
   "cell_type": "markdown",
   "metadata": {},
   "source": [
    "### Exercícios\n",
    "\n",
    "- Dado o lançamento de um dado\n",
    "- Probabilidade de obter um número par"
   ]
  },
  {
   "cell_type": "code",
   "execution_count": 22,
   "metadata": {},
   "outputs": [],
   "source": [
    "def indep_event(target: list, space: list, event: int = 1) -> float:\n",
    "    p = 1\n",
    "    target = len(target)\n",
    "    space = len(space)\n",
    "    \n",
    "    for i in range(event):\n",
    "        p *= target / space\n",
    "        \n",
    "    return p"
   ]
  },
  {
   "cell_type": "code",
   "execution_count": 34,
   "metadata": {},
   "outputs": [],
   "source": [
    "def dep_event(target: list, space: list, event: int = 1) -> float:\n",
    "    p = 1\n",
    "    target = len(target)\n",
    "    space = len(space)\n",
    "    \n",
    "    for i in range(event):\n",
    "        p *= (target - i) / (space - 1)\n",
    "        \n",
    "    return p"
   ]
  },
  {
   "cell_type": "code",
   "execution_count": 20,
   "metadata": {},
   "outputs": [
    {
     "data": {
      "text/plain": [
       "([2, 4, 6], [1, 2, 3, 4, 5, 6])"
      ]
     },
     "execution_count": 20,
     "metadata": {},
     "output_type": "execute_result"
    }
   ],
   "source": [
    "target = [2,4,6] # Números pares do dado \n",
    "space =[1,2,3,4,5,6] # Todos os números do dado\n",
    "event, space"
   ]
  },
  {
   "cell_type": "code",
   "execution_count": 21,
   "metadata": {},
   "outputs": [
    {
     "name": "stdout",
     "output_type": "stream",
     "text": [
      "25.0%\n"
     ]
    }
   ],
   "source": [
    "print(f'{indep_event(target, space)*100}%')"
   ]
  },
  {
   "cell_type": "markdown",
   "metadata": {},
   "source": [
    "- Probabilidade de obter um número menor do que 6"
   ]
  },
  {
   "cell_type": "code",
   "execution_count": 24,
   "metadata": {},
   "outputs": [
    {
     "data": {
      "text/plain": [
       "([1, 2, 3, 4, 5], [1, 2, 3, 4, 5, 6])"
      ]
     },
     "execution_count": 24,
     "metadata": {},
     "output_type": "execute_result"
    }
   ],
   "source": [
    "target = [1,2,3,4,5] # Números do dado menores que 6\n",
    "space = [1,2,3,4,5,6] # Todos os números do dado\n",
    "target, space"
   ]
  },
  {
   "cell_type": "code",
   "execution_count": 27,
   "metadata": {},
   "outputs": [
    {
     "name": "stdout",
     "output_type": "stream",
     "text": [
      "83.33333333333334%\n"
     ]
    }
   ],
   "source": [
    "print(f'{indep_event(target, space)*100}%')"
   ]
  },
  {
   "cell_type": "markdown",
   "metadata": {},
   "source": [
    "- Um baralho possui 52 cartas e 13 dessas são de \"espada\". Qual a probabilidade de tirar 5 cartas de espadas sem reposição?"
   ]
  },
  {
   "cell_type": "code",
   "execution_count": 33,
   "metadata": {},
   "outputs": [
    {
     "name": "stdout",
     "output_type": "stream",
     "text": [
      "[1, 2, 3, 4, 5, 6, 7, 8, 9, 10, 11, 12, 13]\n",
      "[1, 2, 3, 4, 5, 6, 7, 8, 9, 10, 11, 12, 13, 14, 15, 16, 17, 18, 19, 20, 21, 22, 23, 24, 25, 26, 27, 28, 29, 30, 31, 32, 33, 34, 35, 36, 37, 38, 39, 40, 41, 42, 43, 44, 45, 46, 47, 48, 49, 50, 51, 52]\n"
     ]
    }
   ],
   "source": [
    "target = list(range(1,14)) # Quantidade de cartas \"espadas\"\n",
    "space = list(range(1,53)) # Total de cartas no baralho\n",
    "print(target, space, sep='\\n')"
   ]
  },
  {
   "cell_type": "code",
   "execution_count": 41,
   "metadata": {},
   "outputs": [
    {
     "name": "stdout",
     "output_type": "stream",
     "text": [
      "0.044761941206442314%\n"
     ]
    }
   ],
   "source": [
    "print(f'{dep_event(target, space, 5)*100}%')"
   ]
  },
  {
   "cell_type": "markdown",
   "metadata": {},
   "source": [
    "- Em um grupo de 90 pessoas, 40 compraram o livro de Python, 30 compraram o livro de Java e 20 compraram o livro de Python e também o livro de Java. Se escolhermos uma pessoa que comprou o livro de Java, qual a probabilidade desta pessoa ter comprado o livro de Python também?"
   ]
  },
  {
   "cell_type": "code",
   "execution_count": 44,
   "metadata": {},
   "outputs": [
    {
     "name": "stdout",
     "output_type": "stream",
     "text": [
      "[1, 2, 3, 4, 5, 6, 7, 8, 9, 10, 11, 12, 13, 14, 15, 16, 17, 18, 19, 20]\n",
      "[1, 2, 3, 4, 5, 6, 7, 8, 9, 10, 11, 12, 13, 14, 15, 16, 17, 18, 19, 20, 21, 22, 23, 24, 25, 26, 27, 28, 29, 30]\n"
     ]
    }
   ],
   "source": [
    "target = list(range(1, 21)) # Pessoas que compraram os 2 livros\n",
    "space = list(range(1,31)) # Pessoas que compraram só o de Java\n",
    "print(target, space, sep='\\n')"
   ]
  },
  {
   "cell_type": "code",
   "execution_count": 45,
   "metadata": {},
   "outputs": [
    {
     "name": "stdout",
     "output_type": "stream",
     "text": [
      "66.66666666666666%\n"
     ]
    }
   ],
   "source": [
    "print(f'{indep_event(target, space)*100}%')"
   ]
  }
 ],
 "metadata": {
  "kernelspec": {
   "display_name": "Python 3",
   "language": "python",
   "name": "python3"
  },
  "language_info": {
   "codemirror_mode": {
    "name": "ipython",
    "version": 3
   },
   "file_extension": ".py",
   "mimetype": "text/x-python",
   "name": "python",
   "nbconvert_exporter": "python",
   "pygments_lexer": "ipython3",
   "version": "3.7.6"
  }
 },
 "nbformat": 4,
 "nbformat_minor": 4
}
