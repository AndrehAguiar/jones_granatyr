{
 "cells": [
  {
   "cell_type": "markdown",
   "metadata": {},
   "source": [
    "# Probabilidade\n",
    "## Importações"
   ]
  },
  {
   "cell_type": "code",
   "execution_count": 1,
   "metadata": {},
   "outputs": [],
   "source": [
    "import numpy as np\n",
    "import seaborn as sns\n",
    "\n",
    "from scipy import stats"
   ]
  },
  {
   "cell_type": "markdown",
   "metadata": {},
   "source": [
    "## Permutação"
   ]
  },
  {
   "cell_type": "code",
   "execution_count": 2,
   "metadata": {},
   "outputs": [],
   "source": [
    "import math"
   ]
  },
  {
   "cell_type": "code",
   "execution_count": 3,
   "metadata": {},
   "outputs": [
    {
     "data": {
      "text/plain": [
       "6"
      ]
     },
     "execution_count": 3,
     "metadata": {},
     "output_type": "execute_result"
    }
   ],
   "source": [
    "math.factorial(3)"
   ]
  },
  {
   "cell_type": "markdown",
   "metadata": {},
   "source": [
    "### Permutação para subconjuntos\n",
    "- Criar uma senha com 5 caracteres, que pode ser composto por letras e números de 0 até 9\n",
    "- Números e letras $NÃO$ $PODEM$ ser repetidos\n",
    "- Evento: 5 caracteres\n",
    "- Espaço amostral: 26 letras + 10 dígitos = 36"
   ]
  },
  {
   "cell_type": "code",
   "execution_count": 4,
   "metadata": {},
   "outputs": [
    {
     "data": {
      "text/plain": [
       "45239040.0"
      ]
     },
     "execution_count": 4,
     "metadata": {},
     "output_type": "execute_result"
    }
   ],
   "source": [
    "math.factorial(36) / math.factorial(36 - 5)"
   ]
  },
  {
   "cell_type": "markdown",
   "metadata": {},
   "source": [
    "- Criar uma senha com 5 caracteres, que pode ser composto por letras e números de 0 até 9\n",
    "- Números e letras $PODEM$ ser repetidos\n",
    "- Evento: 5 caracteres\n",
    "- Espaço amostral: 26 letras + 10 dígitos = 36\n",
    "- <big>${n^r = 36^5 = 60.466.176}$</big>"
   ]
  },
  {
   "cell_type": "code",
   "execution_count": 5,
   "metadata": {},
   "outputs": [
    {
     "data": {
      "text/plain": [
       "60466176.0"
      ]
     },
     "execution_count": 5,
     "metadata": {},
     "output_type": "execute_result"
    }
   ],
   "source": [
    "math.pow(36, 5)"
   ]
  },
  {
   "cell_type": "markdown",
   "metadata": {},
   "source": [
    "### Combinação\n",
    "\n",
    "- Número possível de arranjos em uma coleção (a ordem não importa como na permutação)\n",
    "- Quantas combinações de 2 letras podem ser feitas com $ABCDEF$?\n",
    "- $DESCONSIDERANDO$ repetições\n",
    "- n = 2 letras\n",
    "- r = 6 coleção\n",
    "---\n",
    "\n",
    "- <big>${C_{(nr)}=\\frac{n!}{r!(n-r)!}}$</big>\n",
    "\n",
    "\n",
    "- <big>${C_{(nr)}=\\frac{6!}{2!(6-2)!}=15}$</big>"
   ]
  },
  {
   "cell_type": "code",
   "execution_count": 6,
   "metadata": {},
   "outputs": [
    {
     "data": {
      "text/plain": [
       "15.0"
      ]
     },
     "execution_count": 6,
     "metadata": {},
     "output_type": "execute_result"
    }
   ],
   "source": [
    "n = 2\n",
    "r = 6\n",
    "math.factorial(r) / (math.factorial(n) * math.factorial(r - n))"
   ]
  },
  {
   "cell_type": "markdown",
   "metadata": {},
   "source": [
    "- Número possível de arranjos em uma coleção (a ordem não importa como na permutação)\n",
    "- Quantas combinações de 2 letras podem ser feitas com $ABCDEF$?\n",
    "- $CONSIDERANDO$ repetições\n",
    "- n = 2 letras\n",
    "- r = 6 coleção\n",
    "---\n",
    "- <big>${C_{(nr)}=\\frac{(n+r-1)!}{r!(n-1)!}}$</big>\n",
    "\n",
    "\n",
    "- <big>${C_{(nr)}=\\frac{(2 + 6 -1 )!}{2!(6-2)!}=105}$</big>"
   ]
  },
  {
   "cell_type": "code",
   "execution_count": 7,
   "metadata": {},
   "outputs": [
    {
     "data": {
      "text/plain": [
       "105.0"
      ]
     },
     "execution_count": 7,
     "metadata": {},
     "output_type": "execute_result"
    }
   ],
   "source": [
    "n = 2\n",
    "r = 6\n",
    "math.factorial(n + r - 1) / (math.factorial(n) * math.factorial(r - n))"
   ]
  },
  {
   "cell_type": "markdown",
   "metadata": {},
   "source": [
    "## Conjunto"
   ]
  },
  {
   "cell_type": "code",
   "execution_count": 8,
   "metadata": {},
   "outputs": [],
   "source": [
    "a = (0,1,2,3,4,5,6,7)\n",
    "b = (0,2,4,6,8)"
   ]
  },
  {
   "cell_type": "markdown",
   "metadata": {},
   "source": [
    "### Interseção"
   ]
  },
  {
   "cell_type": "code",
   "execution_count": 9,
   "metadata": {},
   "outputs": [
    {
     "data": {
      "text/plain": [
       "({0, 2, 4, 6}, {0, 2, 4, 6, 8})"
      ]
     },
     "execution_count": 9,
     "metadata": {},
     "output_type": "execute_result"
    }
   ],
   "source": [
    "# CORRETO ======== INCORRETO #\n",
    "set(a) & set(b), set(a) and set(b)"
   ]
  },
  {
   "cell_type": "code",
   "execution_count": 10,
   "metadata": {},
   "outputs": [
    {
     "data": {
      "text/plain": [
       "{0, 2, 4, 6}"
      ]
     },
     "execution_count": 10,
     "metadata": {},
     "output_type": "execute_result"
    }
   ],
   "source": [
    "set(a).intersection(b)"
   ]
  },
  {
   "cell_type": "markdown",
   "metadata": {},
   "source": [
    "### União"
   ]
  },
  {
   "cell_type": "code",
   "execution_count": 11,
   "metadata": {},
   "outputs": [
    {
     "data": {
      "text/plain": [
       "({0, 1, 2, 3, 4, 5, 6, 7, 8}, {0, 1, 2, 3, 4, 5, 6, 7})"
      ]
     },
     "execution_count": 11,
     "metadata": {},
     "output_type": "execute_result"
    }
   ],
   "source": [
    "# CORRETO ======== INCORRETO #\n",
    "set(a) | set(b), set(a) or set(b)"
   ]
  },
  {
   "cell_type": "code",
   "execution_count": 12,
   "metadata": {},
   "outputs": [
    {
     "data": {
      "text/plain": [
       "{0, 1, 2, 3, 4, 5, 6, 7, 8}"
      ]
     },
     "execution_count": 12,
     "metadata": {},
     "output_type": "execute_result"
    }
   ],
   "source": [
    "set(a + b)"
   ]
  },
  {
   "cell_type": "code",
   "execution_count": 13,
   "metadata": {},
   "outputs": [
    {
     "data": {
      "text/plain": [
       "{0, 1, 2, 3, 4, 5, 6, 7, 8}"
      ]
     },
     "execution_count": 13,
     "metadata": {},
     "output_type": "execute_result"
    }
   ],
   "source": [
    "set(a).union(b)"
   ]
  },
  {
   "cell_type": "markdown",
   "metadata": {},
   "source": [
    "### Diferença"
   ]
  },
  {
   "cell_type": "code",
   "execution_count": 14,
   "metadata": {},
   "outputs": [
    {
     "data": {
      "text/plain": [
       "{1, 3, 5, 7}"
      ]
     },
     "execution_count": 14,
     "metadata": {},
     "output_type": "execute_result"
    }
   ],
   "source": [
    "set(a).difference(set(b))"
   ]
  },
  {
   "cell_type": "code",
   "execution_count": 15,
   "metadata": {},
   "outputs": [
    {
     "data": {
      "text/plain": [
       "{1, 3, 5, 7}"
      ]
     },
     "execution_count": 15,
     "metadata": {},
     "output_type": "execute_result"
    }
   ],
   "source": [
    "set(a) - set(b)"
   ]
  },
  {
   "cell_type": "code",
   "execution_count": 16,
   "metadata": {},
   "outputs": [
    {
     "data": {
      "text/plain": [
       "{8}"
      ]
     },
     "execution_count": 16,
     "metadata": {},
     "output_type": "execute_result"
    }
   ],
   "source": [
    "set(b).difference(set(a))"
   ]
  },
  {
   "cell_type": "code",
   "execution_count": 17,
   "metadata": {},
   "outputs": [
    {
     "data": {
      "text/plain": [
       "{8}"
      ]
     },
     "execution_count": 17,
     "metadata": {},
     "output_type": "execute_result"
    }
   ],
   "source": [
    "set(b) - set(a)"
   ]
  },
  {
   "cell_type": "markdown",
   "metadata": {},
   "source": [
    "## Eventos Independentes\n",
    "\n",
    "- O resultado de um evento $NÃO$ influencia na resposta do outro evento\n",
    "- Jogar uma moeda 2 vezes (as chances são as independentes)\n",
    "- Calcular a probabilidade de obter 2 \"coroas\" em duas tentativas\n",
    "---\n",
    "\n",
    "- <big>${P = \\frac{1}{2}.\\frac{1}{2}}$</big>\n",
    "\n",
    "\n",
    "- <big>${P = \\frac{1}{4}=0.25=(25\\%) }$</big>\n",
    "\n",
    "---"
   ]
  },
  {
   "cell_type": "markdown",
   "metadata": {},
   "source": [
    "## Eventos Dependentes\n",
    "\n",
    "- O resultado de um evento $INFLUENCIA$ na resposta do outro evento\n",
    "- Um baralho possui 52 cartas e 13 dessas são de \"espada\"\n",
    "- Qual a probabilidade de tirar 2 cartas de espada?\n",
    "---\n",
    "\n",
    "- <big>${P = \\frac{13}{52}.\\frac{12}{51}}$</big>\n",
    "\n",
    "\n",
    "- <big>${P = \\frac{156}{2652}=0.05=(5,88\\%) }$</big>\n",
    "---"
   ]
  },
  {
   "cell_type": "markdown",
   "metadata": {},
   "source": [
    "## Probabilidade Condicional\n",
    "\n",
    "Calcular a probabilidade do evento A, dado que o evento B ocorreu\n",
    "\n",
    "\n",
    "- ${P(a|b) = x}$, pode ser lido como: \"Dado o evento $b$, a probabilidade do evento $a$ é $x$\"\n",
    "\n",
    "\n",
    "- <big>${P(A|B) = \\frac{P(A \\cap B)}{P(B)}}$</big>\n",
    "\n",
    "\n",
    "- <big>${P(A|B) = \\frac{P(A \\cap B)}{P(B)}}$</big>, ou ${P(a|b).P(b) = P(a,b).P(a,b)}$ é a probabilidade do evento conjunto ${a \\wedge b}$\n",
    "---\n",
    "\n",
    "Exemplos\n",
    "- ${P(Cárie|Dor) = 0.8}$, indica que caso um paciente esteja com dor (de dente) e nenhuma outra informação esteja disponível, então, a probabilidade do paciente ter uma cárie é de $0.8$ \n",
    "---\n",
    " \n",
    "Em um grupo de 90 pessoas, 40 compraram o livro de Python, 30 compraram o livro de Java e 20 compraram o livro de Python e também o livro de Java. Se escolhermos uma pessoa que comprou o livro de Python, qual a probabilidade desta pessoa ter comprado o livro de Java também?    \n",
    "    \n",
    "\n",
    "- <big>${P(B|A) = \\frac{P(A \\cap B)}{P(A)}}$</big>\n",
    "\n",
    "\n",
    "- ${P(A \\cap B) = 20}$\n",
    "\n",
    "- ${P(A) = 40}$\n",
    "\n",
    "\n",
    "- <big>${P(B|A) = \\frac{20}{40} = 0.5 = (50\\%)}$</big>\n",
    "---"
   ]
  },
  {
   "cell_type": "markdown",
   "metadata": {},
   "source": [
    "### Probabilidade Condicional - Adição\n",
    "\n",
    "Selecionar um elemento randomicamente, qual a probabilidade de comprar o livro de Python ou de Java?\n",
    "\n",
    "\n",
    "- ${P(A \\cup B) = P(A) + P(B) - P(A \\cap B)}$\n",
    "\n",
    "\n",
    "- <big>${P(A) = \\frac{40}{90}}$</big>\n",
    "\n",
    "\n",
    "- <big>${P(B) = \\frac{30}{90}}$</big>\n",
    "\n",
    "\n",
    "- <big>${P(A \\cup B) = \\frac{20}{90}}$</big>\n",
    "\n",
    "\n",
    "- <big>${P(A \\cup B) = \\frac{40}{90} + \\frac{30}{90} - \\frac{20}{90}}$</big>\n",
    "\n",
    "\n",
    "- ${P(A \\cup B) = 0,4 + 0,3 - 0,2}$\n",
    "\n",
    "\n",
    "- ${P(A \\cup B) = 0,5}$\n",
    "---"
   ]
  },
  {
   "cell_type": "markdown",
   "metadata": {},
   "source": [
    "## Redes Bayesianas\n",
    "\n",
    "- Probabilidade condicional\n",
    "\n",
    "    - ${P(a|b)=x}$, pode ser lido como: \"Dado o evento $b$, a probabilidade do evento $a$ é $x$\".\n",
    "    \n",
    "    - ${P(a|b)=\\frac{P(a,b)}{P(b)}}$, ou ${P(a|b).P(b) = P(a,b).P(a,b)}$ é a probabilidade do evento conjunto do evento ${a \\wedge b}$.\n",
    "---    \n",
    "    \n",
    "- Exemplo 1\n",
    "\n",
    "    - ${P(Cárie|Dor) = 0.8}$, indica que caso um paciente esteja com dor (de dente) e nenhuma outra informação esteja disponível, então, a probabilidade do paciente ter uma cárie é de $0.8$ \n",
    "---\n",
    "    \n",
    "    \n",
    "- Exemplo 2\n",
    "\n",
    "    - Um médico sabe que a menigite causa torcicolo em $50%$ dos casos. Porém, o médico também conhece algumas probabilidades incondicionais que dizem que, um caso de meningite atinge $1/50000 $ pessoas e, a probabilidade de alguém ter torcicolo é de $1/20$.    \n",
    "    \n",
    "    - $T$ e $M$, é probabilidade incondicional de um paciente ter torcicolo e a probabilidade incondicional de um paciente ter meningite.\n",
    "    \n",
    "        - ${P(T|M) = 0.5}$ (probabilidade de ter torcicolo tendo meningite)\n",
    "        \n",
    "        - ${P(M) = \\frac{1}{50000}}$\n",
    "        \n",
    "        - ${P(T) = \\frac{1}{20}}$\n",
    "--- \n",
    "\n",
    "- Aplicando a fórmula\n",
    "\n",
    "    - ${P(T|M) = \\frac{(P(T|M).P(M))}{P(T)}}$\n",
    "\n",
    "    - ${P(T|M) = \\frac{(0,5 . \\frac{1}{50000})}{\\frac{1}{20}}}$\n",
    "    \n",
    "    - ${P(T|M) = 0,0002}$\n",
    "---"
   ]
  },
  {
   "cell_type": "markdown",
   "metadata": {},
   "source": [
    "### Exercícios\n",
    "\n",
    "- Dado o lançamento de um dado\n",
    "- Probabilidade de obter um número par"
   ]
  },
  {
   "cell_type": "code",
   "execution_count": 18,
   "metadata": {},
   "outputs": [],
   "source": [
    "def indep_event(target: list, space: list, event: int = 1) -> float:\n",
    "    p = 1\n",
    "    target = len(target)\n",
    "    space = len(space)\n",
    "    \n",
    "    for i in range(event):\n",
    "        p *= target / space\n",
    "        \n",
    "    return p"
   ]
  },
  {
   "cell_type": "code",
   "execution_count": 19,
   "metadata": {},
   "outputs": [],
   "source": [
    "def dep_event(target: list, space: list, event: int = 1) -> float:\n",
    "    p = 1\n",
    "    target = len(target)\n",
    "    space = len(space)\n",
    "    \n",
    "    for i in range(event):\n",
    "        p *= (target - i) / (space - 1)\n",
    "        \n",
    "    return p"
   ]
  },
  {
   "cell_type": "code",
   "execution_count": 20,
   "metadata": {},
   "outputs": [
    {
     "data": {
      "text/plain": [
       "([2, 4, 6], [1, 2, 3, 4, 5, 6])"
      ]
     },
     "execution_count": 20,
     "metadata": {},
     "output_type": "execute_result"
    }
   ],
   "source": [
    "target = [2,4,6] # Números pares do dado \n",
    "space =[1,2,3,4,5,6] # Todos os números do dado\n",
    "target, space"
   ]
  },
  {
   "cell_type": "code",
   "execution_count": 21,
   "metadata": {},
   "outputs": [
    {
     "name": "stdout",
     "output_type": "stream",
     "text": [
      "50.0%\n"
     ]
    }
   ],
   "source": [
    "print(f'{indep_event(target, space)*100}%')"
   ]
  },
  {
   "cell_type": "markdown",
   "metadata": {},
   "source": [
    "- Probabilidade de obter um número menor do que 6"
   ]
  },
  {
   "cell_type": "code",
   "execution_count": 22,
   "metadata": {},
   "outputs": [
    {
     "data": {
      "text/plain": [
       "([1, 2, 3, 4, 5], [1, 2, 3, 4, 5, 6])"
      ]
     },
     "execution_count": 22,
     "metadata": {},
     "output_type": "execute_result"
    }
   ],
   "source": [
    "target = [1,2,3,4,5] # Números do dado menores que 6\n",
    "space = [1,2,3,4,5,6] # Todos os números do dado\n",
    "target, space"
   ]
  },
  {
   "cell_type": "code",
   "execution_count": 23,
   "metadata": {},
   "outputs": [
    {
     "name": "stdout",
     "output_type": "stream",
     "text": [
      "83.33333333333334%\n"
     ]
    }
   ],
   "source": [
    "print(f'{indep_event(target, space)*100}%')"
   ]
  },
  {
   "cell_type": "markdown",
   "metadata": {},
   "source": [
    "- Um baralho possui 52 cartas e 13 dessas são de \"espada\". Qual a probabilidade de tirar 5 cartas de espadas sem reposição?"
   ]
  },
  {
   "cell_type": "code",
   "execution_count": 24,
   "metadata": {},
   "outputs": [
    {
     "name": "stdout",
     "output_type": "stream",
     "text": [
      "[1, 2, 3, 4, 5, 6, 7, 8, 9, 10, 11, 12, 13]\n",
      "[1, 2, 3, 4, 5, 6, 7, 8, 9, 10, 11, 12, 13, 14, 15, 16, 17, 18, 19, 20, 21, 22, 23, 24, 25, 26, 27, 28, 29, 30, 31, 32, 33, 34, 35, 36, 37, 38, 39, 40, 41, 42, 43, 44, 45, 46, 47, 48, 49, 50, 51, 52]\n"
     ]
    }
   ],
   "source": [
    "target = list(range(1,14)) # Quantidade de cartas \"espadas\"\n",
    "space = list(range(1,53)) # Total de cartas no baralho\n",
    "print(target, space, sep='\\n')"
   ]
  },
  {
   "cell_type": "code",
   "execution_count": 25,
   "metadata": {},
   "outputs": [
    {
     "name": "stdout",
     "output_type": "stream",
     "text": [
      "0.044761941206442314%\n"
     ]
    }
   ],
   "source": [
    "print(f'{dep_event(target, space, 5)*100}%')"
   ]
  },
  {
   "cell_type": "markdown",
   "metadata": {},
   "source": [
    "- Em um grupo de 90 pessoas, 40 compraram o livro de Python, 30 compraram o livro de Java e 20 compraram o livro de Python e também o livro de Java. Se escolhermos uma pessoa que comprou o livro de Java, qual a probabilidade desta pessoa ter comprado o livro de Python também?"
   ]
  },
  {
   "cell_type": "code",
   "execution_count": 26,
   "metadata": {},
   "outputs": [
    {
     "name": "stdout",
     "output_type": "stream",
     "text": [
      "[1, 2, 3, 4, 5, 6, 7, 8, 9, 10, 11, 12, 13, 14, 15, 16, 17, 18, 19, 20]\n",
      "[1, 2, 3, 4, 5, 6, 7, 8, 9, 10, 11, 12, 13, 14, 15, 16, 17, 18, 19, 20, 21, 22, 23, 24, 25, 26, 27, 28, 29, 30]\n"
     ]
    }
   ],
   "source": [
    "target = list(range(1, 21)) # Pessoas que compraram os 2 livros\n",
    "space = list(range(1,31)) # Pessoas que compraram só o de Java\n",
    "print(target, space, sep='\\n')"
   ]
  },
  {
   "cell_type": "code",
   "execution_count": 27,
   "metadata": {},
   "outputs": [
    {
     "name": "stdout",
     "output_type": "stream",
     "text": [
      "66.66666666666666%\n"
     ]
    }
   ],
   "source": [
    "print(f'{indep_event(target, space)*100}%')"
   ]
  },
  {
   "cell_type": "markdown",
   "metadata": {},
   "source": [
    "## Probabilidade e distribuição binomial\n",
    "\n",
    "- https://docs.scipy.org/doc/scipy/reference/generated/scipy.stats.binom.html#scipy.stats.binom\n",
    "---"
   ]
  },
  {
   "cell_type": "markdown",
   "metadata": {},
   "source": [
    "### Probabilidade Binomial\n",
    "\n",
    "- Resposta sucesso ou fracasso e experimentos independentes\n",
    "- Moedas e baralho?\n",
    "- Probabilidade de selecionar \"coroa\" 5 vezes\n",
    "- Parâmetros\n",
    "    - ${X = 5}$ (Números de sucessos)\n",
    "    - ${p = 0.5}$ (Probabilidade de sucesso)\n",
    "    - ${n = 10}$ (Quantidade de tentativas - trials)\n",
    "    \n",
    "\n",
    "- <big>${P(X=x)=\\frac{n!}{(n-x)!.x!}p ^{x}(1 - p) ^{n-x}}$</big>"
   ]
  },
  {
   "cell_type": "markdown",
   "metadata": {},
   "source": [
    "#### Combinação\n",
    "\n",
    "- Número possível de arranjos em uma coleção (a ordem não importa como na permutação)\n",
    "- Quantas combinações de 2 letras podem ser feitas com  𝐴𝐵𝐶𝐷𝐸𝐹 ?\n",
    "- $DESCONSIDERANDO$  repetições\n",
    "\n",
    "- ${r = 2}$\n",
    "- ${n = 6}$\n",
    "\n",
    "\n",
    "- <big>${C_{(nr)} = \\frac{n!}{r!(n-r)!}}$</big>\n",
    "\n",
    "\n",
    "- <big>${C_{(nr)}=\\frac{6!}{2!(6-2)!} = 15}$</big>"
   ]
  },
  {
   "cell_type": "markdown",
   "metadata": {},
   "source": [
    "### Exemplo das moedas\n",
    "\n",
    "- Jogando a moeda 10 vezes, qual a probabilidade de obter 5 \"caras\"?"
   ]
  },
  {
   "cell_type": "code",
   "execution_count": 28,
   "metadata": {},
   "outputs": [],
   "source": [
    "n = 10\n",
    "x = 5\n",
    "p = 0.5"
   ]
  },
  {
   "cell_type": "code",
   "execution_count": 29,
   "metadata": {},
   "outputs": [
    {
     "data": {
      "text/plain": [
       "0.24609375"
      ]
     },
     "execution_count": 29,
     "metadata": {},
     "output_type": "execute_result"
    }
   ],
   "source": [
    "(math.factorial(n)) / (math.factorial(x) * math.factorial(n - x)) \\\n",
    "* math.pow(p, x) * math.pow(1 - p, n - x)"
   ]
  },
  {
   "cell_type": "code",
   "execution_count": 30,
   "metadata": {},
   "outputs": [
    {
     "data": {
      "text/plain": [
       "0.24609375000000025"
      ]
     },
     "execution_count": 30,
     "metadata": {},
     "output_type": "execute_result"
    }
   ],
   "source": [
    "stats.binom.pmf(x, n, p)"
   ]
  },
  {
   "cell_type": "markdown",
   "metadata": {},
   "source": [
    "### Exercício 1\n",
    "- 70% das pessoas que compraram o livro de Python são mulheres. Se 10 leitores forem selecionados randomicamente, qual a probabilidade de selecionarmaos 7 mulheres?"
   ]
  },
  {
   "cell_type": "code",
   "execution_count": 31,
   "metadata": {},
   "outputs": [],
   "source": [
    "n = 10\n",
    "x = 7\n",
    "p = 0.7"
   ]
  },
  {
   "cell_type": "code",
   "execution_count": 32,
   "metadata": {},
   "outputs": [
    {
     "data": {
      "text/plain": [
       "0.266827932"
      ]
     },
     "execution_count": 32,
     "metadata": {},
     "output_type": "execute_result"
    }
   ],
   "source": [
    "(math.factorial(n)) / (math.factorial(x) * math.factorial(n - x)) \\\n",
    "* math.pow(p, x) * math.pow(1 - p, n - x)"
   ]
  },
  {
   "cell_type": "code",
   "execution_count": 33,
   "metadata": {},
   "outputs": [
    {
     "data": {
      "text/plain": [
       "0.26682793200000016"
      ]
     },
     "execution_count": 33,
     "metadata": {},
     "output_type": "execute_result"
    }
   ],
   "source": [
    "stats.binom.pmf(x, n, p)"
   ]
  },
  {
   "cell_type": "markdown",
   "metadata": {},
   "source": [
    "### Exercício 2\n",
    "\n",
    "- Em uma linha de produção de uma fábrica de parafusos, a probabilidade de obter um parafuso defeituoso é 0,05. Tendo uma amostra de 50 peças, qual a probabilidade de obter:\n",
    "\n",
    "    1. Um parafuso defeituoso\n",
    "    2. Nenhum parafuso defeituoso"
   ]
  },
  {
   "cell_type": "code",
   "execution_count": 34,
   "metadata": {},
   "outputs": [],
   "source": [
    "n = 50\n",
    "x = 1\n",
    "p = 0.05"
   ]
  },
  {
   "cell_type": "code",
   "execution_count": 35,
   "metadata": {},
   "outputs": [
    {
     "data": {
      "text/plain": [
       "0.202486777043982"
      ]
     },
     "execution_count": 35,
     "metadata": {},
     "output_type": "execute_result"
    }
   ],
   "source": [
    "(math.factorial(n)) / (math.factorial(x) * math.factorial(n - x)) \\\n",
    "* math.pow(p, x) * math.pow(1 - p, n - x)"
   ]
  },
  {
   "cell_type": "code",
   "execution_count": 36,
   "metadata": {},
   "outputs": [
    {
     "data": {
      "text/plain": [
       "0.20248677704398393"
      ]
     },
     "execution_count": 36,
     "metadata": {},
     "output_type": "execute_result"
    }
   ],
   "source": [
    "stats.binom.pmf(x, n, p)"
   ]
  },
  {
   "cell_type": "code",
   "execution_count": 37,
   "metadata": {},
   "outputs": [],
   "source": [
    "n = 50\n",
    "x = 0\n",
    "p = 0.05"
   ]
  },
  {
   "cell_type": "code",
   "execution_count": 38,
   "metadata": {},
   "outputs": [
    {
     "data": {
      "text/plain": [
       "0.07694497527671315"
      ]
     },
     "execution_count": 38,
     "metadata": {},
     "output_type": "execute_result"
    }
   ],
   "source": [
    "(math.factorial(n)) / (math.factorial(x) * math.factorial(n - x)) \\\n",
    "* math.pow(p, x) * math.pow(1 - p, n - x)"
   ]
  },
  {
   "cell_type": "code",
   "execution_count": 39,
   "metadata": {},
   "outputs": [
    {
     "data": {
      "text/plain": [
       "0.0769449752767133"
      ]
     },
     "execution_count": 39,
     "metadata": {},
     "output_type": "execute_result"
    }
   ],
   "source": [
    "stats.binom.pmf(x, n, p)"
   ]
  },
  {
   "cell_type": "markdown",
   "metadata": {},
   "source": [
    "## Probabilidade e distribuição de Poisson\n",
    "\n",
    "- https://docs.scipy.org/doc/scipy/reference/generated/scipy.stats.poisson.html\n",
    "---"
   ]
  },
  {
   "cell_type": "markdown",
   "metadata": {},
   "source": [
    "- Ocorrência de eventos no decorrer do tempo (não considera o número de experimentos)\n",
    "- Os eventos devem ser independentes\n",
    "- Considera o número de \"sucessos\" baseado no tempo\n",
    "- Parâmetros da fórmula\n",
    "    - X: número de eventos calculados\n",
    "    - Número de Euler (2.71828)\n",
    "    - Número médio de eventos\n",
    "    \n",
    "- O número médio de carros vendidos por dia é 10. Qual a probabilidade de vender 14 carros amanhã?\n",
    "    - ${x = 14}$\n",
    "    - ${\\lambda = 10}$ (Média)\n",
    "    \n",
    "    \n",
    "- <big>${P(X = x) = e^{-\\lambda} . \\frac{\\lambda ^x}{x!}}$</big>\n",
    "\n",
    "\n",
    "- <big>${P(X = x) = 2.71828^{-10} . \\frac{10^{14}}{14!}}$</big>\n",
    "\n",
    "\n",
    "- <big>${P(X = x) = 0,00004539993 . \\frac{100000000000000}{87178291200}}$</big>\n",
    "\n",
    "\n",
    "- <big>${P(X = x) = 0,52077}$</big>"
   ]
  },
  {
   "cell_type": "code",
   "execution_count": 40,
   "metadata": {},
   "outputs": [
    {
     "data": {
      "text/plain": [
       "2.718281828459045"
      ]
     },
     "execution_count": 40,
     "metadata": {},
     "output_type": "execute_result"
    }
   ],
   "source": [
    "x= 14\n",
    "mean = 10\n",
    "math.e"
   ]
  },
  {
   "cell_type": "code",
   "execution_count": 41,
   "metadata": {},
   "outputs": [
    {
     "data": {
      "text/plain": [
       "5.207710444602621"
      ]
     },
     "execution_count": 41,
     "metadata": {},
     "output_type": "execute_result"
    }
   ],
   "source": [
    "math.pow(math.e, -mean) * (math.pow(mean,x) / math.factorial(x)) * 100 # %"
   ]
  },
  {
   "cell_type": "code",
   "execution_count": 42,
   "metadata": {},
   "outputs": [
    {
     "data": {
      "text/plain": [
       "0.05207710444602615"
      ]
     },
     "execution_count": 42,
     "metadata": {},
     "output_type": "execute_result"
    }
   ],
   "source": [
    "stats.poisson.pmf(x, mean)"
   ]
  },
  {
   "cell_type": "markdown",
   "metadata": {},
   "source": [
    "### Exercício 1\n",
    "\n",
    "- Em uma linha de produção de uma fábrica de parafusos, a probabilidade de obter 0,05 defeitos por UNIDADE. Qual a probabilidade de um unidade apresentar:\n",
    "\n",
    "    1. Um defeito\n",
    "    2. Nenhum defeito"
   ]
  },
  {
   "cell_type": "code",
   "execution_count": 43,
   "metadata": {},
   "outputs": [],
   "source": [
    "x= 1\n",
    "mean = 0.05"
   ]
  },
  {
   "cell_type": "code",
   "execution_count": 44,
   "metadata": {},
   "outputs": [
    {
     "data": {
      "text/plain": [
       "4.75614712250357"
      ]
     },
     "execution_count": 44,
     "metadata": {},
     "output_type": "execute_result"
    }
   ],
   "source": [
    "math.pow(math.e, -mean) * (math.pow(mean,x) / math.factorial(x)) * 100 # %"
   ]
  },
  {
   "cell_type": "code",
   "execution_count": 45,
   "metadata": {},
   "outputs": [
    {
     "data": {
      "text/plain": [
       "0.04756147122503571"
      ]
     },
     "execution_count": 45,
     "metadata": {},
     "output_type": "execute_result"
    }
   ],
   "source": [
    "stats.poisson.pmf(x, mean)"
   ]
  },
  {
   "cell_type": "code",
   "execution_count": 46,
   "metadata": {},
   "outputs": [],
   "source": [
    "x= 0\n",
    "mean = 0.05"
   ]
  },
  {
   "cell_type": "code",
   "execution_count": 47,
   "metadata": {},
   "outputs": [
    {
     "data": {
      "text/plain": [
       "95.1229424500714"
      ]
     },
     "execution_count": 47,
     "metadata": {},
     "output_type": "execute_result"
    }
   ],
   "source": [
    "math.pow(math.e, -mean) * (math.pow(mean,x) / math.factorial(x)) * 100 # %"
   ]
  },
  {
   "cell_type": "code",
   "execution_count": 48,
   "metadata": {},
   "outputs": [
    {
     "data": {
      "text/plain": [
       "0.951229424500714"
      ]
     },
     "execution_count": 48,
     "metadata": {},
     "output_type": "execute_result"
    }
   ],
   "source": [
    "stats.poisson.pmf(x, mean)"
   ]
  },
  {
   "cell_type": "markdown",
   "metadata": {},
   "source": [
    "### Exercício 2\n",
    "\n",
    "- Um vendedor de uma loja vende em média 50 produtos por dia. Qual a probabilidade de vender somente 5 produtos no próximo dia?"
   ]
  },
  {
   "cell_type": "code",
   "execution_count": 49,
   "metadata": {},
   "outputs": [],
   "source": [
    "x= 5\n",
    "mean = 50"
   ]
  },
  {
   "cell_type": "code",
   "execution_count": 50,
   "metadata": {},
   "outputs": [
    {
     "data": {
      "text/plain": [
       "5.02278606240605e-16"
      ]
     },
     "execution_count": 50,
     "metadata": {},
     "output_type": "execute_result"
    }
   ],
   "source": [
    "stats.poisson.pmf(x, mean)"
   ]
  },
  {
   "cell_type": "code",
   "execution_count": 51,
   "metadata": {},
   "outputs": [
    {
     "data": {
      "text/plain": [
       "5.022786062406049e-14"
      ]
     },
     "execution_count": 51,
     "metadata": {},
     "output_type": "execute_result"
    }
   ],
   "source": [
    "math.pow(math.e, -mean) * (math.pow(mean,x) / math.factorial(x)) * 100 # %"
   ]
  }
 ],
 "metadata": {
  "kernelspec": {
   "display_name": "Python 3",
   "language": "python",
   "name": "python3"
  },
  "language_info": {
   "codemirror_mode": {
    "name": "ipython",
    "version": 3
   },
   "file_extension": ".py",
   "mimetype": "text/x-python",
   "name": "python",
   "nbconvert_exporter": "python",
   "pygments_lexer": "ipython3",
   "version": "3.7.6"
  }
 },
 "nbformat": 4,
 "nbformat_minor": 4
}
