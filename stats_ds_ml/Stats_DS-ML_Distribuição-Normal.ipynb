{
 "cells": [
  {
   "cell_type": "markdown",
   "metadata": {},
   "source": [
    "# Distribuições\n",
    "## Bibliotecas"
   ]
  },
  {
   "cell_type": "code",
   "execution_count": 1,
   "metadata": {},
   "outputs": [],
   "source": [
    "import pandas as pd\n",
    "import numpy as np\n",
    "import seaborn as sns\n",
    "\n",
    "from scipy import stats\n",
    "from Models.Stats import Stats"
   ]
  },
  {
   "cell_type": "markdown",
   "metadata": {},
   "source": [
    "## Variáveis contínuas\n",
    "### Distribuição normal - Gaussian distribuition (bell)"
   ]
  },
  {
   "cell_type": "code",
   "execution_count": 2,
   "metadata": {},
   "outputs": [
    {
     "data": {
      "text/plain": [
       "(-3.053764380426305, 3.9586027040379634)"
      ]
     },
     "execution_count": 2,
     "metadata": {},
     "output_type": "execute_result"
    }
   ],
   "source": [
    "data_normal = stats.norm.rvs(size = 1000, random_state = 1)\n",
    "min(data_normal), max(data_normal)"
   ]
  },
  {
   "cell_type": "code",
   "execution_count": 3,
   "metadata": {},
   "outputs": [
    {
     "data": {
      "image/png": "[encoded data removed]",
      "text/plain": [
       "<Figure size 432x288 with 1 Axes>"
      ]
     },
     "metadata": {
      "needs_background": "light"
     },
     "output_type": "display_data"
    }
   ],
   "source": [
    "sns.distplot(data_normal);"
   ]
  },
  {
   "cell_type": "code",
   "execution_count": 4,
   "metadata": {},
   "outputs": [
    {
     "data": {
      "text/plain": [
       "(0.038812476159601886,\n",
       " 0.04129258886921605,\n",
       " ModeResult(mode=array([-3.05376438]), count=array([1])),\n",
       " 0.9623691107920885,\n",
       " 0.9810041339322116)"
      ]
     },
     "execution_count": 4,
     "metadata": {},
     "output_type": "execute_result"
    }
   ],
   "source": [
    "st = Stats()\n",
    "st.mean(data_normal), st.median(data_normal), stats.mode(data_normal), st.variance(data_normal), st.std_deviation(data_normal)"
   ]
  },
  {
   "cell_type": "code",
   "execution_count": 5,
   "metadata": {},
   "outputs": [
    {
     "data": {
      "text/plain": [
       "148"
      ]
     },
     "execution_count": 5,
     "metadata": {},
     "output_type": "execute_result"
    }
   ],
   "source": [
    "max1 = np.sum(((data_normal >= st.std_deviation(data_normal)) & (data_normal <= st.std_deviation(data_normal) + 1)))\n",
    "max1"
   ]
  },
  {
   "cell_type": "code",
   "execution_count": 6,
   "metadata": {},
   "outputs": [
    {
     "data": {
      "text/plain": [
       "353"
      ]
     },
     "execution_count": 6,
     "metadata": {},
     "output_type": "execute_result"
    }
   ],
   "source": [
    "min1 = np.sum(((data_normal <= st.std_deviation(data_normal)) & (data_normal >= st.std_deviation(data_normal) - 1)))\n",
    "min1"
   ]
  },
  {
   "cell_type": "code",
   "execution_count": 7,
   "metadata": {},
   "outputs": [
    {
     "data": {
      "text/plain": [
       "0.501"
      ]
     },
     "execution_count": 7,
     "metadata": {},
     "output_type": "execute_result"
    }
   ],
   "source": [
    "(max1 + min1) / len(data_normal)"
   ]
  },
  {
   "cell_type": "markdown",
   "metadata": {},
   "source": [
    "## Distribuição normal com dados de estaturas."
   ]
  },
  {
   "cell_type": "code",
   "execution_count": 8,
   "metadata": {},
   "outputs": [],
   "source": [
    "data = np.array([126. , 129.5, 133. , 133. , 136.5, 136.5, 140. , 140. , 140. ,\n",
    "                  140. , 143.5, 143.5, 143.5, 143.5, 143.5, 143.5, 147. , 147. ,\n",
    "                  147. , 147. , 147. , 147. , 147. , 150.5, 150.5, 150.5, 150.5,\n",
    "                  150.5, 150.5, 150.5, 150.5, 154. , 154. , 154. , 154. , 154. ,\n",
    "                  154. , 154. , 154. , 154. , 157.5, 157.5, 157.5, 157.5, 157.5,\n",
    "                  157.5, 157.5, 157.5, 157.5, 157.5, 161. , 161. , 161. , 161. ,\n",
    "                  161. , 161. , 161. , 161. , 161. , 161. , 164.5, 164.5, 164.5,\n",
    "                  164.5, 164.5, 164.5, 164.5, 164.5, 164.5, 168. , 168. , 168. ,\n",
    "                  168. , 168. , 168. , 168. , 168. , 171.5, 171.5, 171.5, 171.5,\n",
    "                  171.5, 171.5, 171.5, 175. , 175. , 175. , 175. , 175. , 175. ,\n",
    "                  178.5, 178.5, 178.5, 178.5, 182. , 182. , 185.5, 185.5, 189., 192.5])"
   ]
  },
  {
   "cell_type": "code",
   "execution_count": 9,
   "metadata": {},
   "outputs": [
    {
     "data": {
      "text/plain": [
       "100"
      ]
     },
     "execution_count": 9,
     "metadata": {},
     "output_type": "execute_result"
    }
   ],
   "source": [
    "len(data)"
   ]
  },
  {
   "cell_type": "code",
   "execution_count": 10,
   "metadata": {},
   "outputs": [
    {
     "data": {
      "text/plain": [
       "(126.0, 192.5)"
      ]
     },
     "execution_count": 10,
     "metadata": {},
     "output_type": "execute_result"
    }
   ],
   "source": [
    "min(data), max(data)"
   ]
  },
  {
   "cell_type": "code",
   "execution_count": 11,
   "metadata": {},
   "outputs": [
    {
     "data": {
      "text/plain": [
       "159.25"
      ]
     },
     "execution_count": 11,
     "metadata": {},
     "output_type": "execute_result"
    }
   ],
   "source": [
    "st.mean(data)"
   ]
  },
  {
   "cell_type": "code",
   "execution_count": 12,
   "metadata": {},
   "outputs": [
    {
     "data": {
      "text/plain": [
       "159.25"
      ]
     },
     "execution_count": 12,
     "metadata": {},
     "output_type": "execute_result"
    }
   ],
   "source": [
    "st.median(data)"
   ]
  },
  {
   "cell_type": "code",
   "execution_count": 13,
   "metadata": {},
   "outputs": [
    {
     "data": {
      "text/plain": [
       "(array([157.5, 161. ]), 10)"
      ]
     },
     "execution_count": 13,
     "metadata": {},
     "output_type": "execute_result"
    }
   ],
   "source": [
    "st.mode(data)"
   ]
  },
  {
   "cell_type": "code",
   "execution_count": 14,
   "metadata": {},
   "outputs": [
    {
     "data": {
      "text/plain": [
       "(186.3225, 13.65, 8.571428571428571)"
      ]
     },
     "execution_count": 14,
     "metadata": {},
     "output_type": "execute_result"
    }
   ],
   "source": [
    "st.variance(data), st.std_deviation(data), st.coef_deviation(data)"
   ]
  },
  {
   "cell_type": "code",
   "execution_count": 15,
   "metadata": {},
   "outputs": [
    {
     "data": {
      "text/plain": [
       "(172.9, 145.6)"
      ]
     },
     "execution_count": 15,
     "metadata": {},
     "output_type": "execute_result"
    }
   ],
   "source": [
    "std_data = st.std_deviation(data)\n",
    "median_data = st.median(data)\n",
    "median_data + std_data, median_data - std_data"
   ]
  },
  {
   "cell_type": "code",
   "execution_count": 16,
   "metadata": {},
   "outputs": [
    {
     "data": {
      "image/png": "[encoded data removed]",
      "text/plain": [
       "<Figure size 432x288 with 1 Axes>"
      ]
     },
     "metadata": {
      "needs_background": "light"
     },
     "output_type": "display_data"
    }
   ],
   "source": [
    "sns.distplot(data);"
   ]
  },
  {
   "cell_type": "markdown",
   "metadata": {},
   "source": [
    "### Enviesamento"
   ]
  },
  {
   "cell_type": "code",
   "execution_count": 17,
   "metadata": {},
   "outputs": [],
   "source": [
    "from scipy.stats import skewnorm"
   ]
  },
  {
   "cell_type": "code",
   "execution_count": 18,
   "metadata": {},
   "outputs": [
    {
     "data": {
      "image/png": "[encoded data removed]",
      "text/plain": [
       "<Figure size 432x288 with 1 Axes>"
      ]
     },
     "metadata": {
      "needs_background": "light"
     },
     "output_type": "display_data"
    }
   ],
   "source": [
    "data_norm = skewnorm.rvs(a = 0, size = 1000)\n",
    "sns.distplot(data_norm);"
   ]
  },
  {
   "cell_type": "code",
   "execution_count": 19,
   "metadata": {},
   "outputs": [
    {
     "data": {
      "text/plain": [
       "(-0.06079419095895201,\n",
       " -0.06355159068225247,\n",
       " ModeResult(mode=array([-3.11044957]), count=array([1])))"
      ]
     },
     "execution_count": 19,
     "metadata": {},
     "output_type": "execute_result"
    }
   ],
   "source": [
    "st.mean(data_norm), st.median(data_norm), stats.mode(data_norm)"
   ]
  },
  {
   "cell_type": "code",
   "execution_count": 20,
   "metadata": {},
   "outputs": [
    {
     "data": {
      "image/png": "[encoded data removed]",
      "text/plain": [
       "<Figure size 432x288 with 1 Axes>"
      ]
     },
     "metadata": {
      "needs_background": "light"
     },
     "output_type": "display_data"
    }
   ],
   "source": [
    "data_env_pos = skewnorm.rvs(a = 10, size = 1000)\n",
    "sns.distplot(data_env_pos);"
   ]
  },
  {
   "cell_type": "code",
   "execution_count": 21,
   "metadata": {},
   "outputs": [
    {
     "data": {
      "text/plain": [
       "(0.7986376992468649,\n",
       " 0.6921922486929486,\n",
       " ModeResult(mode=array([-0.32669089]), count=array([1])))"
      ]
     },
     "execution_count": 21,
     "metadata": {},
     "output_type": "execute_result"
    }
   ],
   "source": [
    "st.mean(data_env_pos), st.median(data_env_pos), stats.mode(data_env_pos)"
   ]
  },
  {
   "cell_type": "code",
   "execution_count": 22,
   "metadata": {},
   "outputs": [
    {
     "data": {
      "image/png": "[encoded data removed]",
      "text/plain": [
       "<Figure size 432x288 with 1 Axes>"
      ]
     },
     "metadata": {
      "needs_background": "light"
     },
     "output_type": "display_data"
    }
   ],
   "source": [
    "data_env_neg = skewnorm.rvs(a = -10, size = 1000)\n",
    "sns.distplot(data_env_neg);"
   ]
  },
  {
   "cell_type": "code",
   "execution_count": 23,
   "metadata": {},
   "outputs": [
    {
     "data": {
      "text/plain": [
       "(-0.8099162546690463,\n",
       " -0.708460811726255,\n",
       " ModeResult(mode=array([-3.55964701]), count=array([1])))"
      ]
     },
     "execution_count": 23,
     "metadata": {},
     "output_type": "execute_result"
    }
   ],
   "source": [
    "st.mean(data_env_neg), st.median(data_env_neg), stats.mode(data_env_neg)"
   ]
  },
  {
   "cell_type": "markdown",
   "metadata": {},
   "source": [
    "## Distribuição normal padronizada"
   ]
  },
  {
   "cell_type": "code",
   "execution_count": 24,
   "metadata": {},
   "outputs": [
    {
     "data": {
      "text/plain": [
       "(-3.2017525579720583, 3.759779761300405)"
      ]
     },
     "execution_count": 24,
     "metadata": {},
     "output_type": "execute_result"
    }
   ],
   "source": [
    "data_stded_norm = np.random.standard_normal(size = 1000)\n",
    "min(data_stded_norm), max(data_stded_norm)"
   ]
  },
  {
   "cell_type": "code",
   "execution_count": 25,
   "metadata": {},
   "outputs": [
    {
     "data": {
      "image/png": "[encoded data removed]",
      "text/plain": [
       "<Figure size 432x288 with 1 Axes>"
      ]
     },
     "metadata": {
      "needs_background": "light"
     },
     "output_type": "display_data"
    }
   ],
   "source": [
    "sns.distplot(data_stded_norm);"
   ]
  },
  {
   "cell_type": "code",
   "execution_count": 26,
   "metadata": {},
   "outputs": [
    {
     "data": {
      "text/plain": [
       "(0.029406115602908754, 0.9932431113159217)"
      ]
     },
     "execution_count": 26,
     "metadata": {},
     "output_type": "execute_result"
    }
   ],
   "source": [
    "st.mean(data_stded_norm), st.std_deviation(data_stded_norm)"
   ]
  },
  {
   "cell_type": "code",
   "execution_count": 27,
   "metadata": {},
   "outputs": [
    {
     "data": {
      "text/plain": [
       "array([126. , 129.5, 133. , 133. , 136.5, 136.5, 140. , 140. , 140. ,\n",
       "       140. , 143.5, 143.5, 143.5, 143.5, 143.5, 143.5, 147. , 147. ,\n",
       "       147. , 147. , 147. , 147. , 147. , 150.5, 150.5, 150.5, 150.5,\n",
       "       150.5, 150.5, 150.5, 150.5, 154. , 154. , 154. , 154. , 154. ,\n",
       "       154. , 154. , 154. , 154. , 157.5, 157.5, 157.5, 157.5, 157.5,\n",
       "       157.5, 157.5, 157.5, 157.5, 157.5, 161. , 161. , 161. , 161. ,\n",
       "       161. , 161. , 161. , 161. , 161. , 161. , 164.5, 164.5, 164.5,\n",
       "       164.5, 164.5, 164.5, 164.5, 164.5, 164.5, 168. , 168. , 168. ,\n",
       "       168. , 168. , 168. , 168. , 168. , 171.5, 171.5, 171.5, 171.5,\n",
       "       171.5, 171.5, 171.5, 175. , 175. , 175. , 175. , 175. , 175. ,\n",
       "       178.5, 178.5, 178.5, 178.5, 182. , 182. , 185.5, 185.5, 189. ,\n",
       "       192.5])"
      ]
     },
     "execution_count": 27,
     "metadata": {},
     "output_type": "execute_result"
    }
   ],
   "source": [
    "data"
   ]
  },
  {
   "cell_type": "code",
   "execution_count": 28,
   "metadata": {},
   "outputs": [
    {
     "data": {
      "text/plain": [
       "159.25"
      ]
     },
     "execution_count": 28,
     "metadata": {},
     "output_type": "execute_result"
    }
   ],
   "source": [
    "mean_data = st.mean(data)\n",
    "mean_data"
   ]
  },
  {
   "cell_type": "code",
   "execution_count": 29,
   "metadata": {},
   "outputs": [
    {
     "data": {
      "text/plain": [
       "13.65"
      ]
     },
     "execution_count": 29,
     "metadata": {},
     "output_type": "execute_result"
    }
   ],
   "source": [
    "std_data"
   ]
  },
  {
   "cell_type": "code",
   "execution_count": 30,
   "metadata": {},
   "outputs": [
    {
     "data": {
      "text/plain": [
       "array([-2.43589744, -2.17948718, -1.92307692, -1.92307692, -1.66666667,\n",
       "       -1.66666667, -1.41025641, -1.41025641, -1.41025641, -1.41025641,\n",
       "       -1.15384615, -1.15384615, -1.15384615, -1.15384615, -1.15384615,\n",
       "       -1.15384615, -0.8974359 , -0.8974359 , -0.8974359 , -0.8974359 ,\n",
       "       -0.8974359 , -0.8974359 , -0.8974359 , -0.64102564, -0.64102564,\n",
       "       -0.64102564, -0.64102564, -0.64102564, -0.64102564, -0.64102564,\n",
       "       -0.64102564, -0.38461538, -0.38461538, -0.38461538, -0.38461538,\n",
       "       -0.38461538, -0.38461538, -0.38461538, -0.38461538, -0.38461538,\n",
       "       -0.12820513, -0.12820513, -0.12820513, -0.12820513, -0.12820513,\n",
       "       -0.12820513, -0.12820513, -0.12820513, -0.12820513, -0.12820513,\n",
       "        0.12820513,  0.12820513,  0.12820513,  0.12820513,  0.12820513,\n",
       "        0.12820513,  0.12820513,  0.12820513,  0.12820513,  0.12820513,\n",
       "        0.38461538,  0.38461538,  0.38461538,  0.38461538,  0.38461538,\n",
       "        0.38461538,  0.38461538,  0.38461538,  0.38461538,  0.64102564,\n",
       "        0.64102564,  0.64102564,  0.64102564,  0.64102564,  0.64102564,\n",
       "        0.64102564,  0.64102564,  0.8974359 ,  0.8974359 ,  0.8974359 ,\n",
       "        0.8974359 ,  0.8974359 ,  0.8974359 ,  0.8974359 ,  1.15384615,\n",
       "        1.15384615,  1.15384615,  1.15384615,  1.15384615,  1.15384615,\n",
       "        1.41025641,  1.41025641,  1.41025641,  1.41025641,  1.66666667,\n",
       "        1.66666667,  1.92307692,  1.92307692,  2.17948718,  2.43589744])"
      ]
     },
     "execution_count": 30,
     "metadata": {},
     "output_type": "execute_result"
    }
   ],
   "source": [
    "# Z score\n",
    "data_stded = (data - mean_data) / std_data\n",
    "data_stded"
   ]
  },
  {
   "cell_type": "code",
   "execution_count": 33,
   "metadata": {},
   "outputs": [
    {
     "data": {
      "text/plain": [
       "(0.0, 1.0)"
      ]
     },
     "execution_count": 33,
     "metadata": {},
     "output_type": "execute_result"
    }
   ],
   "source": [
    "st.mean(data_stded), st.std_deviation(data_stded)"
   ]
  },
  {
   "cell_type": "markdown",
   "metadata": {},
   "source": [
    "## Teorema Central do Limite\n",
    "* Qaundo o tamanho da  amostra aumenta, a distribuição amostral da sua média aproxima-se cada vez mais de uma distribuição normal."
   ]
  },
  {
   "cell_type": "code",
   "execution_count": 47,
   "metadata": {},
   "outputs": [
    {
     "data": {
      "text/plain": [
       "159.692"
      ]
     },
     "execution_count": 47,
     "metadata": {},
     "output_type": "execute_result"
    }
   ],
   "source": [
    "alturas = np.random.randint(126,192,500)\n",
    "alturas.mean()"
   ]
  },
  {
   "cell_type": "code",
   "execution_count": 48,
   "metadata": {},
   "outputs": [
    {
     "data": {
      "image/png": "[encoded data removed]",
      "text/plain": [
       "<Figure size 432x288 with 1 Axes>"
      ]
     },
     "metadata": {
      "needs_background": "light"
     },
     "output_type": "display_data"
    }
   ],
   "source": [
    "# Amostra 500\n",
    "sns.distplot(alturas);"
   ]
  },
  {
   "cell_type": "code",
   "execution_count": 49,
   "metadata": {},
   "outputs": [],
   "source": [
    "medias = [np.mean(np.random.randint(126,192,500)) for _ in range(1000)]"
   ]
  },
  {
   "cell_type": "code",
   "execution_count": 50,
   "metadata": {},
   "outputs": [
    {
     "data": {
      "text/plain": [
       "(list, 1000)"
      ]
     },
     "execution_count": 50,
     "metadata": {},
     "output_type": "execute_result"
    }
   ],
   "source": [
    "type(medias), len(medias)"
   ]
  },
  {
   "cell_type": "code",
   "execution_count": 51,
   "metadata": {
    "scrolled": true
   },
   "outputs": [
    {
     "name": "stdout",
     "output_type": "stream",
     "text": [
      "[157.248, 158.988, 159.548, 158.406, 158.8, 158.15, 158.61, 157.974, 159.83, 157.41, 159.96, 160.608, 158.346, 160.512, 159.06, 158.606, 159.832, 157.998, 158.544, 157.546, 158.278, 158.142, 156.164, 157.152, 157.466, 157.978, 160.126, 159.856, 158.71, 157.1, 157.398, 157.57, 157.918, 159.634, 158.03, 156.958, 159.12, 157.974, 157.07, 159.638, 158.56, 157.974, 159.044, 156.9, 159.346, 158.266, 158.964, 157.984, 157.26, 159.48, 158.494, 157.946, 158.968, 157.82, 158.224, 159.11, 158.2, 158.2, 158.806, 158.27, 158.234, 158.5, 158.224, 156.402, 157.258, 157.788, 158.674, 159.036, 158.182, 159.694, 158.096, 158.608, 157.654, 157.598, 159.55, 159.586, 157.588, 156.328, 157.876, 157.476, 156.126, 159.886, 158.04, 158.642, 158.928, 157.65, 159.318, 158.144, 159.092, 157.528, 159.654, 157.402, 158.852, 158.788, 159.302, 157.924, 158.958, 157.9, 159.396, 157.348, 159.358, 158.826, 158.11, 158.426, 157.956, 157.472, 157.872, 159.158, 159.076, 157.292, 159.438, 158.728, 158.476, 158.96, 158.288, 159.028, 160.064, 157.684, 158.934, 158.268, 158.22, 159.232, 159.068, 158.186, 159.472, 158.412, 157.736, 158.388, 158.552, 158.444, 160.248, 157.814, 158.514, 158.864, 159.324, 157.182, 158.736, 158.47, 158.168, 158.748, 157.576, 158.094, 157.59, 158.106, 157.282, 158.286, 158.548, 159.662, 158.526, 158.36, 158.664, 159.65, 158.616, 158.396, 158.378, 158.196, 159.042, 158.242, 159.554, 158.954, 159.116, 158.258, 158.384, 158.636, 157.618, 158.612, 158.816, 158.206, 157.554, 159.046, 158.12, 158.766, 159.384, 157.3, 157.82, 158.486, 159.602, 159.184, 158.092, 157.648, 158.702, 158.258, 159.63, 159.156, 158.184, 158.81, 157.922, 159.292, 159.364, 159.994, 158.886, 156.954, 158.516, 158.398, 158.77, 157.938, 158.956, 158.47, 157.538, 158.434, 158.072, 157.884, 156.99, 158.312, 157.378, 157.96, 156.662, 159.468, 159.428, 156.806, 158.64, 159.128, 158.606, 157.644, 159.482, 159.73, 158.58, 158.968, 160.23, 158.25, 158.94, 158.504, 158.662, 159.152, 159.622, 157.518, 157.968, 159.174, 157.938, 158.102, 158.458, 156.836, 158.344, 158.752, 158.696, 159.502, 158.012, 159.976, 158.948, 157.722, 158.266, 159.264, 159.386, 158.386, 159.21, 159.582, 157.218, 157.92, 158.676, 158.434, 159.15, 157.18, 157.83, 158.622, 156.664, 159.436, 156.92, 158.932, 159.294, 158.348, 158.438, 158.554, 158.46, 157.584, 158.51, 158.156, 157.486, 159.244, 158.878, 157.554, 160.552, 158.678, 160.606, 158.336, 159.73, 158.866, 158.232, 158.246, 158.766, 158.942, 158.462, 157.416, 158.318, 157.12, 159.18, 158.67, 157.986, 158.712, 157.982, 159.228, 158.732, 157.532, 160.53, 158.824, 158.25, 160.486, 159.244, 158.392, 157.83, 159.748, 157.688, 157.738, 160.398, 159.144, 159.13, 158.658, 159.002, 160.16, 158.628, 159.512, 158.772, 157.356, 157.748, 160.326, 160.504, 160.608, 158.288, 157.446, 158.338, 159.176, 157.394, 156.412, 157.806, 158.906, 157.868, 157.74, 158.376, 158.888, 156.87, 157.368, 159.722, 159.122, 160.638, 157.518, 157.582, 159.18, 157.54, 159.152, 159.188, 158.362, 158.558, 158.018, 158.34, 157.962, 158.28, 158.386, 158.406, 158.546, 157.814, 158.886, 158.336, 158.374, 157.556, 158.086, 159.512, 159.692, 158.484, 158.868, 157.716, 158.014, 159.188, 158.908, 160.45, 157.244, 157.828, 159.594, 156.776, 159.592, 157.862, 158.538, 157.172, 159.416, 159.744, 158.15, 160.318, 159.066, 158.664, 158.416, 159.128, 157.662, 157.67, 158.986, 160.546, 159.506, 158.94, 158.496, 157.314, 157.106, 157.466, 158.048, 159.268, 157.674, 157.382, 159.72, 158.536, 158.492, 157.96, 158.844, 158.246, 160.074, 157.802, 157.172, 157.87, 158.15, 157.128, 158.478, 158.134, 157.7, 159.25, 158.856, 157.786, 158.622, 156.684, 159.042, 159.084, 157.402, 158.98, 158.346, 159.054, 157.854, 159.944, 157.314, 157.552, 160.138, 158.896, 159.426, 157.424, 158.544, 157.224, 159.042, 158.112, 159.292, 158.232, 158.452, 156.448, 158.278, 158.35, 158.02, 157.068, 159.066, 158.012, 157.372, 158.912, 158.806, 158.792, 158.44, 158.616, 159.466, 158.556, 158.6, 159.598, 157.418, 159.338, 159.286, 158.674, 158.628, 157.308, 157.954, 158.856, 159.184, 159.354, 158.384, 157.964, 158.054, 158.924, 158.578, 157.674, 159.612, 159.424, 160.046, 157.83, 159.068, 158.63, 159.732, 159.194, 157.358, 158.72, 158.35, 158.462, 160.026, 158.18, 158.446, 158.652, 159.396, 157.574, 158.912, 157.454, 158.258, 158.528, 158.694, 159.622, 157.73, 157.938, 158.2, 158.264, 157.308, 158.442, 157.9, 158.588, 158.026, 158.074, 159.524, 158.052, 158.396, 159.13, 158.936, 159.404, 159.156, 158.314, 158.016, 157.77, 159.618, 158.464, 159.85, 158.08, 157.13, 157.538, 156.74, 157.88, 158.514, 157.32, 159.47, 159.606, 158.296, 157.812, 159.116, 159.098, 159.818, 159.12, 159.472, 158.074, 158.682, 158.856, 157.376, 156.952, 159.84, 158.134, 158.572, 159.068, 158.108, 158.994, 158.646, 158.634, 158.708, 159.288, 159.114, 159.918, 159.406, 158.584, 157.894, 158.428, 157.664, 158.178, 157.606, 157.948, 157.3, 157.838, 158.63, 159.074, 159.362, 158.686, 158.974, 159.408, 158.014, 158.52, 158.548, 157.938, 158.088, 158.896, 159.0, 158.266, 158.816, 157.756, 159.0, 157.388, 158.022, 159.09, 159.464, 158.284, 157.934, 158.376, 158.526, 158.718, 157.352, 158.316, 160.714, 157.372, 158.736, 158.468, 159.322, 158.828, 157.686, 158.99, 158.628, 158.536, 159.844, 158.65, 157.844, 157.696, 158.814, 158.552, 156.178, 158.128, 158.628, 159.382, 156.38, 158.088, 157.13, 158.762, 157.9, 158.216, 157.046, 158.838, 157.47, 158.568, 156.268, 157.182, 159.106, 158.244, 159.026, 159.168, 160.034, 157.654, 158.03, 159.118, 157.858, 158.23, 159.022, 159.716, 158.216, 159.446, 158.828, 157.45, 159.562, 157.566, 159.46, 159.184, 158.846, 157.608, 159.034, 159.57, 156.826, 159.674, 157.192, 158.618, 159.498, 158.784, 158.708, 159.55, 155.732, 158.41, 157.236, 158.832, 159.422, 158.188, 158.91, 157.86, 160.426, 158.912, 159.452, 159.358, 158.39, 158.36, 158.15, 158.056, 158.624, 157.932, 159.788, 158.506, 159.284, 158.584, 157.626, 157.904, 158.02, 159.594, 158.212, 156.578, 158.494, 158.622, 158.566, 158.036, 159.956, 158.608, 156.106, 158.812, 158.066, 159.524, 159.518, 158.416, 157.142, 159.544, 156.39, 159.428, 158.776, 157.744, 156.986, 158.892, 159.598, 159.434, 157.168, 158.336, 157.59, 156.994, 156.694, 158.94, 157.994, 157.574, 158.234, 158.098, 160.512, 158.444, 158.378, 158.828, 159.53, 158.816, 157.29, 159.782, 159.376, 157.182, 157.0, 158.382, 158.6, 159.718, 159.192, 159.418, 159.582, 160.004, 158.574, 158.658, 157.928, 159.206, 158.23, 159.388, 159.228, 158.148, 159.314, 158.068, 158.454, 158.64, 157.75, 157.368, 157.274, 159.16, 157.35, 159.464, 159.454, 158.286, 157.698, 158.456, 158.652, 160.044, 158.716, 158.2, 158.774, 159.576, 156.916, 158.614, 157.192, 157.59, 157.444, 159.208, 159.794, 158.352, 158.26, 157.928, 158.46, 159.37, 158.922, 159.776, 159.812, 159.464, 157.586, 158.218, 158.16, 157.986, 157.202, 158.232, 159.066, 159.166, 158.67, 158.594, 157.552, 158.8, 159.242, 157.742, 158.514, 159.486, 158.568, 157.858, 159.26, 158.338, 157.174, 157.908, 158.476, 158.588, 158.35, 159.478, 157.872, 159.562, 157.614, 157.334, 158.904, 159.958, 159.136, 158.394, 158.288, 159.854, 157.842, 159.182, 158.324, 157.442, 158.142, 160.252, 159.302, 158.502, 158.572, 160.06, 159.29, 157.972, 157.364, 158.766, 158.11, 158.636, 159.55, 158.61, 158.688, 158.604, 158.586, 158.954, 157.652, 158.162, 158.482, 158.662, 158.772, 159.32, 157.806, 158.65, 158.466, 158.31, 157.666, 159.492, 158.696, 159.002, 158.008, 159.182, 156.83, 158.314, 160.408, 159.068, 158.498, 158.708, 158.278, 158.488, 158.166, 158.122, 158.466, 159.908, 157.408, 158.324, 158.966, 159.604, 159.346, 159.854, 158.562, 158.004, 159.116, 159.01, 157.662, 159.4, 158.898, 157.652, 159.194, 158.476, 157.66, 157.544, 158.826, 160.178, 157.966, 159.634, 159.124, 158.974, 158.87, 158.354, 158.982, 158.542, 158.842, 158.116, 158.446, 156.444, 159.206, 156.9, 158.944, 158.256, 158.682, 158.408, 156.562, 157.834, 157.668, 159.048, 158.102, 158.81, 158.246, 156.024, 159.524, 158.116, 157.516, 159.732, 157.012, 157.778, 158.164, 158.664, 158.75, 158.168, 159.086, 159.282, 158.032, 158.368, 159.55, 157.2, 157.432, 158.224, 159.656, 159.754, 158.782, 159.802, 159.268, 158.94, 159.364, 159.492, 158.412, 159.238, 158.058, 159.542, 159.078, 159.862, 156.94, 160.252, 157.964, 160.134, 158.076, 157.92, 156.77, 159.726, 160.108, 157.77, 157.302, 157.802, 157.564, 158.81, 157.712, 158.168, 157.05, 157.026, 158.856, 157.7, 159.808, 158.466, 156.658, 158.278, 157.096, 157.52, 159.36, 157.948, 158.718, 158.412, 158.47, 157.544, 158.39, 158.694, 158.708, 159.122, 158.732, 158.034, 157.294, 158.516, 158.028, 159.694, 156.816, 160.032, 159.236, 157.302, 159.094, 158.764, 155.194, 158.786, 158.85, 157.38, 158.384, 157.366, 158.186, 158.484, 159.316, 159.612, 159.076, 159.056, 158.074, 156.56, 158.16, 159.54, 158.702]\n"
     ]
    }
   ],
   "source": [
    "print(medias)"
   ]
  },
  {
   "cell_type": "code",
   "execution_count": 52,
   "metadata": {},
   "outputs": [
    {
     "data": {
      "image/png": "[encoded data removed]",
      "text/plain": [
       "<Figure size 432x288 with 1 Axes>"
      ]
     },
     "metadata": {
      "needs_background": "light"
     },
     "output_type": "display_data"
    }
   ],
   "source": [
    "# Amostra 1000\n",
    "sns.distplot(medias);"
   ]
  },
  {
   "cell_type": "code",
   "execution_count": null,
   "metadata": {},
   "outputs": [],
   "source": []
  }
 ],
 "metadata": {
  "kernelspec": {
   "display_name": "Python 3",
   "language": "python",
   "name": "python3"
  },
  "language_info": {
   "codemirror_mode": {
    "name": "ipython",
    "version": 3
   },
   "file_extension": ".py",
   "mimetype": "text/x-python",
   "name": "python",
   "nbconvert_exporter": "python",
   "pygments_lexer": "ipython3",
   "version": "3.7.6"
  }
 },
 "nbformat": 4,
 "nbformat_minor": 4
}
