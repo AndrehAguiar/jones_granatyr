{
 "cells": [
  {
   "cell_type": "markdown",
   "metadata": {},
   "source": [
    "# Introdução ao spaCy\n",
    "# Etapa 1: Instalação do spaCy"
   ]
  },
  {
   "cell_type": "code",
   "execution_count": null,
   "metadata": {},
   "outputs": [],
   "source": [
    "#!pip install spacy --upgrade\n",
    "!pip install spacy==2.2.3"
   ]
  },
  {
   "cell_type": "code",
   "execution_count": 1,
   "metadata": {},
   "outputs": [
    {
     "data": {
      "text/plain": [
       "'2.2.3'"
      ]
     },
     "execution_count": 1,
     "metadata": {},
     "output_type": "execute_result"
    }
   ],
   "source": [
    "import spacy\n",
    "spacy.__version__"
   ]
  },
  {
   "cell_type": "code",
   "execution_count": 2,
   "metadata": {
    "scrolled": true
   },
   "outputs": [
    {
     "name": "stdout",
     "output_type": "stream",
     "text": [
      "Collecting pt_core_news_sm==2.2.5\n",
      "  Downloading https://github.com/explosion/spacy-models/releases/download/pt_core_news_sm-2.2.5/pt_core_news_sm-2.2.5.tar.gz (21.2 MB)\n",
      "Requirement already satisfied: spacy>=2.2.2 in c:\\programdata\\anaconda3\\envs\\nlp_spacy\\lib\\site-packages (from pt_core_news_sm==2.2.5) (2.2.3)\n",
      "Requirement already satisfied: srsly<1.1.0,>=0.1.0 in c:\\programdata\\anaconda3\\envs\\nlp_spacy\\lib\\site-packages (from spacy>=2.2.2->pt_core_news_sm==2.2.5) (1.0.5)\n",
      "Requirement already satisfied: thinc<7.4.0,>=7.3.0 in c:\\programdata\\anaconda3\\envs\\nlp_spacy\\lib\\site-packages (from spacy>=2.2.2->pt_core_news_sm==2.2.5) (7.3.0)\n",
      "Requirement already satisfied: catalogue<1.1.0,>=0.0.7 in c:\\programdata\\anaconda3\\envs\\nlp_spacy\\lib\\site-packages (from spacy>=2.2.2->pt_core_news_sm==2.2.5) (1.0.0)\n",
      "Requirement already satisfied: requests<3.0.0,>=2.13.0 in c:\\programdata\\anaconda3\\envs\\nlp_spacy\\lib\\site-packages (from spacy>=2.2.2->pt_core_news_sm==2.2.5) (2.25.1)\n",
      "Requirement already satisfied: murmurhash<1.1.0,>=0.28.0 in c:\\programdata\\anaconda3\\envs\\nlp_spacy\\lib\\site-packages (from spacy>=2.2.2->pt_core_news_sm==2.2.5) (1.0.5)\n",
      "Requirement already satisfied: setuptools in c:\\programdata\\anaconda3\\envs\\nlp_spacy\\lib\\site-packages (from spacy>=2.2.2->pt_core_news_sm==2.2.5) (49.6.0.post20201009)\n",
      "Requirement already satisfied: numpy>=1.15.0 in c:\\programdata\\anaconda3\\envs\\nlp_spacy\\lib\\site-packages (from spacy>=2.2.2->pt_core_news_sm==2.2.5) (1.19.4)\n",
      "Requirement already satisfied: wasabi<1.1.0,>=0.4.0 in c:\\programdata\\anaconda3\\envs\\nlp_spacy\\lib\\site-packages (from spacy>=2.2.2->pt_core_news_sm==2.2.5) (0.8.0)\n",
      "Requirement already satisfied: blis<0.5.0,>=0.4.0 in c:\\programdata\\anaconda3\\envs\\nlp_spacy\\lib\\site-packages (from spacy>=2.2.2->pt_core_news_sm==2.2.5) (0.4.1)\n",
      "Requirement already satisfied: cymem<2.1.0,>=2.0.2 in c:\\programdata\\anaconda3\\envs\\nlp_spacy\\lib\\site-packages (from spacy>=2.2.2->pt_core_news_sm==2.2.5) (2.0.5)\n",
      "Requirement already satisfied: preshed<3.1.0,>=3.0.2 in c:\\programdata\\anaconda3\\envs\\nlp_spacy\\lib\\site-packages (from spacy>=2.2.2->pt_core_news_sm==2.2.5) (3.0.5)\n",
      "Requirement already satisfied: plac<1.2.0,>=0.9.6 in c:\\programdata\\anaconda3\\envs\\nlp_spacy\\lib\\site-packages (from spacy>=2.2.2->pt_core_news_sm==2.2.5) (0.9.6)\n",
      "Requirement already satisfied: tqdm<5.0.0,>=4.10.0 in c:\\programdata\\anaconda3\\envs\\nlp_spacy\\lib\\site-packages (from thinc<7.4.0,>=7.3.0->spacy>=2.2.2->pt_core_news_sm==2.2.5) (4.54.1)\n",
      "Requirement already satisfied: importlib-metadata>=0.20; python_version < \"3.8\" in c:\\programdata\\anaconda3\\envs\\nlp_spacy\\lib\\site-packages (from catalogue<1.1.0,>=0.0.7->spacy>=2.2.2->pt_core_news_sm==2.2.5) (3.3.0)\n",
      "Requirement already satisfied: urllib3<1.27,>=1.21.1 in c:\\programdata\\anaconda3\\envs\\nlp_spacy\\lib\\site-packages (from requests<3.0.0,>=2.13.0->spacy>=2.2.2->pt_core_news_sm==2.2.5) (1.26.2)\n",
      "Requirement already satisfied: certifi>=2017.4.17 in c:\\programdata\\anaconda3\\envs\\nlp_spacy\\lib\\site-packages (from requests<3.0.0,>=2.13.0->spacy>=2.2.2->pt_core_news_sm==2.2.5) (2020.12.5)\n",
      "Requirement already satisfied: chardet<5,>=3.0.2 in c:\\programdata\\anaconda3\\envs\\nlp_spacy\\lib\\site-packages (from requests<3.0.0,>=2.13.0->spacy>=2.2.2->pt_core_news_sm==2.2.5) (4.0.0)\n",
      "Requirement already satisfied: idna<3,>=2.5 in c:\\programdata\\anaconda3\\envs\\nlp_spacy\\lib\\site-packages (from requests<3.0.0,>=2.13.0->spacy>=2.2.2->pt_core_news_sm==2.2.5) (2.10)\n",
      "Requirement already satisfied: zipp>=0.5 in c:\\programdata\\anaconda3\\envs\\nlp_spacy\\lib\\site-packages (from importlib-metadata>=0.20; python_version < \"3.8\"->catalogue<1.1.0,>=0.0.7->spacy>=2.2.2->pt_core_news_sm==2.2.5) (3.4.0)\n",
      "Requirement already satisfied: typing-extensions>=3.6.4; python_version < \"3.8\" in c:\\programdata\\anaconda3\\envs\\nlp_spacy\\lib\\site-packages (from importlib-metadata>=0.20; python_version < \"3.8\"->catalogue<1.1.0,>=0.0.7->spacy>=2.2.2->pt_core_news_sm==2.2.5) (3.7.4.3)\n",
      "Building wheels for collected packages: pt-core-news-sm\n",
      "  Building wheel for pt-core-news-sm (setup.py): started\n",
      "  Building wheel for pt-core-news-sm (setup.py): finished with status 'done'\n",
      "  Created wheel for pt-core-news-sm: filename=pt_core_news_sm-2.2.5-py3-none-any.whl size=21186282 sha256=74b25e055cac6a4c17548f274f98a5a87dd76ad14e39722ad08aea5ed7c8a83c\n",
      "  Stored in directory: C:\\Users\\TOPART~1\\AppData\\Local\\Temp\\pip-ephem-wheel-cache-4sc32kbq\\wheels\\c3\\f9\\0c\\5c014a36941a00f5df5fc0756cb961d7c457a978e697a6ce3b\n",
      "Successfully built pt-core-news-sm\n",
      "Installing collected packages: pt-core-news-sm\n",
      "Successfully installed pt-core-news-sm-2.2.5\n",
      "Link simb¢lico criado para C:\\ProgramData\\Anaconda3\\envs\\nlp_spacy\\lib\\site-packages\\spacy\\data\\pt <<===>> C:\\ProgramData\\Anaconda3\\envs\\nlp_spacy\\lib\\site-packages\\pt_core_news_sm\n",
      "[+] Download and installation successful\n",
      "You can now load the model via spacy.load('pt_core_news_sm')\n",
      "[+] Linking successful\n",
      "C:\\ProgramData\\Anaconda3\\envs\\nlp_spacy\\lib\\site-packages\\pt_core_news_sm -->\n",
      "C:\\ProgramData\\Anaconda3\\envs\\nlp_spacy\\lib\\site-packages\\spacy\\data\\pt\n",
      "You can now load the model via spacy.load('pt')\n"
     ]
    },
    {
     "name": "stderr",
     "output_type": "stream",
     "text": [
      "WARNING: You are using pip version 20.1; however, version 20.3.3 is available.\n",
      "You should consider upgrading via the 'C:\\ProgramData\\Anaconda3\\envs\\nlp_spacy\\python.exe -m pip install --upgrade pip' command.\n"
     ]
    }
   ],
   "source": [
    "!python -m spacy download pt"
   ]
  },
  {
   "cell_type": "markdown",
   "metadata": {},
   "source": [
    "---\n",
    "# Etapa 2: Marcação POS\n",
    "\n",
    "- POS (part-of-speech) atribui para as palavras partes da fala, como substantivos, adjetivos, verbos\n",
    "- Importante para a detecção de entidades no texto, pois primeiro é necessário saber o que o texto contém\n",
    "- Lista de tokens: https://spacy.io/api/annotation#pos-tagging\n",
    "- Português: https://www.sketchengine.eu/portuguese-freeling-part-of-speech-tagset/"
   ]
  },
  {
   "cell_type": "code",
   "execution_count": 3,
   "metadata": {},
   "outputs": [
    {
     "data": {
      "text/plain": [
       "<spacy.lang.pt.Portuguese at 0x1da01e981c8>"
      ]
     },
     "execution_count": 3,
     "metadata": {},
     "output_type": "execute_result"
    }
   ],
   "source": [
    "pln = spacy.load('pt')\n",
    "pln"
   ]
  },
  {
   "cell_type": "code",
   "execution_count": 4,
   "metadata": {},
   "outputs": [
    {
     "name": "stdout",
     "output_type": "stream",
     "text": [
      "Estou AUX\n",
      "aprendendo VERB\n",
      "processamento NOUN\n",
      "de ADP\n",
      "linguagem NOUN\n",
      "natural ADJ\n",
      ", PUNCT\n",
      "curso NOUN\n",
      "Curitiba PROPN\n"
     ]
    }
   ],
   "source": [
    "doc = pln('Estou aprendendo processamento de linguagem natural, curso Curitiba')\n",
    "for token in doc:\n",
    "    print(token.text, token.pos_)"
   ]
  },
  {
   "cell_type": "markdown",
   "metadata": {},
   "source": [
    "---\n",
    "## Legenda \n",
    "\n",
    "- lemma: raiz da palavra\n",
    "- pos: parte da fala\n",
    "- tag: informações morfológicas, como se o verbo está no passado\n",
    "- dep: dependência sintática\n",
    "- shape: formato (maiúsculo, minúsculo, dígitos)\n",
    "- alpha: se é alfabético\n",
    "- stop: se é stopword"
   ]
  },
  {
   "cell_type": "code",
   "execution_count": null,
   "metadata": {},
   "outputs": [],
   "source": []
  }
 ],
 "metadata": {
  "kernelspec": {
   "display_name": "Python 3",
   "language": "python",
   "name": "python3"
  },
  "language_info": {
   "codemirror_mode": {
    "name": "ipython",
    "version": 3
   },
   "file_extension": ".py",
   "mimetype": "text/x-python",
   "name": "python",
   "nbconvert_exporter": "python",
   "pygments_lexer": "ipython3",
   "version": "3.7.9"
  }
 },
 "nbformat": 4,
 "nbformat_minor": 4
}
