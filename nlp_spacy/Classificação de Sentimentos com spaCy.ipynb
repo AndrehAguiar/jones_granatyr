{
 "cells": [
  {
   "cell_type": "markdown",
   "metadata": {},
   "source": [
    "# Classificação de textos com spaCy"
   ]
  },
  {
   "cell_type": "markdown",
   "metadata": {},
   "source": [
    "# Etapa 1: Importação e instalação das bibliotecas"
   ]
  },
  {
   "cell_type": "code",
   "execution_count": 1,
   "metadata": {},
   "outputs": [],
   "source": [
    "import pandas as pd\n",
    "import string\n",
    "import spacy\n",
    "import random\n",
    "import seaborn as sns\n",
    "import numpy as np"
   ]
  },
  {
   "cell_type": "code",
   "execution_count": 2,
   "metadata": {},
   "outputs": [
    {
     "data": {
      "text/plain": [
       "'2.2.3'"
      ]
     },
     "execution_count": 2,
     "metadata": {},
     "output_type": "execute_result"
    }
   ],
   "source": [
    "spacy.__version__"
   ]
  },
  {
   "cell_type": "markdown",
   "metadata": {},
   "source": [
    "# Etapa 2: Carregamento da base de dados"
   ]
  },
  {
   "cell_type": "code",
   "execution_count": 3,
   "metadata": {},
   "outputs": [
    {
     "data": {
      "text/plain": [
       "(196, 2)"
      ]
     },
     "execution_count": 3,
     "metadata": {},
     "output_type": "execute_result"
    }
   ],
   "source": [
    "df_train = pd.read_csv('base_treinamento.txt', encoding='utf-8')\n",
    "df_train.shape"
   ]
  },
  {
   "cell_type": "code",
   "execution_count": 4,
   "metadata": {},
   "outputs": [
    {
     "data": {
      "text/html": [
       "<div>\n",
       "<style scoped>\n",
       "    .dataframe tbody tr th:only-of-type {\n",
       "        vertical-align: middle;\n",
       "    }\n",
       "\n",
       "    .dataframe tbody tr th {\n",
       "        vertical-align: top;\n",
       "    }\n",
       "\n",
       "    .dataframe thead th {\n",
       "        text-align: right;\n",
       "    }\n",
       "</style>\n",
       "<table border=\"1\" class=\"dataframe\">\n",
       "  <thead>\n",
       "    <tr style=\"text-align: right;\">\n",
       "      <th></th>\n",
       "      <th>texto</th>\n",
       "      <th>emocao</th>\n",
       "    </tr>\n",
       "  </thead>\n",
       "  <tbody>\n",
       "    <tr>\n",
       "      <th>0</th>\n",
       "      <td>este trabalho é agradável</td>\n",
       "      <td>alegria</td>\n",
       "    </tr>\n",
       "    <tr>\n",
       "      <th>1</th>\n",
       "      <td>gosto de ficar no seu aconchego</td>\n",
       "      <td>alegria</td>\n",
       "    </tr>\n",
       "    <tr>\n",
       "      <th>2</th>\n",
       "      <td>fiz a adesão ao curso hoje</td>\n",
       "      <td>alegria</td>\n",
       "    </tr>\n",
       "    <tr>\n",
       "      <th>3</th>\n",
       "      <td>eu sou admirada por muitos</td>\n",
       "      <td>alegria</td>\n",
       "    </tr>\n",
       "    <tr>\n",
       "      <th>4</th>\n",
       "      <td>adoro como você</td>\n",
       "      <td>alegria</td>\n",
       "    </tr>\n",
       "  </tbody>\n",
       "</table>\n",
       "</div>"
      ],
      "text/plain": [
       "                             texto   emocao\n",
       "0        este trabalho é agradável  alegria\n",
       "1  gosto de ficar no seu aconchego  alegria\n",
       "2       fiz a adesão ao curso hoje  alegria\n",
       "3       eu sou admirada por muitos  alegria\n",
       "4                  adoro como você  alegria"
      ]
     },
     "execution_count": 4,
     "metadata": {},
     "output_type": "execute_result"
    }
   ],
   "source": [
    "df_train.head()"
   ]
  },
  {
   "cell_type": "code",
   "execution_count": 5,
   "metadata": {},
   "outputs": [
    {
     "data": {
      "text/html": [
       "<div>\n",
       "<style scoped>\n",
       "    .dataframe tbody tr th:only-of-type {\n",
       "        vertical-align: middle;\n",
       "    }\n",
       "\n",
       "    .dataframe tbody tr th {\n",
       "        vertical-align: top;\n",
       "    }\n",
       "\n",
       "    .dataframe thead th {\n",
       "        text-align: right;\n",
       "    }\n",
       "</style>\n",
       "<table border=\"1\" class=\"dataframe\">\n",
       "  <thead>\n",
       "    <tr style=\"text-align: right;\">\n",
       "      <th></th>\n",
       "      <th>texto</th>\n",
       "      <th>emocao</th>\n",
       "    </tr>\n",
       "  </thead>\n",
       "  <tbody>\n",
       "    <tr>\n",
       "      <th>191</th>\n",
       "      <td>estou chocado e amedrontado com este assassina...</td>\n",
       "      <td>medo</td>\n",
       "    </tr>\n",
       "    <tr>\n",
       "      <th>192</th>\n",
       "      <td>é preciso afugenta com ímpeto este medo do inf...</td>\n",
       "      <td>medo</td>\n",
       "    </tr>\n",
       "    <tr>\n",
       "      <th>193</th>\n",
       "      <td>políticos usam suas forças para afugentar e am...</td>\n",
       "      <td>medo</td>\n",
       "    </tr>\n",
       "    <tr>\n",
       "      <th>194</th>\n",
       "      <td>o objetivo disso e apenas me amedrontar mais</td>\n",
       "      <td>medo</td>\n",
       "    </tr>\n",
       "    <tr>\n",
       "      <th>195</th>\n",
       "      <td>isso me apavora</td>\n",
       "      <td>medo</td>\n",
       "    </tr>\n",
       "  </tbody>\n",
       "</table>\n",
       "</div>"
      ],
      "text/plain": [
       "                                                 texto emocao\n",
       "191  estou chocado e amedrontado com este assassina...   medo\n",
       "192  é preciso afugenta com ímpeto este medo do inf...   medo\n",
       "193  políticos usam suas forças para afugentar e am...   medo\n",
       "194       o objetivo disso e apenas me amedrontar mais   medo\n",
       "195                                    isso me apavora   medo"
      ]
     },
     "execution_count": 5,
     "metadata": {},
     "output_type": "execute_result"
    }
   ],
   "source": [
    "df_train.tail()"
   ]
  },
  {
   "cell_type": "code",
   "execution_count": 6,
   "metadata": {},
   "outputs": [
    {
     "data": {
      "image/png": "[encoded data removed]",
      "text/plain": [
       "<Figure size 432x288 with 1 Axes>"
      ]
     },
     "metadata": {
      "needs_background": "light"
     },
     "output_type": "display_data"
    }
   ],
   "source": [
    "sns.countplot(x= 'emocao', data= df_train, label='Contagem');"
   ]
  },
  {
   "cell_type": "markdown",
   "metadata": {},
   "source": [
    "# Etapa 3: Função para pré-processamento dos textos"
   ]
  },
  {
   "cell_type": "code",
   "execution_count": 7,
   "metadata": {},
   "outputs": [
    {
     "data": {
      "text/plain": [
       "'!\"#$%&\\'()*+,-./:;<=>?@[\\\\]^_`{|}~'"
      ]
     },
     "execution_count": 7,
     "metadata": {},
     "output_type": "execute_result"
    }
   ],
   "source": [
    "pontuacoes = string.punctuation\n",
    "pontuacoes"
   ]
  },
  {
   "cell_type": "code",
   "execution_count": 8,
   "metadata": {
    "scrolled": true
   },
   "outputs": [
    {
     "name": "stdout",
     "output_type": "stream",
     "text": [
      "{'ao', 'esteve', 'grandes', 'nenhuma', 'devem', 'apontar', 'mas', 'não', 'na', 'tivemos', 'de', 'fez', 'dezasseis', 'quinze', 'dos', 'custa', 'tentar', 'local', 'nesta', 'fazeis', 'nas', 'grupo', 'quarto', 'vem', 'quatro', 'ser', 'maioria', 'alguns', 'grande', 'pelos', 'novos', 'caminho', 'estes', 'com', 'sou', 'perto', 'sim', 'da', 'as', 'conhecido', 'como', 'estive', 'novo', 'conselho', 'valor', 'estivestes', 'sob', 'estiveram', 'vinte', 'foste', 'me', 'dizer', 'pois', 'põem', 'sois', 'seu', 'próprio', 'fará', 'fora', 'vais', 'neste', 'estar', 'vai', 'está', 'meus', 'muitos', 'porquê', 'desde', 'esses', 'teve', 'só', 'após', 'faz', 'ademais', 'sei', 'bem', 'tiveram', 'aquele', 'pelas', 'mesmo', 'nada', 'talvez', 'quarta', 'esse', 'os', 'quê', 'vão', 'dar', 'atrás', 'ontem', 'ambas', 'qual', 'desse', 'sua', 'assim', 'duas', 'tentei', 'oito', 'outros', 'iniciar', 'ela', 'tendes', 'fazes', 'em', 'estão', 'tipo', 'maior', 'possível', 'eu', 'muito', 'vós', 'ali', 'tens', 'todo', 'fostes', 'seis', 'aquilo', 'outra', 'partir', 'doze', 'puderam', 'umas', 'sabe', 'deverá', 'quero', 'tudo', 'próximo', 'tive', 'pouco', 'cima', 'ainda', 'maiorias', 'aqueles', 'às', 'tem', 'algo', 'dez', 'pela', 'estará', 'tenho', 'somente', 'lá', 'sem', 'cedo', 'estiveste', 'uma', 'ligado', 'seus', 'através', 'estás', 'povo', 'no', 'final', 'das', 'sexta', 'agora', 'cá', 'nem', 'comprido', 'este', 'bom', 'dentro', 'adeus', 'fazem', 'sobre', 'cada', 'demais', 'primeira', 'você', 'tuas', 'nos', 'uns', 'cento', 'fazer', 'quem', 'meio', 'tão', 'pelo', 'então', 'até', 'parte', 'naquele', 'sempre', 'desta', 'sete', 'diante', 'estas', 'ver', 'vêm', 'nossas', 'onze', 'tais', 'contudo', 'teus', 'poderá', 'quieta', 'baixo', 'ter', 'teu', 'essa', 'daquela', 'já', 'segunda', 'dezoito', 'quanto', 'dezanove', 'exemplo', 'à', 'quieto', 'dois', 'vezes', 'outras', 'número', 'contra', 'porque', 'enquanto', 'algumas', 'boa', 'cinco', 'comprida', 'aqui', 'deve', 'podia', 'querem', 'minha', 'pôde', 'menor', 'logo', 'obrigado', 'aí', 'favor', 'onde', 'somos', 'veja', 'três', 'lugar', 'direita', 'vários', 'dessa', 'sexto', 'temos', 'oitavo', 'nessa', 'pegar', 'és', 'seria', 'apoio', 'pode', 'tanto', 'catorze', 'acerca', 'vossos', 'estado', 'nuns', 'lhe', 'se', 'vindo', 'ou', 'essas', 'estou', 'cujo', 'apoia', 'aos', 'podem', 'depois', 'certamente', 'deste', 'porquanto', 'cuja', 'bastante', 'certeza', 'nossa', 'tal', 'mais', 'relação', 'antes', 'isto', 'vinda', 'quer', 'num', 'esta', 'máximo', 'nível', 'des', 'daquele', 'posição', 'parece', 'aquela', 'inicio', 'minhas', 'geral', 'pontos', 'apenas', 'coisa', 'falta', 'corrente', 'pouca', 'tente', 'que', 'foram', 'além', 'próxima', 'conhecida', 'do', 'era', 'poder', 'te', 'um', 'vens', 'põe', 'foi', 'todas', 'novas', 'embora', 'quais', 'inclusive', 'estava', 'disso', 'fazia', 'segundo', 'tivestes', 'oitava', 'ambos', 'qualquer', 'porém', 'vocês', 'dão', 'fazemos', 'usar', 'faço', 'vossa', 'nunca', 'menos', 'lado', 'sistema', 'são', 'naquela', 'aquelas', 'usa', 'fomos', 'toda', 'obrigada', 'saber', 'numa', 'breve', 'possivelmente', 'todos', 'entre', 'irá', 'último', 'para', 'nossos', 'vez', 'mês', 'suas', 'zero', 'quinto', 'sétimo', 'também', 'nove', 'números', 'mal', 'portanto', 'meses', 'tarde', 'ponto', 'dizem', 'primeiro', 'têm', 'diz', 'fim', 'ele', 'terceiro', 'quando', 'meu', 'terceira', 'eventual', 'for', 'nova', 'vos', 'ora', 'área', 'debaixo', 'momento', 'posso', 'isso', 'eles', 'tua', 'estivemos', 'vossas', 'tu', 'elas', 'é', 'fui', 'nós', 'tentaram', 'forma', 'vosso', 'questão', 'ir', 'dá', 'por', 'tempo', 'treze', 'quinta', 'tanta', 'longe', 'tiveste', 'mil', 'nesse', 'nosso', 'dezassete', 'sétima'}\n"
     ]
    }
   ],
   "source": [
    "from spacy.lang.pt.stop_words import STOP_WORDS\n",
    "stop_words = STOP_WORDS\n",
    "print(stop_words)"
   ]
  },
  {
   "cell_type": "code",
   "execution_count": 9,
   "metadata": {},
   "outputs": [
    {
     "data": {
      "text/plain": [
       "413"
      ]
     },
     "execution_count": 9,
     "metadata": {},
     "output_type": "execute_result"
    }
   ],
   "source": [
    "len(stop_words)"
   ]
  },
  {
   "cell_type": "code",
   "execution_count": 10,
   "metadata": {},
   "outputs": [
    {
     "data": {
      "text/plain": [
       "<spacy.lang.pt.Portuguese at 0x20c693e3688>"
      ]
     },
     "execution_count": 10,
     "metadata": {},
     "output_type": "execute_result"
    }
   ],
   "source": [
    "pln = spacy.load('pt')\n",
    "pln"
   ]
  },
  {
   "cell_type": "code",
   "execution_count": 11,
   "metadata": {},
   "outputs": [],
   "source": [
    "def preprocess(texto:str)->tuple:\n",
    "        \n",
    "    documento = pln(texto.lower())\n",
    "    #lst_token = []\n",
    "    lst_lemma = []\n",
    "    \n",
    "    for token in documento:\n",
    "        #lst_token.append(token.text)\n",
    "        lst_lemma.append(token.lemma_)\n",
    "        \n",
    "    lst_lemma = [word for word in lst_lemma if word not in stop_words and word not in pontuacoes]\n",
    "    txt_clean = ' '.join([str(el) for el in lst_lemma if not el.isdigit()])\n",
    "        \n",
    "    return txt_clean"
   ]
  },
  {
   "cell_type": "code",
   "execution_count": 12,
   "metadata": {},
   "outputs": [
    {
     "data": {
      "text/plain": [
       "'aprender processamento linguagem natural cursar curitiba'"
      ]
     },
     "execution_count": 12,
     "metadata": {},
     "output_type": "execute_result"
    }
   ],
   "source": [
    "txt_clean = preprocess('Estou aprendendo processamento de linguagem natural, curso Curitiba')\n",
    "txt_clean"
   ]
  },
  {
   "cell_type": "markdown",
   "metadata": {},
   "source": [
    "# Etapa 4: Pré-processamento da base de dados"
   ]
  },
  {
   "cell_type": "markdown",
   "metadata": {},
   "source": [
    "## Limpeza dos textos"
   ]
  },
  {
   "cell_type": "code",
   "execution_count": 13,
   "metadata": {},
   "outputs": [
    {
     "data": {
      "text/html": [
       "<div>\n",
       "<style scoped>\n",
       "    .dataframe tbody tr th:only-of-type {\n",
       "        vertical-align: middle;\n",
       "    }\n",
       "\n",
       "    .dataframe tbody tr th {\n",
       "        vertical-align: top;\n",
       "    }\n",
       "\n",
       "    .dataframe thead th {\n",
       "        text-align: right;\n",
       "    }\n",
       "</style>\n",
       "<table border=\"1\" class=\"dataframe\">\n",
       "  <thead>\n",
       "    <tr style=\"text-align: right;\">\n",
       "      <th></th>\n",
       "      <th>texto</th>\n",
       "      <th>emocao</th>\n",
       "    </tr>\n",
       "  </thead>\n",
       "  <tbody>\n",
       "    <tr>\n",
       "      <th>0</th>\n",
       "      <td>este trabalho é agradável</td>\n",
       "      <td>alegria</td>\n",
       "    </tr>\n",
       "    <tr>\n",
       "      <th>1</th>\n",
       "      <td>gosto de ficar no seu aconchego</td>\n",
       "      <td>alegria</td>\n",
       "    </tr>\n",
       "    <tr>\n",
       "      <th>2</th>\n",
       "      <td>fiz a adesão ao curso hoje</td>\n",
       "      <td>alegria</td>\n",
       "    </tr>\n",
       "    <tr>\n",
       "      <th>3</th>\n",
       "      <td>eu sou admirada por muitos</td>\n",
       "      <td>alegria</td>\n",
       "    </tr>\n",
       "    <tr>\n",
       "      <th>4</th>\n",
       "      <td>adoro como você</td>\n",
       "      <td>alegria</td>\n",
       "    </tr>\n",
       "    <tr>\n",
       "      <th>5</th>\n",
       "      <td>adoro seu cabelo macio</td>\n",
       "      <td>alegria</td>\n",
       "    </tr>\n",
       "    <tr>\n",
       "      <th>6</th>\n",
       "      <td>adoro a cor dos seus olhos</td>\n",
       "      <td>alegria</td>\n",
       "    </tr>\n",
       "    <tr>\n",
       "      <th>7</th>\n",
       "      <td>somo tão amáveis um com o outro</td>\n",
       "      <td>alegria</td>\n",
       "    </tr>\n",
       "    <tr>\n",
       "      <th>8</th>\n",
       "      <td>sinto uma grande afeição por ele</td>\n",
       "      <td>alegria</td>\n",
       "    </tr>\n",
       "    <tr>\n",
       "      <th>9</th>\n",
       "      <td>quero agradar meus filhos</td>\n",
       "      <td>alegria</td>\n",
       "    </tr>\n",
       "  </tbody>\n",
       "</table>\n",
       "</div>"
      ],
      "text/plain": [
       "                              texto   emocao\n",
       "0         este trabalho é agradável  alegria\n",
       "1   gosto de ficar no seu aconchego  alegria\n",
       "2        fiz a adesão ao curso hoje  alegria\n",
       "3        eu sou admirada por muitos  alegria\n",
       "4                   adoro como você  alegria\n",
       "5            adoro seu cabelo macio  alegria\n",
       "6        adoro a cor dos seus olhos  alegria\n",
       "7   somo tão amáveis um com o outro  alegria\n",
       "8  sinto uma grande afeição por ele  alegria\n",
       "9         quero agradar meus filhos  alegria"
      ]
     },
     "execution_count": 13,
     "metadata": {},
     "output_type": "execute_result"
    }
   ],
   "source": [
    "df_train.head(10)"
   ]
  },
  {
   "cell_type": "code",
   "execution_count": 14,
   "metadata": {},
   "outputs": [],
   "source": [
    "df_train['texto'] = df_train['texto'].apply(preprocess)"
   ]
  },
  {
   "cell_type": "code",
   "execution_count": 15,
   "metadata": {},
   "outputs": [
    {
     "data": {
      "text/html": [
       "<div>\n",
       "<style scoped>\n",
       "    .dataframe tbody tr th:only-of-type {\n",
       "        vertical-align: middle;\n",
       "    }\n",
       "\n",
       "    .dataframe tbody tr th {\n",
       "        vertical-align: top;\n",
       "    }\n",
       "\n",
       "    .dataframe thead th {\n",
       "        text-align: right;\n",
       "    }\n",
       "</style>\n",
       "<table border=\"1\" class=\"dataframe\">\n",
       "  <thead>\n",
       "    <tr style=\"text-align: right;\">\n",
       "      <th></th>\n",
       "      <th>texto</th>\n",
       "      <th>emocao</th>\n",
       "    </tr>\n",
       "  </thead>\n",
       "  <tbody>\n",
       "    <tr>\n",
       "      <th>0</th>\n",
       "      <td>trabalhar agradável</td>\n",
       "      <td>alegria</td>\n",
       "    </tr>\n",
       "    <tr>\n",
       "      <th>1</th>\n",
       "      <td>gostar ficar o aconchegar</td>\n",
       "      <td>alegria</td>\n",
       "    </tr>\n",
       "    <tr>\n",
       "      <th>2</th>\n",
       "      <td>o adesão o o cursar hoje</td>\n",
       "      <td>alegria</td>\n",
       "    </tr>\n",
       "    <tr>\n",
       "      <th>3</th>\n",
       "      <td>admirar</td>\n",
       "      <td>alegria</td>\n",
       "    </tr>\n",
       "    <tr>\n",
       "      <th>4</th>\n",
       "      <td>adorar comer</td>\n",
       "      <td>alegria</td>\n",
       "    </tr>\n",
       "  </tbody>\n",
       "</table>\n",
       "</div>"
      ],
      "text/plain": [
       "                       texto   emocao\n",
       "0        trabalhar agradável  alegria\n",
       "1  gostar ficar o aconchegar  alegria\n",
       "2   o adesão o o cursar hoje  alegria\n",
       "3                    admirar  alegria\n",
       "4               adorar comer  alegria"
      ]
     },
     "execution_count": 15,
     "metadata": {},
     "output_type": "execute_result"
    }
   ],
   "source": [
    "df_train.head()"
   ]
  },
  {
   "cell_type": "markdown",
   "metadata": {},
   "source": [
    "## Tratamento da classe"
   ]
  },
  {
   "cell_type": "code",
   "execution_count": 16,
   "metadata": {},
   "outputs": [],
   "source": [
    "exemplo_data = [['este trabalho é agradável',{'ALEGRIA':True, 'MEDO':False}],\n",
    "                 ['este lugar continua assustador',{'ALEGRIA':False,'MEDO':True}]]"
   ]
  },
  {
   "cell_type": "code",
   "execution_count": 17,
   "metadata": {},
   "outputs": [
    {
     "data": {
      "text/plain": [
       "list"
      ]
     },
     "execution_count": 17,
     "metadata": {},
     "output_type": "execute_result"
    }
   ],
   "source": [
    "type(exemplo_data)"
   ]
  },
  {
   "cell_type": "code",
   "execution_count": 18,
   "metadata": {},
   "outputs": [
    {
     "data": {
      "text/plain": [
       "'este trabalho é agradável'"
      ]
     },
     "execution_count": 18,
     "metadata": {},
     "output_type": "execute_result"
    }
   ],
   "source": [
    "exemplo_data[0][0]"
   ]
  },
  {
   "cell_type": "code",
   "execution_count": 19,
   "metadata": {},
   "outputs": [
    {
     "data": {
      "text/plain": [
       "{'ALEGRIA': True, 'MEDO': False}"
      ]
     },
     "execution_count": 19,
     "metadata": {},
     "output_type": "execute_result"
    }
   ],
   "source": [
    "exemplo_data[0][1]"
   ]
  },
  {
   "cell_type": "code",
   "execution_count": 20,
   "metadata": {},
   "outputs": [
    {
     "data": {
      "text/plain": [
       "dict"
      ]
     },
     "execution_count": 20,
     "metadata": {},
     "output_type": "execute_result"
    }
   ],
   "source": [
    "type(exemplo_data[0][1])"
   ]
  },
  {
   "cell_type": "code",
   "execution_count": 21,
   "metadata": {},
   "outputs": [],
   "source": [
    "X_train = []\n",
    "\n",
    "for texto, emocao in zip(df_train['texto'], df_train['emocao']):\n",
    "    #print(texto, emocao)\n",
    "    dct_classe = ({'ALEGRIA':emocao=='alegria', 'MEDO':emocao=='medo'})\n",
    "    \n",
    "    X_train.append([texto, dct_classe.copy()])"
   ]
  },
  {
   "cell_type": "code",
   "execution_count": 22,
   "metadata": {},
   "outputs": [
    {
     "data": {
      "text/plain": [
       "196"
      ]
     },
     "execution_count": 22,
     "metadata": {},
     "output_type": "execute_result"
    }
   ],
   "source": [
    "len(X_train)"
   ]
  },
  {
   "cell_type": "code",
   "execution_count": 23,
   "metadata": {},
   "outputs": [
    {
     "data": {
      "text/plain": [
       "['trabalhar agradável', {'ALEGRIA': True, 'MEDO': False}]"
      ]
     },
     "execution_count": 23,
     "metadata": {},
     "output_type": "execute_result"
    }
   ],
   "source": [
    "X_train[0]"
   ]
  },
  {
   "cell_type": "code",
   "execution_count": 24,
   "metadata": {},
   "outputs": [
    {
     "data": {
      "text/plain": [
       "'trabalhar agradável'"
      ]
     },
     "execution_count": 24,
     "metadata": {},
     "output_type": "execute_result"
    }
   ],
   "source": [
    "X_train[0][0]"
   ]
  },
  {
   "cell_type": "code",
   "execution_count": 25,
   "metadata": {},
   "outputs": [
    {
     "data": {
      "text/plain": [
       "{'ALEGRIA': True, 'MEDO': False}"
      ]
     },
     "execution_count": 25,
     "metadata": {},
     "output_type": "execute_result"
    }
   ],
   "source": [
    "X_train[0][1]"
   ]
  },
  {
   "cell_type": "code",
   "execution_count": 26,
   "metadata": {},
   "outputs": [
    {
     "data": {
      "text/plain": [
       "dict"
      ]
     },
     "execution_count": 26,
     "metadata": {},
     "output_type": "execute_result"
    }
   ],
   "source": [
    "type(X_train[0][1])"
   ]
  },
  {
   "cell_type": "code",
   "execution_count": 27,
   "metadata": {},
   "outputs": [
    {
     "data": {
      "text/plain": [
       "[['trabalhar agradável', {'ALEGRIA': True, 'MEDO': False}],\n",
       " ['gostar ficar o aconchegar', {'ALEGRIA': True, 'MEDO': False}],\n",
       " ['o adesão o o cursar hoje', {'ALEGRIA': True, 'MEDO': False}],\n",
       " ['admirar', {'ALEGRIA': True, 'MEDO': False}],\n",
       " ['adorar comer', {'ALEGRIA': True, 'MEDO': False}],\n",
       " ['adorar cabelar maciar', {'ALEGRIA': True, 'MEDO': False}],\n",
       " ['adorar o cor olho', {'ALEGRIA': True, 'MEDO': False}],\n",
       " ['somar amável o outro', {'ALEGRIA': True, 'MEDO': False}],\n",
       " ['sentir umar afeição', {'ALEGRIA': True, 'MEDO': False}],\n",
       " ['querer agradar filho', {'ALEGRIA': True, 'MEDO': False}],\n",
       " ['sentir completamente amar', {'ALEGRIA': True, 'MEDO': False}],\n",
       " ['amar', {'ALEGRIA': True, 'MEDO': False}],\n",
       " ['alívio', {'ALEGRIA': True, 'MEDO': False}],\n",
       " ['o dor amenizar finalmente', {'ALEGRIA': True, 'MEDO': False}],\n",
       " ['achar apaixonar', {'ALEGRIA': True, 'MEDO': False}],\n",
       " ['amar maravilhoso', {'ALEGRIA': True, 'MEDO': False}],\n",
       " ['sentir animar', {'ALEGRIA': True, 'MEDO': False}],\n",
       " ['sentir hoje', {'ALEGRIA': True, 'MEDO': False}],\n",
       " ['comer o luar belo', {'ALEGRIA': True, 'MEDO': False}],\n",
       " ['o dia bonito', {'ALEGRIA': True, 'MEDO': False}],\n",
       " ['comer afortunar', {'ALEGRIA': True, 'MEDO': False}],\n",
       " ['o maravilhar mundo', {'ALEGRIA': True, 'MEDO': False}],\n",
       " ['receber caro hoje colega', {'ALEGRIA': True, 'MEDO': False}],\n",
       " ['sentir reconfortar hoje', {'ALEGRIA': True, 'MEDO': False}],\n",
       " ['o amigo', {'ALEGRIA': True, 'MEDO': False}],\n",
       " ['contentar o resultar teste', {'ALEGRIA': True, 'MEDO': False}],\n",
       " ['pintura brilhante', {'ALEGRIA': True, 'MEDO': False}],\n",
       " ['água abundância', {'ALEGRIA': True, 'MEDO': False}],\n",
       " ['roupar delicado', {'ALEGRIA': True, 'MEDO': False}],\n",
       " ['comediante', {'ALEGRIA': True, 'MEDO': False}],\n",
       " ['bondade o suar', {'ALEGRIA': True, 'MEDO': False}],\n",
       " ['o amor lindar', {'ALEGRIA': True, 'MEDO': False}],\n",
       " ['amizade durar parir', {'ALEGRIA': True, 'MEDO': False}],\n",
       " ['eufórico o notícia', {'ALEGRIA': True, 'MEDO': False}],\n",
       " ['realmente fiel o mim', {'ALEGRIA': True, 'MEDO': False}],\n",
       " ['umar festa parir comemorar aniversário', {'ALEGRIA': True, 'MEDO': False}],\n",
       " ['graça o deus enxergar o certar', {'ALEGRIA': True, 'MEDO': False}],\n",
       " ['o melhor escolher', {'ALEGRIA': True, 'MEDO': False}],\n",
       " ['o incrível belo', {'ALEGRIA': True, 'MEDO': False}],\n",
       " ['engraçar explicar', {'ALEGRIA': True, 'MEDO': False}],\n",
       " ['emocionante n', {'ALEGRIA': True, 'MEDO': False}],\n",
       " ['cativar pelar olhar', {'ALEGRIA': True, 'MEDO': False}],\n",
       " ['loucamente apaixonar', {'ALEGRIA': True, 'MEDO': False}],\n",
       " ['dúvida', {'ALEGRIA': True, 'MEDO': False}],\n",
       " ['rodear pelar abraçar', {'ALEGRIA': True, 'MEDO': False}],\n",
       " ['estrelo pelar caminhar', {'ALEGRIA': True, 'MEDO': False}],\n",
       " ['sentir o sol', {'ALEGRIA': True, 'MEDO': False}],\n",
       " ['sorrir orelhar o orelhar', {'ALEGRIA': True, 'MEDO': False}],\n",
       " ['valer o peno', {'ALEGRIA': True, 'MEDO': False}],\n",
       " ['finalmente colocar amor', {'ALEGRIA': True, 'MEDO': False}],\n",
       " ['nó dançar noite adentrar', {'ALEGRIA': True, 'MEDO': False}],\n",
       " ['amor brilhante', {'ALEGRIA': True, 'MEDO': False}],\n",
       " ['tocar coração durante o caminhar', {'ALEGRIA': True, 'MEDO': False}],\n",
       " ['suar amigo e companheiro', {'ALEGRIA': True, 'MEDO': False}],\n",
       " ['trazer voltar o vidar', {'ALEGRIA': True, 'MEDO': False}],\n",
       " ['e comer sonhar doce', {'ALEGRIA': True, 'MEDO': False}],\n",
       " ['adorar doce frutar', {'ALEGRIA': True, 'MEDO': False}],\n",
       " ['suco favorito', {'ALEGRIA': True, 'MEDO': False}],\n",
       " ['agradecido pelar ajudar', {'ALEGRIA': True, 'MEDO': False}],\n",
       " ['enorme prazer equipar', {'ALEGRIA': True, 'MEDO': False}],\n",
       " ['trabalhar equipar o melhor', {'ALEGRIA': True, 'MEDO': False}],\n",
       " ['sentir flutuar o ar', {'ALEGRIA': True, 'MEDO': False}],\n",
       " ['o brisa agradável hoje', {'ALEGRIA': True, 'MEDO': False}],\n",
       " ['ótimo e compatível', {'ALEGRIA': True, 'MEDO': False}],\n",
       " ['compatível o outro', {'ALEGRIA': True, 'MEDO': False}],\n",
       " ['o órgão compatível o paciente', {'ALEGRIA': True, 'MEDO': False}],\n",
       " ['contentar aceito o faculdade', {'ALEGRIA': True, 'MEDO': False}],\n",
       " ['aprovar o exame', {'ALEGRIA': True, 'MEDO': False}],\n",
       " ['beneficiar pelar empresar', {'ALEGRIA': True, 'MEDO': False}],\n",
       " ['cativante', {'ALEGRIA': True, 'MEDO': False}],\n",
       " ['contentar o apoiar', {'ALEGRIA': True, 'MEDO': False}],\n",
       " ['comer e confortável', {'ALEGRIA': True, 'MEDO': False}],\n",
       " ['e quentar n frio', {'ALEGRIA': True, 'MEDO': False}],\n",
       " ['elogiar e', {'ALEGRIA': True, 'MEDO': False}],\n",
       " ['chamar parir comemorar', {'ALEGRIA': True, 'MEDO': False}],\n",
       " ['desejável o suar presença apresentação', {'ALEGRIA': True, 'MEDO': False}],\n",
       " ['grato o', {'ALEGRIA': True, 'MEDO': False}],\n",
       " ['dedicar n', {'ALEGRIA': True, 'MEDO': False}],\n",
       " ['completamente apaixonar', {'ALEGRIA': True, 'MEDO': False}],\n",
       " ['agitar noite', {'ALEGRIA': True, 'MEDO': False}],\n",
       " ['significar parir mim', {'ALEGRIA': True, 'MEDO': False}],\n",
       " ['agir preconceito e julgamento', {'ALEGRIA': True, 'MEDO': False}],\n",
       " ['finalmente completar o coleção maravilhoso',\n",
       "  {'ALEGRIA': True, 'MEDO': False}],\n",
       " ['suar rei', {'ALEGRIA': True, 'MEDO': False}],\n",
       " ['satisfatoriamente anunciar o vencedor jogo',\n",
       "  {'ALEGRIA': True, 'MEDO': False}],\n",
       " ['atrair facilmente', {'ALEGRIA': True, 'MEDO': False}],\n",
       " ['rapaz e extremamente atraente', {'ALEGRIA': True, 'MEDO': False}],\n",
       " ['sinto-me vivo', {'ALEGRIA': True, 'MEDO': False}],\n",
       " ['sinto-me paz', {'ALEGRIA': True, 'MEDO': False}],\n",
       " ['lucrar', {'ALEGRIA': True, 'MEDO': False}],\n",
       " ['ordem', {'ALEGRIA': True, 'MEDO': False}],\n",
       " ['arrumar empregar junto', {'ALEGRIA': True, 'MEDO': False}],\n",
       " ['o arrumação terminar alívio', {'ALEGRIA': True, 'MEDO': False}],\n",
       " ['o câncer benigno', {'ALEGRIA': True, 'MEDO': False}],\n",
       " ['o amor abundante', {'ALEGRIA': True, 'MEDO': False}],\n",
       " ['caridoso natal', {'ALEGRIA': True, 'MEDO': False}],\n",
       " ['charme irar atrair o', {'ALEGRIA': True, 'MEDO': False}],\n",
       " ['comer charmoso querer', {'ALEGRIA': True, 'MEDO': False}],\n",
       " ['querido amigo', {'ALEGRIA': True, 'MEDO': False}],\n",
       " ['cuidadoso o sentimento', {'ALEGRIA': True, 'MEDO': False}],\n",
       " ['comover tamanho caridade', {'ALEGRIA': True, 'MEDO': False}],\n",
       " ['chá quentar e reconfortante', {'ALEGRIA': True, 'MEDO': False}],\n",
       " ['alegria', {'ALEGRIA': True, 'MEDO': False}],\n",
       " ['aplaudir o vencedor', {'ALEGRIA': True, 'MEDO': False}],\n",
       " ['palmar parir o aniversariante', {'ALEGRIA': True, 'MEDO': False}],\n",
       " ['desejar o', {'ALEGRIA': True, 'MEDO': False}],\n",
       " ['horar apreciar vinho', {'ALEGRIA': True, 'MEDO': False}],\n",
       " ['apreciar suar presença escola', {'ALEGRIA': True, 'MEDO': False}],\n",
       " ['ansiar trabalho', {'ALEGRIA': True, 'MEDO': False}],\n",
       " ['maravilhoso jogar amistoso', {'ALEGRIA': True, 'MEDO': False}],\n",
       " ['e ótimo o menimos apaziguar', {'ALEGRIA': True, 'MEDO': False}],\n",
       " ['concretizar finalmente sonhar', {'ALEGRIA': True, 'MEDO': False}],\n",
       " ['implorar matar', {'ALEGRIA': False, 'MEDO': True}],\n",
       " ['perigoso', {'ALEGRIA': False, 'MEDO': True}],\n",
       " ['segurar', {'ALEGRIA': False, 'MEDO': True}],\n",
       " ['correr pra', {'ALEGRIA': False, 'MEDO': True}],\n",
       " ['socorrer querer roubar o doce', {'ALEGRIA': False, 'MEDO': True}],\n",
       " ['caro perseguir', {'ALEGRIA': False, 'MEDO': True}],\n",
       " ['entrar perigoso', {'ALEGRIA': False, 'MEDO': True}],\n",
       " ['continuar assustador', {'ALEGRIA': False, 'MEDO': True}],\n",
       " ['o selva animar perigoso', {'ALEGRIA': False, 'MEDO': True}],\n",
       " ['avançar cautela', {'ALEGRIA': False, 'MEDO': True}],\n",
       " ['silencioso cuidar', {'ALEGRIA': False, 'MEDO': True}],\n",
       " ['deixe-me viver', {'ALEGRIA': False, 'MEDO': True}],\n",
       " ['ficar mesada tirar noto', {'ALEGRIA': False, 'MEDO': True}],\n",
       " ['parecer olho o vigiar', {'ALEGRIA': False, 'MEDO': True}],\n",
       " ['o sentença juiz negativo', {'ALEGRIA': False, 'MEDO': True}],\n",
       " ['missão arriscar', {'ALEGRIA': False, 'MEDO': True}],\n",
       " ['salvem-se', {'ALEGRIA': False, 'MEDO': True}],\n",
       " ['planar descobrir', {'ALEGRIA': False, 'MEDO': True}],\n",
       " ['culpar jurar', {'ALEGRIA': False, 'MEDO': True}],\n",
       " ['tomar cuidar o lobisomem', {'ALEGRIA': False, 'MEDO': True}],\n",
       " ['achar descobrir o verdade', {'ALEGRIA': False, 'MEDO': True}],\n",
       " ['deus desaparecer', {'ALEGRIA': False, 'MEDO': True}],\n",
       " ['tomar d', {'ALEGRIA': False, 'MEDO': True}],\n",
       " ['manter segredar descobrir ferrar', {'ALEGRIA': False, 'MEDO': True}],\n",
       " ['soltar inocentar', {'ALEGRIA': False, 'MEDO': True}],\n",
       " ['ouvir passo mim', {'ALEGRIA': False, 'MEDO': True}],\n",
       " ['pedir socorrer', {'ALEGRIA': False, 'MEDO': True}],\n",
       " ['cuidar o curvo o estrar', {'ALEGRIA': False, 'MEDO': True}],\n",
       " ['parecer perigoso', {'ALEGRIA': False, 'MEDO': True}],\n",
       " ['tremer medo', {'ALEGRIA': False, 'MEDO': True}],\n",
       " ['socorrer cair', {'ALEGRIA': False, 'MEDO': True}],\n",
       " ['o florestar negro perigoso', {'ALEGRIA': False, 'MEDO': True}],\n",
       " ['ouvir passo o direção', {'ALEGRIA': False, 'MEDO': True}],\n",
       " ['achar arriscar', {'ALEGRIA': False, 'MEDO': True}],\n",
       " ['voltar perigoso', {'ALEGRIA': False, 'MEDO': True}],\n",
       " ['fugir acabar morto', {'ALEGRIA': False, 'MEDO': True}],\n",
       " ['recear livrar d situação', {'ALEGRIA': False, 'MEDO': True}],\n",
       " ['socorrer armar', {'ALEGRIA': False, 'MEDO': True}],\n",
       " ['eis cuidar bater o postar', {'ALEGRIA': False, 'MEDO': True}],\n",
       " ['socorrer nó afundar', {'ALEGRIA': False, 'MEDO': True}],\n",
       " ['e sério cuidar armar', {'ALEGRIA': False, 'MEDO': True}],\n",
       " ['o tubarão atacar', {'ALEGRIA': False, 'MEDO': True}],\n",
       " ['sentir arrepio ficar o escuro', {'ALEGRIA': False, 'MEDO': True}],\n",
       " ['calmo o dinheiro', {'ALEGRIA': False, 'MEDO': True}],\n",
       " ['achar enganar', {'ALEGRIA': False, 'MEDO': True}],\n",
       " ['ligeiro fugir depressa', {'ALEGRIA': False, 'MEDO': True}],\n",
       " ['crocodilo selvagem vir parir', {'ALEGRIA': False, 'MEDO': True}],\n",
       " ['ficar o achar', {'ALEGRIA': False, 'MEDO': True}],\n",
       " ['fugir o tigre parecer faminto', {'ALEGRIA': False, 'MEDO': True}],\n",
       " ['sair precisar milagre', {'ALEGRIA': False, 'MEDO': True}],\n",
       " ['tirar mim socorrer', {'ALEGRIA': False, 'MEDO': True}],\n",
       " ['nadar afogar', {'ALEGRIA': False, 'MEDO': True}],\n",
       " ['e segurar', {'ALEGRIA': False, 'MEDO': True}],\n",
       " ['apanhar pai boletim', {'ALEGRIA': False, 'MEDO': True}],\n",
       " ['conseguir sair d', {'ALEGRIA': False, 'MEDO': True}],\n",
       " ['sair tardar assaltar', {'ALEGRIA': False, 'MEDO': True}],\n",
       " ['deixar', {'ALEGRIA': False, 'MEDO': True}],\n",
       " ['esperar largar', {'ALEGRIA': False, 'MEDO': True}],\n",
       " ['pelar suar segurança', {'ALEGRIA': False, 'MEDO': True}],\n",
       " ['entregar o dinheiro matar', {'ALEGRIA': False, 'MEDO': True}],\n",
       " ['levar o dinheiro', {'ALEGRIA': False, 'MEDO': True}],\n",
       " ['dirigir rápido', {'ALEGRIA': False, 'MEDO': True}],\n",
       " ['descobrir prender', {'ALEGRIA': False, 'MEDO': True}],\n",
       " ['esperar nenhum', {'ALEGRIA': False, 'MEDO': True}],\n",
       " ['afogar ajudar o sair água', {'ALEGRIA': False, 'MEDO': True}],\n",
       " ['o salvar', {'ALEGRIA': False, 'MEDO': True}],\n",
       " ['querer pensar o acontecer', {'ALEGRIA': False, 'MEDO': True}],\n",
       " ['n cidade umar desgraçar outro', {'ALEGRIA': False, 'MEDO': True}],\n",
       " ['alguém ligar assustar', {'ALEGRIA': False, 'MEDO': True}],\n",
       " ['remedio matar', {'ALEGRIA': False, 'MEDO': True}],\n",
       " ['confiar n cautela', {'ALEGRIA': False, 'MEDO': True}],\n",
       " ['cautela', {'ALEGRIA': False, 'MEDO': True}],\n",
       " ['descobrir deus', {'ALEGRIA': False, 'MEDO': True}],\n",
       " ['recear', {'ALEGRIA': False, 'MEDO': True}],\n",
       " ['o noite e perigoso', {'ALEGRIA': False, 'MEDO': True}],\n",
       " ['estremecer casar', {'ALEGRIA': False, 'MEDO': True}],\n",
       " ['olhar criatura mover monstruosamente', {'ALEGRIA': False, 'MEDO': True}],\n",
       " ['aguentar suspense', {'ALEGRIA': False, 'MEDO': True}],\n",
       " ['afugentar o cão', {'ALEGRIA': False, 'MEDO': True}],\n",
       " ['chocar e amedrontar assassinato brutal', {'ALEGRIA': False, 'MEDO': True}],\n",
       " ['precisar afugentar ímpeto medo infernar', {'ALEGRIA': False, 'MEDO': True}],\n",
       " ['político suar forçar parir afugentar e amedrontar o',\n",
       "  {'ALEGRIA': False, 'MEDO': True}],\n",
       " ['o objetivo d e amedrontar', {'ALEGRIA': False, 'MEDO': True}],\n",
       " ['apavorar', {'ALEGRIA': False, 'MEDO': True}]]"
      ]
     },
     "execution_count": 27,
     "metadata": {},
     "output_type": "execute_result"
    }
   ],
   "source": [
    "X_train"
   ]
  },
  {
   "cell_type": "markdown",
   "metadata": {},
   "source": [
    "# Etapa 5: Criação do classificador"
   ]
  },
  {
   "cell_type": "code",
   "execution_count": 28,
   "metadata": {},
   "outputs": [],
   "source": [
    "model = spacy.blank('pt')\n",
    "classes = model.create_pipe('textcat')\n",
    "classes.add_label('ALEGRIA')\n",
    "classes.add_label('MEDO')\n",
    "model.add_pipe(classes)\n",
    "historico = []"
   ]
  },
  {
   "cell_type": "code",
   "execution_count": 30,
   "metadata": {},
   "outputs": [
    {
     "name": "stdout",
     "output_type": "stream",
     "text": [
      "{'textcat': 0.007494556717574596}\n",
      "{'textcat': 4.2293748947486165e-08}\n",
      "{'textcat': 1.692116646800912e-08}\n",
      "{'textcat': 8.8148668364596e-09}\n",
      "{'textcat': 5.270586578287606e-09}\n",
      "{'textcat': 3.61695151607222e-09}\n",
      "{'textcat': 2.503561163935686e-09}\n",
      "{'textcat': 2.484618122355897e-09}\n",
      "{'textcat': 2.3682050209750116e-09}\n",
      "{'textcat': 1.7763680387750114e-09}\n"
     ]
    }
   ],
   "source": [
    "model.begin_training()\n",
    "for epoca in range(1000):\n",
    "    \n",
    "    random.shuffle(X_train)\n",
    "    losses = {}\n",
    "    \n",
    "    for batch in spacy.util.minibatch(X_train, 30):\n",
    "        \n",
    "        textos = [model(texto) for texto, entities in batch]\n",
    "        annotations = [{'cats':entities} for texto, entities in batch]\n",
    "        model.update(textos, annotations, losses=losses)\n",
    "        \n",
    "    if epoca % 100 == 0:\n",
    "        print(losses)\n",
    "        historico.append(losses)"
   ]
  },
  {
   "cell_type": "code",
   "execution_count": 31,
   "metadata": {},
   "outputs": [],
   "source": [
    "historico_loss = []\n",
    "for i in historico:\n",
    "    historico_loss.append(i.get('textcat'))"
   ]
  },
  {
   "cell_type": "code",
   "execution_count": 32,
   "metadata": {},
   "outputs": [
    {
     "data": {
      "text/plain": [
       "array([7.49455672e-03, 4.22937489e-08, 1.69211665e-08, 8.81486684e-09,\n",
       "       5.27058658e-09, 3.61695152e-09, 2.50356116e-09, 2.48461812e-09,\n",
       "       2.36820502e-09, 1.77636804e-09])"
      ]
     },
     "execution_count": 32,
     "metadata": {},
     "output_type": "execute_result"
    }
   ],
   "source": [
    "historico_loss = np.array(historico_loss)\n",
    "historico_loss"
   ]
  },
  {
   "cell_type": "code",
   "execution_count": 41,
   "metadata": {},
   "outputs": [
    {
     "data": {
      "image/png": "[encoded data removed]",
      "text/plain": [
       "<Figure size 432x288 with 1 Axes>"
      ]
     },
     "metadata": {
      "needs_background": "light"
     },
     "output_type": "display_data"
    }
   ],
   "source": [
    "import matplotlib.pyplot as plt\n",
    "plt.plot(historico_loss)\n",
    "plt.title('Progressão do erro')\n",
    "plt.xlabel('Época X 100')\n",
    "plt.ylabel('Erro')\n",
    "plt.show()"
   ]
  },
  {
   "cell_type": "code",
   "execution_count": 42,
   "metadata": {},
   "outputs": [],
   "source": [
    "model.to_disk('model')"
   ]
  },
  {
   "cell_type": "markdown",
   "metadata": {},
   "source": [
    "# Etapa 6: Testes com uma frase"
   ]
  },
  {
   "cell_type": "code",
   "execution_count": 43,
   "metadata": {},
   "outputs": [
    {
     "data": {
      "text/plain": [
       "<spacy.lang.pt.Portuguese at 0x20c76ece648>"
      ]
     },
     "execution_count": 43,
     "metadata": {},
     "output_type": "execute_result"
    }
   ],
   "source": [
    "model_loaded = spacy.load('model')\n",
    "model_loaded"
   ]
  },
  {
   "cell_type": "code",
   "execution_count": 44,
   "metadata": {},
   "outputs": [],
   "source": [
    "texto_positivo = 'eu adoro cor dos seus olhos'"
   ]
  },
  {
   "cell_type": "code",
   "execution_count": 45,
   "metadata": {},
   "outputs": [
    {
     "data": {
      "text/plain": [
       "'adorar cor olho'"
      ]
     },
     "execution_count": 45,
     "metadata": {},
     "output_type": "execute_result"
    }
   ],
   "source": [
    "texto_positivo = preprocess(texto_positivo)\n",
    "texto_positivo"
   ]
  },
  {
   "cell_type": "code",
   "execution_count": 46,
   "metadata": {},
   "outputs": [
    {
     "data": {
      "text/plain": [
       "adorar cor olho"
      ]
     },
     "execution_count": 46,
     "metadata": {},
     "output_type": "execute_result"
    }
   ],
   "source": [
    "previsao = model_loaded(texto_positivo)\n",
    "previsao"
   ]
  },
  {
   "cell_type": "code",
   "execution_count": 47,
   "metadata": {},
   "outputs": [
    {
     "data": {
      "text/plain": [
       "{'ALEGRIA': 0.9987204074859619, 'MEDO': 0.001031639170832932}"
      ]
     },
     "execution_count": 47,
     "metadata": {},
     "output_type": "execute_result"
    }
   ],
   "source": [
    "previsao.cats"
   ]
  },
  {
   "cell_type": "code",
   "execution_count": 58,
   "metadata": {},
   "outputs": [
    {
     "data": {
      "text/plain": [
       "{'ALEGRIA': 4.539787187241018e-05, 'MEDO': 0.9999545812606812}"
      ]
     },
     "execution_count": 58,
     "metadata": {},
     "output_type": "execute_result"
    }
   ],
   "source": [
    "texto_negativo = 'estou com medo dele'\n",
    "previsao = model_loaded(preprocess(texto_negativo))\n",
    "previsao.cats"
   ]
  },
  {
   "cell_type": "markdown",
   "metadata": {},
   "source": [
    "# Etapa 7: Avaliação do modelo"
   ]
  },
  {
   "cell_type": "markdown",
   "metadata": {},
   "source": [
    "## Avaliação na base de treinamento"
   ]
  },
  {
   "cell_type": "code",
   "execution_count": 52,
   "metadata": {},
   "outputs": [],
   "source": [
    "previsoes = []\n",
    "for texto in df_train['texto']:\n",
    "    #print(texto)\n",
    "    previsao = model_loaded(texto)\n",
    "    previsoes.append(previsao.cats)"
   ]
  },
  {
   "cell_type": "code",
   "execution_count": 53,
   "metadata": {},
   "outputs": [
    {
     "data": {
      "text/plain": [
       "[{'ALEGRIA': 0.9998890161514282, 'MEDO': 0.0001500900834798813},\n",
       " {'ALEGRIA': 0.9990379810333252, 'MEDO': 0.00035855674650520086},\n",
       " {'ALEGRIA': 0.9995318651199341, 'MEDO': 0.00013110654253978282},\n",
       " {'ALEGRIA': 0.999555766582489, 'MEDO': 0.00017830223077908158},\n",
       " {'ALEGRIA': 0.9999545812606812, 'MEDO': 4.539787187241018e-05},\n",
       " {'ALEGRIA': 0.9999358654022217, 'MEDO': 4.539787187241018e-05},\n",
       " {'ALEGRIA': 0.999687910079956, 'MEDO': 0.0004016688035335392},\n",
       " {'ALEGRIA': 0.9998832941055298, 'MEDO': 0.00011560926213860512},\n",
       " {'ALEGRIA': 0.9997079968452454, 'MEDO': 0.00011097143578808755},\n",
       " {'ALEGRIA': 0.9997020363807678, 'MEDO': 0.00023574597435072064},\n",
       " {'ALEGRIA': 0.9999545812606812, 'MEDO': 4.539787187241018e-05},\n",
       " {'ALEGRIA': 0.9999308586120605, 'MEDO': 4.539787187241018e-05},\n",
       " {'ALEGRIA': 0.999815046787262, 'MEDO': 6.567717355210334e-05},\n",
       " {'ALEGRIA': 0.9999545812606812, 'MEDO': 4.539787187241018e-05},\n",
       " {'ALEGRIA': 0.9993686079978943, 'MEDO': 0.00026534791686572134},\n",
       " {'ALEGRIA': 0.9999527931213379, 'MEDO': 4.539787187241018e-05},\n",
       " {'ALEGRIA': 0.9996589422225952, 'MEDO': 0.00020923033298458904},\n",
       " {'ALEGRIA': 0.9997383952140808, 'MEDO': 0.0001309354993281886},\n",
       " {'ALEGRIA': 0.9997147917747498, 'MEDO': 4.539787187241018e-05},\n",
       " {'ALEGRIA': 0.9997721314430237, 'MEDO': 0.00016225097351707518},\n",
       " {'ALEGRIA': 0.9995655417442322, 'MEDO': 0.00018155445286538452},\n",
       " {'ALEGRIA': 0.999778687953949, 'MEDO': 0.00022654169879388064},\n",
       " {'ALEGRIA': 0.9995908141136169, 'MEDO': 4.539787187241018e-05},\n",
       " {'ALEGRIA': 0.9996955394744873, 'MEDO': 0.000219999099499546},\n",
       " {'ALEGRIA': 0.9998824596405029, 'MEDO': 0.0001345701894024387},\n",
       " {'ALEGRIA': 0.9997995495796204, 'MEDO': 0.00025890953838825226},\n",
       " {'ALEGRIA': 0.9999545812606812, 'MEDO': 4.539787187241018e-05},\n",
       " {'ALEGRIA': 0.9997519850730896, 'MEDO': 0.00016648949531372637},\n",
       " {'ALEGRIA': 0.9996423721313477, 'MEDO': 6.329598545562476e-05},\n",
       " {'ALEGRIA': 0.9999545812606812, 'MEDO': 4.539787187241018e-05},\n",
       " {'ALEGRIA': 0.9997876286506653, 'MEDO': 0.000126805214677006},\n",
       " {'ALEGRIA': 0.9998327493667603, 'MEDO': 0.00017296230362262577},\n",
       " {'ALEGRIA': 0.999679684638977, 'MEDO': 5.0968461437150836e-05},\n",
       " {'ALEGRIA': 0.9994655251502991, 'MEDO': 0.00031270942417904735},\n",
       " {'ALEGRIA': 0.9996927976608276, 'MEDO': 9.71923946053721e-05},\n",
       " {'ALEGRIA': 0.9999545812606812, 'MEDO': 4.539787187241018e-05},\n",
       " {'ALEGRIA': 0.9998300075531006, 'MEDO': 0.00036701580393128097},\n",
       " {'ALEGRIA': 0.9998108744621277, 'MEDO': 0.00013694570225197822},\n",
       " {'ALEGRIA': 0.9997292160987854, 'MEDO': 0.00028462347108870745},\n",
       " {'ALEGRIA': 0.9997037053108215, 'MEDO': 0.00019956847245339304},\n",
       " {'ALEGRIA': 0.9998334646224976, 'MEDO': 4.539787187241018e-05},\n",
       " {'ALEGRIA': 0.9999545812606812, 'MEDO': 4.539787187241018e-05},\n",
       " {'ALEGRIA': 0.9999545812606812, 'MEDO': 4.539787187241018e-05},\n",
       " {'ALEGRIA': 0.999859094619751, 'MEDO': 4.539787187241018e-05},\n",
       " {'ALEGRIA': 0.9999444484710693, 'MEDO': 4.539787187241018e-05},\n",
       " {'ALEGRIA': 0.9998878240585327, 'MEDO': 4.539787187241018e-05},\n",
       " {'ALEGRIA': 0.9998767375946045, 'MEDO': 9.281936945626512e-05},\n",
       " {'ALEGRIA': 0.999729335308075, 'MEDO': 0.00011111544154118747},\n",
       " {'ALEGRIA': 0.9997807145118713, 'MEDO': 4.539787187241018e-05},\n",
       " {'ALEGRIA': 0.9996920824050903, 'MEDO': 0.00010725461470428854},\n",
       " {'ALEGRIA': 0.9994433522224426, 'MEDO': 8.30135031719692e-05},\n",
       " {'ALEGRIA': 0.9999545812606812, 'MEDO': 4.539787187241018e-05},\n",
       " {'ALEGRIA': 0.9995633959770203, 'MEDO': 6.857912376290187e-05},\n",
       " {'ALEGRIA': 0.9997929930686951, 'MEDO': 4.694567178376019e-05},\n",
       " {'ALEGRIA': 0.9994600415229797, 'MEDO': 0.00023413693998008966},\n",
       " {'ALEGRIA': 0.9996412992477417, 'MEDO': 0.0001935565087478608},\n",
       " {'ALEGRIA': 0.9995287656784058, 'MEDO': 5.7417808420723304e-05},\n",
       " {'ALEGRIA': 0.9999545812606812, 'MEDO': 4.539787187241018e-05},\n",
       " {'ALEGRIA': 0.9997547268867493, 'MEDO': 9.828442853176966e-05},\n",
       " {'ALEGRIA': 0.9996069073677063, 'MEDO': 4.88067016704008e-05},\n",
       " {'ALEGRIA': 0.9997517466545105, 'MEDO': 0.00018754330812953413},\n",
       " {'ALEGRIA': 0.9997525811195374, 'MEDO': 0.00026522623375058174},\n",
       " {'ALEGRIA': 0.9995927214622498, 'MEDO': 0.00018007212202064693},\n",
       " {'ALEGRIA': 0.9997005462646484, 'MEDO': 0.00022433015692513436},\n",
       " {'ALEGRIA': 0.9998612403869629, 'MEDO': 0.00012787143350578845},\n",
       " {'ALEGRIA': 0.99994957447052, 'MEDO': 4.539787187241018e-05},\n",
       " {'ALEGRIA': 0.9996553659439087, 'MEDO': 4.539787187241018e-05},\n",
       " {'ALEGRIA': 0.9998034834861755, 'MEDO': 6.430225039366633e-05},\n",
       " {'ALEGRIA': 0.9999071359634399, 'MEDO': 4.539787187241018e-05},\n",
       " {'ALEGRIA': 0.9998399019241333, 'MEDO': 4.539787187241018e-05},\n",
       " {'ALEGRIA': 0.9998102784156799, 'MEDO': 0.00019547554256860167},\n",
       " {'ALEGRIA': 0.9996873140335083, 'MEDO': 6.0823658714070916e-05},\n",
       " {'ALEGRIA': 0.9997230172157288, 'MEDO': 7.342408935073763e-05},\n",
       " {'ALEGRIA': 0.9994369149208069, 'MEDO': 0.000200124122784473},\n",
       " {'ALEGRIA': 0.9996745586395264, 'MEDO': 4.539787187241018e-05},\n",
       " {'ALEGRIA': 0.9997631907463074, 'MEDO': 0.00012026691547362134},\n",
       " {'ALEGRIA': 0.999565064907074, 'MEDO': 0.00014464071136899292},\n",
       " {'ALEGRIA': 0.9994162321090698, 'MEDO': 0.0004412792040966451},\n",
       " {'ALEGRIA': 0.9999545812606812, 'MEDO': 4.539787187241018e-05},\n",
       " {'ALEGRIA': 0.9995492100715637, 'MEDO': 0.00010390522220404819},\n",
       " {'ALEGRIA': 0.9995784163475037, 'MEDO': 0.0001596141082700342},\n",
       " {'ALEGRIA': 0.9997307658195496, 'MEDO': 0.00016565104306209832},\n",
       " {'ALEGRIA': 0.9997283816337585, 'MEDO': 6.804183794884011e-05},\n",
       " {'ALEGRIA': 0.9999545812606812, 'MEDO': 4.539787187241018e-05},\n",
       " {'ALEGRIA': 0.9998403787612915, 'MEDO': 4.539787187241018e-05},\n",
       " {'ALEGRIA': 0.9999545812606812, 'MEDO': 4.539787187241018e-05},\n",
       " {'ALEGRIA': 0.9999401569366455, 'MEDO': 4.539787187241018e-05},\n",
       " {'ALEGRIA': 0.9997356534004211, 'MEDO': 9.826249879552051e-05},\n",
       " {'ALEGRIA': 0.9999545812606812, 'MEDO': 4.539787187241018e-05},\n",
       " {'ALEGRIA': 0.9993932247161865, 'MEDO': 7.648275641258806e-05},\n",
       " {'ALEGRIA': 0.9997692704200745, 'MEDO': 0.000179285227204673},\n",
       " {'ALEGRIA': 0.9997957348823547, 'MEDO': 0.00010516519250813872},\n",
       " {'ALEGRIA': 0.999607264995575, 'MEDO': 0.00024295473122037947},\n",
       " {'ALEGRIA': 0.9996140599250793, 'MEDO': 0.0003304118581581861},\n",
       " {'ALEGRIA': 0.9998652935028076, 'MEDO': 4.539787187241018e-05},\n",
       " {'ALEGRIA': 0.9995356798171997, 'MEDO': 0.00020318040333222598},\n",
       " {'ALEGRIA': 0.9999477863311768, 'MEDO': 4.539787187241018e-05},\n",
       " {'ALEGRIA': 0.9996918439865112, 'MEDO': 4.539787187241018e-05},\n",
       " {'ALEGRIA': 0.9999421834945679, 'MEDO': 4.539787187241018e-05},\n",
       " {'ALEGRIA': 0.9996168613433838, 'MEDO': 9.498180588707328e-05},\n",
       " {'ALEGRIA': 0.9994888305664062, 'MEDO': 9.356317605124786e-05},\n",
       " {'ALEGRIA': 0.9999545812606812, 'MEDO': 4.539787187241018e-05},\n",
       " {'ALEGRIA': 0.999930739402771, 'MEDO': 4.539787187241018e-05},\n",
       " {'ALEGRIA': 0.9998458623886108, 'MEDO': 5.8879610151052475e-05},\n",
       " {'ALEGRIA': 0.9996141195297241, 'MEDO': 0.0003178243641741574},\n",
       " {'ALEGRIA': 0.9997804760932922, 'MEDO': 0.00017044042760971934},\n",
       " {'ALEGRIA': 0.9997686743736267, 'MEDO': 0.000252046826062724},\n",
       " {'ALEGRIA': 0.9995232820510864, 'MEDO': 0.0001469991257181391},\n",
       " {'ALEGRIA': 0.9997654557228088, 'MEDO': 0.0001381840993417427},\n",
       " {'ALEGRIA': 0.9998242259025574, 'MEDO': 6.267080607358366e-05},\n",
       " {'ALEGRIA': 0.999883770942688, 'MEDO': 7.817780715413392e-05},\n",
       " {'ALEGRIA': 0.9998082518577576, 'MEDO': 4.539787187241018e-05},\n",
       " {'ALEGRIA': 0.00011410236038500443, 'MEDO': 0.9999545812606812},\n",
       " {'ALEGRIA': 0.0005304546793922782, 'MEDO': 0.9999423027038574},\n",
       " {'ALEGRIA': 0.00046461369493044913, 'MEDO': 0.9999545812606812},\n",
       " {'ALEGRIA': 0.00016745319589972496, 'MEDO': 0.9998704195022583},\n",
       " {'ALEGRIA': 0.000536644016392529, 'MEDO': 0.9996252059936523},\n",
       " {'ALEGRIA': 0.00027942718588747084, 'MEDO': 0.9998303651809692},\n",
       " {'ALEGRIA': 5.1760096539510414e-05, 'MEDO': 0.9999545812606812},\n",
       " {'ALEGRIA': 0.00017554877558723092, 'MEDO': 0.9999545812606812},\n",
       " {'ALEGRIA': 0.0004451596178114414, 'MEDO': 0.9997920393943787},\n",
       " {'ALEGRIA': 0.00023457400675397366, 'MEDO': 0.9999545812606812},\n",
       " {'ALEGRIA': 0.00018348777666687965, 'MEDO': 0.9999545812606812},\n",
       " {'ALEGRIA': 4.8314763262169436e-05, 'MEDO': 0.9999545812606812},\n",
       " {'ALEGRIA': 0.0003041431773453951, 'MEDO': 0.9997928738594055},\n",
       " {'ALEGRIA': 0.0004129980516154319, 'MEDO': 0.9994938373565674},\n",
       " {'ALEGRIA': 0.00041461503133177757, 'MEDO': 0.9999266862869263},\n",
       " {'ALEGRIA': 4.539787187241018e-05, 'MEDO': 0.9999545812606812},\n",
       " {'ALEGRIA': 0.00032704477780498564, 'MEDO': 0.9999545812606812},\n",
       " {'ALEGRIA': 0.0002720127231441438, 'MEDO': 0.99982088804245},\n",
       " {'ALEGRIA': 0.00027415575459599495, 'MEDO': 0.9999545812606812},\n",
       " {'ALEGRIA': 0.00023181812139227986, 'MEDO': 0.9998533725738525},\n",
       " {'ALEGRIA': 0.0004644624423235655, 'MEDO': 0.9998387098312378},\n",
       " {'ALEGRIA': 0.00027750845765694976, 'MEDO': 0.9999545812606812},\n",
       " {'ALEGRIA': 0.0002940230187959969, 'MEDO': 0.9998476505279541},\n",
       " {'ALEGRIA': 0.0002851563913282007, 'MEDO': 0.9999545812606812},\n",
       " {'ALEGRIA': 9.204715024679899e-05, 'MEDO': 0.9999545812606812},\n",
       " {'ALEGRIA': 0.00028712250059470534, 'MEDO': 0.9999433755874634},\n",
       " {'ALEGRIA': 0.00023349355615209788, 'MEDO': 0.9999545812606812},\n",
       " {'ALEGRIA': 0.0006731622852385044, 'MEDO': 0.9996597766876221},\n",
       " {'ALEGRIA': 5.54215548618231e-05, 'MEDO': 0.9999545812606812},\n",
       " {'ALEGRIA': 0.00015680075739510357, 'MEDO': 0.9999545812606812},\n",
       " {'ALEGRIA': 0.0003124081704299897, 'MEDO': 0.9997057318687439},\n",
       " {'ALEGRIA': 0.00037243933184072375, 'MEDO': 0.999927282333374},\n",
       " {'ALEGRIA': 0.00019189859449397773, 'MEDO': 0.9999479055404663},\n",
       " {'ALEGRIA': 8.384574903175235e-05, 'MEDO': 0.9999545812606812},\n",
       " {'ALEGRIA': 0.00039390535675920546, 'MEDO': 0.9999488592147827},\n",
       " {'ALEGRIA': 0.00014724968059454113, 'MEDO': 0.9999545812606812},\n",
       " {'ALEGRIA': 0.0002142539160558954, 'MEDO': 0.999677300453186},\n",
       " {'ALEGRIA': 0.00018008275947067887, 'MEDO': 0.9999545812606812},\n",
       " {'ALEGRIA': 0.0004589032905641943, 'MEDO': 0.9998762607574463},\n",
       " {'ALEGRIA': 0.0005451550241559744, 'MEDO': 0.9996817111968994},\n",
       " {'ALEGRIA': 0.0005438018124550581, 'MEDO': 0.9998871088027954},\n",
       " {'ALEGRIA': 0.00047181101399473846, 'MEDO': 0.9998893737792969},\n",
       " {'ALEGRIA': 0.0007758363499306142, 'MEDO': 0.9997528195381165},\n",
       " {'ALEGRIA': 0.00010445030784467235, 'MEDO': 0.9999545812606812},\n",
       " {'ALEGRIA': 0.0005984209128655493, 'MEDO': 0.9997050166130066},\n",
       " {'ALEGRIA': 0.0003409049822948873, 'MEDO': 0.9998630285263062},\n",
       " {'ALEGRIA': 0.00018353047198615968, 'MEDO': 0.9999545812606812},\n",
       " {'ALEGRIA': 0.0010173028567805886, 'MEDO': 0.9995461106300354},\n",
       " {'ALEGRIA': 0.0005156639381311834, 'MEDO': 0.9999029636383057},\n",
       " {'ALEGRIA': 7.643361459486187e-05, 'MEDO': 0.9999545812606812},\n",
       " {'ALEGRIA': 4.539787187241018e-05, 'MEDO': 0.9999545812606812},\n",
       " {'ALEGRIA': 0.0002724274527281523, 'MEDO': 0.9999538660049438},\n",
       " {'ALEGRIA': 0.0003776289231609553, 'MEDO': 0.9997591376304626},\n",
       " {'ALEGRIA': 0.00017328948888462037, 'MEDO': 0.9998424053192139},\n",
       " {'ALEGRIA': 4.539787187241018e-05, 'MEDO': 0.9999545812606812},\n",
       " {'ALEGRIA': 0.0001504056854173541, 'MEDO': 0.9999545812606812},\n",
       " {'ALEGRIA': 0.00045278240577317774, 'MEDO': 0.9999454021453857},\n",
       " {'ALEGRIA': 0.0003029711078852415, 'MEDO': 0.9997598528862},\n",
       " {'ALEGRIA': 0.00042203065822832286, 'MEDO': 0.9998278617858887},\n",
       " {'ALEGRIA': 0.0004951749579049647, 'MEDO': 0.9997053742408752},\n",
       " {'ALEGRIA': 0.0003685418632812798, 'MEDO': 0.9998608827590942},\n",
       " {'ALEGRIA': 0.00022089660342317075, 'MEDO': 0.9999545812606812},\n",
       " {'ALEGRIA': 4.539787187241018e-05, 'MEDO': 0.9999545812606812},\n",
       " {'ALEGRIA': 0.000166267083841376, 'MEDO': 0.9999545812606812},\n",
       " {'ALEGRIA': 0.00043901836033910513, 'MEDO': 0.9999321699142456},\n",
       " {'ALEGRIA': 0.0005367248668335378, 'MEDO': 0.9997355341911316},\n",
       " {'ALEGRIA': 0.00040428893407806754, 'MEDO': 0.9997839331626892},\n",
       " {'ALEGRIA': 0.0005002223770134151, 'MEDO': 0.9996823072433472},\n",
       " {'ALEGRIA': 0.0005301013588905334, 'MEDO': 0.9998703002929688},\n",
       " {'ALEGRIA': 0.0003421363653615117, 'MEDO': 0.9998726844787598},\n",
       " {'ALEGRIA': 0.000651939248200506, 'MEDO': 0.9998588562011719},\n",
       " {'ALEGRIA': 0.00047226453898474574, 'MEDO': 0.9996616840362549},\n",
       " {'ALEGRIA': 4.539787187241018e-05, 'MEDO': 0.9999545812606812},\n",
       " {'ALEGRIA': 0.00019039935432374477, 'MEDO': 0.9999545812606812},\n",
       " {'ALEGRIA': 0.0007280341233126819, 'MEDO': 0.9994785189628601},\n",
       " {'ALEGRIA': 0.000362206221325323, 'MEDO': 0.9999274015426636},\n",
       " {'ALEGRIA': 0.0003780530532822013, 'MEDO': 0.9998339414596558},\n",
       " {'ALEGRIA': 0.00032219436252489686, 'MEDO': 0.999846339225769},\n",
       " {'ALEGRIA': 0.000505581614561379, 'MEDO': 0.9997349381446838},\n",
       " {'ALEGRIA': 0.000566214497666806, 'MEDO': 0.999916672706604},\n",
       " {'ALEGRIA': 0.00018015937530435622, 'MEDO': 0.9999545812606812},\n",
       " {'ALEGRIA': 0.000411037151934579, 'MEDO': 0.9997829794883728},\n",
       " {'ALEGRIA': 4.539787187241018e-05, 'MEDO': 0.9999545812606812},\n",
       " {'ALEGRIA': 0.0003549208922777325, 'MEDO': 0.9998422861099243}]"
      ]
     },
     "execution_count": 53,
     "metadata": {},
     "output_type": "execute_result"
    }
   ],
   "source": [
    "previsoes"
   ]
  },
  {
   "cell_type": "code",
   "execution_count": 54,
   "metadata": {},
   "outputs": [],
   "source": [
    "previsoes_final = []\n",
    "for previsao in previsoes:\n",
    "    if previsao['ALEGRIA'] > previsao['MEDO']:\n",
    "        previsoes_final.append('alegria')\n",
    "    else:\n",
    "        previsoes_final.append('medo')\n",
    "        \n",
    "previsoes_final = np.array(previsoes_final)"
   ]
  },
  {
   "cell_type": "code",
   "execution_count": 55,
   "metadata": {},
   "outputs": [
    {
     "data": {
      "text/plain": [
       "array(['alegria', 'alegria', 'alegria', 'alegria', 'alegria', 'alegria',\n",
       "       'alegria', 'alegria', 'alegria', 'alegria', 'alegria', 'alegria',\n",
       "       'alegria', 'alegria', 'alegria', 'alegria', 'alegria', 'alegria',\n",
       "       'alegria', 'alegria', 'alegria', 'alegria', 'alegria', 'alegria',\n",
       "       'alegria', 'alegria', 'alegria', 'alegria', 'alegria', 'alegria',\n",
       "       'alegria', 'alegria', 'alegria', 'alegria', 'alegria', 'alegria',\n",
       "       'alegria', 'alegria', 'alegria', 'alegria', 'alegria', 'alegria',\n",
       "       'alegria', 'alegria', 'alegria', 'alegria', 'alegria', 'alegria',\n",
       "       'alegria', 'alegria', 'alegria', 'alegria', 'alegria', 'alegria',\n",
       "       'alegria', 'alegria', 'alegria', 'alegria', 'alegria', 'alegria',\n",
       "       'alegria', 'alegria', 'alegria', 'alegria', 'alegria', 'alegria',\n",
       "       'alegria', 'alegria', 'alegria', 'alegria', 'alegria', 'alegria',\n",
       "       'alegria', 'alegria', 'alegria', 'alegria', 'alegria', 'alegria',\n",
       "       'alegria', 'alegria', 'alegria', 'alegria', 'alegria', 'alegria',\n",
       "       'alegria', 'alegria', 'alegria', 'alegria', 'alegria', 'alegria',\n",
       "       'alegria', 'alegria', 'alegria', 'alegria', 'alegria', 'alegria',\n",
       "       'alegria', 'alegria', 'alegria', 'alegria', 'alegria', 'alegria',\n",
       "       'alegria', 'alegria', 'alegria', 'alegria', 'alegria', 'alegria',\n",
       "       'alegria', 'alegria', 'alegria', 'alegria', 'medo', 'medo', 'medo',\n",
       "       'medo', 'medo', 'medo', 'medo', 'medo', 'medo', 'medo', 'medo',\n",
       "       'medo', 'medo', 'medo', 'medo', 'medo', 'medo', 'medo', 'medo',\n",
       "       'medo', 'medo', 'medo', 'medo', 'medo', 'medo', 'medo', 'medo',\n",
       "       'medo', 'medo', 'medo', 'medo', 'medo', 'medo', 'medo', 'medo',\n",
       "       'medo', 'medo', 'medo', 'medo', 'medo', 'medo', 'medo', 'medo',\n",
       "       'medo', 'medo', 'medo', 'medo', 'medo', 'medo', 'medo', 'medo',\n",
       "       'medo', 'medo', 'medo', 'medo', 'medo', 'medo', 'medo', 'medo',\n",
       "       'medo', 'medo', 'medo', 'medo', 'medo', 'medo', 'medo', 'medo',\n",
       "       'medo', 'medo', 'medo', 'medo', 'medo', 'medo', 'medo', 'medo',\n",
       "       'medo', 'medo', 'medo', 'medo', 'medo', 'medo', 'medo', 'medo',\n",
       "       'medo'], dtype='<U7')"
      ]
     },
     "execution_count": 55,
     "metadata": {},
     "output_type": "execute_result"
    }
   ],
   "source": [
    "previsoes_final"
   ]
  },
  {
   "cell_type": "code",
   "execution_count": 56,
   "metadata": {},
   "outputs": [
    {
     "data": {
      "text/plain": [
       "array(['alegria', 'alegria', 'alegria', 'alegria', 'alegria', 'alegria',\n",
       "       'alegria', 'alegria', 'alegria', 'alegria', 'alegria', 'alegria',\n",
       "       'alegria', 'alegria', 'alegria', 'alegria', 'alegria', 'alegria',\n",
       "       'alegria', 'alegria', 'alegria', 'alegria', 'alegria', 'alegria',\n",
       "       'alegria', 'alegria', 'alegria', 'alegria', 'alegria', 'alegria',\n",
       "       'alegria', 'alegria', 'alegria', 'alegria', 'alegria', 'alegria',\n",
       "       'alegria', 'alegria', 'alegria', 'alegria', 'alegria', 'alegria',\n",
       "       'alegria', 'alegria', 'alegria', 'alegria', 'alegria', 'alegria',\n",
       "       'alegria', 'alegria', 'alegria', 'alegria', 'alegria', 'alegria',\n",
       "       'alegria', 'alegria', 'alegria', 'alegria', 'alegria', 'alegria',\n",
       "       'alegria', 'alegria', 'alegria', 'alegria', 'alegria', 'alegria',\n",
       "       'alegria', 'alegria', 'alegria', 'alegria', 'alegria', 'alegria',\n",
       "       'alegria', 'alegria', 'alegria', 'alegria', 'alegria', 'alegria',\n",
       "       'alegria', 'alegria', 'alegria', 'alegria', 'alegria', 'alegria',\n",
       "       'alegria', 'alegria', 'alegria', 'alegria', 'alegria', 'alegria',\n",
       "       'alegria', 'alegria', 'alegria', 'alegria', 'alegria', 'alegria',\n",
       "       'alegria', 'alegria', 'alegria', 'alegria', 'alegria', 'alegria',\n",
       "       'alegria', 'alegria', 'alegria', 'alegria', 'alegria', 'alegria',\n",
       "       'alegria', 'alegria', 'alegria', 'alegria', 'medo', 'medo', 'medo',\n",
       "       'medo', 'medo', 'medo', 'medo', 'medo', 'medo', 'medo', 'medo',\n",
       "       'medo', 'medo', 'medo', 'medo', 'medo', 'medo', 'medo', 'medo',\n",
       "       'medo', 'medo', 'medo', 'medo', 'medo', 'medo', 'medo', 'medo',\n",
       "       'medo', 'medo', 'medo', 'medo', 'medo', 'medo', 'medo', 'medo',\n",
       "       'medo', 'medo', 'medo', 'medo', 'medo', 'medo', 'medo', 'medo',\n",
       "       'medo', 'medo', 'medo', 'medo', 'medo', 'medo', 'medo', 'medo',\n",
       "       'medo', 'medo', 'medo', 'medo', 'medo', 'medo', 'medo', 'medo',\n",
       "       'medo', 'medo', 'medo', 'medo', 'medo', 'medo', 'medo', 'medo',\n",
       "       'medo', 'medo', 'medo', 'medo', 'medo', 'medo', 'medo', 'medo',\n",
       "       'medo', 'medo', 'medo', 'medo', 'medo', 'medo', 'medo', 'medo',\n",
       "       'medo'], dtype=object)"
      ]
     },
     "execution_count": 56,
     "metadata": {},
     "output_type": "execute_result"
    }
   ],
   "source": [
    "respostas_reais = df_train['emocao'].values\n",
    "respostas_reais"
   ]
  },
  {
   "cell_type": "code",
   "execution_count": 59,
   "metadata": {},
   "outputs": [
    {
     "data": {
      "text/plain": [
       "1.0"
      ]
     },
     "execution_count": 59,
     "metadata": {},
     "output_type": "execute_result"
    }
   ],
   "source": [
    "from sklearn.metrics import confusion_matrix, accuracy_score\n",
    "accuracy_score(respostas_reais, previsoes_final)"
   ]
  },
  {
   "cell_type": "code",
   "execution_count": 60,
   "metadata": {},
   "outputs": [
    {
     "data": {
      "text/plain": [
       "array([[112,   0],\n",
       "       [  0,  84]], dtype=int64)"
      ]
     },
     "execution_count": 60,
     "metadata": {},
     "output_type": "execute_result"
    }
   ],
   "source": [
    "cm = confusion_matrix(respostas_reais, previsoes_final)\n",
    "cm"
   ]
  },
  {
   "cell_type": "markdown",
   "metadata": {},
   "source": [
    "## Avaliação na base de teste"
   ]
  },
  {
   "cell_type": "code",
   "execution_count": 61,
   "metadata": {},
   "outputs": [
    {
     "data": {
      "text/html": [
       "<div>\n",
       "<style scoped>\n",
       "    .dataframe tbody tr th:only-of-type {\n",
       "        vertical-align: middle;\n",
       "    }\n",
       "\n",
       "    .dataframe tbody tr th {\n",
       "        vertical-align: top;\n",
       "    }\n",
       "\n",
       "    .dataframe thead th {\n",
       "        text-align: right;\n",
       "    }\n",
       "</style>\n",
       "<table border=\"1\" class=\"dataframe\">\n",
       "  <thead>\n",
       "    <tr style=\"text-align: right;\">\n",
       "      <th></th>\n",
       "      <th>texto</th>\n",
       "      <th>emocao</th>\n",
       "    </tr>\n",
       "  </thead>\n",
       "  <tbody>\n",
       "    <tr>\n",
       "      <th>0</th>\n",
       "      <td>não precisei pagar o ingresso</td>\n",
       "      <td>alegria</td>\n",
       "    </tr>\n",
       "    <tr>\n",
       "      <th>1</th>\n",
       "      <td>se eu ajeitar tudo fica bem</td>\n",
       "      <td>alegria</td>\n",
       "    </tr>\n",
       "    <tr>\n",
       "      <th>2</th>\n",
       "      <td>minha fortuna ultrapassará a sua</td>\n",
       "      <td>alegria</td>\n",
       "    </tr>\n",
       "    <tr>\n",
       "      <th>3</th>\n",
       "      <td>sou muito afortunado</td>\n",
       "      <td>alegria</td>\n",
       "    </tr>\n",
       "    <tr>\n",
       "      <th>4</th>\n",
       "      <td>é benéfico para todos esta nova medida</td>\n",
       "      <td>alegria</td>\n",
       "    </tr>\n",
       "  </tbody>\n",
       "</table>\n",
       "</div>"
      ],
      "text/plain": [
       "                                    texto   emocao\n",
       "0           não precisei pagar o ingresso  alegria\n",
       "1             se eu ajeitar tudo fica bem  alegria\n",
       "2        minha fortuna ultrapassará a sua  alegria\n",
       "3                    sou muito afortunado  alegria\n",
       "4  é benéfico para todos esta nova medida  alegria"
      ]
     },
     "execution_count": 61,
     "metadata": {},
     "output_type": "execute_result"
    }
   ],
   "source": [
    "df_test = pd.read_csv('base_teste.txt', encoding='utf-8')\n",
    "df_test.head()"
   ]
  },
  {
   "cell_type": "code",
   "execution_count": 62,
   "metadata": {},
   "outputs": [
    {
     "data": {
      "text/html": [
       "<div>\n",
       "<style scoped>\n",
       "    .dataframe tbody tr th:only-of-type {\n",
       "        vertical-align: middle;\n",
       "    }\n",
       "\n",
       "    .dataframe tbody tr th {\n",
       "        vertical-align: top;\n",
       "    }\n",
       "\n",
       "    .dataframe thead th {\n",
       "        text-align: right;\n",
       "    }\n",
       "</style>\n",
       "<table border=\"1\" class=\"dataframe\">\n",
       "  <thead>\n",
       "    <tr style=\"text-align: right;\">\n",
       "      <th></th>\n",
       "      <th>texto</th>\n",
       "      <th>emocao</th>\n",
       "    </tr>\n",
       "  </thead>\n",
       "  <tbody>\n",
       "    <tr>\n",
       "      <th>0</th>\n",
       "      <td>precisar pagar o ingressar</td>\n",
       "      <td>alegria</td>\n",
       "    </tr>\n",
       "    <tr>\n",
       "      <th>1</th>\n",
       "      <td>ajeitar ficar</td>\n",
       "      <td>alegria</td>\n",
       "    </tr>\n",
       "    <tr>\n",
       "      <th>2</th>\n",
       "      <td>fortuna ultrapassar o suar</td>\n",
       "      <td>alegria</td>\n",
       "    </tr>\n",
       "    <tr>\n",
       "      <th>3</th>\n",
       "      <td>afortunar</td>\n",
       "      <td>alegria</td>\n",
       "    </tr>\n",
       "    <tr>\n",
       "      <th>4</th>\n",
       "      <td>benéfico parir medir</td>\n",
       "      <td>alegria</td>\n",
       "    </tr>\n",
       "  </tbody>\n",
       "</table>\n",
       "</div>"
      ],
      "text/plain": [
       "                        texto   emocao\n",
       "0  precisar pagar o ingressar  alegria\n",
       "1               ajeitar ficar  alegria\n",
       "2  fortuna ultrapassar o suar  alegria\n",
       "3                   afortunar  alegria\n",
       "4        benéfico parir medir  alegria"
      ]
     },
     "execution_count": 62,
     "metadata": {},
     "output_type": "execute_result"
    }
   ],
   "source": [
    "df_test['texto']=df_test['texto'].apply(preprocess)\n",
    "df_test.head()"
   ]
  },
  {
   "cell_type": "code",
   "execution_count": 63,
   "metadata": {},
   "outputs": [],
   "source": [
    "previsoes = []\n",
    "for texto in df_test['texto']:\n",
    "    #print(texto)\n",
    "    previsao = model_loaded(texto)\n",
    "    previsoes.append(previsao.cats)"
   ]
  },
  {
   "cell_type": "code",
   "execution_count": 64,
   "metadata": {},
   "outputs": [],
   "source": [
    "previsoes_final = []\n",
    "for previsao in previsoes:\n",
    "    if previsao['ALEGRIA'] > previsao['MEDO']:\n",
    "        previsoes_final.append('alegria')\n",
    "    else:\n",
    "        previsoes_final.append('medo')\n",
    "        \n",
    "previsoes_final = np.array(previsoes_final)"
   ]
  },
  {
   "cell_type": "code",
   "execution_count": 65,
   "metadata": {},
   "outputs": [],
   "source": [
    "respostas_reais = df_test['emocao'].values"
   ]
  },
  {
   "cell_type": "code",
   "execution_count": 66,
   "metadata": {},
   "outputs": [
    {
     "data": {
      "text/plain": [
       "0.5"
      ]
     },
     "execution_count": 66,
     "metadata": {},
     "output_type": "execute_result"
    }
   ],
   "source": [
    "accuracy_score(respostas_reais, previsoes_final)"
   ]
  },
  {
   "cell_type": "code",
   "execution_count": 67,
   "metadata": {},
   "outputs": [
    {
     "data": {
      "text/plain": [
       "array([[33, 15],\n",
       "       [27,  9]], dtype=int64)"
      ]
     },
     "execution_count": 67,
     "metadata": {},
     "output_type": "execute_result"
    }
   ],
   "source": [
    "cm = confusion_matrix(respostas_reais, previsoes_final)\n",
    "cm"
   ]
  }
 ],
 "metadata": {
  "kernelspec": {
   "display_name": "Python 3",
   "language": "python",
   "name": "python3"
  },
  "language_info": {
   "codemirror_mode": {
    "name": "ipython",
    "version": 3
   },
   "file_extension": ".py",
   "mimetype": "text/x-python",
   "name": "python",
   "nbconvert_exporter": "python",
   "pygments_lexer": "ipython3",
   "version": "3.7.9"
  }
 },
 "nbformat": 4,
 "nbformat_minor": 4
}
