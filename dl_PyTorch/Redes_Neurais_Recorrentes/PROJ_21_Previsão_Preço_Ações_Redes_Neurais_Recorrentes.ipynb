{
  "nbformat": 4,
  "nbformat_minor": 0,
  "metadata": {
    "colab": {
      "name": "PROJ_21-Previsão_Preço_Ações-Redes_Neurais_Recorrentes.ipynb",
      "provenance": [],
      "collapsed_sections": []
    },
    "kernelspec": {
      "name": "python3",
      "display_name": "Python 3"
    },
    "accelerator": "GPU"
  },
  "cells": [
    {
      "cell_type": "markdown",
      "metadata": {
        "id": "THZL1oH0guuD"
      },
      "source": [
        "# Projeto 21: Previsão do preço de ações com Redes Neurais Recorrentes - Múltiplos Previsores"
      ]
    },
    {
      "cell_type": "code",
      "metadata": {
        "colab": {
          "base_uri": "https://localhost:8080/"
        },
        "id": "HGr-csAVhSaQ",
        "outputId": "849c177b-865b-4d3a-a163-200cc1a96b02"
      },
      "source": [
        "!pip install torch==1.4.0"
      ],
      "execution_count": 1,
      "outputs": [
        {
          "output_type": "stream",
          "text": [
            "Requirement already satisfied: torch==1.4.0 in /usr/local/lib/python3.7/dist-packages (1.4.0)\n"
          ],
          "name": "stdout"
        }
      ]
    },
    {
      "cell_type": "markdown",
      "metadata": {
        "id": "dx_C5EiMhEw5"
      },
      "source": [
        "## Etapa 1: Importação das bibliotecas"
      ]
    },
    {
      "cell_type": "code",
      "metadata": {
        "id": "EXFeGhQwgKDT"
      },
      "source": [
        "import torch\r\n",
        "import numpy as np\r\n",
        "import pandas as pd\r\n",
        "import matplotlib.pyplot as plt\r\n",
        "\r\n",
        "from torch import nn, optim\r\n",
        "from sklearn.preprocessing import MinMaxScaler\r\n",
        "from sklearn.metrics import mean_absolute_error"
      ],
      "execution_count": 2,
      "outputs": []
    },
    {
      "cell_type": "code",
      "metadata": {
        "colab": {
          "base_uri": "https://localhost:8080/"
        },
        "id": "IjK5tCAehuaa",
        "outputId": "95ae2720-3f77-466f-ee48-2363f574430b"
      },
      "source": [
        "torch.manual_seed(123)"
      ],
      "execution_count": 3,
      "outputs": [
        {
          "output_type": "execute_result",
          "data": {
            "text/plain": [
              "<torch._C.Generator at 0x7fc8e3ba6170>"
            ]
          },
          "metadata": {
            "tags": []
          },
          "execution_count": 3
        }
      ]
    },
    {
      "cell_type": "markdown",
      "metadata": {
        "id": "4gN69aONipoe"
      },
      "source": [
        "## Base de dados"
      ]
    },
    {
      "cell_type": "code",
      "metadata": {
        "id": "s6FHLTm_iOkm"
      },
      "source": [
        "df_train = pd.read_csv('/content/petr4_treinamento.csv')\r\n",
        "df_test = pd.read_csv('/content/petr4_teste.csv')"
      ],
      "execution_count": 4,
      "outputs": []
    },
    {
      "cell_type": "code",
      "metadata": {
        "colab": {
          "base_uri": "https://localhost:8080/",
          "height": 204
        },
        "id": "okzjmp9FjCuX",
        "outputId": "1d4a9436-fa46-4633-bdf3-3576f30b2f05"
      },
      "source": [
        "df_train.head()"
      ],
      "execution_count": 5,
      "outputs": [
        {
          "output_type": "execute_result",
          "data": {
            "text/html": [
              "<div>\n",
              "<style scoped>\n",
              "    .dataframe tbody tr th:only-of-type {\n",
              "        vertical-align: middle;\n",
              "    }\n",
              "\n",
              "    .dataframe tbody tr th {\n",
              "        vertical-align: top;\n",
              "    }\n",
              "\n",
              "    .dataframe thead th {\n",
              "        text-align: right;\n",
              "    }\n",
              "</style>\n",
              "<table border=\"1\" class=\"dataframe\">\n",
              "  <thead>\n",
              "    <tr style=\"text-align: right;\">\n",
              "      <th></th>\n",
              "      <th>Date</th>\n",
              "      <th>Open</th>\n",
              "      <th>High</th>\n",
              "      <th>Low</th>\n",
              "      <th>Close</th>\n",
              "      <th>Adj Close</th>\n",
              "      <th>Volume</th>\n",
              "    </tr>\n",
              "  </thead>\n",
              "  <tbody>\n",
              "    <tr>\n",
              "      <th>0</th>\n",
              "      <td>2013-01-02</td>\n",
              "      <td>19.990000</td>\n",
              "      <td>20.209999</td>\n",
              "      <td>19.690001</td>\n",
              "      <td>19.690001</td>\n",
              "      <td>18.086271</td>\n",
              "      <td>30182600.0</td>\n",
              "    </tr>\n",
              "    <tr>\n",
              "      <th>1</th>\n",
              "      <td>2013-01-03</td>\n",
              "      <td>19.809999</td>\n",
              "      <td>20.400000</td>\n",
              "      <td>19.700001</td>\n",
              "      <td>20.400000</td>\n",
              "      <td>18.738441</td>\n",
              "      <td>30552600.0</td>\n",
              "    </tr>\n",
              "    <tr>\n",
              "      <th>2</th>\n",
              "      <td>2013-01-04</td>\n",
              "      <td>20.330000</td>\n",
              "      <td>20.620001</td>\n",
              "      <td>20.170000</td>\n",
              "      <td>20.430000</td>\n",
              "      <td>18.766001</td>\n",
              "      <td>36141000.0</td>\n",
              "    </tr>\n",
              "    <tr>\n",
              "      <th>3</th>\n",
              "      <td>2013-01-07</td>\n",
              "      <td>20.480000</td>\n",
              "      <td>20.670000</td>\n",
              "      <td>19.950001</td>\n",
              "      <td>20.080000</td>\n",
              "      <td>18.444506</td>\n",
              "      <td>28069600.0</td>\n",
              "    </tr>\n",
              "    <tr>\n",
              "      <th>4</th>\n",
              "      <td>2013-01-08</td>\n",
              "      <td>20.110001</td>\n",
              "      <td>20.230000</td>\n",
              "      <td>19.459999</td>\n",
              "      <td>19.500000</td>\n",
              "      <td>17.911745</td>\n",
              "      <td>29091300.0</td>\n",
              "    </tr>\n",
              "  </tbody>\n",
              "</table>\n",
              "</div>"
            ],
            "text/plain": [
              "         Date       Open       High  ...      Close  Adj Close      Volume\n",
              "0  2013-01-02  19.990000  20.209999  ...  19.690001  18.086271  30182600.0\n",
              "1  2013-01-03  19.809999  20.400000  ...  20.400000  18.738441  30552600.0\n",
              "2  2013-01-04  20.330000  20.620001  ...  20.430000  18.766001  36141000.0\n",
              "3  2013-01-07  20.480000  20.670000  ...  20.080000  18.444506  28069600.0\n",
              "4  2013-01-08  20.110001  20.230000  ...  19.500000  17.911745  29091300.0\n",
              "\n",
              "[5 rows x 7 columns]"
            ]
          },
          "metadata": {
            "tags": []
          },
          "execution_count": 5
        }
      ]
    },
    {
      "cell_type": "code",
      "metadata": {
        "colab": {
          "base_uri": "https://localhost:8080/",
          "height": 204
        },
        "id": "xmfPvXkYjJiD",
        "outputId": "6bb7b6e8-2f17-4443-a9f2-74857c3d4841"
      },
      "source": [
        "df_train.tail()"
      ],
      "execution_count": 6,
      "outputs": [
        {
          "output_type": "execute_result",
          "data": {
            "text/html": [
              "<div>\n",
              "<style scoped>\n",
              "    .dataframe tbody tr th:only-of-type {\n",
              "        vertical-align: middle;\n",
              "    }\n",
              "\n",
              "    .dataframe tbody tr th {\n",
              "        vertical-align: top;\n",
              "    }\n",
              "\n",
              "    .dataframe thead th {\n",
              "        text-align: right;\n",
              "    }\n",
              "</style>\n",
              "<table border=\"1\" class=\"dataframe\">\n",
              "  <thead>\n",
              "    <tr style=\"text-align: right;\">\n",
              "      <th></th>\n",
              "      <th>Date</th>\n",
              "      <th>Open</th>\n",
              "      <th>High</th>\n",
              "      <th>Low</th>\n",
              "      <th>Close</th>\n",
              "      <th>Adj Close</th>\n",
              "      <th>Volume</th>\n",
              "    </tr>\n",
              "  </thead>\n",
              "  <tbody>\n",
              "    <tr>\n",
              "      <th>1240</th>\n",
              "      <td>2017-12-25</td>\n",
              "      <td>15.75</td>\n",
              "      <td>15.750000</td>\n",
              "      <td>15.75</td>\n",
              "      <td>15.750000</td>\n",
              "      <td>15.718563</td>\n",
              "      <td>0.0</td>\n",
              "    </tr>\n",
              "    <tr>\n",
              "      <th>1241</th>\n",
              "      <td>2017-12-26</td>\n",
              "      <td>15.75</td>\n",
              "      <td>15.990000</td>\n",
              "      <td>15.69</td>\n",
              "      <td>15.970000</td>\n",
              "      <td>15.938125</td>\n",
              "      <td>22173100.0</td>\n",
              "    </tr>\n",
              "    <tr>\n",
              "      <th>1242</th>\n",
              "      <td>2017-12-27</td>\n",
              "      <td>15.99</td>\n",
              "      <td>16.139999</td>\n",
              "      <td>15.98</td>\n",
              "      <td>16.049999</td>\n",
              "      <td>16.017963</td>\n",
              "      <td>23552200.0</td>\n",
              "    </tr>\n",
              "    <tr>\n",
              "      <th>1243</th>\n",
              "      <td>2017-12-28</td>\n",
              "      <td>16.10</td>\n",
              "      <td>16.129999</td>\n",
              "      <td>16.00</td>\n",
              "      <td>16.100000</td>\n",
              "      <td>16.067865</td>\n",
              "      <td>19011500.0</td>\n",
              "    </tr>\n",
              "    <tr>\n",
              "      <th>1244</th>\n",
              "      <td>2017-12-29</td>\n",
              "      <td>16.10</td>\n",
              "      <td>16.100000</td>\n",
              "      <td>16.10</td>\n",
              "      <td>16.100000</td>\n",
              "      <td>16.067865</td>\n",
              "      <td>0.0</td>\n",
              "    </tr>\n",
              "  </tbody>\n",
              "</table>\n",
              "</div>"
            ],
            "text/plain": [
              "            Date   Open       High    Low      Close  Adj Close      Volume\n",
              "1240  2017-12-25  15.75  15.750000  15.75  15.750000  15.718563         0.0\n",
              "1241  2017-12-26  15.75  15.990000  15.69  15.970000  15.938125  22173100.0\n",
              "1242  2017-12-27  15.99  16.139999  15.98  16.049999  16.017963  23552200.0\n",
              "1243  2017-12-28  16.10  16.129999  16.00  16.100000  16.067865  19011500.0\n",
              "1244  2017-12-29  16.10  16.100000  16.10  16.100000  16.067865         0.0"
            ]
          },
          "metadata": {
            "tags": []
          },
          "execution_count": 6
        }
      ]
    },
    {
      "cell_type": "code",
      "metadata": {
        "colab": {
          "base_uri": "https://localhost:8080/"
        },
        "id": "lBTNSFu-jNcT",
        "outputId": "40f75ad9-ea74-4441-8247-a1c86d0bd973"
      },
      "source": [
        "df_train.shape"
      ],
      "execution_count": 7,
      "outputs": [
        {
          "output_type": "execute_result",
          "data": {
            "text/plain": [
              "(1245, 7)"
            ]
          },
          "metadata": {
            "tags": []
          },
          "execution_count": 7
        }
      ]
    },
    {
      "cell_type": "code",
      "metadata": {
        "colab": {
          "base_uri": "https://localhost:8080/"
        },
        "id": "0BCB9lJZjQTK",
        "outputId": "c4fd2c8a-6c50-4db9-893e-457163cb9834"
      },
      "source": [
        "df_train.info()"
      ],
      "execution_count": 8,
      "outputs": [
        {
          "output_type": "stream",
          "text": [
            "<class 'pandas.core.frame.DataFrame'>\n",
            "RangeIndex: 1245 entries, 0 to 1244\n",
            "Data columns (total 7 columns):\n",
            " #   Column     Non-Null Count  Dtype  \n",
            "---  ------     --------------  -----  \n",
            " 0   Date       1245 non-null   object \n",
            " 1   Open       1242 non-null   float64\n",
            " 2   High       1242 non-null   float64\n",
            " 3   Low        1242 non-null   float64\n",
            " 4   Close      1242 non-null   float64\n",
            " 5   Adj Close  1242 non-null   float64\n",
            " 6   Volume     1242 non-null   float64\n",
            "dtypes: float64(6), object(1)\n",
            "memory usage: 68.2+ KB\n"
          ],
          "name": "stdout"
        }
      ]
    },
    {
      "cell_type": "code",
      "metadata": {
        "colab": {
          "base_uri": "https://localhost:8080/"
        },
        "id": "uTHxgZ10jEOk",
        "outputId": "41678e7f-497d-4f4c-82f1-bea601fdbe46"
      },
      "source": [
        "df_train.isnull().sum()"
      ],
      "execution_count": 9,
      "outputs": [
        {
          "output_type": "execute_result",
          "data": {
            "text/plain": [
              "Date         0\n",
              "Open         3\n",
              "High         3\n",
              "Low          3\n",
              "Close        3\n",
              "Adj Close    3\n",
              "Volume       3\n",
              "dtype: int64"
            ]
          },
          "metadata": {
            "tags": []
          },
          "execution_count": 9
        }
      ]
    },
    {
      "cell_type": "code",
      "metadata": {
        "colab": {
          "base_uri": "https://localhost:8080/"
        },
        "id": "v7eTXMPNjF2U",
        "outputId": "403d6a02-c5fa-417b-b3bd-5ac04c280dcd"
      },
      "source": [
        "df_train.dropna(inplace=True)\r\n",
        "df_train.isnull().sum()"
      ],
      "execution_count": 10,
      "outputs": [
        {
          "output_type": "execute_result",
          "data": {
            "text/plain": [
              "Date         0\n",
              "Open         0\n",
              "High         0\n",
              "Low          0\n",
              "Close        0\n",
              "Adj Close    0\n",
              "Volume       0\n",
              "dtype: int64"
            ]
          },
          "metadata": {
            "tags": []
          },
          "execution_count": 10
        }
      ]
    },
    {
      "cell_type": "code",
      "metadata": {
        "colab": {
          "base_uri": "https://localhost:8080/",
          "height": 297
        },
        "id": "PAueiM7gjnZD",
        "outputId": "4c46bb33-9f9d-4554-f5b5-9642f97f73aa"
      },
      "source": [
        "df_train.describe()"
      ],
      "execution_count": 11,
      "outputs": [
        {
          "output_type": "execute_result",
          "data": {
            "text/html": [
              "<div>\n",
              "<style scoped>\n",
              "    .dataframe tbody tr th:only-of-type {\n",
              "        vertical-align: middle;\n",
              "    }\n",
              "\n",
              "    .dataframe tbody tr th {\n",
              "        vertical-align: top;\n",
              "    }\n",
              "\n",
              "    .dataframe thead th {\n",
              "        text-align: right;\n",
              "    }\n",
              "</style>\n",
              "<table border=\"1\" class=\"dataframe\">\n",
              "  <thead>\n",
              "    <tr style=\"text-align: right;\">\n",
              "      <th></th>\n",
              "      <th>Open</th>\n",
              "      <th>High</th>\n",
              "      <th>Low</th>\n",
              "      <th>Close</th>\n",
              "      <th>Adj Close</th>\n",
              "      <th>Volume</th>\n",
              "    </tr>\n",
              "  </thead>\n",
              "  <tbody>\n",
              "    <tr>\n",
              "      <th>count</th>\n",
              "      <td>1242.000000</td>\n",
              "      <td>1242.000000</td>\n",
              "      <td>1242.000000</td>\n",
              "      <td>1242.000000</td>\n",
              "      <td>1242.000000</td>\n",
              "      <td>1.242000e+03</td>\n",
              "    </tr>\n",
              "    <tr>\n",
              "      <th>mean</th>\n",
              "      <td>14.041473</td>\n",
              "      <td>14.279831</td>\n",
              "      <td>13.785217</td>\n",
              "      <td>14.017415</td>\n",
              "      <td>13.699826</td>\n",
              "      <td>4.595294e+07</td>\n",
              "    </tr>\n",
              "    <tr>\n",
              "      <th>std</th>\n",
              "      <td>4.148311</td>\n",
              "      <td>4.186652</td>\n",
              "      <td>4.108178</td>\n",
              "      <td>4.146244</td>\n",
              "      <td>3.899735</td>\n",
              "      <td>3.235631e+07</td>\n",
              "    </tr>\n",
              "    <tr>\n",
              "      <th>min</th>\n",
              "      <td>4.200000</td>\n",
              "      <td>4.270000</td>\n",
              "      <td>4.120000</td>\n",
              "      <td>4.200000</td>\n",
              "      <td>4.191617</td>\n",
              "      <td>0.000000e+00</td>\n",
              "    </tr>\n",
              "    <tr>\n",
              "      <th>25%</th>\n",
              "      <td>10.510000</td>\n",
              "      <td>10.772500</td>\n",
              "      <td>10.210000</td>\n",
              "      <td>10.510000</td>\n",
              "      <td>10.489022</td>\n",
              "      <td>2.909925e+07</td>\n",
              "    </tr>\n",
              "    <tr>\n",
              "      <th>50%</th>\n",
              "      <td>14.545000</td>\n",
              "      <td>14.690000</td>\n",
              "      <td>14.220000</td>\n",
              "      <td>14.440000</td>\n",
              "      <td>14.209791</td>\n",
              "      <td>4.097120e+07</td>\n",
              "    </tr>\n",
              "    <tr>\n",
              "      <th>75%</th>\n",
              "      <td>17.187501</td>\n",
              "      <td>17.435001</td>\n",
              "      <td>16.870001</td>\n",
              "      <td>17.112501</td>\n",
              "      <td>16.383754</td>\n",
              "      <td>5.593528e+07</td>\n",
              "    </tr>\n",
              "    <tr>\n",
              "      <th>max</th>\n",
              "      <td>24.840000</td>\n",
              "      <td>24.900000</td>\n",
              "      <td>23.660000</td>\n",
              "      <td>24.559999</td>\n",
              "      <td>24.510979</td>\n",
              "      <td>6.989506e+08</td>\n",
              "    </tr>\n",
              "  </tbody>\n",
              "</table>\n",
              "</div>"
            ],
            "text/plain": [
              "              Open         High  ...    Adj Close        Volume\n",
              "count  1242.000000  1242.000000  ...  1242.000000  1.242000e+03\n",
              "mean     14.041473    14.279831  ...    13.699826  4.595294e+07\n",
              "std       4.148311     4.186652  ...     3.899735  3.235631e+07\n",
              "min       4.200000     4.270000  ...     4.191617  0.000000e+00\n",
              "25%      10.510000    10.772500  ...    10.489022  2.909925e+07\n",
              "50%      14.545000    14.690000  ...    14.209791  4.097120e+07\n",
              "75%      17.187501    17.435001  ...    16.383754  5.593528e+07\n",
              "max      24.840000    24.900000  ...    24.510979  6.989506e+08\n",
              "\n",
              "[8 rows x 6 columns]"
            ]
          },
          "metadata": {
            "tags": []
          },
          "execution_count": 11
        }
      ]
    },
    {
      "cell_type": "code",
      "metadata": {
        "colab": {
          "base_uri": "https://localhost:8080/",
          "height": 204
        },
        "id": "c3caqQeqncje",
        "outputId": "95cb0ee8-ed64-461c-efc4-c19d27264d13"
      },
      "source": [
        "df_grp = df_train.copy()\r\n",
        "df_grp['Date'] = df_grp['Date'].apply(lambda x: x[:-3])\r\n",
        "df_grp = df_grp.groupby('Date').mean().reset_index()\r\n",
        "df_grp.head()"
      ],
      "execution_count": 12,
      "outputs": [
        {
          "output_type": "execute_result",
          "data": {
            "text/html": [
              "<div>\n",
              "<style scoped>\n",
              "    .dataframe tbody tr th:only-of-type {\n",
              "        vertical-align: middle;\n",
              "    }\n",
              "\n",
              "    .dataframe tbody tr th {\n",
              "        vertical-align: top;\n",
              "    }\n",
              "\n",
              "    .dataframe thead th {\n",
              "        text-align: right;\n",
              "    }\n",
              "</style>\n",
              "<table border=\"1\" class=\"dataframe\">\n",
              "  <thead>\n",
              "    <tr style=\"text-align: right;\">\n",
              "      <th></th>\n",
              "      <th>Date</th>\n",
              "      <th>Open</th>\n",
              "      <th>High</th>\n",
              "      <th>Low</th>\n",
              "      <th>Close</th>\n",
              "      <th>Adj Close</th>\n",
              "      <th>Volume</th>\n",
              "    </tr>\n",
              "  </thead>\n",
              "  <tbody>\n",
              "    <tr>\n",
              "      <th>0</th>\n",
              "      <td>2013-01</td>\n",
              "      <td>19.698095</td>\n",
              "      <td>19.874762</td>\n",
              "      <td>19.384286</td>\n",
              "      <td>19.573810</td>\n",
              "      <td>17.979544</td>\n",
              "      <td>2.635205e+07</td>\n",
              "    </tr>\n",
              "    <tr>\n",
              "      <th>1</th>\n",
              "      <td>2013-02</td>\n",
              "      <td>17.565000</td>\n",
              "      <td>17.768889</td>\n",
              "      <td>17.337778</td>\n",
              "      <td>17.537778</td>\n",
              "      <td>16.109345</td>\n",
              "      <td>3.152355e+07</td>\n",
              "    </tr>\n",
              "    <tr>\n",
              "      <th>2</th>\n",
              "      <td>2013-03</td>\n",
              "      <td>18.376842</td>\n",
              "      <td>18.738421</td>\n",
              "      <td>18.130526</td>\n",
              "      <td>18.423158</td>\n",
              "      <td>16.922611</td>\n",
              "      <td>3.226189e+07</td>\n",
              "    </tr>\n",
              "    <tr>\n",
              "      <th>3</th>\n",
              "      <td>2013-04</td>\n",
              "      <td>18.240476</td>\n",
              "      <td>18.583810</td>\n",
              "      <td>17.998572</td>\n",
              "      <td>18.308095</td>\n",
              "      <td>16.833584</td>\n",
              "      <td>3.010713e+07</td>\n",
              "    </tr>\n",
              "    <tr>\n",
              "      <th>4</th>\n",
              "      <td>2013-05</td>\n",
              "      <td>19.997619</td>\n",
              "      <td>20.257143</td>\n",
              "      <td>19.766190</td>\n",
              "      <td>20.008095</td>\n",
              "      <td>18.726952</td>\n",
              "      <td>2.737860e+07</td>\n",
              "    </tr>\n",
              "  </tbody>\n",
              "</table>\n",
              "</div>"
            ],
            "text/plain": [
              "      Date       Open       High        Low      Close  Adj Close        Volume\n",
              "0  2013-01  19.698095  19.874762  19.384286  19.573810  17.979544  2.635205e+07\n",
              "1  2013-02  17.565000  17.768889  17.337778  17.537778  16.109345  3.152355e+07\n",
              "2  2013-03  18.376842  18.738421  18.130526  18.423158  16.922611  3.226189e+07\n",
              "3  2013-04  18.240476  18.583810  17.998572  18.308095  16.833584  3.010713e+07\n",
              "4  2013-05  19.997619  20.257143  19.766190  20.008095  18.726952  2.737860e+07"
            ]
          },
          "metadata": {
            "tags": []
          },
          "execution_count": 12
        }
      ]
    },
    {
      "cell_type": "code",
      "metadata": {
        "colab": {
          "base_uri": "https://localhost:8080/",
          "height": 860
        },
        "id": "hk-wBI1fkw1v",
        "outputId": "e09c28c7-1600-410a-9170-bdc9988ddb39"
      },
      "source": [
        "fig, ax = plt.subplots(3,1, figsize=(14,15))\r\n",
        "ax[0].plot(df_grp['Date'], df_grp['Open'], label='Open')\r\n",
        "ax[0].plot(df_grp['Date'], df_grp['Close'], label='Close', linestyle='--')\r\n",
        "ax[0].xaxis.set_tick_params(rotation=60)\r\n",
        "ax[0].grid()\r\n",
        "ax[0].legend()\r\n",
        "\r\n",
        "ax[1].plot(df_grp['Date'], df_grp['High'], label='High')\r\n",
        "ax[1].plot(df_grp['Date'], df_grp['Low'], label='Low')\r\n",
        "ax[1].plot(df_grp['Date'], df_grp['Adj Close'], label='Adj Close')\r\n",
        "ax[1].xaxis.set_tick_params(rotation=60)\r\n",
        "ax[1].grid()\r\n",
        "ax[1].legend()\r\n",
        "\r\n",
        "ax[2].plot(df_grp['Date'], df_grp['Volume'], label='Volume')\r\n",
        "ax[2].xaxis.set_tick_params(rotation=60)\r\n",
        "ax[2].grid()\r\n",
        "ax[2].legend()\r\n",
        "\r\n",
        "plt.tight_layout();"
      ],
      "execution_count": 13,
      "outputs": [
        {
          "output_type": "display_data",
          "data": {
            "image/png": "[encoded data removed]",
            "text/plain": [
              "<Figure size 1008x1080 with 3 Axes>"
            ]
          },
          "metadata": {
            "tags": [],
            "needs_background": "light"
          }
        }
      ]
    },
    {
      "cell_type": "code",
      "metadata": {
        "colab": {
          "base_uri": "https://localhost:8080/"
        },
        "id": "DVy-aksIl36E",
        "outputId": "ff5450e6-ac87-47af-e4a3-938a8449e383"
      },
      "source": [
        "X_train = df_train.iloc[:,1:7].values\n",
        "X_train"
      ],
      "execution_count": 14,
      "outputs": [
        {
          "output_type": "execute_result",
          "data": {
            "text/plain": [
              "array([[1.9990000e+01, 2.0209999e+01, 1.9690001e+01, 1.9690001e+01,\n",
              "        1.8086271e+01, 3.0182600e+07],\n",
              "       [1.9809999e+01, 2.0400000e+01, 1.9700001e+01, 2.0400000e+01,\n",
              "        1.8738441e+01, 3.0552600e+07],\n",
              "       [2.0330000e+01, 2.0620001e+01, 2.0170000e+01, 2.0430000e+01,\n",
              "        1.8766001e+01, 3.6141000e+07],\n",
              "       ...,\n",
              "       [1.5990000e+01, 1.6139999e+01, 1.5980000e+01, 1.6049999e+01,\n",
              "        1.6017963e+01, 2.3552200e+07],\n",
              "       [1.6100000e+01, 1.6129999e+01, 1.6000000e+01, 1.6100000e+01,\n",
              "        1.6067865e+01, 1.9011500e+07],\n",
              "       [1.6100000e+01, 1.6100000e+01, 1.6100000e+01, 1.6100000e+01,\n",
              "        1.6067865e+01, 0.0000000e+00]])"
            ]
          },
          "metadata": {
            "tags": []
          },
          "execution_count": 14
        }
      ]
    },
    {
      "cell_type": "code",
      "metadata": {
        "colab": {
          "base_uri": "https://localhost:8080/"
        },
        "id": "DKFBz5jfsL3T",
        "outputId": "78d3da62-232c-4b72-b510-766acae659ad"
      },
      "source": [
        "train_scaler = MinMaxScaler(feature_range=(0,1))\r\n",
        "X_scaled = train_scaler.fit_transform(X_train)\r\n",
        "X_scaled"
      ],
      "execution_count": 15,
      "outputs": [
        {
          "output_type": "execute_result",
          "data": {
            "text/plain": [
              "array([[0.76501938, 0.77266112, 0.79682707, 0.76080559, 0.6838135 ,\n",
              "        0.04318274],\n",
              "       [0.7562984 , 0.78187106, 0.79733884, 0.79567784, 0.71590949,\n",
              "        0.0437121 ],\n",
              "       [0.78149225, 0.79253519, 0.82139202, 0.79715132, 0.71726583,\n",
              "        0.05170752],\n",
              "       ...,\n",
              "       [0.57122093, 0.57537562, 0.60696008, 0.58202356, 0.58202349,\n",
              "        0.03369652],\n",
              "       [0.57655039, 0.57489089, 0.60798362, 0.5844794 , 0.58447937,\n",
              "        0.02720006],\n",
              "       [0.57655039, 0.57343674, 0.61310133, 0.5844794 , 0.58447937,\n",
              "        0.        ]])"
            ]
          },
          "metadata": {
            "tags": []
          },
          "execution_count": 15
        }
      ]
    },
    {
      "cell_type": "code",
      "metadata": {
        "colab": {
          "base_uri": "https://localhost:8080/"
        },
        "id": "M2WaHqe1ujit",
        "outputId": "5af594e5-ddb8-4883-e774-28577bdcefb0"
      },
      "source": [
        "X_scaled.shape"
      ],
      "execution_count": 16,
      "outputs": [
        {
          "output_type": "execute_result",
          "data": {
            "text/plain": [
              "(1242, 6)"
            ]
          },
          "metadata": {
            "tags": []
          },
          "execution_count": 16
        }
      ]
    },
    {
      "cell_type": "code",
      "metadata": {
        "id": "PLTinuz5sltj"
      },
      "source": [
        "X, y = [], []\r\n",
        "for i in range(90, X_scaled.shape[0]):\r\n",
        "  X.append(X_scaled[i-90:i, 0:6])\r\n",
        "  y.append(X_scaled[i, 0])\r\n",
        "X, y = np.array(X), np.array(y)"
      ],
      "execution_count": 17,
      "outputs": []
    },
    {
      "cell_type": "code",
      "metadata": {
        "colab": {
          "base_uri": "https://localhost:8080/"
        },
        "id": "cozDd6pKvP4C",
        "outputId": "a31c70c3-127a-48cb-bc2a-52b72e150b6e"
      },
      "source": [
        "X[0]"
      ],
      "execution_count": 18,
      "outputs": [
        {
          "output_type": "execute_result",
          "data": {
            "text/plain": [
              "array([[0.76501938, 0.77266112, 0.79682707, 0.76080559, 0.6838135 ,\n",
              "        0.04318274],\n",
              "       [0.7562984 , 0.78187106, 0.79733884, 0.79567784, 0.71590949,\n",
              "        0.0437121 ],\n",
              "       [0.78149225, 0.79253519, 0.82139202, 0.79715132, 0.71726583,\n",
              "        0.05170752],\n",
              "       [0.78875969, 0.7949588 , 0.81013311, 0.77996075, 0.70144373,\n",
              "        0.04015963],\n",
              "       [0.77083338, 0.77363063, 0.78505624, 0.75147351, 0.67522435,\n",
              "        0.0416214 ],\n",
              "       [0.74806197, 0.75618037, 0.78505624, 0.76031438, 0.68336137,\n",
              "        0.03485382],\n",
              "       [0.75436047, 0.76490543, 0.78915051, 0.76768177, 0.69014234,\n",
              "        0.02507502],\n",
              "       [0.75823643, 0.76442079, 0.79733884, 0.77013751, 0.6924025 ,\n",
              "        0.0260728 ],\n",
              "       [0.76598837, 0.77411537, 0.79682707, 0.76227897, 0.68516964,\n",
              "        0.0404927 ],\n",
              "       [0.76598837, 0.77411537, 0.79682707, 0.76719061, 0.68969016,\n",
              "        0.0423977 ],\n",
              "       [0.76017437, 0.75714973, 0.79222108, 0.76817293, 0.69059437,\n",
              "        0.02401858],\n",
              "       [0.75872098, 0.75908871, 0.79222108, 0.76178781, 0.68471746,\n",
              "        0.02821315],\n",
              "       [0.75581391, 0.75714973, 0.78915051, 0.75540279, 0.6788408 ,\n",
              "        0.02706042],\n",
              "       [0.74467054, 0.74309258, 0.77533265, 0.74607071, 0.67025175,\n",
              "        0.02587622],\n",
              "       [0.7374031 , 0.74357736, 0.77328557, 0.75540279, 0.6788408 ,\n",
              "        0.03367205],\n",
              "       [0.7374031 , 0.74454673, 0.77328557, 0.75392926, 0.67748471,\n",
              "        0.02460946],\n",
              "       [0.73498067, 0.75036355, 0.78045041, 0.75687631, 0.68019705,\n",
              "        0.02806007],\n",
              "       [0.75242248, 0.75327189, 0.77533265, 0.74508849, 0.66934774,\n",
              "        0.02878973],\n",
              "       [0.73401163, 0.73194382, 0.75332651, 0.73231836, 0.65759427,\n",
              "        0.03876941],\n",
              "       [0.71656977, 0.71352399, 0.71903787, 0.68762287, 0.6164569 ,\n",
              "        0.09583767],\n",
              "       [0.68120155, 0.68153175, 0.70522006, 0.68172891, 0.61103237,\n",
              "        0.04756616],\n",
              "       [0.67538755, 0.69704314, 0.71647907, 0.70039291, 0.62821037,\n",
              "        0.04129104],\n",
              "       [0.67635659, 0.68250121, 0.70470824, 0.67779964, 0.60741587,\n",
              "        0.04620398],\n",
              "       [0.63372098, 0.67959287, 0.67246673, 0.68172891, 0.61103237,\n",
              "        0.11064144],\n",
              "       [0.66521318, 0.66553563, 0.6862846 , 0.65815327, 0.58933361,\n",
              "        0.04418925],\n",
              "       [0.65649225, 0.66456617, 0.67553736, 0.65324168, 0.584813  ,\n",
              "        0.0530315 ],\n",
              "       [0.64680228, 0.65487159, 0.67860793, 0.6650295 , 0.5956623 ,\n",
              "        0.04444964],\n",
              "       [0.66618222, 0.66553563, 0.69651996, 0.66797641, 0.59837464,\n",
              "        0.03194532],\n",
              "       [0.65843028, 0.66068832, 0.6888434 , 0.66159139, 0.59249793,\n",
              "        0.0370597 ],\n",
              "       [0.64970935, 0.65535633, 0.6862846 , 0.6596267 , 0.59068976,\n",
              "        0.0357702 ],\n",
              "       [0.65116274, 0.66311202, 0.68577277, 0.67288805, 0.60289526,\n",
              "        0.02903152],\n",
              "       [0.66424419, 0.67426079, 0.70470824, 0.68271123, 0.61193639,\n",
              "        0.0412361 ],\n",
              "       [0.67344961, 0.67038294, 0.68730803, 0.65913564, 0.59023768,\n",
              "        0.03711206],\n",
              "       [0.64292631, 0.6446922 , 0.66939616, 0.64440082, 0.57667593,\n",
              "        0.04346845],\n",
              "       [0.64486434, 0.64178381, 0.65967247, 0.63605111, 0.56899095,\n",
              "        0.04421171],\n",
              "       [0.62257747, 0.62190984, 0.65148414, 0.62622798, 0.55994986,\n",
              "        0.04364257],\n",
              "       [0.60949617, 0.61027635, 0.63510752, 0.61591359, 0.55045665,\n",
              "        0.04779322],\n",
              "       [0.60998067, 0.61609307, 0.6407369 , 0.61935165, 0.55362107,\n",
              "        0.04092922],\n",
              "       [0.60852713, 0.60979157, 0.63613096, 0.60952857, 0.54457989,\n",
              "        0.03981569],\n",
              "       [0.59593023, 0.61803199, 0.62845445, 0.62377213, 0.55768961,\n",
              "        0.04509603],\n",
              "       [0.61143411, 0.62190984, 0.63254862, 0.60412577, 0.5396073 ,\n",
              "        0.05085238],\n",
              "       [0.60222863, 0.60542899, 0.6320368 , 0.60707267, 0.54231954,\n",
              "        0.04531064],\n",
              "       [0.64922481, 0.67862336, 0.6704196 , 0.68025539, 0.60967603,\n",
              "        0.10572707],\n",
              "       [0.68362398, 0.74212312, 0.72620261, 0.72445981, 0.65036132,\n",
              "        0.08930445],\n",
              "       [0.70687989, 0.72952012, 0.7185261 , 0.69597258, 0.62414194,\n",
              "        0.04376518],\n",
              "       [0.68265509, 0.71255448, 0.7062436 , 0.72347744, 0.64945705,\n",
              "        0.03589495],\n",
              "       [0.70978682, 0.72079491, 0.74257927, 0.71414542, 0.64086801,\n",
              "        0.03739277],\n",
              "       [0.70784879, 0.72370339, 0.74769703, 0.71463658, 0.64132019,\n",
              "        0.04530406],\n",
              "       [0.71608527, 0.73242845, 0.74104401, 0.74115922, 0.66573124,\n",
              "        0.03887614],\n",
              "       [0.73643411, 0.74066888, 0.76202661, 0.73133599, 0.65669001,\n",
              "        0.06269313],\n",
              "       [0.7122093 , 0.73097431, 0.75332651, 0.73673879, 0.6616627 ,\n",
              "        0.05787405],\n",
              "       [0.7122093 , 0.73097431, 0.75281474, 0.73182715, 0.65714209,\n",
              "        0.04839097],\n",
              "       [0.7194767 , 0.72176442, 0.74513818, 0.71954817, 0.6458407 ,\n",
              "        0.03954013],\n",
              "       [0.70348832, 0.70722254, 0.73541453, 0.70383112, 0.63137489,\n",
              "        0.03144514],\n",
              "       [0.69525189, 0.69995148, 0.73387917, 0.70874262, 0.63589531,\n",
              "        0.02308847],\n",
              "       [0.70397287, 0.70528357, 0.73183214, 0.70677803, 0.63408723,\n",
              "        0.03482392],\n",
              "       [0.70397287, 0.7081919 , 0.73490276, 0.70677803, 0.63408723,\n",
              "        0.02257928],\n",
              "       [0.69767442, 0.69510427, 0.72824974, 0.69842833, 0.6264022 ,\n",
              "        0.01903582],\n",
              "       [0.68168605, 0.68395536, 0.71136131, 0.67927317, 0.60877212,\n",
              "        0.02224034],\n",
              "       [0.68168605, 0.68395536, 0.69344933, 0.66306491, 0.59385423,\n",
              "        0.02942397],\n",
              "       [0.65310078, 0.66650509, 0.69396111, 0.67779964, 0.60741587,\n",
              "        0.02244093],\n",
              "       [0.66618222, 0.67571493, 0.6949847 , 0.66355598, 0.59430621,\n",
              "        0.02782257],\n",
              "       [0.64825581, 0.66117305, 0.68730803, 0.66797641, 0.59837464,\n",
              "        0.02440802],\n",
              "       [0.66182175, 0.66117305, 0.6765609 , 0.64685666, 0.57893629,\n",
              "        0.03144357],\n",
              "       [0.64341085, 0.6776539 , 0.68372569, 0.68516703, 0.61419665,\n",
              "        0.04400526],\n",
              "       [0.67877902, 0.69704314, 0.71903787, 0.69842833, 0.6264022 ,\n",
              "        0.04546845],\n",
              "       [0.69137592, 0.69122642, 0.7036848 , 0.67730848, 0.60696374,\n",
              "        0.03177292],\n",
              "       [0.66569772, 0.66941348, 0.6862846 , 0.67583495, 0.6056075 ,\n",
              "        0.03919891],\n",
              "       [0.65406982, 0.6572952 , 0.665302  , 0.63998039, 0.57260735,\n",
              "        0.05120333],\n",
              "       [0.64292631, 0.65341735, 0.68116684, 0.66306491, 0.59385423,\n",
              "        0.03397579],\n",
              "       [0.64147292, 0.64614639, 0.65813715, 0.63703343, 0.56989516,\n",
              "        0.05635362],\n",
              "       [0.63565891, 0.66262729, 0.665302  , 0.66895878, 0.5992789 ,\n",
              "        0.04077971],\n",
              "       [0.67587209, 0.68880271, 0.70777897, 0.6969548 , 0.625046  ,\n",
              "        0.0548714 ],\n",
              "       [0.68653106, 0.70382942, 0.71903787, 0.71660126, 0.64312846,\n",
              "        0.03461346],\n",
              "       [0.70300383, 0.73921474, 0.74411464, 0.73280952, 0.6580463 ,\n",
              "        0.04969664],\n",
              "       [0.71996119, 0.74600097, 0.76202661, 0.74852661, 0.67251211,\n",
              "        0.04766145],\n",
              "       [0.73982553, 0.74745521, 0.76867958, 0.73526526, 0.66030651,\n",
              "        0.05031056],\n",
              "       [0.76550388, 0.79059622, 0.80962134, 0.79666016, 0.71681365,\n",
              "        0.10120858],\n",
              "       [0.74854651, 0.76732913, 0.7840328 , 0.7804519 , 0.71911682,\n",
              "        0.06567045],\n",
              "       [0.75823643, 0.79301983, 0.80501535, 0.78831045, 0.72648688,\n",
              "        0.04828195],\n",
              "       [0.78924419, 0.79447407, 0.80706238, 0.77455795, 0.71358928,\n",
              "        0.06152981],\n",
              "       [0.76598837, 0.78041692, 0.80348004, 0.79223972, 0.73017189,\n",
              "        0.04455508],\n",
              "       [0.78488372, 0.79835191, 0.82702155, 0.80648339, 0.74353023,\n",
              "        0.03775975],\n",
              "       [0.80184109, 0.80222976, 0.82395082, 0.79027514, 0.72832946,\n",
              "        0.03492235],\n",
              "       [0.77761628, 0.78768783, 0.81729785, 0.7907662 , 0.72879006,\n",
              "        0.03271233],\n",
              "       [0.77325581, 0.78138628, 0.79785051, 0.77406679, 0.71312854,\n",
              "        0.0315204 ],\n",
              "       [0.7562984 , 0.75521086, 0.78096208, 0.75098236, 0.69147899,\n",
              "        0.03087142],\n",
              "       [0.74273261, 0.74697043, 0.77430911, 0.75392926, 0.69424286,\n",
              "        0.04384244],\n",
              "       [0.74127907, 0.74503146, 0.77840328, 0.75491163, 0.6951641 ,\n",
              "        0.03128876],\n",
              "       [0.74224806, 0.76635967, 0.78505624, 0.76375249, 0.7034554 ,\n",
              "        0.03586405]])"
            ]
          },
          "metadata": {
            "tags": []
          },
          "execution_count": 18
        }
      ]
    },
    {
      "cell_type": "code",
      "metadata": {
        "colab": {
          "base_uri": "https://localhost:8080/"
        },
        "id": "Hmxer-x0vUWK",
        "outputId": "f9f305c7-178a-46f6-c250-d3ace65a3168"
      },
      "source": [
        "y[0]"
      ],
      "execution_count": 19,
      "outputs": [
        {
          "output_type": "execute_result",
          "data": {
            "text/plain": [
              "0.7611434108527131"
            ]
          },
          "metadata": {
            "tags": []
          },
          "execution_count": 19
        }
      ]
    },
    {
      "cell_type": "code",
      "metadata": {
        "id": "JiiLALoBvVMi"
      },
      "source": [
        "X = torch.tensor(X, dtype=torch.float32)\r\n",
        "y = torch.tensor(y, dtype=torch.float32)"
      ],
      "execution_count": 20,
      "outputs": []
    },
    {
      "cell_type": "code",
      "metadata": {
        "id": "UUb0Tq0Wvrlh"
      },
      "source": [
        "dataset = torch.utils.data.TensorDataset(X, y)\r\n",
        "loader = torch.utils.data.DataLoader(dataset, batch_size=32, shuffle=True)"
      ],
      "execution_count": 21,
      "outputs": []
    },
    {
      "cell_type": "markdown",
      "metadata": {
        "id": "M1BUVlgLwPFn"
      },
      "source": [
        "## Etapa 3: Construção da rede neural recorrente"
      ]
    },
    {
      "cell_type": "code",
      "metadata": {
        "id": "NS-lFmuSwS2v"
      },
      "source": [
        "class Reg_LSTM(nn.Module):\r\n",
        "  def __init__(self):\r\n",
        "    super(Reg_LSTM, self).__init__()\r\n",
        "\r\n",
        "    self.lstm1 = nn.LSTM(input_size=6, hidden_size=100)\r\n",
        "    self.lstm2 = nn.LSTM(100, 50)\r\n",
        "    self.lstm3 = nn.LSTM(50,50, dropout=0.3, num_layers=2)\r\n",
        "    self.dropout = nn.Dropout(p=0.3)\r\n",
        "    self.linear = nn.Linear(in_features=50, out_features=1)\r\n",
        "    self.sigmoid = nn.Sigmoid()\r\n",
        "\r\n",
        "  def forward(self, X):\r\n",
        "    # X = (batch_size, timesteps) => (timesteps, batch_size, dimensions)\r\n",
        "    X = X.permute(1, 0, 2)\r\n",
        "    X, _ = self.lstm1(X)\r\n",
        "    X = self.dropout(X)\r\n",
        "    X, _ = self.lstm2(X)\r\n",
        "    X = self.dropout(X)\r\n",
        "    X, _ = self.lstm3(X)\r\n",
        "\r\n",
        "    X = X[-1]\r\n",
        "    X = self.dropout(X)\r\n",
        "    X = self.linear(X)\r\n",
        "    X = self.sigmoid(X)\r\n",
        "\r\n",
        "    return X"
      ],
      "execution_count": 22,
      "outputs": []
    },
    {
      "cell_type": "code",
      "metadata": {
        "colab": {
          "base_uri": "https://localhost:8080/"
        },
        "id": "xgUewzBMy7RW",
        "outputId": "cd0033b2-3384-4475-a6b4-9688b898da77"
      },
      "source": [
        "device = torch.device('cuda') if torch.cuda.is_available else torch.device('cpu')\r\n",
        "device"
      ],
      "execution_count": 23,
      "outputs": [
        {
          "output_type": "execute_result",
          "data": {
            "text/plain": [
              "device(type='cuda')"
            ]
          },
          "metadata": {
            "tags": []
          },
          "execution_count": 23
        }
      ]
    },
    {
      "cell_type": "code",
      "metadata": {
        "id": "2afZ3h70zE1Q"
      },
      "source": [
        "reg = Reg_LSTM()\r\n",
        "criterion = nn.MSELoss()\r\n",
        "optimizer = optim.Adam(reg.parameters())"
      ],
      "execution_count": 24,
      "outputs": []
    },
    {
      "cell_type": "code",
      "metadata": {
        "colab": {
          "base_uri": "https://localhost:8080/"
        },
        "id": "FOmrHFd6zXm2",
        "outputId": "efb1aca4-3aee-4d12-9763-a8379c46101a"
      },
      "source": [
        "reg.to(device)"
      ],
      "execution_count": 25,
      "outputs": [
        {
          "output_type": "execute_result",
          "data": {
            "text/plain": [
              "Reg_LSTM(\n",
              "  (lstm1): LSTM(6, 100)\n",
              "  (lstm2): LSTM(100, 50)\n",
              "  (lstm3): LSTM(50, 50, num_layers=2, dropout=0.3)\n",
              "  (dropout): Dropout(p=0.3, inplace=False)\n",
              "  (linear): Linear(in_features=50, out_features=1, bias=True)\n",
              "  (sigmoid): Sigmoid()\n",
              ")"
            ]
          },
          "metadata": {
            "tags": []
          },
          "execution_count": 25
        }
      ]
    },
    {
      "cell_type": "markdown",
      "metadata": {
        "id": "OmQTGPlCzbM_"
      },
      "source": [
        "## Etapa 4: Treinamento do modelo"
      ]
    },
    {
      "cell_type": "code",
      "metadata": {
        "id": "8Ik6YfwTUvv2"
      },
      "source": [
        "# Variáveis para o callback\r\n",
        "ES_MIN_DELTA = 1e-10\r\n",
        "ES_PATIENCE = 10\r\n",
        "RLR_FACTOR = 0.2\r\n",
        "RLR_PATIENCE = 5\r\n",
        "\r\n",
        "# Inicializando o custo inicial para usar o callback\r\n",
        "min_loss = np.inf"
      ],
      "execution_count": 26,
      "outputs": []
    },
    {
      "cell_type": "code",
      "metadata": {
        "colab": {
          "base_uri": "https://localhost:8080/"
        },
        "id": "SwAYw7D4zY3u",
        "outputId": "b4c08c0c-c6c3-41ed-87c4-1f4468285aff"
      },
      "source": [
        "arr_loss, arr_mae = [], []\r\n",
        "for epoch in range(200):\r\n",
        "\r\n",
        "  run_loss = 0.\r\n",
        "  run_mae = 0.\r\n",
        "\r\n",
        "  for i, data in enumerate(loader):\r\n",
        "    \r\n",
        "    inputs, labels = data\r\n",
        "    inputs, labels = inputs.to(device), labels.to(device)\r\n",
        "\r\n",
        "    optimizer.zero_grad()\r\n",
        "\r\n",
        "    outputs = reg(inputs)\r\n",
        "    outputs = outputs.flatten()\r\n",
        "\r\n",
        "    loss = criterion(outputs, labels)\r\n",
        "    loss.backward()\r\n",
        "\r\n",
        "    optimizer.step()\r\n",
        "\r\n",
        "    run_loss += loss.item()\r\n",
        "    mae = mean_absolute_error(labels.detach().cpu().numpy().flatten(),\r\n",
        "                              outputs.detach().cpu().numpy().flatten())\r\n",
        "    \r\n",
        "    run_mae += mae\r\n",
        "\r\n",
        "    print('\\rÉpoca {:3d} - Loop {:3d} de {:3d}: custo {:03.5f} | MAE {:03.5f}' \\\r\n",
        "          .format(epoch+1, i+1, len(loader), loss, mae), end='\\r')\r\n",
        "    \r\n",
        "  run_loss /= len(loader)\r\n",
        "  run_mae /= len(loader)\r\n",
        "  arr_loss.append(run_loss)\r\n",
        "  arr_mae.append(run_mae)\r\n",
        "  print('ÉPOCA {:3d} FINALIZADA: custo {:03.6f} | MAE {:03.6f}      ' \\\r\n",
        "        .format(epoch+1, run_loss, run_mae))\r\n",
        "\r\n",
        "\r\n",
        "  # SALVAR O MODELO\r\n",
        "  if run_loss < min_loss:\r\n",
        "    print('** Custo reduzido de {:03.6f} >>> {:03.6f} ... SALVANDO CHECKPOINT\\n' \\\r\n",
        "          .format(min_loss, run_loss))\r\n",
        "    torch.save(reg.state_dict(), 'checkpoint.pth')\r\n",
        "    min_loss = run_loss\r\n",
        "    es_patience = 0\r\n",
        "    rlr_patience = 0\r\n",
        "\r\n",
        "  else:\r\n",
        "    print('**Custo não reduziu, não salva checkpoint\\n')\r\n",
        "    # OS DEMAIS PARÂMETROS SÓ SERÃO CONSIDERADOS SE O CUSTO NÃO TIVER\r\n",
        "    # PARADA ANTECIPADA\r\n",
        "    if run_loss - min_loss >= ES_MIN_DELTA:\r\n",
        "      es_patience += 1\r\n",
        "\r\n",
        "      if es_patience == ES_PATIENCE:\r\n",
        "        print('--Critério de parada antecipada alcaçado, parando o treinamento.')\r\n",
        "        break\r\n",
        "\r\n",
        "    # REDUZIR A TAXA DE APRENDIZAGEM\r\n",
        "    rlr_patience += 1\r\n",
        "    if rlr_patience == RLR_PATIENCE:\r\n",
        "      print('--Critério de redução de taxa de aprendizagem alcançado, reduzindo LR.')\r\n",
        "      for param_group in optimizer.param_groups:\r\n",
        "        param_group['lr'] *= RLR_FACTOR\r\n",
        "      \r\n",
        "      rlr_patience = 0"
      ],
      "execution_count": 27,
      "outputs": [
        {
          "output_type": "stream",
          "text": [
            "ÉPOCA   1 FINALIZADA: custo 0.024224 | MAE 0.118907      \n",
            "** Custo reduzido de inf >>> 0.024224 ... SALVANDO CHECKPOINT\n",
            "\n",
            "ÉPOCA   2 FINALIZADA: custo 0.005203 | MAE 0.055632      \n",
            "** Custo reduzido de 0.024224 >>> 0.005203 ... SALVANDO CHECKPOINT\n",
            "\n",
            "ÉPOCA   3 FINALIZADA: custo 0.003576 | MAE 0.045800      \n",
            "** Custo reduzido de 0.005203 >>> 0.003576 ... SALVANDO CHECKPOINT\n",
            "\n",
            "ÉPOCA   4 FINALIZADA: custo 0.002903 | MAE 0.040878      \n",
            "** Custo reduzido de 0.003576 >>> 0.002903 ... SALVANDO CHECKPOINT\n",
            "\n",
            "ÉPOCA   5 FINALIZADA: custo 0.002708 | MAE 0.039645      \n",
            "** Custo reduzido de 0.002903 >>> 0.002708 ... SALVANDO CHECKPOINT\n",
            "\n",
            "ÉPOCA   6 FINALIZADA: custo 0.002234 | MAE 0.036184      \n",
            "** Custo reduzido de 0.002708 >>> 0.002234 ... SALVANDO CHECKPOINT\n",
            "\n",
            "ÉPOCA   7 FINALIZADA: custo 0.002287 | MAE 0.036754      \n",
            "**Custo não reduziu, não salva checkpoint\n",
            "\n",
            "ÉPOCA   8 FINALIZADA: custo 0.002263 | MAE 0.035954      \n",
            "**Custo não reduziu, não salva checkpoint\n",
            "\n",
            "ÉPOCA   9 FINALIZADA: custo 0.002264 | MAE 0.036803      \n",
            "**Custo não reduziu, não salva checkpoint\n",
            "\n",
            "ÉPOCA  10 FINALIZADA: custo 0.001832 | MAE 0.032701      \n",
            "** Custo reduzido de 0.002234 >>> 0.001832 ... SALVANDO CHECKPOINT\n",
            "\n",
            "ÉPOCA  11 FINALIZADA: custo 0.001976 | MAE 0.033310      \n",
            "**Custo não reduziu, não salva checkpoint\n",
            "\n",
            "ÉPOCA  12 FINALIZADA: custo 0.001731 | MAE 0.031607      \n",
            "** Custo reduzido de 0.001832 >>> 0.001731 ... SALVANDO CHECKPOINT\n",
            "\n",
            "ÉPOCA  13 FINALIZADA: custo 0.001795 | MAE 0.031754      \n",
            "**Custo não reduziu, não salva checkpoint\n",
            "\n",
            "ÉPOCA  14 FINALIZADA: custo 0.001648 | MAE 0.030860      \n",
            "** Custo reduzido de 0.001731 >>> 0.001648 ... SALVANDO CHECKPOINT\n",
            "\n",
            "ÉPOCA  15 FINALIZADA: custo 0.001638 | MAE 0.030748      \n",
            "** Custo reduzido de 0.001648 >>> 0.001638 ... SALVANDO CHECKPOINT\n",
            "\n",
            "ÉPOCA  16 FINALIZADA: custo 0.001763 | MAE 0.032251      \n",
            "**Custo não reduziu, não salva checkpoint\n",
            "\n",
            "ÉPOCA  17 FINALIZADA: custo 0.001503 | MAE 0.029148      \n",
            "** Custo reduzido de 0.001638 >>> 0.001503 ... SALVANDO CHECKPOINT\n",
            "\n",
            "ÉPOCA  18 FINALIZADA: custo 0.001497 | MAE 0.028759      \n",
            "** Custo reduzido de 0.001503 >>> 0.001497 ... SALVANDO CHECKPOINT\n",
            "\n",
            "ÉPOCA  19 FINALIZADA: custo 0.001402 | MAE 0.028019      \n",
            "** Custo reduzido de 0.001497 >>> 0.001402 ... SALVANDO CHECKPOINT\n",
            "\n",
            "ÉPOCA  20 FINALIZADA: custo 0.001534 | MAE 0.030132      \n",
            "**Custo não reduziu, não salva checkpoint\n",
            "\n",
            "ÉPOCA  21 FINALIZADA: custo 0.001460 | MAE 0.028753      \n",
            "**Custo não reduziu, não salva checkpoint\n",
            "\n",
            "ÉPOCA  22 FINALIZADA: custo 0.001494 | MAE 0.028705      \n",
            "**Custo não reduziu, não salva checkpoint\n",
            "\n",
            "ÉPOCA  23 FINALIZADA: custo 0.001235 | MAE 0.026451      \n",
            "** Custo reduzido de 0.001402 >>> 0.001235 ... SALVANDO CHECKPOINT\n",
            "\n",
            "ÉPOCA  24 FINALIZADA: custo 0.001414 | MAE 0.028464      \n",
            "**Custo não reduziu, não salva checkpoint\n",
            "\n",
            "ÉPOCA  25 FINALIZADA: custo 0.001299 | MAE 0.027509      \n",
            "**Custo não reduziu, não salva checkpoint\n",
            "\n",
            "ÉPOCA  26 FINALIZADA: custo 0.001248 | MAE 0.026371      \n",
            "**Custo não reduziu, não salva checkpoint\n",
            "\n",
            "ÉPOCA  27 FINALIZADA: custo 0.001230 | MAE 0.026090      \n",
            "** Custo reduzido de 0.001235 >>> 0.001230 ... SALVANDO CHECKPOINT\n",
            "\n",
            "ÉPOCA  28 FINALIZADA: custo 0.001206 | MAE 0.025805      \n",
            "** Custo reduzido de 0.001230 >>> 0.001206 ... SALVANDO CHECKPOINT\n",
            "\n",
            "ÉPOCA  29 FINALIZADA: custo 0.001369 | MAE 0.028062      \n",
            "**Custo não reduziu, não salva checkpoint\n",
            "\n",
            "ÉPOCA  30 FINALIZADA: custo 0.001306 | MAE 0.027259      \n",
            "**Custo não reduziu, não salva checkpoint\n",
            "\n",
            "ÉPOCA  31 FINALIZADA: custo 0.001070 | MAE 0.023909      \n",
            "** Custo reduzido de 0.001206 >>> 0.001070 ... SALVANDO CHECKPOINT\n",
            "\n",
            "ÉPOCA  32 FINALIZADA: custo 0.001167 | MAE 0.025140      \n",
            "**Custo não reduziu, não salva checkpoint\n",
            "\n",
            "ÉPOCA  33 FINALIZADA: custo 0.001077 | MAE 0.024318      \n",
            "**Custo não reduziu, não salva checkpoint\n",
            "\n",
            "ÉPOCA  34 FINALIZADA: custo 0.001108 | MAE 0.024624      \n",
            "**Custo não reduziu, não salva checkpoint\n",
            "\n",
            "ÉPOCA  35 FINALIZADA: custo 0.001048 | MAE 0.023896      \n",
            "** Custo reduzido de 0.001070 >>> 0.001048 ... SALVANDO CHECKPOINT\n",
            "\n",
            "ÉPOCA  36 FINALIZADA: custo 0.001008 | MAE 0.023702      \n",
            "** Custo reduzido de 0.001048 >>> 0.001008 ... SALVANDO CHECKPOINT\n",
            "\n",
            "ÉPOCA  37 FINALIZADA: custo 0.000919 | MAE 0.022788      \n",
            "** Custo reduzido de 0.001008 >>> 0.000919 ... SALVANDO CHECKPOINT\n",
            "\n",
            "ÉPOCA  38 FINALIZADA: custo 0.000978 | MAE 0.023436      \n",
            "**Custo não reduziu, não salva checkpoint\n",
            "\n",
            "ÉPOCA  39 FINALIZADA: custo 0.001010 | MAE 0.023519      \n",
            "**Custo não reduziu, não salva checkpoint\n",
            "\n",
            "ÉPOCA  40 FINALIZADA: custo 0.001035 | MAE 0.023984      \n",
            "**Custo não reduziu, não salva checkpoint\n",
            "\n",
            "ÉPOCA  41 FINALIZADA: custo 0.000996 | MAE 0.023251      \n",
            "**Custo não reduziu, não salva checkpoint\n",
            "\n",
            "ÉPOCA  42 FINALIZADA: custo 0.000981 | MAE 0.023297      \n",
            "**Custo não reduziu, não salva checkpoint\n",
            "\n",
            "--Critério de redução de taxa de aprendizagem alcançado, reduzindo LR.\n",
            "ÉPOCA  43 FINALIZADA: custo 0.000863 | MAE 0.021873      \n",
            "** Custo reduzido de 0.000919 >>> 0.000863 ... SALVANDO CHECKPOINT\n",
            "\n",
            "ÉPOCA  44 FINALIZADA: custo 0.000856 | MAE 0.021974      \n",
            "** Custo reduzido de 0.000863 >>> 0.000856 ... SALVANDO CHECKPOINT\n",
            "\n",
            "ÉPOCA  45 FINALIZADA: custo 0.000832 | MAE 0.021334      \n",
            "** Custo reduzido de 0.000856 >>> 0.000832 ... SALVANDO CHECKPOINT\n",
            "\n",
            "ÉPOCA  46 FINALIZADA: custo 0.000857 | MAE 0.021778      \n",
            "**Custo não reduziu, não salva checkpoint\n",
            "\n",
            "ÉPOCA  47 FINALIZADA: custo 0.000781 | MAE 0.020595      \n",
            "** Custo reduzido de 0.000832 >>> 0.000781 ... SALVANDO CHECKPOINT\n",
            "\n",
            "ÉPOCA  48 FINALIZADA: custo 0.000829 | MAE 0.021039      \n",
            "**Custo não reduziu, não salva checkpoint\n",
            "\n",
            "ÉPOCA  49 FINALIZADA: custo 0.000798 | MAE 0.020879      \n",
            "**Custo não reduziu, não salva checkpoint\n",
            "\n",
            "ÉPOCA  50 FINALIZADA: custo 0.000799 | MAE 0.021099      \n",
            "**Custo não reduziu, não salva checkpoint\n",
            "\n",
            "ÉPOCA  51 FINALIZADA: custo 0.000818 | MAE 0.021215      \n",
            "**Custo não reduziu, não salva checkpoint\n",
            "\n",
            "ÉPOCA  52 FINALIZADA: custo 0.000895 | MAE 0.022340      \n",
            "**Custo não reduziu, não salva checkpoint\n",
            "\n",
            "--Critério de redução de taxa de aprendizagem alcançado, reduzindo LR.\n",
            "ÉPOCA  53 FINALIZADA: custo 0.000830 | MAE 0.020762      \n",
            "**Custo não reduziu, não salva checkpoint\n",
            "\n",
            "ÉPOCA  54 FINALIZADA: custo 0.000791 | MAE 0.020245      \n",
            "**Custo não reduziu, não salva checkpoint\n",
            "\n",
            "ÉPOCA  55 FINALIZADA: custo 0.000754 | MAE 0.020322      \n",
            "** Custo reduzido de 0.000781 >>> 0.000754 ... SALVANDO CHECKPOINT\n",
            "\n",
            "ÉPOCA  56 FINALIZADA: custo 0.000808 | MAE 0.020955      \n",
            "**Custo não reduziu, não salva checkpoint\n",
            "\n",
            "ÉPOCA  57 FINALIZADA: custo 0.000739 | MAE 0.020210      \n",
            "** Custo reduzido de 0.000754 >>> 0.000739 ... SALVANDO CHECKPOINT\n",
            "\n",
            "ÉPOCA  58 FINALIZADA: custo 0.000799 | MAE 0.020831      \n",
            "**Custo não reduziu, não salva checkpoint\n",
            "\n",
            "ÉPOCA  59 FINALIZADA: custo 0.000820 | MAE 0.021417      \n",
            "**Custo não reduziu, não salva checkpoint\n",
            "\n",
            "ÉPOCA  60 FINALIZADA: custo 0.000773 | MAE 0.020442      \n",
            "**Custo não reduziu, não salva checkpoint\n",
            "\n",
            "ÉPOCA  61 FINALIZADA: custo 0.000797 | MAE 0.020855      \n",
            "**Custo não reduziu, não salva checkpoint\n",
            "\n",
            "ÉPOCA  62 FINALIZADA: custo 0.000802 | MAE 0.020766      \n",
            "**Custo não reduziu, não salva checkpoint\n",
            "\n",
            "--Critério de redução de taxa de aprendizagem alcançado, reduzindo LR.\n",
            "ÉPOCA  63 FINALIZADA: custo 0.000800 | MAE 0.020668      \n",
            "**Custo não reduziu, não salva checkpoint\n",
            "\n",
            "ÉPOCA  64 FINALIZADA: custo 0.000847 | MAE 0.021032      \n",
            "**Custo não reduziu, não salva checkpoint\n",
            "\n",
            "ÉPOCA  65 FINALIZADA: custo 0.000751 | MAE 0.020004      \n",
            "**Custo não reduziu, não salva checkpoint\n",
            "\n",
            "ÉPOCA  66 FINALIZADA: custo 0.000836 | MAE 0.021026      \n",
            "**Custo não reduziu, não salva checkpoint\n",
            "\n",
            "ÉPOCA  67 FINALIZADA: custo 0.000809 | MAE 0.021069      \n",
            "**Custo não reduziu, não salva checkpoint\n",
            "\n",
            "--Critério de parada antecipada alcaçado, parando o treinamento.\n"
          ],
          "name": "stdout"
        }
      ]
    },
    {
      "cell_type": "code",
      "metadata": {
        "colab": {
          "base_uri": "https://localhost:8080/",
          "height": 350
        },
        "id": "gV2CeZbYB2Wb",
        "outputId": "b6bd07e9-72e7-48dc-98c3-7c8852e18c28"
      },
      "source": [
        "fig, ax = plt.subplots(1,2, figsize=(14,6))\r\n",
        "\r\n",
        "ax[0].plot(arr_loss, label='Perda')\r\n",
        "ax[0].set(xlabel='ÉPOCA', ylabel='PERDA', title='PROGRESSÃO DA PERDA NO TREINAMENTO')\r\n",
        "ax[0].grid()\r\n",
        "\r\n",
        "ax[1].plot(arr_mae, label='MAE')\r\n",
        "ax[1].set(xlabel='ÉPOCA', ylabel='MAE', title='PROGRESSÃO DO MAE NO TREINAMENTO')\r\n",
        "ax[1].grid()\r\n",
        "\r\n",
        "plt.tight_layout();"
      ],
      "execution_count": 28,
      "outputs": [
        {
          "output_type": "display_data",
          "data": {
            "image/png": "[encoded data removed]",
            "text/plain": [
              "<Figure size 1008x432 with 2 Axes>"
            ]
          },
          "metadata": {
            "tags": [],
            "needs_background": "light"
          }
        }
      ]
    },
    {
      "cell_type": "markdown",
      "metadata": {
        "id": "4PVMqjcl2TQ-"
      },
      "source": [
        "## Etapa 5: Processamento da base de teste"
      ]
    },
    {
      "cell_type": "code",
      "metadata": {
        "colab": {
          "base_uri": "https://localhost:8080/",
          "height": 204
        },
        "id": "dtDTXqTf2e6u",
        "outputId": "00e8e3ce-f3e2-4c3f-e3dc-62ffed122d47"
      },
      "source": [
        "y_raw = df_test.iloc[:, 1:2].values\r\n",
        "df_completa = pd.concat([df_train, df_test])\r\n",
        "df_completa.head()"
      ],
      "execution_count": 29,
      "outputs": [
        {
          "output_type": "execute_result",
          "data": {
            "text/html": [
              "<div>\n",
              "<style scoped>\n",
              "    .dataframe tbody tr th:only-of-type {\n",
              "        vertical-align: middle;\n",
              "    }\n",
              "\n",
              "    .dataframe tbody tr th {\n",
              "        vertical-align: top;\n",
              "    }\n",
              "\n",
              "    .dataframe thead th {\n",
              "        text-align: right;\n",
              "    }\n",
              "</style>\n",
              "<table border=\"1\" class=\"dataframe\">\n",
              "  <thead>\n",
              "    <tr style=\"text-align: right;\">\n",
              "      <th></th>\n",
              "      <th>Date</th>\n",
              "      <th>Open</th>\n",
              "      <th>High</th>\n",
              "      <th>Low</th>\n",
              "      <th>Close</th>\n",
              "      <th>Adj Close</th>\n",
              "      <th>Volume</th>\n",
              "    </tr>\n",
              "  </thead>\n",
              "  <tbody>\n",
              "    <tr>\n",
              "      <th>0</th>\n",
              "      <td>2013-01-02</td>\n",
              "      <td>19.990000</td>\n",
              "      <td>20.209999</td>\n",
              "      <td>19.690001</td>\n",
              "      <td>19.690001</td>\n",
              "      <td>18.086271</td>\n",
              "      <td>30182600.0</td>\n",
              "    </tr>\n",
              "    <tr>\n",
              "      <th>1</th>\n",
              "      <td>2013-01-03</td>\n",
              "      <td>19.809999</td>\n",
              "      <td>20.400000</td>\n",
              "      <td>19.700001</td>\n",
              "      <td>20.400000</td>\n",
              "      <td>18.738441</td>\n",
              "      <td>30552600.0</td>\n",
              "    </tr>\n",
              "    <tr>\n",
              "      <th>2</th>\n",
              "      <td>2013-01-04</td>\n",
              "      <td>20.330000</td>\n",
              "      <td>20.620001</td>\n",
              "      <td>20.170000</td>\n",
              "      <td>20.430000</td>\n",
              "      <td>18.766001</td>\n",
              "      <td>36141000.0</td>\n",
              "    </tr>\n",
              "    <tr>\n",
              "      <th>3</th>\n",
              "      <td>2013-01-07</td>\n",
              "      <td>20.480000</td>\n",
              "      <td>20.670000</td>\n",
              "      <td>19.950001</td>\n",
              "      <td>20.080000</td>\n",
              "      <td>18.444506</td>\n",
              "      <td>28069600.0</td>\n",
              "    </tr>\n",
              "    <tr>\n",
              "      <th>4</th>\n",
              "      <td>2013-01-08</td>\n",
              "      <td>20.110001</td>\n",
              "      <td>20.230000</td>\n",
              "      <td>19.459999</td>\n",
              "      <td>19.500000</td>\n",
              "      <td>17.911745</td>\n",
              "      <td>29091300.0</td>\n",
              "    </tr>\n",
              "  </tbody>\n",
              "</table>\n",
              "</div>"
            ],
            "text/plain": [
              "         Date       Open       High  ...      Close  Adj Close      Volume\n",
              "0  2013-01-02  19.990000  20.209999  ...  19.690001  18.086271  30182600.0\n",
              "1  2013-01-03  19.809999  20.400000  ...  20.400000  18.738441  30552600.0\n",
              "2  2013-01-04  20.330000  20.620001  ...  20.430000  18.766001  36141000.0\n",
              "3  2013-01-07  20.480000  20.670000  ...  20.080000  18.444506  28069600.0\n",
              "4  2013-01-08  20.110001  20.230000  ...  19.500000  17.911745  29091300.0\n",
              "\n",
              "[5 rows x 7 columns]"
            ]
          },
          "metadata": {
            "tags": []
          },
          "execution_count": 29
        }
      ]
    },
    {
      "cell_type": "code",
      "metadata": {
        "id": "fLcIIGkV6XlM"
      },
      "source": [
        "df_completa.drop('Date', axis=1, inplace=True)"
      ],
      "execution_count": 30,
      "outputs": []
    },
    {
      "cell_type": "code",
      "metadata": {
        "id": "EC3cnmBa7JB1"
      },
      "source": [
        "entradas = df_completa[len(df_completa) - len(df_test) - 90:].values\n",
        "entradas = train_scaler.transform(entradas)"
      ],
      "execution_count": 31,
      "outputs": []
    },
    {
      "cell_type": "code",
      "metadata": {
        "id": "n9wR0hhM9z3S"
      },
      "source": [
        "X_test = []\r\n",
        "for i in range(90, 112):\r\n",
        "  X_test.append(entradas[i-90:i, 0:6])\r\n",
        "X_test = np.array(X_test)"
      ],
      "execution_count": 32,
      "outputs": []
    },
    {
      "cell_type": "code",
      "metadata": {
        "id": "DPTAhq6x-Sfx"
      },
      "source": [
        "X_test = torch.tensor(X_test, device = device, dtype=torch.float32)"
      ],
      "execution_count": 33,
      "outputs": []
    },
    {
      "cell_type": "markdown",
      "metadata": {
        "id": "u9HKzN20-gmo"
      },
      "source": [
        "## Etapa 6: Previsões"
      ]
    },
    {
      "cell_type": "code",
      "metadata": {
        "id": "FTV_5cZY-gSQ",
        "colab": {
          "base_uri": "https://localhost:8080/"
        },
        "outputId": "bfab5a87-bc1f-49af-9803-98fe170bd3a0"
      },
      "source": [
        "reg.eval()\r\n",
        "previsoes = reg.forward(X_test)\r\n",
        "previsoes = previsoes.detach().cpu().numpy().reshape(-1,1)\r\n",
        "previsoes"
      ],
      "execution_count": 34,
      "outputs": [
        {
          "output_type": "execute_result",
          "data": {
            "text/plain": [
              "array([[0.5791358 ],\n",
              "       [0.5879238 ],\n",
              "       [0.60090023],\n",
              "       [0.61196864],\n",
              "       [0.61542016],\n",
              "       [0.6182297 ],\n",
              "       [0.6228692 ],\n",
              "       [0.62005526],\n",
              "       [0.62337714],\n",
              "       [0.6312442 ],\n",
              "       [0.6380664 ],\n",
              "       [0.6470777 ],\n",
              "       [0.6702178 ],\n",
              "       [0.68560696],\n",
              "       [0.6873043 ],\n",
              "       [0.6865788 ],\n",
              "       [0.683122  ],\n",
              "       [0.7055072 ],\n",
              "       [0.73149306],\n",
              "       [0.7494985 ],\n",
              "       [0.7572594 ],\n",
              "       [0.75082487]], dtype=float32)"
            ]
          },
          "metadata": {
            "tags": []
          },
          "execution_count": 34
        }
      ]
    },
    {
      "cell_type": "code",
      "metadata": {
        "colab": {
          "base_uri": "https://localhost:8080/"
        },
        "id": "NuNlNBCibvLA",
        "outputId": "1ff7b796-b7d1-4f73-81c7-e95d5a627966"
      },
      "source": [
        "test_scaler = MinMaxScaler(feature_range=(0,1))\r\n",
        "test_scaler.fit(X_train[:,0:1])"
      ],
      "execution_count": 35,
      "outputs": [
        {
          "output_type": "execute_result",
          "data": {
            "text/plain": [
              "MinMaxScaler(copy=True, feature_range=(0, 1))"
            ]
          },
          "metadata": {
            "tags": []
          },
          "execution_count": 35
        }
      ]
    },
    {
      "cell_type": "code",
      "metadata": {
        "colab": {
          "base_uri": "https://localhost:8080/"
        },
        "id": "1RGBQl4e-7Iv",
        "outputId": "1fa1ab1d-8da7-4c40-a990-41d04660b1cb"
      },
      "source": [
        "previsoes = test_scaler.inverse_transform(previsoes)\r\n",
        "previsoes.mean()"
      ],
      "execution_count": 36,
      "outputs": [
        {
          "output_type": "execute_result",
          "data": {
            "text/plain": [
              "17.807087"
            ]
          },
          "metadata": {
            "tags": []
          },
          "execution_count": 36
        }
      ]
    },
    {
      "cell_type": "code",
      "metadata": {
        "colab": {
          "base_uri": "https://localhost:8080/"
        },
        "id": "g_R5KFXl_Cln",
        "outputId": "9d0ffc97-7261-472a-8ead-bbbed6424647"
      },
      "source": [
        "y_raw.mean()"
      ],
      "execution_count": 37,
      "outputs": [
        {
          "output_type": "execute_result",
          "data": {
            "text/plain": [
              "17.87454563636364"
            ]
          },
          "metadata": {
            "tags": []
          },
          "execution_count": 37
        }
      ]
    },
    {
      "cell_type": "code",
      "metadata": {
        "colab": {
          "base_uri": "https://localhost:8080/",
          "height": 380
        },
        "id": "DTzYxXFw_8gE",
        "outputId": "0ac65383-43ca-4938-f607-2f6e15ffb8d2"
      },
      "source": [
        "plt.figure(figsize=(14,6))\r\n",
        "plt.plot(y_raw, color='red', label='Preço real')\r\n",
        "plt.plot(previsoes, color = 'blue', label='Previsões')\r\n",
        "plt.title('Previsões do preço de ações')\r\n",
        "plt.xlabel('Tempo')\r\n",
        "plt.ylabel('Valor Yahoo')\r\n",
        "plt.legend()\r\n",
        "plt.grid()\r\n",
        "plt.show()"
      ],
      "execution_count": 39,
      "outputs": [
        {
          "output_type": "display_data",
          "data": {
            "image/png": "[encoded data removed]",
            "text/plain": [
              "<Figure size 1008x432 with 1 Axes>"
            ]
          },
          "metadata": {
            "tags": [],
            "needs_background": "light"
          }
        }
      ]
    }
  ]
}