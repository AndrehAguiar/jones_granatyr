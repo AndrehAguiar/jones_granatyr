{
  "nbformat": 4,
  "nbformat_minor": 0,
  "metadata": {
    "colab": {
      "name": "TAREFA-Rede_Convolucional-CIFAR10.ipynb",
      "provenance": [],
      "collapsed_sections": []
    },
    "kernelspec": {
      "name": "python3",
      "display_name": "Python 3"
    },
    "accelerator": "GPU",
    "widgets": {
      "application/vnd.jupyter.widget-state+json": {
        "ed05d287cd2b4403b999c85999e552e7": {
          "model_module": "@jupyter-widgets/controls",
          "model_name": "HBoxModel",
          "state": {
            "_view_name": "HBoxView",
            "_dom_classes": [],
            "_model_name": "HBoxModel",
            "_view_module": "@jupyter-widgets/controls",
            "_model_module_version": "1.5.0",
            "_view_count": null,
            "_view_module_version": "1.5.0",
            "box_style": "",
            "layout": "IPY_MODEL_377f2f2f1447443eb131d963b2697f63",
            "_model_module": "@jupyter-widgets/controls",
            "children": [
              "IPY_MODEL_76c206ac7d1b4e4c99608dca6f9167e7",
              "IPY_MODEL_89bcd00735974e7a8fbc362227787b51"
            ]
          }
        },
        "377f2f2f1447443eb131d963b2697f63": {
          "model_module": "@jupyter-widgets/base",
          "model_name": "LayoutModel",
          "state": {
            "_view_name": "LayoutView",
            "grid_template_rows": null,
            "right": null,
            "justify_content": null,
            "_view_module": "@jupyter-widgets/base",
            "overflow": null,
            "_model_module_version": "1.2.0",
            "_view_count": null,
            "flex_flow": null,
            "width": null,
            "min_width": null,
            "border": null,
            "align_items": null,
            "bottom": null,
            "_model_module": "@jupyter-widgets/base",
            "top": null,
            "grid_column": null,
            "overflow_y": null,
            "overflow_x": null,
            "grid_auto_flow": null,
            "grid_area": null,
            "grid_template_columns": null,
            "flex": null,
            "_model_name": "LayoutModel",
            "justify_items": null,
            "grid_row": null,
            "max_height": null,
            "align_content": null,
            "visibility": null,
            "align_self": null,
            "height": null,
            "min_height": null,
            "padding": null,
            "grid_auto_rows": null,
            "grid_gap": null,
            "max_width": null,
            "order": null,
            "_view_module_version": "1.2.0",
            "grid_template_areas": null,
            "object_position": null,
            "object_fit": null,
            "grid_auto_columns": null,
            "margin": null,
            "display": null,
            "left": null
          }
        },
        "76c206ac7d1b4e4c99608dca6f9167e7": {
          "model_module": "@jupyter-widgets/controls",
          "model_name": "FloatProgressModel",
          "state": {
            "_view_name": "ProgressView",
            "style": "IPY_MODEL_d123dd4708cd43659f96267783cd6034",
            "_dom_classes": [],
            "description": "",
            "_model_name": "FloatProgressModel",
            "bar_style": "success",
            "max": 1,
            "_view_module": "@jupyter-widgets/controls",
            "_model_module_version": "1.5.0",
            "value": 1,
            "_view_count": null,
            "_view_module_version": "1.5.0",
            "orientation": "horizontal",
            "min": 0,
            "description_tooltip": null,
            "_model_module": "@jupyter-widgets/controls",
            "layout": "IPY_MODEL_fbe9575ffd844fa2bd85c509105c8a3d"
          }
        },
        "89bcd00735974e7a8fbc362227787b51": {
          "model_module": "@jupyter-widgets/controls",
          "model_name": "HTMLModel",
          "state": {
            "_view_name": "HTMLView",
            "style": "IPY_MODEL_3e511a65578c4ce58732301147b701b4",
            "_dom_classes": [],
            "description": "",
            "_model_name": "HTMLModel",
            "placeholder": "​",
            "_view_module": "@jupyter-widgets/controls",
            "_model_module_version": "1.5.0",
            "value": " 170500096/? [00:07&lt;00:00, 22750421.27it/s]",
            "_view_count": null,
            "_view_module_version": "1.5.0",
            "description_tooltip": null,
            "_model_module": "@jupyter-widgets/controls",
            "layout": "IPY_MODEL_e5fa8b703fd248a491e5f1c9f3d76675"
          }
        },
        "d123dd4708cd43659f96267783cd6034": {
          "model_module": "@jupyter-widgets/controls",
          "model_name": "ProgressStyleModel",
          "state": {
            "_view_name": "StyleView",
            "_model_name": "ProgressStyleModel",
            "description_width": "initial",
            "_view_module": "@jupyter-widgets/base",
            "_model_module_version": "1.5.0",
            "_view_count": null,
            "_view_module_version": "1.2.0",
            "bar_color": null,
            "_model_module": "@jupyter-widgets/controls"
          }
        },
        "fbe9575ffd844fa2bd85c509105c8a3d": {
          "model_module": "@jupyter-widgets/base",
          "model_name": "LayoutModel",
          "state": {
            "_view_name": "LayoutView",
            "grid_template_rows": null,
            "right": null,
            "justify_content": null,
            "_view_module": "@jupyter-widgets/base",
            "overflow": null,
            "_model_module_version": "1.2.0",
            "_view_count": null,
            "flex_flow": null,
            "width": null,
            "min_width": null,
            "border": null,
            "align_items": null,
            "bottom": null,
            "_model_module": "@jupyter-widgets/base",
            "top": null,
            "grid_column": null,
            "overflow_y": null,
            "overflow_x": null,
            "grid_auto_flow": null,
            "grid_area": null,
            "grid_template_columns": null,
            "flex": null,
            "_model_name": "LayoutModel",
            "justify_items": null,
            "grid_row": null,
            "max_height": null,
            "align_content": null,
            "visibility": null,
            "align_self": null,
            "height": null,
            "min_height": null,
            "padding": null,
            "grid_auto_rows": null,
            "grid_gap": null,
            "max_width": null,
            "order": null,
            "_view_module_version": "1.2.0",
            "grid_template_areas": null,
            "object_position": null,
            "object_fit": null,
            "grid_auto_columns": null,
            "margin": null,
            "display": null,
            "left": null
          }
        },
        "3e511a65578c4ce58732301147b701b4": {
          "model_module": "@jupyter-widgets/controls",
          "model_name": "DescriptionStyleModel",
          "state": {
            "_view_name": "StyleView",
            "_model_name": "DescriptionStyleModel",
            "description_width": "",
            "_view_module": "@jupyter-widgets/base",
            "_model_module_version": "1.5.0",
            "_view_count": null,
            "_view_module_version": "1.2.0",
            "_model_module": "@jupyter-widgets/controls"
          }
        },
        "e5fa8b703fd248a491e5f1c9f3d76675": {
          "model_module": "@jupyter-widgets/base",
          "model_name": "LayoutModel",
          "state": {
            "_view_name": "LayoutView",
            "grid_template_rows": null,
            "right": null,
            "justify_content": null,
            "_view_module": "@jupyter-widgets/base",
            "overflow": null,
            "_model_module_version": "1.2.0",
            "_view_count": null,
            "flex_flow": null,
            "width": null,
            "min_width": null,
            "border": null,
            "align_items": null,
            "bottom": null,
            "_model_module": "@jupyter-widgets/base",
            "top": null,
            "grid_column": null,
            "overflow_y": null,
            "overflow_x": null,
            "grid_auto_flow": null,
            "grid_area": null,
            "grid_template_columns": null,
            "flex": null,
            "_model_name": "LayoutModel",
            "justify_items": null,
            "grid_row": null,
            "max_height": null,
            "align_content": null,
            "visibility": null,
            "align_self": null,
            "height": null,
            "min_height": null,
            "padding": null,
            "grid_auto_rows": null,
            "grid_gap": null,
            "max_width": null,
            "order": null,
            "_view_module_version": "1.2.0",
            "grid_template_areas": null,
            "object_position": null,
            "object_fit": null,
            "grid_auto_columns": null,
            "margin": null,
            "display": null,
            "left": null
          }
        }
      }
    }
  },
  "cells": [
    {
      "cell_type": "markdown",
      "metadata": {
        "id": "gnMml162P2XO"
      },
      "source": [
        "# TAREFA: Base de dados CIFAR-10\r\n",
        "\r\n",
        "Nas aulas anteriores você aprendeu como utilizar a base de dados MNIST para classificação de dígitos escritos a mão. Além dela, outra base de dados bastante famosa é a CIFAR-10, que é utilizada para classificação de 10 classes, ou seja: avião, automóvel, pássaro, gato, veado, cachorro, sapo, cavalo, navio e caminhão. Clicando no link abaixo você pode ver mais detalhes sobre ela\r\n",
        "\r\n",
        "[CIFAR-10](https://www.cs.toronto.edu/~kriz/cifar.html)\r\n",
        "\r\n",
        "Utilizando esta base de dados, o objetivo é você construir uma rede neural conforme desenvolvemos nas aulas sobre o MNIST, avaliando os percentuais de acerto que você obterá testando diversas configurações com a rede neural convolucional. No link abaixo você pode verificar quais foram os percentuais máximos de acerto atingidos por outros pesquisadores\r\n",
        "\r\n",
        "[Acertos base CIFAR-10](http://rodrigob.github.io/are_we_there_yet/build/classification_datasets_results.html#43494641522d3130)\r\n",
        "\r\n",
        "Siga as seguintes dicas para concluir esta tarefa:\r\n",
        "\r\n",
        "- Consulte a [documentação](https://pytorch.org/docs/stable/index.html) do PyTorch para aprender como carregar essa base de dados\r\n",
        "\r\n",
        "- A dimensão das imagens é 32 x 32 e elas são coloridas, portanto, você deve fazer esses ajustes no código fonte\r\n",
        "\r\n",
        "- Quando avaliamos algoritmos de aprendizagem de máquina, o ideal é utilizar validação cruzada. Porém, para não aumentarmos o tempo de processamento, você pode utilizar as bases de treinamento e teste para esta tarefa"
      ]
    },
    {
      "cell_type": "code",
      "metadata": {
        "colab": {
          "base_uri": "https://localhost:8080/"
        },
        "id": "4A56-zKgPwSb",
        "outputId": "36e2d3c6-d27d-4ccf-c4de-dea6320ebf5f"
      },
      "source": [
        "!pip install torch==1.4.0 torchvision==0.5.0"
      ],
      "execution_count": 1,
      "outputs": [
        {
          "output_type": "stream",
          "text": [
            "Collecting torch==1.4.0\n",
            "\u001b[?25l  Downloading https://files.pythonhosted.org/packages/24/19/4804aea17cd136f1705a5e98a00618cb8f6ccc375ad8bfa437408e09d058/torch-1.4.0-cp36-cp36m-manylinux1_x86_64.whl (753.4MB)\n",
            "\u001b[K     |████████████████████████████████| 753.4MB 21kB/s \n",
            "\u001b[?25hCollecting torchvision==0.5.0\n",
            "\u001b[?25l  Downloading https://files.pythonhosted.org/packages/7e/90/6141bf41f5655c78e24f40f710fdd4f8a8aff6c8b7c6f0328240f649bdbe/torchvision-0.5.0-cp36-cp36m-manylinux1_x86_64.whl (4.0MB)\n",
            "\u001b[K     |████████████████████████████████| 4.0MB 53.7MB/s \n",
            "\u001b[?25hRequirement already satisfied: numpy in /usr/local/lib/python3.6/dist-packages (from torchvision==0.5.0) (1.19.5)\n",
            "Requirement already satisfied: six in /usr/local/lib/python3.6/dist-packages (from torchvision==0.5.0) (1.15.0)\n",
            "Requirement already satisfied: pillow>=4.1.1 in /usr/local/lib/python3.6/dist-packages (from torchvision==0.5.0) (7.0.0)\n",
            "Installing collected packages: torch, torchvision\n",
            "  Found existing installation: torch 1.7.0+cu101\n",
            "    Uninstalling torch-1.7.0+cu101:\n",
            "      Successfully uninstalled torch-1.7.0+cu101\n",
            "  Found existing installation: torchvision 0.8.1+cu101\n",
            "    Uninstalling torchvision-0.8.1+cu101:\n",
            "      Successfully uninstalled torchvision-0.8.1+cu101\n",
            "Successfully installed torch-1.4.0 torchvision-0.5.0\n"
          ],
          "name": "stdout"
        }
      ]
    },
    {
      "cell_type": "markdown",
      "metadata": {
        "id": "cILJvKLNQ9MT"
      },
      "source": [
        "## Etapa 1: Importação das Bibliotecas"
      ]
    },
    {
      "cell_type": "code",
      "metadata": {
        "id": "QabY0VVFQYW0"
      },
      "source": [
        "import torch\r\n",
        "import torch.nn as nn\r\n",
        "import torch.nn.functional as F\r\n",
        "from torch import optim\r\n",
        "from torchvision import datasets\r\n",
        "import torchvision.transforms as transforms\r\n",
        "import matplotlib.pyplot as plt\r\n"
      ],
      "execution_count": 2,
      "outputs": []
    },
    {
      "cell_type": "markdown",
      "metadata": {
        "id": "OsgiVmsjRTBY"
      },
      "source": [
        "## Etapa 2: Base de dados"
      ]
    },
    {
      "cell_type": "code",
      "metadata": {
        "colab": {
          "base_uri": "https://localhost:8080/"
        },
        "id": "sotBJNBIRR2r",
        "outputId": "af6c37f1-7d25-40f3-82e2-9acca3904250"
      },
      "source": [
        "torch.manual_seed(123)"
      ],
      "execution_count": 3,
      "outputs": [
        {
          "output_type": "execute_result",
          "data": {
            "text/plain": [
              "<torch._C.Generator at 0x7f0402ced4f0>"
            ]
          },
          "metadata": {
            "tags": []
          },
          "execution_count": 3
        }
      ]
    },
    {
      "cell_type": "code",
      "metadata": {
        "colab": {
          "base_uri": "https://localhost:8080/",
          "height": 86
        },
        "id": "w8lhFwg6RYGZ",
        "outputId": "a99d2fff-801f-47b3-f6b1-908976ae220d"
      },
      "source": [
        "\"\"\"transform_train = transforms.Compose([\r\n",
        "                                      transforms.RandomHorizontalFlip(),\r\n",
        "                                      transforms.RandomAffine(degrees=7,\r\n",
        "                                                              translate=(0,0.07),\r\n",
        "                                                              shear=7,\r\n",
        "                                                              scale=(1,1.2)),\r\n",
        "                                      transforms.ToTensor()\r\n",
        "])\"\"\""
      ],
      "execution_count": 4,
      "outputs": [
        {
          "output_type": "execute_result",
          "data": {
            "application/vnd.google.colaboratory.intrinsic+json": {
              "type": "string"
            },
            "text/plain": [
              "'transform_train = transforms.Compose([\\n                                      transforms.RandomHorizontalFlip(),\\n                                      transforms.RandomAffine(degrees=7,\\n                                                              translate=(0,0.07),\\n                                                              shear=7,\\n                                                              scale=(1,1.2)),\\n                                      transforms.ToTensor()\\n])'"
            ]
          },
          "metadata": {
            "tags": []
          },
          "execution_count": 4
        }
      ]
    },
    {
      "cell_type": "code",
      "metadata": {
        "id": "TCz7tCC-Rlew"
      },
      "source": [
        "#transform_test = transforms.ToTensor()\r\n",
        "transform = transforms.ToTensor()"
      ],
      "execution_count": 5,
      "outputs": []
    },
    {
      "cell_type": "code",
      "metadata": {
        "colab": {
          "base_uri": "https://localhost:8080/",
          "height": 100,
          "referenced_widgets": [
            "ed05d287cd2b4403b999c85999e552e7",
            "377f2f2f1447443eb131d963b2697f63",
            "76c206ac7d1b4e4c99608dca6f9167e7",
            "89bcd00735974e7a8fbc362227787b51",
            "d123dd4708cd43659f96267783cd6034",
            "fbe9575ffd844fa2bd85c509105c8a3d",
            "3e511a65578c4ce58732301147b701b4",
            "e5fa8b703fd248a491e5f1c9f3d76675"
          ]
        },
        "id": "QSszyiMtRpI3",
        "outputId": "fc78d006-e73a-4cf4-e60f-25ac3b3e1f23"
      },
      "source": [
        "train = datasets.CIFAR10(root='.', train=True, download=True, transform=transform)\r\n",
        "test = datasets.CIFAR10(root='.', train=False, download=True, transform=transform)"
      ],
      "execution_count": 6,
      "outputs": [
        {
          "output_type": "stream",
          "text": [
            "Downloading https://www.cs.toronto.edu/~kriz/cifar-10-python.tar.gz to ./cifar-10-python.tar.gz\n"
          ],
          "name": "stdout"
        },
        {
          "output_type": "display_data",
          "data": {
            "application/vnd.jupyter.widget-view+json": {
              "model_id": "ed05d287cd2b4403b999c85999e552e7",
              "version_minor": 0,
              "version_major": 2
            },
            "text/plain": [
              "HBox(children=(FloatProgress(value=1.0, bar_style='info', max=1.0), HTML(value='')))"
            ]
          },
          "metadata": {
            "tags": []
          }
        },
        {
          "output_type": "stream",
          "text": [
            "Extracting ./cifar-10-python.tar.gz to .\n",
            "Files already downloaded and verified\n"
          ],
          "name": "stdout"
        }
      ]
    },
    {
      "cell_type": "code",
      "metadata": {
        "colab": {
          "base_uri": "https://localhost:8080/"
        },
        "id": "ZPAOcbd9R0hP",
        "outputId": "4c4d5beb-7b91-4194-f844-82573db3a674"
      },
      "source": [
        "train.data[0]"
      ],
      "execution_count": 7,
      "outputs": [
        {
          "output_type": "execute_result",
          "data": {
            "text/plain": [
              "array([[[ 59,  62,  63],\n",
              "        [ 43,  46,  45],\n",
              "        [ 50,  48,  43],\n",
              "        ...,\n",
              "        [158, 132, 108],\n",
              "        [152, 125, 102],\n",
              "        [148, 124, 103]],\n",
              "\n",
              "       [[ 16,  20,  20],\n",
              "        [  0,   0,   0],\n",
              "        [ 18,   8,   0],\n",
              "        ...,\n",
              "        [123,  88,  55],\n",
              "        [119,  83,  50],\n",
              "        [122,  87,  57]],\n",
              "\n",
              "       [[ 25,  24,  21],\n",
              "        [ 16,   7,   0],\n",
              "        [ 49,  27,   8],\n",
              "        ...,\n",
              "        [118,  84,  50],\n",
              "        [120,  84,  50],\n",
              "        [109,  73,  42]],\n",
              "\n",
              "       ...,\n",
              "\n",
              "       [[208, 170,  96],\n",
              "        [201, 153,  34],\n",
              "        [198, 161,  26],\n",
              "        ...,\n",
              "        [160, 133,  70],\n",
              "        [ 56,  31,   7],\n",
              "        [ 53,  34,  20]],\n",
              "\n",
              "       [[180, 139,  96],\n",
              "        [173, 123,  42],\n",
              "        [186, 144,  30],\n",
              "        ...,\n",
              "        [184, 148,  94],\n",
              "        [ 97,  62,  34],\n",
              "        [ 83,  53,  34]],\n",
              "\n",
              "       [[177, 144, 116],\n",
              "        [168, 129,  94],\n",
              "        [179, 142,  87],\n",
              "        ...,\n",
              "        [216, 184, 140],\n",
              "        [151, 118,  84],\n",
              "        [123,  92,  72]]], dtype=uint8)"
            ]
          },
          "metadata": {
            "tags": []
          },
          "execution_count": 7
        }
      ]
    },
    {
      "cell_type": "code",
      "metadata": {
        "colab": {
          "base_uri": "https://localhost:8080/"
        },
        "id": "UsILU_yQR3Cg",
        "outputId": "854f2724-06ed-455f-86eb-8a2f7aad0116"
      },
      "source": [
        "train.data.shape"
      ],
      "execution_count": 8,
      "outputs": [
        {
          "output_type": "execute_result",
          "data": {
            "text/plain": [
              "(50000, 32, 32, 3)"
            ]
          },
          "metadata": {
            "tags": []
          },
          "execution_count": 8
        }
      ]
    },
    {
      "cell_type": "code",
      "metadata": {
        "colab": {
          "base_uri": "https://localhost:8080/"
        },
        "id": "fvna57gCadXg",
        "outputId": "be2df3b5-6884-4bc6-cc0e-33ccc109454d"
      },
      "source": [
        "train.classes"
      ],
      "execution_count": 9,
      "outputs": [
        {
          "output_type": "execute_result",
          "data": {
            "text/plain": [
              "['airplane',\n",
              " 'automobile',\n",
              " 'bird',\n",
              " 'cat',\n",
              " 'deer',\n",
              " 'dog',\n",
              " 'frog',\n",
              " 'horse',\n",
              " 'ship',\n",
              " 'truck']"
            ]
          },
          "metadata": {
            "tags": []
          },
          "execution_count": 9
        }
      ]
    },
    {
      "cell_type": "code",
      "metadata": {
        "colab": {
          "base_uri": "https://localhost:8080/",
          "height": 315
        },
        "id": "uKSJTEqPSRve",
        "outputId": "177a7cdd-4ddd-456c-8419-b7c22ea071f3"
      },
      "source": [
        "_, ax = plt.subplots(1,3, figsize=(15,6))\r\n",
        "for i in range(3):\r\n",
        "  img = train.data[i]\r\n",
        "  ax[i].imshow(img)\r\n",
        "  ax[i].set_title('Classe '+ str(train.classes[train.targets[i]]))\r\n",
        "plt.show()"
      ],
      "execution_count": 10,
      "outputs": [
        {
          "output_type": "stream",
          "text": [
            "\n"
          ],
          "name": "stdout"
        },
        {
          "output_type": "display_data",
          "data": {
            "image/png": "[encoded data removed]",
            "text/plain": [
              "<Figure size 1080x432 with 3 Axes>"
            ]
          },
          "metadata": {
            "tags": [],
            "needs_background": "light"
          }
        }
      ]
    },
    {
      "cell_type": "code",
      "metadata": {
        "id": "7vK1bYM3R-FA"
      },
      "source": [
        "train_loader = torch.utils.data.DataLoader(train, batch_size=128)\r\n",
        "test_loader = torch.utils.data.DataLoader(test, batch_size=128)"
      ],
      "execution_count": 11,
      "outputs": []
    },
    {
      "cell_type": "markdown",
      "metadata": {
        "id": "_ayCf24EVe6-"
      },
      "source": [
        "## Etapa 3: Construção do modelo"
      ]
    },
    {
      "cell_type": "code",
      "metadata": {
        "id": "3LO-j7JCSVBf"
      },
      "source": [
        "class cls_torch(nn.Module):\r\n",
        "  def __init__(self):\r\n",
        "    super().__init__()\r\n",
        "\r\n",
        "    self.conv1 = nn.Conv2d(in_channels=3, out_channels=32, kernel_size=(3,3))\r\n",
        "    self.conv2 = nn.Conv2d(32,32,(3,3))\r\n",
        "    \r\n",
        "    self.activation1 = nn.ReLU()\r\n",
        "    self.activation2 = nn.GELU()\r\n",
        "\r\n",
        "    self.bnorm = nn.BatchNorm2d(num_features=32)\r\n",
        "    self.pool = nn.MaxPool2d(kernel_size=(2,2))\r\n",
        "    self.flatten = nn.Flatten()\r\n",
        "\r\n",
        "    # output = (input - filter + 1) / stride\r\n",
        "    # Convolução 1: (32 - 3 + 1) / 1 = 30 => img(30px X 30px)\r\n",
        "    # Pooling 1: kernel_size=(2,2) => 30 / 2, 30 / 2 => img(15px X 15px)\r\n",
        "    # Convolução 2: (15 - 3 + 1) / 1 = 13 => img(13px X 13px)\r\n",
        "    # Pooling 2: kernel_size=(2,2) => 13 / 2, 13 / 2 => img(6px X 6px)\r\n",
        "    # Saída Pooling 2 = 6 * 6 * 32 (BatchNorm2d(num_features=32))\r\n",
        "    # 1152 -> 128\r\n",
        "\r\n",
        "    self.linear1 = nn.Linear(in_features=32*6*6, out_features=512)\r\n",
        "    self.linear2 = nn.Linear(512,512)\r\n",
        "    self.linear3 = nn.Linear(512,256)\r\n",
        "    self.linear4 = nn.Linear(256,256)\r\n",
        "    self.linear5 = nn.Linear(256,128)\r\n",
        "    self.linear6 = nn.Linear(128,128)\r\n",
        "    self.output = nn.Linear(128,10)\r\n",
        "    self.dropout = nn.Dropout(p=0.2)\r\n",
        "\r\n",
        "  def forward(self, X):\r\n",
        "        X = self.pool(self.bnorm(self.activation1(self.conv1(X))))\r\n",
        "        X = self.pool(self.bnorm(self.activation2(self.conv2(X))))\r\n",
        "        X = self.flatten(X)\r\n",
        "        \r\n",
        "        X = self.dropout(self.activation1(self.linear1(X)))\r\n",
        "        X = self.dropout(self.activation2(self.linear2(X)))\r\n",
        "        X = self.dropout(self.activation1(self.linear3(X)))\r\n",
        "        X = self.dropout(self.activation2(self.linear4(X)))\r\n",
        "        X = self.dropout(self.activation1(self.linear5(X)))\r\n",
        "        X = self.dropout(self.activation2(self.linear6(X)))\r\n",
        "        X = self.output(X)\r\n",
        "\r\n",
        "        return X"
      ],
      "execution_count": 12,
      "outputs": []
    },
    {
      "cell_type": "code",
      "metadata": {
        "id": "QvkN-q4na3-H"
      },
      "source": [
        "net = cls_torch()\r\n",
        "criterion = nn.CrossEntropyLoss()\r\n",
        "optimizer = optim.Adam(net.parameters())"
      ],
      "execution_count": 13,
      "outputs": []
    },
    {
      "cell_type": "markdown",
      "metadata": {
        "id": "gdLlObeQbO1d"
      },
      "source": [
        "## Etapa 4: Treinamento do modelo"
      ]
    },
    {
      "cell_type": "code",
      "metadata": {
        "colab": {
          "base_uri": "https://localhost:8080/"
        },
        "id": "Fcp-rf59bNwl",
        "outputId": "1c936e02-3254-432f-bbf8-ca290dd7cc08"
      },
      "source": [
        "device = torch.device('cuda') if torch.cuda.is_available else torch.device('cpu')\r\n",
        "device"
      ],
      "execution_count": 14,
      "outputs": [
        {
          "output_type": "execute_result",
          "data": {
            "text/plain": [
              "device(type='cuda')"
            ]
          },
          "metadata": {
            "tags": []
          },
          "execution_count": 14
        }
      ]
    },
    {
      "cell_type": "code",
      "metadata": {
        "colab": {
          "base_uri": "https://localhost:8080/"
        },
        "id": "wuFSwBnebIA-",
        "outputId": "e8672509-2803-458b-ac24-41ed1a147cb9"
      },
      "source": [
        "net.to(device)"
      ],
      "execution_count": 15,
      "outputs": [
        {
          "output_type": "execute_result",
          "data": {
            "text/plain": [
              "cls_torch(\n",
              "  (conv1): Conv2d(3, 32, kernel_size=(3, 3), stride=(1, 1))\n",
              "  (conv2): Conv2d(32, 32, kernel_size=(3, 3), stride=(1, 1))\n",
              "  (activation1): ReLU()\n",
              "  (activation2): GELU()\n",
              "  (bnorm): BatchNorm2d(32, eps=1e-05, momentum=0.1, affine=True, track_running_stats=True)\n",
              "  (pool): MaxPool2d(kernel_size=(2, 2), stride=(2, 2), padding=0, dilation=1, ceil_mode=False)\n",
              "  (flatten): Flatten()\n",
              "  (linear1): Linear(in_features=1152, out_features=512, bias=True)\n",
              "  (linear2): Linear(in_features=512, out_features=512, bias=True)\n",
              "  (linear3): Linear(in_features=512, out_features=256, bias=True)\n",
              "  (linear4): Linear(in_features=256, out_features=256, bias=True)\n",
              "  (linear5): Linear(in_features=256, out_features=128, bias=True)\n",
              "  (linear6): Linear(in_features=128, out_features=128, bias=True)\n",
              "  (output): Linear(in_features=128, out_features=10, bias=True)\n",
              "  (dropout): Dropout(p=0.2, inplace=False)\n",
              ")"
            ]
          },
          "metadata": {
            "tags": []
          },
          "execution_count": 15
        }
      ]
    },
    {
      "cell_type": "code",
      "metadata": {
        "id": "Xei4RqjQb2R0"
      },
      "source": [
        "def training_loop(loader, epoch):\r\n",
        "\r\n",
        "  running_loss = 0.\r\n",
        "  running_acc = 0.\r\n",
        "\r\n",
        "  for i, data in enumerate(loader):\r\n",
        "\r\n",
        "    inputs, labels = data\r\n",
        "    inputs, labels = inputs.to(device), labels.to(device)\r\n",
        "\r\n",
        "    optimizer.zero_grad()\r\n",
        "\r\n",
        "    outputs = net(inputs)\r\n",
        "    top_p, top_class = outputs.topk(k=1,dim=1)\r\n",
        "    equals = top_class == labels.view(*top_class.shape)\r\n",
        "\r\n",
        "    acc = torch.mean(equals.type(torch.float))\r\n",
        "    running_acc += acc\r\n",
        "\r\n",
        "    loss = criterion(outputs, labels)\r\n",
        "    loss.backward()\r\n",
        "\r\n",
        "    optimizer.step()\r\n",
        "\r\n",
        "    running_loss += loss.item()\r\n",
        "    # Imprimindo os dados referentes a esse loop\r\n",
        "    print('\\rÉpoca {:3d} - Loop {:3d} de {:3d}: perda {:03.2f} - precisão {:03.2f}'\\\r\n",
        "          .format(epoch + 1, i + 1, len(loader), loss, acc), end = '\\r')\r\n",
        "\r\n",
        "  # Imprimindo os dados referentes a essa época\r\n",
        "  print('\\rÉPOCA {:3d} FINALIZADA: perda {:.5f} - precisão {:.5f}\\n'\\\r\n",
        "        .format(epoch + 1, running_loss/len(loader), running_acc/len(loader)))\r\n"
      ],
      "execution_count": 16,
      "outputs": []
    },
    {
      "cell_type": "code",
      "metadata": {
        "colab": {
          "base_uri": "https://localhost:8080/"
        },
        "id": "D3NH1VuadaOZ",
        "outputId": "1dcb750b-f26d-490b-8b0c-612617815718"
      },
      "source": [
        "for epoch in range(10):\r\n",
        "    print('Treinando...')\r\n",
        "    training_loop(train_loader, epoch)\r\n",
        "\r\n",
        "    net.eval()\r\n",
        "    print('Validando...')\r\n",
        "    training_loop(test_loader, epoch)\r\n",
        "\r\n",
        "    net.train()"
      ],
      "execution_count": 17,
      "outputs": [
        {
          "output_type": "stream",
          "text": [
            "Treinando...\n",
            "ÉPOCA   1 FINALIZADA: perda 1.52540 - precisão 0.43564\n",
            "\n",
            "Validando...\n",
            "ÉPOCA   1 FINALIZADA: perda 1.74136 - precisão 0.38865\n",
            "\n",
            "Treinando...\n",
            "ÉPOCA   2 FINALIZADA: perda 1.12237 - precisão 0.61412\n",
            "\n",
            "Validando...\n",
            "ÉPOCA   2 FINALIZADA: perda 1.31978 - precisão 0.53738\n",
            "\n",
            "Treinando...\n",
            "ÉPOCA   3 FINALIZADA: perda 0.94212 - precisão 0.68635\n",
            "\n",
            "Validando...\n",
            "ÉPOCA   3 FINALIZADA: perda 1.19536 - precisão 0.57803\n",
            "\n",
            "Treinando...\n",
            "ÉPOCA   4 FINALIZADA: perda 0.80163 - precisão 0.73316\n",
            "\n",
            "Validando...\n",
            "ÉPOCA   4 FINALIZADA: perda 1.05070 - precisão 0.64023\n",
            "\n",
            "Treinando...\n",
            "ÉPOCA   5 FINALIZADA: perda 0.69348 - precisão 0.76988\n",
            "\n",
            "Validando...\n",
            "ÉPOCA   5 FINALIZADA: perda 0.94785 - precisão 0.67929\n",
            "\n",
            "Treinando...\n",
            "ÉPOCA   6 FINALIZADA: perda 0.60946 - precisão 0.79779\n",
            "\n",
            "Validando...\n",
            "ÉPOCA   6 FINALIZADA: perda 0.85668 - precisão 0.71015\n",
            "\n",
            "Treinando...\n",
            "ÉPOCA   7 FINALIZADA: perda 0.54873 - precisão 0.82065\n",
            "\n",
            "Validando...\n",
            "ÉPOCA   7 FINALIZADA: perda 0.79237 - precisão 0.73863\n",
            "\n",
            "Treinando...\n",
            "ÉPOCA   8 FINALIZADA: perda 0.48881 - precisão 0.83979\n",
            "\n",
            "Validando...\n",
            "ÉPOCA   8 FINALIZADA: perda 0.68672 - precisão 0.76513\n",
            "\n",
            "Treinando...\n",
            "ÉPOCA   9 FINALIZADA: perda 0.45021 - precisão 0.85276\n",
            "\n",
            "Validando...\n",
            "ÉPOCA   9 FINALIZADA: perda 0.59367 - precisão 0.80093\n",
            "\n",
            "Treinando...\n",
            "ÉPOCA  10 FINALIZADA: perda 0.41370 - precisão 0.86563\n",
            "\n",
            "Validando...\n",
            "ÉPOCA  10 FINALIZADA: perda 0.50881 - precisão 0.83089\n",
            "\n"
          ],
          "name": "stdout"
        }
      ]
    }
  ]
}