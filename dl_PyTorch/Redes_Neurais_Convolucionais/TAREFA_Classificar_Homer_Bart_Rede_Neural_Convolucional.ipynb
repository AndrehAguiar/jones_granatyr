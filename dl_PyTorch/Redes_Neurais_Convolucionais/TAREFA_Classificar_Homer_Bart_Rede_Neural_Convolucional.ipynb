{
  "nbformat": 4,
  "nbformat_minor": 0,
  "metadata": {
    "colab": {
      "name": "TAREFA-Classificar_Homer_Bart-Rede_Neural_Convolucional.ipynb",
      "provenance": [],
      "collapsed_sections": []
    },
    "kernelspec": {
      "name": "python3",
      "display_name": "Python 3"
    }
  },
  "cells": [
    {
      "cell_type": "markdown",
      "metadata": {
        "id": "oqRGB_0wvbxe"
      },
      "source": [
        "# Tarefa: Classificar Homer e Bart com rede neural convolucional\r\n",
        "\r\n",
        "Na tarefa anterior você desenvolveu uma rede neural densa para classificar os personagens utilizando a abordagem de extração de características. A ideia agora é usar as imagens do Homer e do Bart assim como fizemos nas aulas sobre a classificação dos gatos e cachorros, comparando as duas abordagens. Siga as seguintes instruções:\r\n",
        "\r\n",
        "- Você pode fazer o download das imagens do Homer e do Bart, as quais já estão separadas nas respectivas pastas de treinamento e teste (75% para treinamento e 25% para teste)\r\n",
        "\r\n",
        "- Como essa base de dados possui poucas imagens, utilize os recursos de Data Augmentation para gerar mais amostras"
      ]
    },
    {
      "cell_type": "code",
      "metadata": {
        "colab": {
          "base_uri": "https://localhost:8080/"
        },
        "id": "DiOmE-h8vIij",
        "outputId": "81505527-af38-4b4f-e880-e90c18fca9fd"
      },
      "source": [
        "!pip install torch==1.4.0 torchvision==0.5.0"
      ],
      "execution_count": 1,
      "outputs": [
        {
          "output_type": "stream",
          "text": [
            "Collecting torch==1.4.0\n",
            "\u001b[?25l  Downloading https://files.pythonhosted.org/packages/24/19/4804aea17cd136f1705a5e98a00618cb8f6ccc375ad8bfa437408e09d058/torch-1.4.0-cp36-cp36m-manylinux1_x86_64.whl (753.4MB)\n",
            "\u001b[K     |████████████████████████████████| 753.4MB 20kB/s \n",
            "\u001b[?25hCollecting torchvision==0.5.0\n",
            "\u001b[?25l  Downloading https://files.pythonhosted.org/packages/7e/90/6141bf41f5655c78e24f40f710fdd4f8a8aff6c8b7c6f0328240f649bdbe/torchvision-0.5.0-cp36-cp36m-manylinux1_x86_64.whl (4.0MB)\n",
            "\u001b[K     |████████████████████████████████| 4.0MB 23.6MB/s \n",
            "\u001b[?25hRequirement already satisfied: numpy in /usr/local/lib/python3.6/dist-packages (from torchvision==0.5.0) (1.19.5)\n",
            "Requirement already satisfied: six in /usr/local/lib/python3.6/dist-packages (from torchvision==0.5.0) (1.15.0)\n",
            "Requirement already satisfied: pillow>=4.1.1 in /usr/local/lib/python3.6/dist-packages (from torchvision==0.5.0) (7.0.0)\n",
            "Installing collected packages: torch, torchvision\n",
            "  Found existing installation: torch 1.7.0+cu101\n",
            "    Uninstalling torch-1.7.0+cu101:\n",
            "      Successfully uninstalled torch-1.7.0+cu101\n",
            "  Found existing installation: torchvision 0.8.1+cu101\n",
            "    Uninstalling torchvision-0.8.1+cu101:\n",
            "      Successfully uninstalled torchvision-0.8.1+cu101\n",
            "Successfully installed torch-1.4.0 torchvision-0.5.0\n"
          ],
          "name": "stdout"
        }
      ]
    },
    {
      "cell_type": "markdown",
      "metadata": {
        "id": "OlOYzSYY365G"
      },
      "source": [
        "## Etapa 1: Importação das Bibliotecas"
      ]
    },
    {
      "cell_type": "code",
      "metadata": {
        "id": "JL0fm0w8xBRA"
      },
      "source": [
        "import torch\r\n",
        "import zipfile\r\n",
        "\r\n",
        "from torch import nn, optim\r\n",
        "from torchvision import datasets, transforms"
      ],
      "execution_count": 3,
      "outputs": []
    },
    {
      "cell_type": "code",
      "metadata": {
        "id": "mrRyRl4bxfDY",
        "colab": {
          "base_uri": "https://localhost:8080/"
        },
        "outputId": "2701b9d8-18d2-42c0-e661-838857845397"
      },
      "source": [
        "torch.manual_seed(123)"
      ],
      "execution_count": 4,
      "outputs": [
        {
          "output_type": "execute_result",
          "data": {
            "text/plain": [
              "<torch._C.Generator at 0x7fcf5b928150>"
            ]
          },
          "metadata": {
            "tags": []
          },
          "execution_count": 4
        }
      ]
    },
    {
      "cell_type": "markdown",
      "metadata": {
        "id": "z6ODCVBzxxO2"
      },
      "source": [
        "## Etapa 2: Construção do modelo"
      ]
    },
    {
      "cell_type": "code",
      "metadata": {
        "id": "u5GK2N9Zx6Jl"
      },
      "source": [
        "cls = nn.Sequential(\r\n",
        "                    nn.Conv2d(in_channels = 3, out_channels = 32, kernel_size = 3),\r\n",
        "                    nn.ReLU(),\r\n",
        "                    nn.MaxPool2d(kernel_size = 2),\r\n",
        "                    nn.Conv2d(32, 32, 3),\r\n",
        "                    nn.ReLU(),\r\n",
        "                    nn.MaxPool2d(2),\r\n",
        "                    nn.Flatten(),\r\n",
        "                    nn.Linear(in_features = 14*14*32, out_features = 4),\r\n",
        "                    nn.ReLU(),\r\n",
        "                    nn.Linear(4, 4),\r\n",
        "                    nn.ReLU(),\r\n",
        "                    nn.Linear(4, 1),\r\n",
        "                    nn.Sigmoid()\r\n",
        ")"
      ],
      "execution_count": 5,
      "outputs": []
    },
    {
      "cell_type": "code",
      "metadata": {
        "id": "cDimUk0Xzwyw"
      },
      "source": [
        "criterion = nn.BCELoss()\r\n",
        "optimizer = optim.Adam(cls.parameters())"
      ],
      "execution_count": 6,
      "outputs": []
    },
    {
      "cell_type": "markdown",
      "metadata": {
        "id": "GmGoWmD7zXRq"
      },
      "source": [
        "## Etapa 3: Base de dados"
      ]
    },
    {
      "cell_type": "code",
      "metadata": {
        "id": "UxQSqc6yzV5K",
        "colab": {
          "base_uri": "https://localhost:8080/"
        },
        "outputId": "04950bbe-b4f2-47a8-8016-2cd4bafcff6e"
      },
      "source": [
        "from google.colab import drive\r\n",
        "drive.mount('/content/gdrive')"
      ],
      "execution_count": 7,
      "outputs": [
        {
          "output_type": "stream",
          "text": [
            "Mounted at /content/gdrive\n"
          ],
          "name": "stdout"
        }
      ]
    },
    {
      "cell_type": "code",
      "metadata": {
        "id": "_Z8omGme5X70"
      },
      "source": [
        "path = '/content/gdrive/My Drive/dataset_personagens.zip'\r\n",
        "zip_object = zipfile.ZipFile(file = path, mode = 'r')\r\n",
        "zip_object.extractall('./')\r\n",
        "zip_object.close()"
      ],
      "execution_count": 8,
      "outputs": []
    },
    {
      "cell_type": "code",
      "metadata": {
        "id": "L5xly-CM5Zl6"
      },
      "source": [
        "path_train = '/content/dataset_personagens/training_set'\r\n",
        "path_test = '/content/dataset_personagens/test_set'"
      ],
      "execution_count": 9,
      "outputs": []
    },
    {
      "cell_type": "code",
      "metadata": {
        "id": "04tjX57B5ejZ"
      },
      "source": [
        "transform_train = transforms.Compose([\r\n",
        "                                      transforms.Resize([64, 64]),\r\n",
        "                                      transforms.RandomHorizontalFlip(),\r\n",
        "                                      transforms.RandomAffine(degrees = 7, \r\n",
        "                                                              translate = (0, 0.07),\r\n",
        "                                                              shear = 0.2,\r\n",
        "                                                              scale = (1, 1.2)\r\n",
        "                                                              ),\r\n",
        "                                      transforms.ToTensor()\r\n",
        "                                      ])"
      ],
      "execution_count": 10,
      "outputs": []
    },
    {
      "cell_type": "code",
      "metadata": {
        "id": "Tz1PhTov5f_H"
      },
      "source": [
        "transform_test = transforms.Compose([\r\n",
        "                                     transforms.Resize([64, 64]),\r\n",
        "                                     transforms.ToTensor()\r\n",
        "                                     ])"
      ],
      "execution_count": 11,
      "outputs": []
    },
    {
      "cell_type": "code",
      "metadata": {
        "id": "LHl1u2fH5iT4"
      },
      "source": [
        "train_dataset = datasets.ImageFolder(path_train, transform = transform_train)\r\n",
        "train_loader = torch.utils.data.DataLoader(train_dataset, batch_size = 10, shuffle = True)"
      ],
      "execution_count": 13,
      "outputs": []
    },
    {
      "cell_type": "code",
      "metadata": {
        "id": "g2Kl8Ymk5n8v"
      },
      "source": [
        "test_dataset = datasets.ImageFolder(path_test, transform = transform_test)\r\n",
        "test_loader = torch.utils.data.DataLoader(test_dataset, batch_size = 10, shuffle = True)"
      ],
      "execution_count": 14,
      "outputs": []
    },
    {
      "cell_type": "markdown",
      "metadata": {
        "id": "HUdFYx9tz9Bp"
      },
      "source": [
        "## Etapa 4: Treinamento do modelo"
      ]
    },
    {
      "cell_type": "code",
      "metadata": {
        "colab": {
          "base_uri": "https://localhost:8080/"
        },
        "id": "-iqVm4mB5tCA",
        "outputId": "b4d6ff22-d1b0-452e-abd3-b3625e31bdf9"
      },
      "source": [
        "device = torch.device('cuda') if torch.cuda.is_available() else torch.device('cpu')\r\n",
        "device"
      ],
      "execution_count": 15,
      "outputs": [
        {
          "output_type": "execute_result",
          "data": {
            "text/plain": [
              "device(type='cpu')"
            ]
          },
          "metadata": {
            "tags": []
          },
          "execution_count": 15
        }
      ]
    },
    {
      "cell_type": "code",
      "metadata": {
        "colab": {
          "base_uri": "https://localhost:8080/"
        },
        "id": "U-nXZRMd5uFf",
        "outputId": "523e1be5-64ae-4c4b-cc82-95bacbd13cb9"
      },
      "source": [
        "cls.to(device)"
      ],
      "execution_count": 16,
      "outputs": [
        {
          "output_type": "execute_result",
          "data": {
            "text/plain": [
              "Sequential(\n",
              "  (0): Conv2d(3, 32, kernel_size=(3, 3), stride=(1, 1))\n",
              "  (1): ReLU()\n",
              "  (2): MaxPool2d(kernel_size=2, stride=2, padding=0, dilation=1, ceil_mode=False)\n",
              "  (3): Conv2d(32, 32, kernel_size=(3, 3), stride=(1, 1))\n",
              "  (4): ReLU()\n",
              "  (5): MaxPool2d(kernel_size=2, stride=2, padding=0, dilation=1, ceil_mode=False)\n",
              "  (6): Flatten()\n",
              "  (7): Linear(in_features=6272, out_features=4, bias=True)\n",
              "  (8): ReLU()\n",
              "  (9): Linear(in_features=4, out_features=4, bias=True)\n",
              "  (10): ReLU()\n",
              "  (11): Linear(in_features=4, out_features=1, bias=True)\n",
              "  (12): Sigmoid()\n",
              ")"
            ]
          },
          "metadata": {
            "tags": []
          },
          "execution_count": 16
        }
      ]
    },
    {
      "cell_type": "code",
      "metadata": {
        "id": "WEvFTqHzz5bo"
      },
      "source": [
        "def train_loop(loader, eopch):\r\n",
        "    \r\n",
        "  running_loss = 0.\r\n",
        "  running_acc = 0.\r\n",
        "  \r\n",
        "  for i, data in enumerate(loader):\r\n",
        "    inputs, labels = data\r\n",
        "    inputs, labels = inputs.to(device), labels.to(device)\r\n",
        "\r\n",
        "    optimizer.zero_grad()\r\n",
        "\r\n",
        "    outputs = cls(inputs)\r\n",
        "    loss = criterion(outputs, labels.float().view(*outputs.shape))\r\n",
        "    running_loss += loss.item()\r\n",
        "    loss.backward()\r\n",
        "    \r\n",
        "    optimizer.step()\r\n",
        "\r\n",
        "    predicted = torch.tensor([1 if output > 0.5 else 0 for output in outputs]).to(device)\r\n",
        "    equals = predicted == labels.view(*predicted.shape)\r\n",
        "    acc = torch.mean(equals.float())\r\n",
        "    running_acc += acc\r\n",
        "\r\n",
        "    print('\\rÉpoca {:3d} - Loop {:3d} de {:3d}: perda {:03.2f} - precisão {:03.2f}' \\\r\n",
        "          .format(epoch + 1, i + 1, len(loader), loss, acc), end='\\r')\r\n",
        "    \r\n",
        "  print('\\rÉPOCA {:3d} FINALIZADA: perda {:.5f} - precisão {:.5f}' \\\r\n",
        "          .format(epoch + 1, running_loss/len(loader), running_acc/len(loader)))"
      ],
      "execution_count": 17,
      "outputs": []
    },
    {
      "cell_type": "code",
      "metadata": {
        "colab": {
          "base_uri": "https://localhost:8080/"
        },
        "id": "TND98W4u7PPG",
        "outputId": "39b97a81-9cd1-4b73-bd47-769add3f3d2d"
      },
      "source": [
        "for epoch in range(100):\r\n",
        "    print('Treinando...')\r\n",
        "    train_loop(train_loader, epoch)\r\n",
        "    cls.eval()\r\n",
        "    print('Validando...')\r\n",
        "    train_loop(test_loader, epoch)\r\n",
        "    cls.train()"
      ],
      "execution_count": 19,
      "outputs": [
        {
          "output_type": "stream",
          "text": [
            "Treinando...\n",
            "ÉPOCA   1 FINALIZADA: perda 0.67125 - precisão 0.60667\n",
            "Validando...\n",
            "ÉPOCA   1 FINALIZADA: perda 0.66584 - precisão 0.62500\n",
            "Treinando...\n",
            "ÉPOCA   2 FINALIZADA: perda 0.64883 - precisão 0.65333\n",
            "Validando...\n",
            "ÉPOCA   2 FINALIZADA: perda 0.59435 - precisão 0.83750\n",
            "Treinando...\n",
            "ÉPOCA   3 FINALIZADA: perda 0.60572 - precisão 0.74833\n",
            "Validando...\n",
            "ÉPOCA   3 FINALIZADA: perda 0.69008 - precisão 0.68750\n",
            "Treinando...\n",
            "ÉPOCA   4 FINALIZADA: perda 0.64874 - precisão 0.64667\n",
            "Validando...\n",
            "ÉPOCA   4 FINALIZADA: perda 0.67084 - precisão 0.59583\n",
            "Treinando...\n",
            "ÉPOCA   5 FINALIZADA: perda 0.63839 - precisão 0.69500\n",
            "Validando...\n",
            "ÉPOCA   5 FINALIZADA: perda 0.54316 - precisão 0.82500\n",
            "Treinando...\n",
            "ÉPOCA   6 FINALIZADA: perda 0.59073 - precisão 0.76000\n",
            "Validando...\n",
            "ÉPOCA   6 FINALIZADA: perda 0.50733 - precisão 0.79583\n",
            "Treinando...\n",
            "ÉPOCA   7 FINALIZADA: perda 0.58401 - precisão 0.77500\n",
            "Validando...\n",
            "ÉPOCA   7 FINALIZADA: perda 0.45210 - precisão 0.88750\n",
            "Treinando...\n",
            "ÉPOCA   8 FINALIZADA: perda 0.57655 - precisão 0.78833\n",
            "Validando...\n",
            "ÉPOCA   8 FINALIZADA: perda 0.46312 - precisão 0.90000\n",
            "Treinando...\n",
            "ÉPOCA   9 FINALIZADA: perda 0.57910 - precisão 0.73667\n",
            "Validando...\n",
            "ÉPOCA   9 FINALIZADA: perda 0.48780 - precisão 0.85000\n",
            "Treinando...\n",
            "ÉPOCA  10 FINALIZADA: perda 0.55070 - precisão 0.81667\n",
            "Validando...\n",
            "ÉPOCA  10 FINALIZADA: perda 0.45880 - precisão 0.85000\n",
            "Treinando...\n",
            "ÉPOCA  11 FINALIZADA: perda 0.53405 - precisão 0.79500\n",
            "Validando...\n",
            "ÉPOCA  11 FINALIZADA: perda 0.48768 - precisão 0.79583\n",
            "Treinando...\n",
            "ÉPOCA  12 FINALIZADA: perda 0.50778 - precisão 0.83000\n",
            "Validando...\n",
            "ÉPOCA  12 FINALIZADA: perda 0.41676 - precisão 0.90000\n",
            "Treinando...\n",
            "ÉPOCA  13 FINALIZADA: perda 0.51445 - precisão 0.79667\n",
            "Validando...\n",
            "ÉPOCA  13 FINALIZADA: perda 0.40216 - precisão 0.88333\n",
            "Treinando...\n",
            "ÉPOCA  14 FINALIZADA: perda 0.50746 - precisão 0.80667\n",
            "Validando...\n",
            "ÉPOCA  14 FINALIZADA: perda 0.38229 - precisão 0.92500\n",
            "Treinando...\n",
            "ÉPOCA  15 FINALIZADA: perda 0.48110 - precisão 0.82833\n",
            "Validando...\n",
            "ÉPOCA  15 FINALIZADA: perda 0.38942 - precisão 0.90000\n",
            "Treinando...\n",
            "ÉPOCA  16 FINALIZADA: perda 0.48041 - precisão 0.83000\n",
            "Validando...\n",
            "ÉPOCA  16 FINALIZADA: perda 0.36704 - precisão 0.95000\n",
            "Treinando...\n",
            "ÉPOCA  17 FINALIZADA: perda 0.45644 - precisão 0.85500\n",
            "Validando...\n",
            "ÉPOCA  17 FINALIZADA: perda 0.32251 - precisão 0.95000\n",
            "Treinando...\n",
            "ÉPOCA  18 FINALIZADA: perda 0.47258 - precisão 0.83667\n",
            "Validando...\n",
            "ÉPOCA  18 FINALIZADA: perda 0.33015 - precisão 0.93750\n",
            "Treinando...\n",
            "ÉPOCA  19 FINALIZADA: perda 0.44313 - precisão 0.85667\n",
            "Validando...\n",
            "ÉPOCA  19 FINALIZADA: perda 0.32976 - precisão 0.95000\n",
            "Treinando...\n",
            "ÉPOCA  20 FINALIZADA: perda 0.44939 - precisão 0.85000\n",
            "Validando...\n",
            "ÉPOCA  20 FINALIZADA: perda 0.31058 - precisão 0.93333\n",
            "Treinando...\n",
            "ÉPOCA  21 FINALIZADA: perda 0.46396 - precisão 0.83667\n",
            "Validando...\n",
            "ÉPOCA  21 FINALIZADA: perda 0.36496 - precisão 0.92500\n",
            "Treinando...\n",
            "ÉPOCA  22 FINALIZADA: perda 0.47953 - precisão 0.82833\n",
            "Validando...\n",
            "ÉPOCA  22 FINALIZADA: perda 0.30363 - precisão 0.95000\n",
            "Treinando...\n",
            "ÉPOCA  23 FINALIZADA: perda 0.42871 - precisão 0.85000\n",
            "Validando...\n",
            "ÉPOCA  23 FINALIZADA: perda 0.29984 - precisão 0.95000\n",
            "Treinando...\n",
            "ÉPOCA  24 FINALIZADA: perda 0.44939 - precisão 0.82500\n",
            "Validando...\n",
            "ÉPOCA  24 FINALIZADA: perda 0.28188 - precisão 0.97500\n",
            "Treinando...\n",
            "ÉPOCA  25 FINALIZADA: perda 0.41961 - precisão 0.85500\n",
            "Validando...\n",
            "ÉPOCA  25 FINALIZADA: perda 0.28297 - precisão 0.97500\n",
            "Treinando...\n",
            "ÉPOCA  26 FINALIZADA: perda 0.44034 - precisão 0.84667\n",
            "Validando...\n",
            "ÉPOCA  26 FINALIZADA: perda 0.26567 - precisão 0.96250\n",
            "Treinando...\n",
            "ÉPOCA  27 FINALIZADA: perda 0.40426 - precisão 0.87500\n",
            "Validando...\n",
            "ÉPOCA  27 FINALIZADA: perda 0.30380 - precisão 0.94583\n",
            "Treinando...\n",
            "ÉPOCA  28 FINALIZADA: perda 0.39178 - precisão 0.87667\n",
            "Validando...\n",
            "ÉPOCA  28 FINALIZADA: perda 0.26339 - precisão 0.98750\n",
            "Treinando...\n",
            "ÉPOCA  29 FINALIZADA: perda 0.39599 - precisão 0.86333\n",
            "Validando...\n",
            "ÉPOCA  29 FINALIZADA: perda 0.24980 - precisão 0.96250\n",
            "Treinando...\n",
            "ÉPOCA  30 FINALIZADA: perda 0.37199 - precisão 0.88500\n",
            "Validando...\n",
            "ÉPOCA  30 FINALIZADA: perda 0.26533 - precisão 0.98750\n",
            "Treinando...\n",
            "ÉPOCA  31 FINALIZADA: perda 0.36541 - precisão 0.89000\n",
            "Validando...\n",
            "ÉPOCA  31 FINALIZADA: perda 0.23050 - precisão 0.97500\n",
            "Treinando...\n",
            "ÉPOCA  32 FINALIZADA: perda 0.38952 - precisão 0.86167\n",
            "Validando...\n",
            "ÉPOCA  32 FINALIZADA: perda 0.29896 - precisão 0.93333\n",
            "Treinando...\n",
            "ÉPOCA  33 FINALIZADA: perda 0.35317 - precisão 0.90500\n",
            "Validando...\n",
            "ÉPOCA  33 FINALIZADA: perda 0.23592 - precisão 1.00000\n",
            "Treinando...\n",
            "ÉPOCA  34 FINALIZADA: perda 0.33292 - precisão 0.91167\n",
            "Validando...\n",
            "ÉPOCA  34 FINALIZADA: perda 0.20429 - precisão 1.00000\n",
            "Treinando...\n",
            "ÉPOCA  35 FINALIZADA: perda 0.33945 - precisão 0.90000\n",
            "Validando...\n",
            "ÉPOCA  35 FINALIZADA: perda 0.20422 - precisão 1.00000\n",
            "Treinando...\n",
            "ÉPOCA  36 FINALIZADA: perda 0.32543 - precisão 0.91500\n",
            "Validando...\n",
            "ÉPOCA  36 FINALIZADA: perda 0.19980 - precisão 1.00000\n",
            "Treinando...\n",
            "ÉPOCA  37 FINALIZADA: perda 0.33425 - precisão 0.88500\n",
            "Validando...\n",
            "ÉPOCA  37 FINALIZADA: perda 0.18727 - precisão 0.98750\n",
            "Treinando...\n",
            "ÉPOCA  38 FINALIZADA: perda 0.31357 - precisão 0.91500\n",
            "Validando...\n",
            "ÉPOCA  38 FINALIZADA: perda 0.18798 - precisão 1.00000\n",
            "Treinando...\n",
            "ÉPOCA  39 FINALIZADA: perda 0.36764 - precisão 0.87667\n",
            "Validando...\n",
            "ÉPOCA  39 FINALIZADA: perda 0.19160 - precisão 1.00000\n",
            "Treinando...\n",
            "ÉPOCA  40 FINALIZADA: perda 0.29748 - precisão 0.93167\n",
            "Validando...\n",
            "ÉPOCA  40 FINALIZADA: perda 0.16755 - precisão 1.00000\n",
            "Treinando...\n",
            "ÉPOCA  41 FINALIZADA: perda 0.34593 - precisão 0.89667\n",
            "Validando...\n",
            "ÉPOCA  41 FINALIZADA: perda 0.20574 - precisão 0.96250\n",
            "Treinando...\n",
            "ÉPOCA  42 FINALIZADA: perda 0.31085 - precisão 0.90000\n",
            "Validando...\n",
            "ÉPOCA  42 FINALIZADA: perda 0.19259 - precisão 1.00000\n",
            "Treinando...\n",
            "ÉPOCA  43 FINALIZADA: perda 0.30295 - precisão 0.91167\n",
            "Validando...\n",
            "ÉPOCA  43 FINALIZADA: perda 0.17665 - precisão 1.00000\n",
            "Treinando...\n",
            "ÉPOCA  44 FINALIZADA: perda 0.29778 - precisão 0.92167\n",
            "Validando...\n",
            "ÉPOCA  44 FINALIZADA: perda 0.18156 - precisão 1.00000\n",
            "Treinando...\n",
            "ÉPOCA  45 FINALIZADA: perda 0.27959 - precisão 0.91167\n",
            "Validando...\n",
            "ÉPOCA  45 FINALIZADA: perda 0.17297 - precisão 1.00000\n",
            "Treinando...\n",
            "ÉPOCA  46 FINALIZADA: perda 0.27881 - precisão 0.92167\n",
            "Validando...\n",
            "ÉPOCA  46 FINALIZADA: perda 0.16442 - precisão 1.00000\n",
            "Treinando...\n",
            "ÉPOCA  47 FINALIZADA: perda 0.25312 - precisão 0.93500\n",
            "Validando...\n",
            "ÉPOCA  47 FINALIZADA: perda 0.19110 - precisão 0.98750\n",
            "Treinando...\n",
            "ÉPOCA  48 FINALIZADA: perda 0.27823 - precisão 0.91833\n",
            "Validando...\n",
            "ÉPOCA  48 FINALIZADA: perda 0.15366 - precisão 1.00000\n",
            "Treinando...\n",
            "ÉPOCA  49 FINALIZADA: perda 0.25333 - precisão 0.94500\n",
            "Validando...\n",
            "ÉPOCA  49 FINALIZADA: perda 0.16674 - precisão 0.98750\n",
            "Treinando...\n",
            "ÉPOCA  50 FINALIZADA: perda 0.23172 - precisão 0.94667\n",
            "Validando...\n",
            "ÉPOCA  50 FINALIZADA: perda 0.16580 - precisão 1.00000\n",
            "Treinando...\n",
            "ÉPOCA  51 FINALIZADA: perda 0.23043 - precisão 0.94000\n",
            "Validando...\n",
            "ÉPOCA  51 FINALIZADA: perda 0.14949 - precisão 1.00000\n",
            "Treinando...\n",
            "ÉPOCA  52 FINALIZADA: perda 0.25436 - precisão 0.95500\n",
            "Validando...\n",
            "ÉPOCA  52 FINALIZADA: perda 0.14551 - precisão 1.00000\n",
            "Treinando...\n",
            "ÉPOCA  53 FINALIZADA: perda 0.19904 - precisão 0.97000\n",
            "Validando...\n",
            "ÉPOCA  53 FINALIZADA: perda 0.15671 - precisão 0.98750\n",
            "Treinando...\n",
            "ÉPOCA  54 FINALIZADA: perda 0.22988 - precisão 0.93000\n",
            "Validando...\n",
            "ÉPOCA  54 FINALIZADA: perda 0.13834 - precisão 1.00000\n",
            "Treinando...\n",
            "ÉPOCA  55 FINALIZADA: perda 0.20129 - precisão 0.96667\n",
            "Validando...\n",
            "ÉPOCA  55 FINALIZADA: perda 0.14738 - precisão 0.98750\n",
            "Treinando...\n",
            "ÉPOCA  56 FINALIZADA: perda 0.18797 - precisão 0.97000\n",
            "Validando...\n",
            "ÉPOCA  56 FINALIZADA: perda 0.12043 - precisão 1.00000\n",
            "Treinando...\n",
            "ÉPOCA  57 FINALIZADA: perda 0.17003 - precisão 0.98500\n",
            "Validando...\n",
            "ÉPOCA  57 FINALIZADA: perda 0.12619 - precisão 1.00000\n",
            "Treinando...\n",
            "ÉPOCA  58 FINALIZADA: perda 0.18898 - precisão 0.96667\n",
            "Validando...\n",
            "ÉPOCA  58 FINALIZADA: perda 0.13144 - precisão 1.00000\n",
            "Treinando...\n",
            "ÉPOCA  59 FINALIZADA: perda 0.21053 - precisão 0.95667\n",
            "Validando...\n",
            "ÉPOCA  59 FINALIZADA: perda 0.15108 - precisão 0.98750\n",
            "Treinando...\n",
            "ÉPOCA  60 FINALIZADA: perda 0.17574 - precisão 0.96667\n",
            "Validando...\n",
            "ÉPOCA  60 FINALIZADA: perda 0.19645 - precisão 0.97500\n",
            "Treinando...\n",
            "ÉPOCA  61 FINALIZADA: perda 0.21444 - precisão 0.95000\n",
            "Validando...\n",
            "ÉPOCA  61 FINALIZADA: perda 0.12003 - precisão 1.00000\n",
            "Treinando...\n",
            "ÉPOCA  62 FINALIZADA: perda 0.19002 - precisão 0.95667\n",
            "Validando...\n",
            "ÉPOCA  62 FINALIZADA: perda 0.13134 - precisão 0.98750\n",
            "Treinando...\n",
            "ÉPOCA  63 FINALIZADA: perda 0.17515 - precisão 0.96500\n",
            "Validando...\n",
            "ÉPOCA  63 FINALIZADA: perda 0.10733 - precisão 1.00000\n",
            "Treinando...\n",
            "ÉPOCA  64 FINALIZADA: perda 0.16869 - precisão 0.97500\n",
            "Validando...\n",
            "ÉPOCA  64 FINALIZADA: perda 0.10598 - precisão 1.00000\n",
            "Treinando...\n",
            "ÉPOCA  65 FINALIZADA: perda 0.17719 - precisão 0.97500\n",
            "Validando...\n",
            "ÉPOCA  65 FINALIZADA: perda 0.12188 - precisão 1.00000\n",
            "Treinando...\n",
            "ÉPOCA  66 FINALIZADA: perda 0.14931 - precisão 0.97000\n",
            "Validando...\n",
            "ÉPOCA  66 FINALIZADA: perda 0.10163 - precisão 1.00000\n",
            "Treinando...\n",
            "ÉPOCA  67 FINALIZADA: perda 0.15861 - precisão 0.97500\n",
            "Validando...\n",
            "ÉPOCA  67 FINALIZADA: perda 0.11575 - precisão 1.00000\n",
            "Treinando...\n",
            "ÉPOCA  68 FINALIZADA: perda 0.17471 - precisão 0.96500\n",
            "Validando...\n",
            "ÉPOCA  68 FINALIZADA: perda 0.10593 - precisão 1.00000\n",
            "Treinando...\n",
            "ÉPOCA  69 FINALIZADA: perda 0.16097 - precisão 0.98000\n",
            "Validando...\n",
            "ÉPOCA  69 FINALIZADA: perda 0.11384 - precisão 0.98750\n",
            "Treinando...\n",
            "ÉPOCA  70 FINALIZADA: perda 0.17658 - precisão 0.96167\n",
            "Validando...\n",
            "ÉPOCA  70 FINALIZADA: perda 0.10421 - precisão 1.00000\n",
            "Treinando...\n",
            "ÉPOCA  71 FINALIZADA: perda 0.13573 - precisão 0.98000\n",
            "Validando...\n",
            "ÉPOCA  71 FINALIZADA: perda 0.09824 - precisão 1.00000\n",
            "Treinando...\n",
            "ÉPOCA  72 FINALIZADA: perda 0.15662 - precisão 0.98000\n",
            "Validando...\n",
            "ÉPOCA  72 FINALIZADA: perda 0.10013 - precisão 1.00000\n",
            "Treinando...\n",
            "ÉPOCA  73 FINALIZADA: perda 0.13121 - precisão 0.99000\n",
            "Validando...\n",
            "ÉPOCA  73 FINALIZADA: perda 0.09079 - precisão 1.00000\n",
            "Treinando...\n",
            "ÉPOCA  74 FINALIZADA: perda 0.13058 - precisão 0.99000\n",
            "Validando...\n",
            "ÉPOCA  74 FINALIZADA: perda 0.09569 - precisão 1.00000\n",
            "Treinando...\n",
            "ÉPOCA  75 FINALIZADA: perda 0.13865 - precisão 0.97500\n",
            "Validando...\n",
            "ÉPOCA  75 FINALIZADA: perda 0.09573 - precisão 1.00000\n",
            "Treinando...\n",
            "ÉPOCA  76 FINALIZADA: perda 0.12507 - precisão 0.99000\n",
            "Validando...\n",
            "ÉPOCA  76 FINALIZADA: perda 0.10001 - precisão 1.00000\n",
            "Treinando...\n",
            "ÉPOCA  77 FINALIZADA: perda 0.12190 - precisão 0.99000\n",
            "Validando...\n",
            "ÉPOCA  77 FINALIZADA: perda 0.08981 - precisão 1.00000\n",
            "Treinando...\n",
            "ÉPOCA  78 FINALIZADA: perda 0.22089 - precisão 0.93667\n",
            "Validando...\n",
            "ÉPOCA  78 FINALIZADA: perda 0.09417 - precisão 1.00000\n",
            "Treinando...\n",
            "ÉPOCA  79 FINALIZADA: perda 0.23975 - precisão 0.92000\n",
            "Validando...\n",
            "ÉPOCA  79 FINALIZADA: perda 0.10775 - precisão 0.98750\n",
            "Treinando...\n",
            "ÉPOCA  80 FINALIZADA: perda 0.15258 - precisão 0.98000\n",
            "Validando...\n",
            "ÉPOCA  80 FINALIZADA: perda 0.08553 - precisão 1.00000\n",
            "Treinando...\n",
            "ÉPOCA  81 FINALIZADA: perda 0.14820 - precisão 0.97000\n",
            "Validando...\n",
            "ÉPOCA  81 FINALIZADA: perda 0.09901 - precisão 0.98750\n",
            "Treinando...\n",
            "ÉPOCA  82 FINALIZADA: perda 0.14483 - precisão 0.97000\n",
            "Validando...\n",
            "ÉPOCA  82 FINALIZADA: perda 0.08311 - precisão 1.00000\n",
            "Treinando...\n",
            "ÉPOCA  83 FINALIZADA: perda 0.10964 - precisão 0.98000\n",
            "Validando...\n",
            "ÉPOCA  83 FINALIZADA: perda 0.07442 - precisão 1.00000\n",
            "Treinando...\n",
            "ÉPOCA  84 FINALIZADA: perda 0.12024 - precisão 0.99000\n",
            "Validando...\n",
            "ÉPOCA  84 FINALIZADA: perda 0.08102 - precisão 1.00000\n",
            "Treinando...\n",
            "ÉPOCA  85 FINALIZADA: perda 0.10758 - precisão 0.99000\n",
            "Validando...\n",
            "ÉPOCA  85 FINALIZADA: perda 0.07517 - precisão 1.00000\n",
            "Treinando...\n",
            "ÉPOCA  86 FINALIZADA: perda 0.13300 - precisão 0.98000\n",
            "Validando...\n",
            "ÉPOCA  86 FINALIZADA: perda 0.07822 - precisão 1.00000\n",
            "Treinando...\n",
            "ÉPOCA  87 FINALIZADA: perda 0.10731 - precisão 0.99500\n",
            "Validando...\n",
            "ÉPOCA  87 FINALIZADA: perda 0.07830 - precisão 1.00000\n",
            "Treinando...\n",
            "ÉPOCA  88 FINALIZADA: perda 0.16598 - precisão 0.96167\n",
            "Validando...\n",
            "ÉPOCA  88 FINALIZADA: perda 0.09936 - precisão 0.98750\n",
            "Treinando...\n",
            "ÉPOCA  89 FINALIZADA: perda 0.19025 - precisão 0.94500\n",
            "Validando...\n",
            "ÉPOCA  89 FINALIZADA: perda 0.08770 - precisão 1.00000\n",
            "Treinando...\n",
            "ÉPOCA  90 FINALIZADA: perda 0.11407 - precisão 0.98500\n",
            "Validando...\n",
            "ÉPOCA  90 FINALIZADA: perda 0.07427 - precisão 1.00000\n",
            "Treinando...\n",
            "ÉPOCA  91 FINALIZADA: perda 0.10228 - precisão 0.99500\n",
            "Validando...\n",
            "ÉPOCA  91 FINALIZADA: perda 0.06978 - precisão 1.00000\n",
            "Treinando...\n",
            "ÉPOCA  92 FINALIZADA: perda 0.10735 - precisão 0.98500\n",
            "Validando...\n",
            "ÉPOCA  92 FINALIZADA: perda 0.06920 - precisão 1.00000\n",
            "Treinando...\n",
            "ÉPOCA  93 FINALIZADA: perda 0.11837 - precisão 0.98000\n",
            "Validando...\n",
            "ÉPOCA  93 FINALIZADA: perda 0.06746 - precisão 1.00000\n",
            "Treinando...\n",
            "ÉPOCA  94 FINALIZADA: perda 0.11949 - precisão 0.98000\n",
            "Validando...\n",
            "ÉPOCA  94 FINALIZADA: perda 0.07300 - precisão 1.00000\n",
            "Treinando...\n",
            "ÉPOCA  95 FINALIZADA: perda 0.11121 - precisão 0.98000\n",
            "Validando...\n",
            "ÉPOCA  95 FINALIZADA: perda 0.07461 - precisão 1.00000\n",
            "Treinando...\n",
            "ÉPOCA  96 FINALIZADA: perda 0.10609 - precisão 0.98000\n",
            "Validando...\n",
            "ÉPOCA  96 FINALIZADA: perda 0.06692 - precisão 1.00000\n",
            "Treinando...\n",
            "ÉPOCA  97 FINALIZADA: perda 0.08937 - precisão 0.99500\n",
            "Validando...\n",
            "ÉPOCA  97 FINALIZADA: perda 0.06648 - precisão 1.00000\n",
            "Treinando...\n",
            "ÉPOCA  98 FINALIZADA: perda 0.09306 - precisão 0.98500\n",
            "Validando...\n",
            "ÉPOCA  98 FINALIZADA: perda 0.06235 - precisão 1.00000\n",
            "Treinando...\n",
            "ÉPOCA  99 FINALIZADA: perda 0.10746 - precisão 0.97667\n",
            "Validando...\n",
            "ÉPOCA  99 FINALIZADA: perda 0.07264 - precisão 1.00000\n",
            "Treinando...\n",
            "ÉPOCA 100 FINALIZADA: perda 0.07506 - precisão 0.99500\n",
            "Validando...\n",
            "ÉPOCA 100 FINALIZADA: perda 0.06356 - precisão 1.00000\n"
          ],
          "name": "stdout"
        }
      ]
    },
    {
      "cell_type": "markdown",
      "metadata": {
        "id": "7bSjVg0R1WeG"
      },
      "source": [
        "## Etapa 5: Avaliação do modelo"
      ]
    },
    {
      "cell_type": "code",
      "metadata": {
        "id": "4Fxn-zWo0ON8"
      },
      "source": [
        "def classificar_imagem(fname):\r\n",
        "  from PIL import Image\r\n",
        "  import matplotlib.pyplot as plt\r\n",
        "  imagem_teste = Image.open(path_test + '/' + fname)\r\n",
        "  plt.imshow(imagem_teste)\r\n",
        "\r\n",
        "  import numpy as np\r\n",
        "  imagem_teste = imagem_teste.resize((64, 64))\r\n",
        "  imagem_teste = np.array(imagem_teste.getdata()).reshape(*imagem_teste.size, 3)\r\n",
        "  imagem_teste = imagem_teste / 255\r\n",
        "  imagem_teste = imagem_teste.transpose(2, 0, 1)\r\n",
        "  imagem_teste = torch.tensor(imagem_teste, dtype=torch.float).view(-1, *imagem_teste.shape)\r\n",
        "\r\n",
        "  cls.eval()\r\n",
        "  imagem_teste = imagem_teste.to(device)\r\n",
        "  output = cls.forward(imagem_teste)\r\n",
        "  if output > 0.5:\r\n",
        "    output = 1\r\n",
        "  else:\r\n",
        "    output = 0\r\n",
        "  print('Previsão: ', output)\r\n",
        "\r\n",
        "  idx_to_class = {value: key for key, value in test_dataset.class_to_idx.items()}\r\n",
        "\r\n",
        "  return idx_to_class[output]"
      ],
      "execution_count": 24,
      "outputs": []
    },
    {
      "cell_type": "code",
      "metadata": {
        "id": "BfV3ArQt1buU",
        "colab": {
          "base_uri": "https://localhost:8080/",
          "height": 304
        },
        "outputId": "c0d9f47b-17e8-4696-b61a-f38162783538"
      },
      "source": [
        "imagem = '/bart/bart1.bmp'\r\n",
        "classificar_imagem(imagem)"
      ],
      "execution_count": 25,
      "outputs": [
        {
          "output_type": "stream",
          "text": [
            "Previsão:  0\n"
          ],
          "name": "stdout"
        },
        {
          "output_type": "execute_result",
          "data": {
            "application/vnd.google.colaboratory.intrinsic+json": {
              "type": "string"
            },
            "text/plain": [
              "'bart'"
            ]
          },
          "metadata": {
            "tags": []
          },
          "execution_count": 25
        },
        {
          "output_type": "display_data",
          "data": {
            "image/png": "[encoded data removed]",
            "text/plain": [
              "<Figure size 432x288 with 1 Axes>"
            ]
          },
          "metadata": {
            "tags": [],
            "needs_background": "light"
          }
        }
      ]
    },
    {
      "cell_type": "code",
      "metadata": {
        "colab": {
          "base_uri": "https://localhost:8080/",
          "height": 304
        },
        "id": "RGi7T2wA1p9j",
        "outputId": "7d0f0f3b-250c-488b-f3ce-7fae49884f58"
      },
      "source": [
        "imagem = '/homer/homer7.bmp'\r\n",
        "classificar_imagem(imagem)"
      ],
      "execution_count": 26,
      "outputs": [
        {
          "output_type": "stream",
          "text": [
            "Previsão:  1\n"
          ],
          "name": "stdout"
        },
        {
          "output_type": "execute_result",
          "data": {
            "application/vnd.google.colaboratory.intrinsic+json": {
              "type": "string"
            },
            "text/plain": [
              "'homer'"
            ]
          },
          "metadata": {
            "tags": []
          },
          "execution_count": 26
        },
        {
          "output_type": "display_data",
          "data": {
            "image/png": "[encoded data removed]",
            "text/plain": [
              "<Figure size 432x288 with 1 Axes>"
            ]
          },
          "metadata": {
            "tags": [],
            "needs_background": "light"
          }
        }
      ]
    }
  ]
}