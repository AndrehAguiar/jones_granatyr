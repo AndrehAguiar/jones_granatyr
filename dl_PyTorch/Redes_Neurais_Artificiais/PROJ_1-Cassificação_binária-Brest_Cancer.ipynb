{
  "nbformat": 4,
  "nbformat_minor": 0,
  "metadata": {
    "colab": {
      "name": "PROJ_1-Cassificação_binária-Brest_Cancer.ipynb",
      "provenance": [],
      "collapsed_sections": []
    },
    "kernelspec": {
      "name": "python3",
      "display_name": "Python 3"
    }
  },
  "cells": [
    {
      "cell_type": "markdown",
      "metadata": {
        "id": "4LG58bZhrT0z"
      },
      "source": [
        "# Etapa 1: Importação das bibliotecas"
      ]
    },
    {
      "cell_type": "code",
      "metadata": {
        "id": "7zWL51AqrAS8"
      },
      "source": [
        "import pandas as pd\r\n",
        "import numpy as np\r\n",
        "import seaborn as sns\r\n",
        "\r\n",
        "from sklearn.model_selection import train_test_split\r\n",
        "from sklearn.metrics import confusion_matrix, accuracy_score"
      ],
      "execution_count": 1,
      "outputs": []
    },
    {
      "cell_type": "code",
      "metadata": {
        "colab": {
          "base_uri": "https://localhost:8080/"
        },
        "id": "sJx3SvX7sGlP",
        "outputId": "23c3be5d-f281-42ea-bff6-90eb26ba1ab8"
      },
      "source": [
        "!pip install torch==1.4.0"
      ],
      "execution_count": 2,
      "outputs": [
        {
          "output_type": "stream",
          "text": [
            "Collecting torch==1.4.0\n",
            "\u001b[?25l  Downloading https://files.pythonhosted.org/packages/24/19/4804aea17cd136f1705a5e98a00618cb8f6ccc375ad8bfa437408e09d058/torch-1.4.0-cp36-cp36m-manylinux1_x86_64.whl (753.4MB)\n",
            "\u001b[K     |████████████████████████████████| 753.4MB 19kB/s \n",
            "\u001b[31mERROR: torchvision 0.8.1+cu101 has requirement torch==1.7.0, but you'll have torch 1.4.0 which is incompatible.\u001b[0m\n",
            "\u001b[?25hInstalling collected packages: torch\n",
            "  Found existing installation: torch 1.7.0+cu101\n",
            "    Uninstalling torch-1.7.0+cu101:\n",
            "      Successfully uninstalled torch-1.7.0+cu101\n",
            "Successfully installed torch-1.4.0\n"
          ],
          "name": "stdout"
        }
      ]
    },
    {
      "cell_type": "code",
      "metadata": {
        "colab": {
          "base_uri": "https://localhost:8080/",
          "height": 35
        },
        "id": "vBl50w89rxtG",
        "outputId": "c9ca352c-8e65-44fb-db20-67d55931f204"
      },
      "source": [
        "import torch\r\n",
        "torch.__version__"
      ],
      "execution_count": 3,
      "outputs": [
        {
          "output_type": "execute_result",
          "data": {
            "application/vnd.google.colaboratory.intrinsic+json": {
              "type": "string"
            },
            "text/plain": [
              "'1.4.0'"
            ]
          },
          "metadata": {
            "tags": []
          },
          "execution_count": 3
        }
      ]
    },
    {
      "cell_type": "code",
      "metadata": {
        "id": "DcLs_Mlqr1X5"
      },
      "source": [
        "import torch.nn as nn"
      ],
      "execution_count": 4,
      "outputs": []
    },
    {
      "cell_type": "markdown",
      "metadata": {
        "id": "24Ry98PqsyTp"
      },
      "source": [
        "# Etapa 2: Base de dados"
      ]
    },
    {
      "cell_type": "code",
      "metadata": {
        "colab": {
          "base_uri": "https://localhost:8080/"
        },
        "id": "FJJxzPHoswpq",
        "outputId": "739286fa-f616-44cb-f40d-fbf62704a580"
      },
      "source": [
        "np.random.seed(123)\r\n",
        "torch.manual_seed(123)"
      ],
      "execution_count": 5,
      "outputs": [
        {
          "output_type": "execute_result",
          "data": {
            "text/plain": [
              "<torch._C.Generator at 0x7f795abbc250>"
            ]
          },
          "metadata": {
            "tags": []
          },
          "execution_count": 5
        }
      ]
    },
    {
      "cell_type": "code",
      "metadata": {
        "id": "MYG9ze5Qt6-Z"
      },
      "source": [
        "previsores = pd.read_csv('/content/entradas_breast.csv')\r\n",
        "classe = pd.read_csv('/content/saidas_breast.csv')"
      ],
      "execution_count": 6,
      "outputs": []
    },
    {
      "cell_type": "code",
      "metadata": {
        "colab": {
          "base_uri": "https://localhost:8080/"
        },
        "id": "kg1qtQ5nwYOl",
        "outputId": "3990771b-3791-4462-8e29-e81483faafe9"
      },
      "source": [
        "previsores.shape"
      ],
      "execution_count": 7,
      "outputs": [
        {
          "output_type": "execute_result",
          "data": {
            "text/plain": [
              "(569, 30)"
            ]
          },
          "metadata": {
            "tags": []
          },
          "execution_count": 7
        }
      ]
    },
    {
      "cell_type": "code",
      "metadata": {
        "colab": {
          "base_uri": "https://localhost:8080/",
          "height": 224
        },
        "id": "Lj6LZi2twayy",
        "outputId": "fccdb2fc-fe91-43ac-cd96-860ea78141bd"
      },
      "source": [
        "previsores.head()"
      ],
      "execution_count": 8,
      "outputs": [
        {
          "output_type": "execute_result",
          "data": {
            "text/html": [
              "<div>\n",
              "<style scoped>\n",
              "    .dataframe tbody tr th:only-of-type {\n",
              "        vertical-align: middle;\n",
              "    }\n",
              "\n",
              "    .dataframe tbody tr th {\n",
              "        vertical-align: top;\n",
              "    }\n",
              "\n",
              "    .dataframe thead th {\n",
              "        text-align: right;\n",
              "    }\n",
              "</style>\n",
              "<table border=\"1\" class=\"dataframe\">\n",
              "  <thead>\n",
              "    <tr style=\"text-align: right;\">\n",
              "      <th></th>\n",
              "      <th>radius_mean</th>\n",
              "      <th>texture_mean</th>\n",
              "      <th>perimeter_mean</th>\n",
              "      <th>area_mean</th>\n",
              "      <th>smoothness_mean</th>\n",
              "      <th>compactness_mean</th>\n",
              "      <th>concavity_mean</th>\n",
              "      <th>concave_points_mean</th>\n",
              "      <th>symmetry_mean</th>\n",
              "      <th>fractal_dimension_mean</th>\n",
              "      <th>radius_se</th>\n",
              "      <th>texture_se</th>\n",
              "      <th>perimeter_se</th>\n",
              "      <th>area_se</th>\n",
              "      <th>smoothness_se</th>\n",
              "      <th>compactness_se</th>\n",
              "      <th>concavity_se</th>\n",
              "      <th>concave_points_se</th>\n",
              "      <th>symmetry_se</th>\n",
              "      <th>fractal_dimension_se</th>\n",
              "      <th>radius_worst</th>\n",
              "      <th>texture_worst</th>\n",
              "      <th>perimeter_worst</th>\n",
              "      <th>area_worst</th>\n",
              "      <th>smoothness_worst</th>\n",
              "      <th>compactness_worst</th>\n",
              "      <th>concavity_worst</th>\n",
              "      <th>concave_points_worst</th>\n",
              "      <th>symmetry_worst</th>\n",
              "      <th>fractal_dimension_worst</th>\n",
              "    </tr>\n",
              "  </thead>\n",
              "  <tbody>\n",
              "    <tr>\n",
              "      <th>0</th>\n",
              "      <td>17.99</td>\n",
              "      <td>10.38</td>\n",
              "      <td>122.80</td>\n",
              "      <td>1001.0</td>\n",
              "      <td>0.11840</td>\n",
              "      <td>0.27760</td>\n",
              "      <td>0.3001</td>\n",
              "      <td>0.14710</td>\n",
              "      <td>0.2419</td>\n",
              "      <td>0.07871</td>\n",
              "      <td>1095.0000</td>\n",
              "      <td>0.9053</td>\n",
              "      <td>8589.0</td>\n",
              "      <td>153.40</td>\n",
              "      <td>0.006399</td>\n",
              "      <td>0.04904</td>\n",
              "      <td>0.05373</td>\n",
              "      <td>0.01587</td>\n",
              "      <td>0.03003</td>\n",
              "      <td>0.006193</td>\n",
              "      <td>25.38</td>\n",
              "      <td>17.33</td>\n",
              "      <td>184.60</td>\n",
              "      <td>2019.0</td>\n",
              "      <td>0.1622</td>\n",
              "      <td>0.6656</td>\n",
              "      <td>0.7119</td>\n",
              "      <td>0.2654</td>\n",
              "      <td>0.4601</td>\n",
              "      <td>0.11890</td>\n",
              "    </tr>\n",
              "    <tr>\n",
              "      <th>1</th>\n",
              "      <td>20.57</td>\n",
              "      <td>17.77</td>\n",
              "      <td>132.90</td>\n",
              "      <td>1326.0</td>\n",
              "      <td>0.08474</td>\n",
              "      <td>0.07864</td>\n",
              "      <td>0.0869</td>\n",
              "      <td>0.07017</td>\n",
              "      <td>0.1812</td>\n",
              "      <td>0.05667</td>\n",
              "      <td>0.5435</td>\n",
              "      <td>0.7339</td>\n",
              "      <td>3398.0</td>\n",
              "      <td>74.08</td>\n",
              "      <td>0.005225</td>\n",
              "      <td>0.01308</td>\n",
              "      <td>0.01860</td>\n",
              "      <td>0.01340</td>\n",
              "      <td>0.01389</td>\n",
              "      <td>0.003532</td>\n",
              "      <td>24.99</td>\n",
              "      <td>23.41</td>\n",
              "      <td>158.80</td>\n",
              "      <td>1956.0</td>\n",
              "      <td>0.1238</td>\n",
              "      <td>0.1866</td>\n",
              "      <td>0.2416</td>\n",
              "      <td>186.0000</td>\n",
              "      <td>275.0000</td>\n",
              "      <td>0.08902</td>\n",
              "    </tr>\n",
              "    <tr>\n",
              "      <th>2</th>\n",
              "      <td>19.69</td>\n",
              "      <td>21.25</td>\n",
              "      <td>130.00</td>\n",
              "      <td>1203.0</td>\n",
              "      <td>0.10960</td>\n",
              "      <td>0.15990</td>\n",
              "      <td>0.1974</td>\n",
              "      <td>0.12790</td>\n",
              "      <td>0.2069</td>\n",
              "      <td>0.05999</td>\n",
              "      <td>0.7456</td>\n",
              "      <td>0.7869</td>\n",
              "      <td>4585.0</td>\n",
              "      <td>94.03</td>\n",
              "      <td>0.006150</td>\n",
              "      <td>0.04006</td>\n",
              "      <td>0.03832</td>\n",
              "      <td>0.02058</td>\n",
              "      <td>0.02250</td>\n",
              "      <td>0.004571</td>\n",
              "      <td>23.57</td>\n",
              "      <td>25.53</td>\n",
              "      <td>152.50</td>\n",
              "      <td>1709.0</td>\n",
              "      <td>0.1444</td>\n",
              "      <td>0.4245</td>\n",
              "      <td>0.4504</td>\n",
              "      <td>243.0000</td>\n",
              "      <td>0.3613</td>\n",
              "      <td>0.08758</td>\n",
              "    </tr>\n",
              "    <tr>\n",
              "      <th>3</th>\n",
              "      <td>11.42</td>\n",
              "      <td>20.38</td>\n",
              "      <td>77.58</td>\n",
              "      <td>386.1</td>\n",
              "      <td>0.14250</td>\n",
              "      <td>0.28390</td>\n",
              "      <td>0.2414</td>\n",
              "      <td>0.10520</td>\n",
              "      <td>0.2597</td>\n",
              "      <td>0.09744</td>\n",
              "      <td>0.4956</td>\n",
              "      <td>1156.0000</td>\n",
              "      <td>3445.0</td>\n",
              "      <td>27.23</td>\n",
              "      <td>0.009110</td>\n",
              "      <td>0.07458</td>\n",
              "      <td>0.05661</td>\n",
              "      <td>0.01867</td>\n",
              "      <td>0.05963</td>\n",
              "      <td>0.009208</td>\n",
              "      <td>14.91</td>\n",
              "      <td>26.50</td>\n",
              "      <td>98.87</td>\n",
              "      <td>567.7</td>\n",
              "      <td>0.2098</td>\n",
              "      <td>0.8663</td>\n",
              "      <td>0.6869</td>\n",
              "      <td>0.2575</td>\n",
              "      <td>0.6638</td>\n",
              "      <td>173.00000</td>\n",
              "    </tr>\n",
              "    <tr>\n",
              "      <th>4</th>\n",
              "      <td>20.29</td>\n",
              "      <td>14.34</td>\n",
              "      <td>135.10</td>\n",
              "      <td>1297.0</td>\n",
              "      <td>0.10030</td>\n",
              "      <td>0.13280</td>\n",
              "      <td>198.0000</td>\n",
              "      <td>0.10430</td>\n",
              "      <td>0.1809</td>\n",
              "      <td>0.05883</td>\n",
              "      <td>0.7572</td>\n",
              "      <td>0.7813</td>\n",
              "      <td>5438.0</td>\n",
              "      <td>94.44</td>\n",
              "      <td>0.011490</td>\n",
              "      <td>0.02461</td>\n",
              "      <td>0.05688</td>\n",
              "      <td>0.01885</td>\n",
              "      <td>0.01756</td>\n",
              "      <td>0.005115</td>\n",
              "      <td>22.54</td>\n",
              "      <td>16.67</td>\n",
              "      <td>152.20</td>\n",
              "      <td>1575.0</td>\n",
              "      <td>0.1374</td>\n",
              "      <td>205.0000</td>\n",
              "      <td>0.4000</td>\n",
              "      <td>0.1625</td>\n",
              "      <td>0.2364</td>\n",
              "      <td>0.07678</td>\n",
              "    </tr>\n",
              "  </tbody>\n",
              "</table>\n",
              "</div>"
            ],
            "text/plain": [
              "    radius_mean   texture_mean  ...   symmetry_worst   fractal_dimension_worst\n",
              "0         17.99          10.38  ...           0.4601                   0.11890\n",
              "1         20.57          17.77  ...         275.0000                   0.08902\n",
              "2         19.69          21.25  ...           0.3613                   0.08758\n",
              "3         11.42          20.38  ...           0.6638                 173.00000\n",
              "4         20.29          14.34  ...           0.2364                   0.07678\n",
              "\n",
              "[5 rows x 30 columns]"
            ]
          },
          "metadata": {
            "tags": []
          },
          "execution_count": 8
        }
      ]
    },
    {
      "cell_type": "code",
      "metadata": {
        "colab": {
          "base_uri": "https://localhost:8080/",
          "height": 204
        },
        "id": "zgocsfMCwb-B",
        "outputId": "aff1a808-e3b7-4cd0-e8d5-c1ce9285fd2f"
      },
      "source": [
        "classe.head()"
      ],
      "execution_count": 9,
      "outputs": [
        {
          "output_type": "execute_result",
          "data": {
            "text/html": [
              "<div>\n",
              "<style scoped>\n",
              "    .dataframe tbody tr th:only-of-type {\n",
              "        vertical-align: middle;\n",
              "    }\n",
              "\n",
              "    .dataframe tbody tr th {\n",
              "        vertical-align: top;\n",
              "    }\n",
              "\n",
              "    .dataframe thead th {\n",
              "        text-align: right;\n",
              "    }\n",
              "</style>\n",
              "<table border=\"1\" class=\"dataframe\">\n",
              "  <thead>\n",
              "    <tr style=\"text-align: right;\">\n",
              "      <th></th>\n",
              "      <th>0</th>\n",
              "    </tr>\n",
              "  </thead>\n",
              "  <tbody>\n",
              "    <tr>\n",
              "      <th>0</th>\n",
              "      <td>0</td>\n",
              "    </tr>\n",
              "    <tr>\n",
              "      <th>1</th>\n",
              "      <td>0</td>\n",
              "    </tr>\n",
              "    <tr>\n",
              "      <th>2</th>\n",
              "      <td>0</td>\n",
              "    </tr>\n",
              "    <tr>\n",
              "      <th>3</th>\n",
              "      <td>0</td>\n",
              "    </tr>\n",
              "    <tr>\n",
              "      <th>4</th>\n",
              "      <td>0</td>\n",
              "    </tr>\n",
              "  </tbody>\n",
              "</table>\n",
              "</div>"
            ],
            "text/plain": [
              "   0\n",
              "0  0\n",
              "1  0\n",
              "2  0\n",
              "3  0\n",
              "4  0"
            ]
          },
          "metadata": {
            "tags": []
          },
          "execution_count": 9
        }
      ]
    },
    {
      "cell_type": "code",
      "metadata": {
        "colab": {
          "base_uri": "https://localhost:8080/"
        },
        "id": "3Q57O932wjZK",
        "outputId": "13b0e90c-d28e-4c18-c1a7-a3d7df32326e"
      },
      "source": [
        "np.unique(classe, return_counts=True)"
      ],
      "execution_count": 10,
      "outputs": [
        {
          "output_type": "execute_result",
          "data": {
            "text/plain": [
              "(array([0, 1]), array([212, 357]))"
            ]
          },
          "metadata": {
            "tags": []
          },
          "execution_count": 10
        }
      ]
    },
    {
      "cell_type": "code",
      "metadata": {
        "colab": {
          "base_uri": "https://localhost:8080/",
          "height": 279
        },
        "id": "_PdVxvucwnPO",
        "outputId": "2fedacd8-b3eb-4ccc-a3dd-28b87b8755da"
      },
      "source": [
        "sns.countplot(x= '0', data=classe);"
      ],
      "execution_count": 11,
      "outputs": [
        {
          "output_type": "display_data",
          "data": {
            "image/png": "[encoded data removed]",
            "text/plain": [
              "<Figure size 432x288 with 1 Axes>"
            ]
          },
          "metadata": {
            "tags": [],
            "needs_background": "light"
          }
        }
      ]
    },
    {
      "cell_type": "code",
      "metadata": {
        "colab": {
          "base_uri": "https://localhost:8080/"
        },
        "id": "TnMh0YkkwsF0",
        "outputId": "db0fb3e8-393f-4bf9-b37f-571b0f58fe15"
      },
      "source": [
        "X_train, X_test, y_train, y_test = train_test_split(previsores, classe,\r\n",
        "                                                    test_size=0.25)\r\n",
        "X_train.shape, y_train.shape"
      ],
      "execution_count": 12,
      "outputs": [
        {
          "output_type": "execute_result",
          "data": {
            "text/plain": [
              "((426, 30), (426, 1))"
            ]
          },
          "metadata": {
            "tags": []
          },
          "execution_count": 12
        }
      ]
    },
    {
      "cell_type": "code",
      "metadata": {
        "colab": {
          "base_uri": "https://localhost:8080/"
        },
        "id": "gb2RihujxHJL",
        "outputId": "eef637fa-7d83-441d-ca45-a361810330ab"
      },
      "source": [
        "X_test.shape, y_test.shape"
      ],
      "execution_count": 13,
      "outputs": [
        {
          "output_type": "execute_result",
          "data": {
            "text/plain": [
              "((143, 30), (143, 1))"
            ]
          },
          "metadata": {
            "tags": []
          },
          "execution_count": 13
        }
      ]
    },
    {
      "cell_type": "markdown",
      "metadata": {
        "id": "Os-2db_UxU3e"
      },
      "source": [
        "# Etapa 3: Transformação dos dados para tensores"
      ]
    },
    {
      "cell_type": "code",
      "metadata": {
        "colab": {
          "base_uri": "https://localhost:8080/"
        },
        "id": "OCZBaGErxKd5",
        "outputId": "c70ee931-c5e9-4a6f-dce7-3909a04f376f"
      },
      "source": [
        "type(X_train)"
      ],
      "execution_count": 14,
      "outputs": [
        {
          "output_type": "execute_result",
          "data": {
            "text/plain": [
              "pandas.core.frame.DataFrame"
            ]
          },
          "metadata": {
            "tags": []
          },
          "execution_count": 14
        }
      ]
    },
    {
      "cell_type": "code",
      "metadata": {
        "colab": {
          "base_uri": "https://localhost:8080/"
        },
        "id": "8n5PGKanxdfi",
        "outputId": "f662405c-65fa-4fc9-9f8d-efc030ab75a0"
      },
      "source": [
        "type(np.array(X_train))"
      ],
      "execution_count": 15,
      "outputs": [
        {
          "output_type": "execute_result",
          "data": {
            "text/plain": [
              "numpy.ndarray"
            ]
          },
          "metadata": {
            "tags": []
          },
          "execution_count": 15
        }
      ]
    },
    {
      "cell_type": "code",
      "metadata": {
        "id": "qvvkWdyqxmsx"
      },
      "source": [
        "X_train = torch.tensor(np.array(X_train), dtype=torch.float)\r\n",
        "y_train = torch.tensor(np.array(y_train), dtype=torch.float)"
      ],
      "execution_count": 16,
      "outputs": []
    },
    {
      "cell_type": "code",
      "metadata": {
        "colab": {
          "base_uri": "https://localhost:8080/"
        },
        "id": "-_pL3CtDyGpk",
        "outputId": "7d45a192-515a-47f8-bf5a-3297a3554405"
      },
      "source": [
        "type(X_train), type(y_train)"
      ],
      "execution_count": 17,
      "outputs": [
        {
          "output_type": "execute_result",
          "data": {
            "text/plain": [
              "(torch.Tensor, torch.Tensor)"
            ]
          },
          "metadata": {
            "tags": []
          },
          "execution_count": 17
        }
      ]
    },
    {
      "cell_type": "code",
      "metadata": {
        "id": "bdnd_kpAyQYS"
      },
      "source": [
        "dataset = torch.utils.data.TensorDataset(X_train, y_train)"
      ],
      "execution_count": 18,
      "outputs": []
    },
    {
      "cell_type": "code",
      "metadata": {
        "colab": {
          "base_uri": "https://localhost:8080/"
        },
        "id": "j-aZs6WKym51",
        "outputId": "4d010dd8-2bbc-42eb-f374-7b75c6c0b4a8"
      },
      "source": [
        "type(dataset)"
      ],
      "execution_count": 19,
      "outputs": [
        {
          "output_type": "execute_result",
          "data": {
            "text/plain": [
              "torch.utils.data.dataset.TensorDataset"
            ]
          },
          "metadata": {
            "tags": []
          },
          "execution_count": 19
        }
      ]
    },
    {
      "cell_type": "code",
      "metadata": {
        "id": "yGrt8T1Myp0x"
      },
      "source": [
        "train_loader = torch.utils.data.DataLoader(dataset, batch_size=10, shuffle=True)"
      ],
      "execution_count": 20,
      "outputs": []
    },
    {
      "cell_type": "markdown",
      "metadata": {
        "id": "Ibsl98eKz-mV"
      },
      "source": [
        "# Etapa 4: Construção do modelo"
      ]
    },
    {
      "cell_type": "code",
      "metadata": {
        "id": "Rd8qdynM0Coa"
      },
      "source": [
        "# 30 -> 16 -> 16 -> 1\r\n",
        "# (entradas + saída) / 2 = (30+1) / 2 = 16\r\n",
        "\r\n",
        "classificador = nn.Sequential(\r\n",
        "    nn.Linear(in_features=30, out_features=16),   # 30 -> 16\r\n",
        "    nn.ReLU(),\r\n",
        "    nn.Linear(16,16),                             # 16 -> 16\r\n",
        "    nn.ReLU(),\r\n",
        "    nn.Linear(16,1),                              # 16 -> 1\r\n",
        "    nn.Sigmoid()\r\n",
        ")"
      ],
      "execution_count": 21,
      "outputs": []
    },
    {
      "cell_type": "code",
      "metadata": {
        "colab": {
          "base_uri": "https://localhost:8080/"
        },
        "id": "rYxdu_yk08U_",
        "outputId": "8d3390d2-afbb-46af-f99e-c2c4dbee2c84"
      },
      "source": [
        "classificador.parameters"
      ],
      "execution_count": 22,
      "outputs": [
        {
          "output_type": "execute_result",
          "data": {
            "text/plain": [
              "<bound method Module.parameters of Sequential(\n",
              "  (0): Linear(in_features=30, out_features=16, bias=True)\n",
              "  (1): ReLU()\n",
              "  (2): Linear(in_features=16, out_features=16, bias=True)\n",
              "  (3): ReLU()\n",
              "  (4): Linear(in_features=16, out_features=1, bias=True)\n",
              "  (5): Sigmoid()\n",
              ")>"
            ]
          },
          "metadata": {
            "tags": []
          },
          "execution_count": 22
        }
      ]
    },
    {
      "cell_type": "code",
      "metadata": {
        "id": "M6N_vrOV1AIM"
      },
      "source": [
        "criterion = nn.BCELoss()"
      ],
      "execution_count": 23,
      "outputs": []
    },
    {
      "cell_type": "code",
      "metadata": {
        "id": "jgtyvgCb1E9b"
      },
      "source": [
        "optimizer = torch.optim.Adam(classificador.parameters(), lr=0.001, weight_decay=0.0001)"
      ],
      "execution_count": 24,
      "outputs": []
    },
    {
      "cell_type": "markdown",
      "metadata": {
        "id": "PucV_Xe11Wff"
      },
      "source": [
        "# Etapa 5: Treinamento do modelo"
      ]
    },
    {
      "cell_type": "code",
      "metadata": {
        "colab": {
          "base_uri": "https://localhost:8080/"
        },
        "id": "X_L7hKON1U5f",
        "outputId": "de3fd574-a558-4692-fba1-1a567e3768bb"
      },
      "source": [
        "for epoch in range(100):\r\n",
        "  running_loss = 0.\r\n",
        "\r\n",
        "  for data in train_loader:\r\n",
        "    inputs, labels = data\r\n",
        "    optimizer.zero_grad()\r\n",
        "    outputs = classificador(inputs) # classificador.forward(inputs)\r\n",
        "    loss = criterion(outputs, labels)\r\n",
        "    loss.backward()\r\n",
        "    optimizer.step()\r\n",
        "\r\n",
        "    running_loss += loss.item()\r\n",
        "\r\n",
        "  print(f'Epoch:%3d: perda %.5f' % (epoch + 1, running_loss/len(train_loader)))"
      ],
      "execution_count": 25,
      "outputs": [
        {
          "output_type": "stream",
          "text": [
            "Epoch:  1: perda 5.44077\n",
            "Epoch:  2: perda 1.61572\n",
            "Epoch:  3: perda 1.27111\n",
            "Epoch:  4: perda 1.22527\n",
            "Epoch:  5: perda 1.19481\n",
            "Epoch:  6: perda 1.16310\n",
            "Epoch:  7: perda 1.16480\n",
            "Epoch:  8: perda 1.15068\n",
            "Epoch:  9: perda 1.12336\n",
            "Epoch: 10: perda 1.12424\n",
            "Epoch: 11: perda 1.08099\n",
            "Epoch: 12: perda 1.09893\n",
            "Epoch: 13: perda 1.07530\n",
            "Epoch: 14: perda 1.08443\n",
            "Epoch: 15: perda 1.13997\n",
            "Epoch: 16: perda 1.07494\n",
            "Epoch: 17: perda 1.08882\n",
            "Epoch: 18: perda 1.04306\n",
            "Epoch: 19: perda 1.07964\n",
            "Epoch: 20: perda 1.04321\n",
            "Epoch: 21: perda 1.06220\n",
            "Epoch: 22: perda 1.11282\n",
            "Epoch: 23: perda 1.06123\n",
            "Epoch: 24: perda 1.00314\n",
            "Epoch: 25: perda 1.05587\n",
            "Epoch: 26: perda 1.00042\n",
            "Epoch: 27: perda 1.01152\n",
            "Epoch: 28: perda 1.00167\n",
            "Epoch: 29: perda 1.00211\n",
            "Epoch: 30: perda 0.98924\n",
            "Epoch: 31: perda 1.02455\n",
            "Epoch: 32: perda 0.98739\n",
            "Epoch: 33: perda 1.00291\n",
            "Epoch: 34: perda 1.00912\n",
            "Epoch: 35: perda 1.03670\n",
            "Epoch: 36: perda 1.06181\n",
            "Epoch: 37: perda 1.08788\n",
            "Epoch: 38: perda 0.98346\n",
            "Epoch: 39: perda 1.01909\n",
            "Epoch: 40: perda 1.02930\n",
            "Epoch: 41: perda 0.99214\n",
            "Epoch: 42: perda 1.02454\n",
            "Epoch: 43: perda 0.98409\n",
            "Epoch: 44: perda 1.02321\n",
            "Epoch: 45: perda 0.98676\n",
            "Epoch: 46: perda 1.02535\n",
            "Epoch: 47: perda 0.97214\n",
            "Epoch: 48: perda 0.99493\n",
            "Epoch: 49: perda 1.03030\n",
            "Epoch: 50: perda 1.02446\n",
            "Epoch: 51: perda 0.97262\n",
            "Epoch: 52: perda 0.98041\n",
            "Epoch: 53: perda 0.96995\n",
            "Epoch: 54: perda 0.95605\n",
            "Epoch: 55: perda 1.00890\n",
            "Epoch: 56: perda 0.96134\n",
            "Epoch: 57: perda 1.02496\n",
            "Epoch: 58: perda 0.98191\n",
            "Epoch: 59: perda 0.96819\n",
            "Epoch: 60: perda 0.98534\n",
            "Epoch: 61: perda 0.97077\n",
            "Epoch: 62: perda 0.97297\n",
            "Epoch: 63: perda 0.99980\n",
            "Epoch: 64: perda 0.97281\n",
            "Epoch: 65: perda 0.96358\n",
            "Epoch: 66: perda 0.98027\n",
            "Epoch: 67: perda 0.98177\n",
            "Epoch: 68: perda 0.96845\n",
            "Epoch: 69: perda 0.95040\n",
            "Epoch: 70: perda 0.95823\n",
            "Epoch: 71: perda 0.96146\n",
            "Epoch: 72: perda 0.94500\n",
            "Epoch: 73: perda 1.05587\n",
            "Epoch: 74: perda 1.03093\n",
            "Epoch: 75: perda 0.99874\n",
            "Epoch: 76: perda 0.93754\n",
            "Epoch: 77: perda 0.94369\n",
            "Epoch: 78: perda 0.95009\n",
            "Epoch: 79: perda 0.99155\n",
            "Epoch: 80: perda 0.96510\n",
            "Epoch: 81: perda 0.94045\n",
            "Epoch: 82: perda 0.93991\n",
            "Epoch: 83: perda 0.95029\n",
            "Epoch: 84: perda 0.99571\n",
            "Epoch: 85: perda 0.97533\n",
            "Epoch: 86: perda 0.94219\n",
            "Epoch: 87: perda 0.92881\n",
            "Epoch: 88: perda 1.00922\n",
            "Epoch: 89: perda 0.95272\n",
            "Epoch: 90: perda 1.01459\n",
            "Epoch: 91: perda 0.97182\n",
            "Epoch: 92: perda 0.97541\n",
            "Epoch: 93: perda 0.96125\n",
            "Epoch: 94: perda 0.92195\n",
            "Epoch: 95: perda 0.91932\n",
            "Epoch: 96: perda 0.93613\n",
            "Epoch: 97: perda 0.93785\n",
            "Epoch: 98: perda 0.95891\n",
            "Epoch: 99: perda 0.92925\n",
            "Epoch:100: perda 0.93390\n"
          ],
          "name": "stdout"
        }
      ]
    },
    {
      "cell_type": "markdown",
      "metadata": {
        "id": "Zusvd7QC8BWp"
      },
      "source": [
        "# Etapa 6: Visualização dos pesos"
      ]
    },
    {
      "cell_type": "code",
      "metadata": {
        "colab": {
          "base_uri": "https://localhost:8080/"
        },
        "id": "YFerr9cp_UNH",
        "outputId": "fab18125-9e9d-449b-c2ea-3814283d04ec"
      },
      "source": [
        "# 30 -> 16 -> 16 -> 1\r\n",
        "params = list(classificador.parameters())\r\n",
        "params"
      ],
      "execution_count": 26,
      "outputs": [
        {
          "output_type": "execute_result",
          "data": {
            "text/plain": [
              "[Parameter containing:\n",
              " tensor([[-6.1117e-02,  1.0842e-02, -8.3451e-02,  7.3670e-02, -1.4103e-04,\n",
              "           7.1735e-03,  1.6724e-04,  3.0778e-04, -1.4554e-01,  2.3041e-05,\n",
              "           7.6860e-04,  5.7891e-02, -1.7100e-01, -1.1286e-01, -1.7372e-05,\n",
              "           9.2535e-05, -1.3769e-01,  2.1168e-05,  3.4194e-05, -4.3480e-06,\n",
              "           1.1655e-01,  2.8734e-02,  4.9158e-02,  1.6877e-01, -1.0013e-01,\n",
              "           3.5644e-02, -7.7274e-02,  1.0043e-01,  1.7117e-01, -1.2664e-01],\n",
              "         [ 1.8897e-01,  7.7857e-02,  2.9895e-01,  1.2622e-01, -3.7438e-02,\n",
              "          -4.1179e-02, -1.1583e-01, -1.0469e-01,  5.9242e-03,  5.7507e-02,\n",
              "           2.8247e-02, -5.9924e-02, -3.0952e-02,  1.7770e-01, -1.7899e-02,\n",
              "          -5.7413e-02,  2.0035e-01,  7.5741e-02,  3.3918e-01, -1.7641e-02,\n",
              "           2.1964e-01, -5.0753e-02,  2.0365e-01,  3.5049e-02,  2.8228e-02,\n",
              "          -1.8649e-01, -2.7290e-01,  1.7580e-01, -9.5777e-02, -2.6468e-01],\n",
              "         [-2.8255e-02, -2.5968e-02, -2.4523e-02, -2.3394e-02,  2.4482e-03,\n",
              "          -4.8319e-04, -1.8941e-03,  2.1316e-03, -1.3097e-04,  1.4958e-03,\n",
              "           7.3734e-03, -2.6369e-02, -2.5330e-02, -2.6464e-02, -1.4177e-03,\n",
              "           2.7950e-03, -1.5246e-04,  1.3429e-03, -1.3577e-04, -4.9527e-04,\n",
              "          -2.3301e-02, -2.4500e-02, -2.3781e-02, -2.3277e-02, -1.7480e-02,\n",
              "           3.4714e-02,  3.2937e-02,  1.5634e-03,  3.2617e-02, -1.8531e-02],\n",
              "         [-3.5007e-01,  1.0356e-01, -1.3461e-01,  9.4999e-02, -1.9671e-01,\n",
              "           6.2271e-02,  1.9657e-02, -1.3986e-02,  1.1099e-01, -3.6377e-02,\n",
              "           2.1830e-01, -1.3211e-01,  2.7908e-02,  9.1549e-02,  2.9723e-03,\n",
              "          -1.2548e-02, -7.2375e-03,  2.1100e-02,  6.3447e-02,  3.5184e-03,\n",
              "          -4.0549e-02, -8.0352e-02, -5.9510e-02,  2.2532e-02,  2.6134e-01,\n",
              "           7.7460e-02, -4.7854e-02,  1.8829e-01,  1.9418e-01,  4.0774e-01],\n",
              "         [-3.4560e-01,  7.7917e-02, -6.3553e-02, -1.3400e-01,  3.3122e-01,\n",
              "          -1.8090e-01,  1.2678e-01, -2.7901e-01, -2.3038e-01, -7.3321e-02,\n",
              "          -1.8792e-01, -1.5462e-03, -1.4905e-02,  7.8304e-02,  5.0085e-02,\n",
              "           9.4938e-02, -3.7280e-01,  5.6978e-02,  4.7704e-03,  4.0943e-01,\n",
              "          -2.1639e-01,  8.9116e-02, -1.1235e-01,  2.3176e-01,  4.8081e-02,\n",
              "          -1.5867e-01, -3.2638e-01, -1.9592e-01, -4.9159e-02,  3.7691e-01],\n",
              "         [-1.1617e-01, -9.1403e-02, -2.9783e-02,  7.2366e-02,  1.2037e-01,\n",
              "           1.2980e-01, -1.0221e-01,  1.3095e-02, -1.3498e-01, -7.1122e-05,\n",
              "           7.4419e-02,  1.3404e-01, -1.6914e-01,  1.5406e-01,  3.0584e-09,\n",
              "           7.3328e-03,  1.6990e-03,  1.6955e-07,  2.2379e-07,  9.5001e-04,\n",
              "          -3.3460e-02, -1.7988e-01, -4.7633e-02, -1.7645e-02, -2.9845e-01,\n",
              "          -1.2120e-01, -1.3647e-01, -3.9125e-02,  1.5226e-01,  1.5297e-03],\n",
              "         [-7.8812e-03, -6.3424e-03,  2.8318e-01, -1.3066e-01, -2.4095e-01,\n",
              "          -5.3265e-01, -7.1974e-02, -4.5040e-03,  2.9709e-01,  1.3646e-02,\n",
              "          -1.1110e-01, -1.5640e-01,  6.7282e-02,  1.3252e-01, -7.4042e-03,\n",
              "          -4.6722e-02,  1.9326e-02, -1.9092e-02,  7.3720e-02, -1.0220e-02,\n",
              "           7.5011e-02, -9.0724e-02,  1.8415e-01, -1.1314e-01, -1.6337e-01,\n",
              "           1.0716e-01,  4.8611e-02, -1.1310e-01, -2.6003e-01,  4.4905e-02],\n",
              "         [-2.9686e-01, -1.7839e-02, -1.4116e-01, -1.6119e-01,  1.9216e-01,\n",
              "           5.4151e-02, -6.1056e-02, -7.5336e-02,  1.2207e-01, -7.2008e-02,\n",
              "          -8.5362e-02, -1.1952e-01,  6.7643e-02,  1.1802e-01,  6.6079e-03,\n",
              "          -2.9255e-02, -1.1479e-01,  1.9956e-02, -1.7802e-01,  1.2538e-02,\n",
              "          -2.2258e-01,  5.7546e-02, -3.0261e-01,  9.8937e-02, -7.6473e-02,\n",
              "          -2.6562e-01,  8.6843e-02,  3.0431e-01, -6.2695e-02,  2.1690e-01],\n",
              "         [ 6.1605e-02, -5.9079e-02, -3.8952e-01, -6.7606e-02,  2.6187e-01,\n",
              "           1.6636e-01, -2.0350e-01, -2.0303e-01,  3.3982e-02, -6.1955e-02,\n",
              "           1.6503e-01, -1.0037e-01,  1.2897e-01,  4.2866e-03,  1.6012e-02,\n",
              "           5.9546e-02, -2.1549e-01, -1.8543e-01, -4.5341e-02,  2.2461e-01,\n",
              "          -3.6722e-01,  9.2318e-02, -2.9894e-01,  1.8776e-01,  1.9600e-01,\n",
              "           1.6674e-01, -9.9580e-02,  1.3251e-01,  8.8997e-02,  3.1036e-01],\n",
              "         [ 1.7134e-01,  1.0572e-01,  2.8693e-01, -4.9453e-03, -2.1261e-01,\n",
              "          -1.6251e-01,  1.0088e-02,  5.8671e-03, -1.3221e-02,  7.5274e-02,\n",
              "           7.5029e-02, -1.5702e-01,  1.5983e-01, -2.8192e-01, -3.2379e-02,\n",
              "           4.0865e-02,  2.1002e-01,  1.3027e-01,  5.8020e-02, -2.5497e-01,\n",
              "           3.3722e-01, -1.5185e-01,  3.2223e-01, -7.4689e-02,  2.3650e-02,\n",
              "          -2.0022e-02,  1.1848e-01, -1.5373e-01,  1.0951e-01, -1.5741e-01],\n",
              "         [-8.2718e-03,  4.1607e-02,  6.4443e-02,  5.4138e-02, -4.9270e-02,\n",
              "          -2.9665e-01, -1.8867e-01, -5.1212e-02,  1.5226e-01, -2.9940e-02,\n",
              "          -1.7448e-01,  4.0022e-02, -1.2509e-01,  1.8367e-01,  6.7385e-04,\n",
              "           2.1829e-03, -4.5242e-01, -3.1298e-01, -2.3868e-01,  1.0288e-03,\n",
              "          -1.9454e-01, -1.3282e-02,  6.3465e-02,  1.5346e-01,  3.7478e-01,\n",
              "           7.5623e-02,  2.2116e-01,  1.9567e-01,  1.2747e-02, -2.0426e-02],\n",
              "         [ 7.0662e-02, -9.6149e-02,  5.7909e-02,  1.8444e-01, -5.0453e-02,\n",
              "           1.1710e-01, -3.4662e-01,  4.3276e-01,  4.1629e-01,  1.6745e-02,\n",
              "           2.5265e-01,  1.1513e-01, -7.8689e-02, -1.4062e-01, -4.8688e-03,\n",
              "          -6.3511e-02,  4.4817e-01, -9.7024e-04,  2.1183e-02, -3.4887e-01,\n",
              "           2.9694e-01, -1.6517e-01,  2.3874e-01, -9.7119e-02, -3.0152e-01,\n",
              "           1.2019e-01, -2.3423e-01,  2.9113e-01,  3.3242e-02, -3.4020e-01],\n",
              "         [ 1.2265e-01,  1.2050e-01, -3.1586e-01, -8.4607e-02,  1.1211e-01,\n",
              "           1.5486e-01,  5.2496e-02,  2.2316e-01,  3.2415e-03, -4.3936e-02,\n",
              "           1.3696e-01, -7.4783e-02,  1.0401e-01,  1.0594e-01,  1.4221e-02,\n",
              "           1.8222e-02,  2.4149e-02, -3.4924e-02, -3.0146e-01, -6.3208e-02,\n",
              "          -8.2659e-02,  1.6938e-01, -1.0076e-01,  3.9480e-03, -2.3605e-01,\n",
              "           2.2387e-01, -1.6040e-01, -9.6170e-02,  4.2049e-02,  2.1577e-01],\n",
              "         [ 8.5684e-02, -3.1005e-02, -1.0009e-01, -2.5426e-02,  4.2305e-02,\n",
              "          -5.5419e-19,  2.9636e-28, -3.9633e-35, -1.2516e-01,  4.0102e-26,\n",
              "           5.0379e-11, -1.3070e-01, -1.5953e-01,  1.2753e-01,  4.3553e-36,\n",
              "           1.8360e-35, -2.0900e-35, -1.2386e-35, -2.3966e-35, -5.2800e-36,\n",
              "           1.1111e-01,  3.5400e-02, -8.9535e-02,  1.0164e-01, -4.7231e-15,\n",
              "          -5.3488e-06, -2.6505e-08, -6.2261e-20,  6.2961e-03, -2.3534e-19],\n",
              "         [ 7.1803e-02, -1.0759e-02,  5.3611e-02, -1.1222e-01, -1.3782e-01,\n",
              "          -3.9494e-38, -4.9829e-39, -1.2157e-39, -2.5030e-02,  1.1281e-40,\n",
              "          -3.7509e-11, -1.0491e-02, -1.4696e-02, -2.8420e-02, -1.0771e-39,\n",
              "          -1.1276e-41,  5.5390e-37, -4.3762e-39,  4.0523e-39, -4.3471e-39,\n",
              "           6.5666e-02,  9.0172e-02, -8.7505e-02, -1.5268e-01, -1.0103e-18,\n",
              "          -9.4312e-17,  1.7556e-18,  6.0013e-39, -1.1708e-01, -3.5710e-37],\n",
              "         [-6.3566e-03, -1.1047e-02, -1.3348e-02, -1.7164e-02,  2.0152e-39,\n",
              "           8.4186e-03,  2.2319e-03, -4.3227e-39,  6.4507e-39, -2.3148e-40,\n",
              "          -1.6028e-04, -2.8132e-02, -2.1156e-02, -1.7102e-02,  1.4876e-39,\n",
              "           3.9193e-39,  5.6071e-39,  1.0915e-39,  2.9591e-40,  6.0596e-39,\n",
              "          -7.8946e-03, -1.5022e-02, -1.4934e-02, -1.9658e-02, -1.2775e-03,\n",
              "           2.3690e-02, -5.2219e-03,  4.0371e-39,  7.4679e-03, -6.5125e-04]],\n",
              "        requires_grad=True), Parameter containing:\n",
              " tensor([-7.7584e-03,  2.2811e-01, -2.0730e-02, -2.1604e-01, -6.2585e-01,\n",
              "         -4.8453e-02,  1.5903e-01, -3.0746e-01, -3.4688e-01,  4.4976e-01,\n",
              "         -2.3427e-01,  2.2919e-01, -3.4935e-01,  1.8631e-03, -1.1080e-04,\n",
              "         -4.9779e-08], requires_grad=True), Parameter containing:\n",
              " tensor([[-1.8237e-07, -1.1404e-02, -3.0073e-12, -3.9417e-39, -9.9247e-02,\n",
              "           6.0009e-03, -1.0645e-02,  5.6236e-39, -1.7061e-01, -1.7651e-01,\n",
              "          -2.1491e-01,  8.6314e-02,  1.7986e-01,  2.3011e-01,  4.0882e-02,\n",
              "           5.2530e-39],\n",
              "         [ 6.2606e-39, -4.7702e-04, -7.0227e-39, -1.4020e-03,  6.8893e-39,\n",
              "          -8.9638e-40,  2.7862e-08,  8.7907e-07, -2.3330e-03, -1.8260e-03,\n",
              "           2.3516e-39,  9.5404e-07, -3.8119e-04, -1.8302e-39,  2.2949e-39,\n",
              "           9.1383e-40],\n",
              "         [ 2.2181e-01, -2.1331e-02,  2.4531e-02,  1.5747e-01,  3.3342e-01,\n",
              "          -6.9276e-02, -6.1502e-02, -8.4797e-02,  2.3590e-01,  6.6615e-02,\n",
              "           3.2933e-02, -1.9160e-02,  2.3869e-01,  8.4256e-02,  7.2392e-02,\n",
              "           2.0148e-02],\n",
              "         [-5.2322e-02,  5.4619e-02, -2.4662e-02, -2.0935e-01, -8.4996e-03,\n",
              "          -7.9453e-04,  4.8212e-02, -5.7711e-02,  1.9846e-01,  6.8425e-02,\n",
              "          -3.2029e-01,  3.0661e-01,  1.4681e-01,  1.4104e-01,  8.5872e-02,\n",
              "          -1.9566e-02],\n",
              "         [ 3.3661e-03,  1.9389e-01,  3.1462e-02, -2.8318e-01, -1.2021e-02,\n",
              "          -8.7659e-02,  1.0481e-01,  1.4057e-01,  3.2397e-02,  2.2399e-02,\n",
              "          -3.1126e-01,  1.5157e-01, -1.1652e-01, -6.9308e-02, -8.6296e-02,\n",
              "          -5.3418e-39],\n",
              "         [ 3.9200e-40, -2.3727e-11,  2.2241e-39,  1.3998e-39, -1.1265e-03,\n",
              "          -2.2955e-39, -1.0533e-39,  1.0492e-39, -1.1352e-02, -2.6913e-05,\n",
              "          -4.1430e-05,  1.6080e-03, -7.8057e-03, -7.8953e-17,  1.5756e-16,\n",
              "          -2.5461e-39],\n",
              "         [-1.4715e-01, -4.3397e-02,  1.4057e-09, -1.2126e-05,  9.7334e-02,\n",
              "           1.2110e-01,  8.8039e-02, -4.6165e-40, -1.7826e-01, -2.1136e-01,\n",
              "           5.0421e-02,  1.4973e-02,  2.1706e-01,  2.2482e-01,  5.8573e-02,\n",
              "          -1.5712e-39],\n",
              "         [ 3.4670e-02,  8.3163e-02, -2.3499e-02, -7.8767e-02, -3.4875e-01,\n",
              "           1.7584e-01,  4.5660e-04, -2.5159e-01, -4.4850e-02,  1.9133e-01,\n",
              "          -2.7526e-02,  2.0928e-01, -6.2716e-03, -2.1660e-01,  1.5951e-39,\n",
              "          -1.9117e-02],\n",
              "         [-8.0707e-02,  1.8833e-01, -1.0550e-08, -5.9227e-02,  1.5987e-01,\n",
              "           1.7315e-01,  9.9038e-02,  9.2946e-02, -1.1097e-01, -1.8412e-01,\n",
              "           1.1603e-01, -1.8657e-02, -7.0245e-02,  2.0816e-01, -1.2872e-01,\n",
              "           6.4984e-39],\n",
              "         [ 1.9869e-01,  1.1039e-01, -2.7324e-02,  9.0940e-02, -7.9768e-02,\n",
              "           9.1140e-02,  2.0868e-01, -2.1327e-01, -1.1228e-01,  2.0006e-01,\n",
              "          -3.0044e-01, -1.8968e-01, -1.0029e-01, -4.4450e-02,  8.8265e-03,\n",
              "           1.6350e-02],\n",
              "         [ 1.3132e-01, -9.1782e-02,  4.5135e-02, -3.9492e-01, -3.5286e-01,\n",
              "          -1.4847e-02,  1.6778e-02, -1.1367e-03,  1.5375e-03, -5.9879e-02,\n",
              "           2.4164e-01,  8.0978e-02,  2.1008e-01,  1.6164e-01,  1.5519e-02,\n",
              "          -1.3601e-02],\n",
              "         [ 1.0329e-01,  2.2491e-01, -1.3710e-06,  1.5235e-04,  3.9124e-02,\n",
              "           2.5300e-01, -2.0028e-39, -6.1932e-39, -1.9067e-01, -7.6081e-02,\n",
              "          -8.9933e-02,  2.5203e-01, -3.8382e-03, -1.2633e-02,  7.0436e-04,\n",
              "          -6.8538e-39],\n",
              "         [-1.2840e-01, -6.6123e-02,  2.4731e-02, -1.4740e-01, -1.2012e-01,\n",
              "          -1.6234e-01,  4.5299e-02,  3.9070e-02,  1.8290e-01, -4.0705e-02,\n",
              "           2.5014e-01,  1.2433e-01,  7.0396e-02, -1.4669e-01, -3.5378e-03,\n",
              "           1.9040e-02],\n",
              "         [-5.8377e-02,  2.3290e-01,  4.2282e-02,  9.8555e-03, -4.8022e-02,\n",
              "           1.0769e-01, -2.0151e-01, -2.0892e-01, -1.2394e-01,  3.9474e-02,\n",
              "           3.2583e-02,  1.5846e-01, -5.6787e-02,  1.4422e-02, -8.4986e-02,\n",
              "           1.5114e-02],\n",
              "         [ 9.6666e-02,  2.3843e-01,  2.1832e-03,  5.2001e-02,  6.3911e-03,\n",
              "          -2.2020e-02, -1.5243e-01, -1.4253e-01, -1.3117e-01, -6.4708e-04,\n",
              "           1.9821e-01,  1.3001e-02, -8.4522e-02, -2.3048e-01,  8.8382e-02,\n",
              "          -1.8276e-39],\n",
              "         [ 7.4943e-12, -1.3363e-02,  8.2786e-40, -1.7066e-02, -1.1528e-02,\n",
              "          -2.6273e-09, -1.3237e-02, -1.4731e-02, -1.4970e-02, -1.5011e-02,\n",
              "           5.6789e-03,  1.1503e-02, -1.6890e-02,  6.3259e-39, -5.0867e-39,\n",
              "          -2.7407e-39]], requires_grad=True), Parameter containing:\n",
              " tensor([-6.2662e-02, -5.0554e-39, -7.0109e-01,  4.2369e-01,  7.4960e-02,\n",
              "         -4.0462e-39,  7.3580e-02,  7.7551e-01, -2.3583e-01,  5.6782e-01,\n",
              "          1.6926e-01, -3.3939e-02, -5.0169e-01,  2.9505e-01,  7.8148e-02,\n",
              "         -3.5300e-03], requires_grad=True), Parameter containing:\n",
              " tensor([[-0.1179, -0.0049, -0.1032,  0.1272,  0.0157, -0.0010, -0.1867,  0.0924,\n",
              "           0.1652,  0.2353,  0.1177,  0.2062, -0.0550,  0.2246,  0.1572, -0.0121]],\n",
              "        requires_grad=True), Parameter containing:\n",
              " tensor([0.6008], requires_grad=True)]"
            ]
          },
          "metadata": {
            "tags": []
          },
          "execution_count": 26
        }
      ]
    },
    {
      "cell_type": "code",
      "metadata": {
        "colab": {
          "base_uri": "https://localhost:8080/"
        },
        "id": "91GaOvZr_m5l",
        "outputId": "c497b63b-ffe6-426d-a036-232290f72ede"
      },
      "source": [
        "# 30 -> 16 -> 16 -> 1\r\n",
        "pesos0 = params[0]\r\n",
        "pesos0.shape"
      ],
      "execution_count": 27,
      "outputs": [
        {
          "output_type": "execute_result",
          "data": {
            "text/plain": [
              "torch.Size([16, 30])"
            ]
          },
          "metadata": {
            "tags": []
          },
          "execution_count": 27
        }
      ]
    },
    {
      "cell_type": "code",
      "metadata": {
        "colab": {
          "base_uri": "https://localhost:8080/"
        },
        "id": "M9orcpha_3sh",
        "outputId": "579bacf0-976a-4912-ce0d-fad6cfbfdaa9"
      },
      "source": [
        "# 30 -> 16 -> 16 -> 1\r\n",
        "bias0 = params[1]\r\n",
        "bias0.shape"
      ],
      "execution_count": 28,
      "outputs": [
        {
          "output_type": "execute_result",
          "data": {
            "text/plain": [
              "torch.Size([16])"
            ]
          },
          "metadata": {
            "tags": []
          },
          "execution_count": 28
        }
      ]
    },
    {
      "cell_type": "code",
      "metadata": {
        "colab": {
          "base_uri": "https://localhost:8080/"
        },
        "id": "A6VTQ0z7AHtc",
        "outputId": "dd346874-51f5-4ab5-9f70-ba1a1451da12"
      },
      "source": [
        "# 30 -> 16 -> 16 -> 1\r\n",
        "pesos1 = params[2]\r\n",
        "pesos1.shape"
      ],
      "execution_count": 29,
      "outputs": [
        {
          "output_type": "execute_result",
          "data": {
            "text/plain": [
              "torch.Size([16, 16])"
            ]
          },
          "metadata": {
            "tags": []
          },
          "execution_count": 29
        }
      ]
    },
    {
      "cell_type": "code",
      "metadata": {
        "colab": {
          "base_uri": "https://localhost:8080/"
        },
        "id": "9L5wpIS4AO1R",
        "outputId": "4b44510d-c3f1-4e9f-d82b-62471e744e23"
      },
      "source": [
        "# 30 -> 16 -> 16 -> 1\r\n",
        "bias1 = params[3]\r\n",
        "bias1.shape"
      ],
      "execution_count": 30,
      "outputs": [
        {
          "output_type": "execute_result",
          "data": {
            "text/plain": [
              "torch.Size([16])"
            ]
          },
          "metadata": {
            "tags": []
          },
          "execution_count": 30
        }
      ]
    },
    {
      "cell_type": "code",
      "metadata": {
        "colab": {
          "base_uri": "https://localhost:8080/"
        },
        "id": "JTND0XMcATiY",
        "outputId": "03cbffd7-ff0e-4029-aed2-3245587176db"
      },
      "source": [
        "# 30 -> 16 -> 16 -> 1\r\n",
        "pesos2 = params[4]\r\n",
        "pesos2.shape"
      ],
      "execution_count": 31,
      "outputs": [
        {
          "output_type": "execute_result",
          "data": {
            "text/plain": [
              "torch.Size([1, 16])"
            ]
          },
          "metadata": {
            "tags": []
          },
          "execution_count": 31
        }
      ]
    },
    {
      "cell_type": "code",
      "metadata": {
        "colab": {
          "base_uri": "https://localhost:8080/"
        },
        "id": "Bk2sBhIsAX-_",
        "outputId": "cd458cc0-ae5c-458c-a330-6ef5dfa90e31"
      },
      "source": [
        "# 30 -> 16 -> 16 -> 1\r\n",
        "bias2 = params[5]\r\n",
        "bias2.shape"
      ],
      "execution_count": 32,
      "outputs": [
        {
          "output_type": "execute_result",
          "data": {
            "text/plain": [
              "torch.Size([1])"
            ]
          },
          "metadata": {
            "tags": []
          },
          "execution_count": 32
        }
      ]
    },
    {
      "cell_type": "markdown",
      "metadata": {
        "id": "NrCW29cIAhT7"
      },
      "source": [
        "# Etapa 7: Avaliação do modelo"
      ]
    },
    {
      "cell_type": "code",
      "metadata": {
        "colab": {
          "base_uri": "https://localhost:8080/"
        },
        "id": "VaYz4y9YAlSR",
        "outputId": "9f02336b-4aaa-4532-a738-c8476b53da1c"
      },
      "source": [
        "classificador.eval()"
      ],
      "execution_count": 33,
      "outputs": [
        {
          "output_type": "execute_result",
          "data": {
            "text/plain": [
              "Sequential(\n",
              "  (0): Linear(in_features=30, out_features=16, bias=True)\n",
              "  (1): ReLU()\n",
              "  (2): Linear(in_features=16, out_features=16, bias=True)\n",
              "  (3): ReLU()\n",
              "  (4): Linear(in_features=16, out_features=1, bias=True)\n",
              "  (5): Sigmoid()\n",
              ")"
            ]
          },
          "metadata": {
            "tags": []
          },
          "execution_count": 33
        }
      ]
    },
    {
      "cell_type": "code",
      "metadata": {
        "colab": {
          "base_uri": "https://localhost:8080/"
        },
        "id": "-F4VPdFDAtCe",
        "outputId": "3f25d8bb-24cf-49f8-ad10-bb2d6b0749d0"
      },
      "source": [
        "type(X_test)"
      ],
      "execution_count": 34,
      "outputs": [
        {
          "output_type": "execute_result",
          "data": {
            "text/plain": [
              "pandas.core.frame.DataFrame"
            ]
          },
          "metadata": {
            "tags": []
          },
          "execution_count": 34
        }
      ]
    },
    {
      "cell_type": "code",
      "metadata": {
        "colab": {
          "base_uri": "https://localhost:8080/"
        },
        "id": "8-zOdBaKA1sk",
        "outputId": "6c1aabde-13b8-4dd6-9616-3755e9d9e359"
      },
      "source": [
        "X_test = torch.tensor(np.array(X_test), dtype=torch.float)\r\n",
        "type(X_test)"
      ],
      "execution_count": 35,
      "outputs": [
        {
          "output_type": "execute_result",
          "data": {
            "text/plain": [
              "torch.Tensor"
            ]
          },
          "metadata": {
            "tags": []
          },
          "execution_count": 35
        }
      ]
    },
    {
      "cell_type": "code",
      "metadata": {
        "id": "tBf62UT0BAI5"
      },
      "source": [
        "previsoes = classificador.forward(X_test)"
      ],
      "execution_count": 36,
      "outputs": []
    },
    {
      "cell_type": "code",
      "metadata": {
        "colab": {
          "base_uri": "https://localhost:8080/"
        },
        "id": "DyB-3B2KBG-G",
        "outputId": "97d905c4-0d70-4fbd-ddff-3d98e18140ae"
      },
      "source": [
        "previsoes"
      ],
      "execution_count": 37,
      "outputs": [
        {
          "output_type": "execute_result",
          "data": {
            "text/plain": [
              "tensor([[9.9513e-01],\n",
              "        [1.0000e+00],\n",
              "        [4.7650e-01],\n",
              "        [1.0000e+00],\n",
              "        [4.0390e-05],\n",
              "        [9.5113e-01],\n",
              "        [9.8119e-01],\n",
              "        [9.9999e-01],\n",
              "        [8.3207e-01],\n",
              "        [2.5404e-01],\n",
              "        [1.0000e+00],\n",
              "        [9.7957e-01],\n",
              "        [9.1944e-01],\n",
              "        [9.9232e-01],\n",
              "        [8.8875e-01],\n",
              "        [9.6189e-01],\n",
              "        [9.9218e-01],\n",
              "        [1.0000e+00],\n",
              "        [2.0592e-01],\n",
              "        [9.9921e-01],\n",
              "        [4.1809e-11],\n",
              "        [6.5122e-03],\n",
              "        [9.1510e-01],\n",
              "        [1.0000e+00],\n",
              "        [8.8206e-01],\n",
              "        [7.9449e-04],\n",
              "        [6.4811e-01],\n",
              "        [1.0000e+00],\n",
              "        [2.3643e-05],\n",
              "        [9.9706e-01],\n",
              "        [2.5161e-01],\n",
              "        [1.0000e+00],\n",
              "        [9.5667e-01],\n",
              "        [9.6297e-01],\n",
              "        [5.8473e-01],\n",
              "        [9.9722e-01],\n",
              "        [2.5094e-01],\n",
              "        [9.9916e-01],\n",
              "        [1.0000e+00],\n",
              "        [5.0961e-06],\n",
              "        [3.3133e-03],\n",
              "        [9.9701e-01],\n",
              "        [7.2742e-08],\n",
              "        [5.8812e-01],\n",
              "        [2.4005e-06],\n",
              "        [9.3366e-01],\n",
              "        [6.9857e-04],\n",
              "        [1.0000e+00],\n",
              "        [9.8149e-01],\n",
              "        [4.4403e-04],\n",
              "        [9.9978e-01],\n",
              "        [1.3762e-17],\n",
              "        [9.3789e-01],\n",
              "        [9.8793e-01],\n",
              "        [9.9760e-01],\n",
              "        [8.4814e-01],\n",
              "        [9.9943e-01],\n",
              "        [1.5750e-09],\n",
              "        [1.0591e-05],\n",
              "        [9.9989e-01],\n",
              "        [3.6986e-04],\n",
              "        [9.9671e-01],\n",
              "        [9.9904e-01],\n",
              "        [9.9934e-01],\n",
              "        [9.4318e-01],\n",
              "        [7.5827e-10],\n",
              "        [1.0000e+00],\n",
              "        [1.0000e+00],\n",
              "        [1.0000e+00],\n",
              "        [9.6952e-01],\n",
              "        [1.0000e+00],\n",
              "        [9.9489e-01],\n",
              "        [1.4150e-01],\n",
              "        [9.6871e-01],\n",
              "        [8.0670e-05],\n",
              "        [1.0000e+00],\n",
              "        [9.5239e-01],\n",
              "        [2.9639e-12],\n",
              "        [1.0000e+00],\n",
              "        [8.0191e-02],\n",
              "        [9.3528e-01],\n",
              "        [5.4488e-05],\n",
              "        [6.5514e-07],\n",
              "        [9.8841e-01],\n",
              "        [1.0000e+00],\n",
              "        [1.0000e+00],\n",
              "        [3.4662e-01],\n",
              "        [9.9323e-01],\n",
              "        [3.3371e-04],\n",
              "        [9.1547e-01],\n",
              "        [1.9126e-03],\n",
              "        [9.9887e-01],\n",
              "        [9.9719e-01],\n",
              "        [4.5053e-03],\n",
              "        [9.9598e-01],\n",
              "        [1.0000e+00],\n",
              "        [9.9995e-01],\n",
              "        [9.9983e-01],\n",
              "        [3.4394e-03],\n",
              "        [1.0000e+00],\n",
              "        [9.9999e-01],\n",
              "        [1.0000e+00],\n",
              "        [9.9550e-01],\n",
              "        [1.0000e+00],\n",
              "        [1.0000e+00],\n",
              "        [1.0000e+00],\n",
              "        [1.0000e+00],\n",
              "        [9.9758e-01],\n",
              "        [1.0000e+00],\n",
              "        [9.9634e-01],\n",
              "        [1.0000e+00],\n",
              "        [1.0000e+00],\n",
              "        [7.7080e-01],\n",
              "        [1.2158e-05],\n",
              "        [9.6401e-01],\n",
              "        [1.3240e-04],\n",
              "        [9.9784e-01],\n",
              "        [2.6572e-02],\n",
              "        [9.9761e-01],\n",
              "        [9.9007e-01],\n",
              "        [9.8571e-01],\n",
              "        [9.9189e-01],\n",
              "        [1.0000e+00],\n",
              "        [9.9534e-01],\n",
              "        [8.1624e-09],\n",
              "        [9.9966e-01],\n",
              "        [1.6880e-01],\n",
              "        [2.8131e-01],\n",
              "        [1.0000e+00],\n",
              "        [1.0000e+00],\n",
              "        [1.5789e-11],\n",
              "        [9.9971e-01],\n",
              "        [1.0000e+00],\n",
              "        [1.5496e-02],\n",
              "        [1.0000e+00],\n",
              "        [9.6410e-01],\n",
              "        [9.9404e-01],\n",
              "        [9.9862e-01],\n",
              "        [4.6917e-01],\n",
              "        [1.7570e-04],\n",
              "        [1.9688e-07],\n",
              "        [9.8340e-01],\n",
              "        [2.1562e-14]], grad_fn=<SigmoidBackward>)"
            ]
          },
          "metadata": {
            "tags": []
          },
          "execution_count": 37
        }
      ]
    },
    {
      "cell_type": "code",
      "metadata": {
        "colab": {
          "base_uri": "https://localhost:8080/"
        },
        "id": "4Hz5xQHbBIPG",
        "outputId": "317b0172-7b01-4e06-9a88-5c3a33541728"
      },
      "source": [
        "previsoes = np.array(previsoes > 0.5)\r\n",
        "previsoes"
      ],
      "execution_count": 38,
      "outputs": [
        {
          "output_type": "execute_result",
          "data": {
            "text/plain": [
              "array([[ True],\n",
              "       [ True],\n",
              "       [False],\n",
              "       [ True],\n",
              "       [False],\n",
              "       [ True],\n",
              "       [ True],\n",
              "       [ True],\n",
              "       [ True],\n",
              "       [False],\n",
              "       [ True],\n",
              "       [ True],\n",
              "       [ True],\n",
              "       [ True],\n",
              "       [ True],\n",
              "       [ True],\n",
              "       [ True],\n",
              "       [ True],\n",
              "       [False],\n",
              "       [ True],\n",
              "       [False],\n",
              "       [False],\n",
              "       [ True],\n",
              "       [ True],\n",
              "       [ True],\n",
              "       [False],\n",
              "       [ True],\n",
              "       [ True],\n",
              "       [False],\n",
              "       [ True],\n",
              "       [False],\n",
              "       [ True],\n",
              "       [ True],\n",
              "       [ True],\n",
              "       [ True],\n",
              "       [ True],\n",
              "       [False],\n",
              "       [ True],\n",
              "       [ True],\n",
              "       [False],\n",
              "       [False],\n",
              "       [ True],\n",
              "       [False],\n",
              "       [ True],\n",
              "       [False],\n",
              "       [ True],\n",
              "       [False],\n",
              "       [ True],\n",
              "       [ True],\n",
              "       [False],\n",
              "       [ True],\n",
              "       [False],\n",
              "       [ True],\n",
              "       [ True],\n",
              "       [ True],\n",
              "       [ True],\n",
              "       [ True],\n",
              "       [False],\n",
              "       [False],\n",
              "       [ True],\n",
              "       [False],\n",
              "       [ True],\n",
              "       [ True],\n",
              "       [ True],\n",
              "       [ True],\n",
              "       [False],\n",
              "       [ True],\n",
              "       [ True],\n",
              "       [ True],\n",
              "       [ True],\n",
              "       [ True],\n",
              "       [ True],\n",
              "       [False],\n",
              "       [ True],\n",
              "       [False],\n",
              "       [ True],\n",
              "       [ True],\n",
              "       [False],\n",
              "       [ True],\n",
              "       [False],\n",
              "       [ True],\n",
              "       [False],\n",
              "       [False],\n",
              "       [ True],\n",
              "       [ True],\n",
              "       [ True],\n",
              "       [False],\n",
              "       [ True],\n",
              "       [False],\n",
              "       [ True],\n",
              "       [False],\n",
              "       [ True],\n",
              "       [ True],\n",
              "       [False],\n",
              "       [ True],\n",
              "       [ True],\n",
              "       [ True],\n",
              "       [ True],\n",
              "       [False],\n",
              "       [ True],\n",
              "       [ True],\n",
              "       [ True],\n",
              "       [ True],\n",
              "       [ True],\n",
              "       [ True],\n",
              "       [ True],\n",
              "       [ True],\n",
              "       [ True],\n",
              "       [ True],\n",
              "       [ True],\n",
              "       [ True],\n",
              "       [ True],\n",
              "       [ True],\n",
              "       [False],\n",
              "       [ True],\n",
              "       [False],\n",
              "       [ True],\n",
              "       [False],\n",
              "       [ True],\n",
              "       [ True],\n",
              "       [ True],\n",
              "       [ True],\n",
              "       [ True],\n",
              "       [ True],\n",
              "       [False],\n",
              "       [ True],\n",
              "       [False],\n",
              "       [False],\n",
              "       [ True],\n",
              "       [ True],\n",
              "       [False],\n",
              "       [ True],\n",
              "       [ True],\n",
              "       [False],\n",
              "       [ True],\n",
              "       [ True],\n",
              "       [ True],\n",
              "       [ True],\n",
              "       [False],\n",
              "       [False],\n",
              "       [False],\n",
              "       [ True],\n",
              "       [False]])"
            ]
          },
          "metadata": {
            "tags": []
          },
          "execution_count": 38
        }
      ]
    },
    {
      "cell_type": "code",
      "metadata": {
        "colab": {
          "base_uri": "https://localhost:8080/"
        },
        "id": "zrJ23D4tBYS5",
        "outputId": "6a0cb4e4-f3bc-4779-9660-2199876b97cc"
      },
      "source": [
        "taxa_acerto = accuracy_score(y_test, previsoes)\r\n",
        "taxa_acerto"
      ],
      "execution_count": 39,
      "outputs": [
        {
          "output_type": "execute_result",
          "data": {
            "text/plain": [
              "0.8741258741258742"
            ]
          },
          "metadata": {
            "tags": []
          },
          "execution_count": 39
        }
      ]
    },
    {
      "cell_type": "code",
      "metadata": {
        "colab": {
          "base_uri": "https://localhost:8080/"
        },
        "id": "549QcHttBvVD",
        "outputId": "e518660f-c81a-4799-9a38-e7ee14cb8beb"
      },
      "source": [
        "matriz = confusion_matrix(y_test, previsoes)\r\n",
        "matriz"
      ],
      "execution_count": 40,
      "outputs": [
        {
          "output_type": "execute_result",
          "data": {
            "text/plain": [
              "array([[40, 14],\n",
              "       [ 4, 85]])"
            ]
          },
          "metadata": {
            "tags": []
          },
          "execution_count": 40
        }
      ]
    },
    {
      "cell_type": "code",
      "metadata": {
        "colab": {
          "base_uri": "https://localhost:8080/",
          "height": 265
        },
        "id": "BKvQ7QkDB06Y",
        "outputId": "6f222b75-eeba-4cb7-caf6-71a121193b31"
      },
      "source": [
        "sns.heatmap(matriz, annot=True);"
      ],
      "execution_count": 41,
      "outputs": [
        {
          "output_type": "display_data",
          "data": {
            "image/png": "[encoded data removed]",
            "text/plain": [
              "<Figure size 432x288 with 2 Axes>"
            ]
          },
          "metadata": {
            "tags": [],
            "needs_background": "light"
          }
        }
      ]
    }
  ]
}