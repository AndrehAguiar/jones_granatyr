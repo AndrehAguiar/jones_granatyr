{
  "nbformat": 4,
  "nbformat_minor": 0,
  "metadata": {
    "colab": {
      "name": "PROJ_18-Compactação_Imagens-Convolucional_Autoencoders.ipynb",
      "provenance": [],
      "collapsed_sections": []
    },
    "kernelspec": {
      "name": "python3",
      "display_name": "Python 3"
    },
    "accelerator": "GPU"
  },
  "cells": [
    {
      "cell_type": "markdown",
      "metadata": {
        "id": "qXjduQd5Cl_7"
      },
      "source": [
        "# Projeto 18: Compactação de imagens com Convolucional Autoencoders"
      ]
    },
    {
      "cell_type": "code",
      "metadata": {
        "colab": {
          "base_uri": "https://localhost:8080/"
        },
        "id": "qb1M0qv-C3uI",
        "outputId": "00cdd533-30fc-44bd-e930-909a093b904a"
      },
      "source": [
        "!pip install torch==1.4.0 torchvision==0.5.0"
      ],
      "execution_count": 1,
      "outputs": [
        {
          "output_type": "stream",
          "text": [
            "Requirement already satisfied: torch==1.4.0 in /usr/local/lib/python3.7/dist-packages (1.4.0)\n",
            "Requirement already satisfied: torchvision==0.5.0 in /usr/local/lib/python3.7/dist-packages (0.5.0)\n",
            "Requirement already satisfied: six in /usr/local/lib/python3.7/dist-packages (from torchvision==0.5.0) (1.15.0)\n",
            "Requirement already satisfied: pillow>=4.1.1 in /usr/local/lib/python3.7/dist-packages (from torchvision==0.5.0) (7.0.0)\n",
            "Requirement already satisfied: numpy in /usr/local/lib/python3.7/dist-packages (from torchvision==0.5.0) (1.19.5)\n"
          ],
          "name": "stdout"
        }
      ]
    },
    {
      "cell_type": "markdown",
      "metadata": {
        "id": "McziGO9nCxgw"
      },
      "source": [
        "## Etapa 1: Importação das bibliotecas"
      ]
    },
    {
      "cell_type": "code",
      "metadata": {
        "id": "JTEjylbOCRTw"
      },
      "source": [
        "import torch\r\n",
        "from torch import nn, optim\r\n",
        "from torchvision import datasets, transforms\r\n",
        "import matplotlib.pyplot as plt"
      ],
      "execution_count": 2,
      "outputs": []
    },
    {
      "cell_type": "code",
      "metadata": {
        "colab": {
          "base_uri": "https://localhost:8080/"
        },
        "id": "T9KaX_nEDT6y",
        "outputId": "674e6606-435f-43ab-fb12-63d8fb869812"
      },
      "source": [
        "torch.manual_seed(123)"
      ],
      "execution_count": 3,
      "outputs": [
        {
          "output_type": "execute_result",
          "data": {
            "text/plain": [
              "<torch._C.Generator at 0x7fe13a0d41d0>"
            ]
          },
          "metadata": {
            "tags": []
          },
          "execution_count": 3
        }
      ]
    },
    {
      "cell_type": "markdown",
      "metadata": {
        "id": "Xy05htWoDXvn"
      },
      "source": [
        "## Etapa 2: Base de dados"
      ]
    },
    {
      "cell_type": "code",
      "metadata": {
        "id": "q7cup41_DWzX"
      },
      "source": [
        "data_train = datasets.MNIST('MNIST-data', train = True, download=True,\r\n",
        "                               transform = transforms.ToTensor())\r\n",
        "loader_train = torch.utils.data.DataLoader(data_train, batch_size=256,\r\n",
        "                                           shuffle = True)"
      ],
      "execution_count": 4,
      "outputs": []
    },
    {
      "cell_type": "code",
      "metadata": {
        "id": "iEd6ymZmEErm"
      },
      "source": [
        "data_test = datasets.MNIST('MNIST-data', train = False, download=True,\r\n",
        "                           transform = transforms.ToTensor())\r\n",
        "loader_test = torch.utils.data.DataLoader(data_test, batch_size=256,\r\n",
        "                                          shuffle=True)"
      ],
      "execution_count": 5,
      "outputs": []
    },
    {
      "cell_type": "markdown",
      "metadata": {
        "id": "LKoBC32mE3nb"
      },
      "source": [
        "## Etapa 3: Construção do autoencoder"
      ]
    },
    {
      "cell_type": "code",
      "metadata": {
        "id": "6zfJUzQJEebc"
      },
      "source": [
        "# 784 -> 128 -> 64 -> 32 -> 64 -> 128 -> 784\r\n",
        "class autoencoder(nn.Module):\r\n",
        "  def __init__(self):\r\n",
        "    super().__init__()\r\n",
        "    # CAMADAS DO ENCODER\r\n",
        "    self.encoder0 = nn.Conv2d(in_channels=1, out_channels=16, kernel_size=(3,3))\r\n",
        "    self.encoder1 = nn.Conv2d(in_channels=16, out_channels=8, kernel_size=(3,3), padding=(1,1))\r\n",
        "    self.encoder2 = nn.Conv2d(in_channels=8, out_channels=8, kernel_size=(3,3), stride=(2,2), padding=(1,1))\r\n",
        "\r\n",
        "    self.maxpool0 = nn.MaxPool2d(kernel_size=(2,2))\r\n",
        "    self.maxpool1 = nn.MaxPool2d(kernel_size=(2,2), padding=(1,1))\r\n",
        "\r\n",
        "    self.flatten = nn.Flatten()\r\n",
        "\r\n",
        "    # CAMADA DO DECODER\r\n",
        "    self.decoder0 = nn.Conv2d(in_channels=8, out_channels=8, kernel_size=(3,3), padding=(1,1))\r\n",
        "    self.decoder1 = nn.Conv2d(in_channels=8, out_channels=8, kernel_size=(3,3), padding=(1,1))\r\n",
        "    self.decoder2 = nn.Conv2d(in_channels=8, out_channels=16, kernel_size=(3,3))\r\n",
        "    self.decoder3 = nn.Conv2d(in_channels=16, out_channels=1, kernel_size=(3,3), padding=(1,1))\r\n",
        "\r\n",
        "    self.upsampling = nn.UpsamplingBilinear2d(scale_factor=2)\r\n",
        "\r\n",
        "    # CAMADAS DE ATIVAÇÃO\r\n",
        "    self.activation0 = nn.ReLU()\r\n",
        "    self.activation1 = nn.Sigmoid()\r\n",
        "\r\n",
        "  def forward(self, X):\r\n",
        "    # ESTRUTURA DO ENCODER    \r\n",
        "    X = self.maxpool0(self.activation0(self.encoder0(X)))\r\n",
        "    X = self.maxpool1(self.activation0(self.encoder1(X)))\r\n",
        "    X = self.flatten(self.activation0(self.encoder2(X)))\r\n",
        "    X = X.view(-1, 8, 4, 4) # O número de canais (ou filtros) vai na segunda dimensão\r\n",
        "    # ESTRUTURA DO DECODER\r\n",
        "    X = self.upsampling(self.activation0(self.decoder0(X)))\r\n",
        "    X = self.upsampling(self.activation0(self.decoder1(X)))\r\n",
        "    X = self.upsampling(self.activation0(self.decoder2(X)))\r\n",
        "    X = self.activation1(self.decoder3(X))\r\n",
        "    return X"
      ],
      "execution_count": 11,
      "outputs": []
    },
    {
      "cell_type": "code",
      "metadata": {
        "colab": {
          "base_uri": "https://localhost:8080/"
        },
        "id": "YjNijSo1Hui9",
        "outputId": "e5fd5e04-6d8a-4f4d-be32-cd02c994aec9"
      },
      "source": [
        "device = torch.device('cuda') if torch.cuda.is_available() else torch.device('cpu')\r\n",
        "device"
      ],
      "execution_count": 12,
      "outputs": [
        {
          "output_type": "execute_result",
          "data": {
            "text/plain": [
              "device(type='cuda')"
            ]
          },
          "metadata": {
            "tags": []
          },
          "execution_count": 12
        }
      ]
    },
    {
      "cell_type": "code",
      "metadata": {
        "colab": {
          "base_uri": "https://localhost:8080/"
        },
        "id": "lwHkSXj5H5a6",
        "outputId": "88a93a03-26bd-4676-fb02-c5eb46ca4ef4"
      },
      "source": [
        "model = autoencoder()\r\n",
        "model.to(device)"
      ],
      "execution_count": 13,
      "outputs": [
        {
          "output_type": "execute_result",
          "data": {
            "text/plain": [
              "autoencoder(\n",
              "  (encoder0): Conv2d(1, 16, kernel_size=(3, 3), stride=(1, 1))\n",
              "  (encoder1): Conv2d(16, 8, kernel_size=(3, 3), stride=(1, 1), padding=(1, 1))\n",
              "  (encoder2): Conv2d(8, 8, kernel_size=(3, 3), stride=(2, 2), padding=(1, 1))\n",
              "  (maxpool0): MaxPool2d(kernel_size=(2, 2), stride=(2, 2), padding=0, dilation=1, ceil_mode=False)\n",
              "  (maxpool1): MaxPool2d(kernel_size=(2, 2), stride=(2, 2), padding=(1, 1), dilation=1, ceil_mode=False)\n",
              "  (flatten): Flatten()\n",
              "  (decoder0): Conv2d(8, 8, kernel_size=(3, 3), stride=(1, 1), padding=(1, 1))\n",
              "  (decoder1): Conv2d(8, 8, kernel_size=(3, 3), stride=(1, 1), padding=(1, 1))\n",
              "  (decoder2): Conv2d(8, 16, kernel_size=(3, 3), stride=(1, 1))\n",
              "  (decoder3): Conv2d(16, 1, kernel_size=(3, 3), stride=(1, 1), padding=(1, 1))\n",
              "  (upsampling): UpsamplingBilinear2d(scale_factor=2.0, mode=bilinear)\n",
              "  (activation0): ReLU()\n",
              "  (activation1): Sigmoid()\n",
              ")"
            ]
          },
          "metadata": {
            "tags": []
          },
          "execution_count": 13
        }
      ]
    },
    {
      "cell_type": "code",
      "metadata": {
        "id": "qdK_55A0IAj6"
      },
      "source": [
        "criterion = nn.BCELoss()\r\n",
        "optimizer = optim.Adam(model.parameters())"
      ],
      "execution_count": 14,
      "outputs": []
    },
    {
      "cell_type": "markdown",
      "metadata": {
        "id": "CrFgufitIPNb"
      },
      "source": [
        "## Etapa 4: Treinamento do modelo"
      ]
    },
    {
      "cell_type": "code",
      "metadata": {
        "colab": {
          "base_uri": "https://localhost:8080/"
        },
        "id": "F4GVvU0yIMFB",
        "outputId": "26533f7a-997a-4543-8bb3-ce891801f7b6"
      },
      "source": [
        "for epoch in range(20):\r\n",
        "  # TREINAMENTO\r\n",
        "  running_loss_train = 0.\r\n",
        "  for data in loader_train:\r\n",
        "    model.train()\r\n",
        "    inputs, _ = data\r\n",
        "    inputs = inputs.to(device)\r\n",
        "\r\n",
        "    optimizer.zero_grad()\r\n",
        "\r\n",
        "    outputs = model(inputs)\r\n",
        "    loss = criterion(outputs, inputs.view(*outputs.shape))\r\n",
        "    loss.backward()\r\n",
        "\r\n",
        "    optimizer.step()\r\n",
        "\r\n",
        "    running_loss_train += loss.item()\r\n",
        "\r\n",
        "  # VALIDAÇÃO\r\n",
        "  running_loss_val = 0.\r\n",
        "  for data in loader_test:\r\n",
        "    model.eval()\r\n",
        "    inputs, _ = data\r\n",
        "    inputs = inputs.to(device)\r\n",
        "    \r\n",
        "    outputs = model(inputs)\r\n",
        "    loss = criterion(outputs, inputs.view(*outputs.shape))\r\n",
        "    running_loss_val += loss.item()\r\n",
        "\r\n",
        "  print('ÉPOCA {:3d}: PERDA TREINO {:.5f} | PERDA VALIDAÇÃO {:.5f}' \\\r\n",
        "        .format(epoch+1, running_loss_train/len(loader_train), running_loss_val/len(loader_test)))"
      ],
      "execution_count": 15,
      "outputs": [
        {
          "output_type": "stream",
          "text": [
            "ÉPOCA   1: PERDA TREINO 0.35608 PERDA VALIDAÇÃO 0.22599\n",
            "ÉPOCA   2: PERDA TREINO 0.20831 PERDA VALIDAÇÃO 0.18808\n",
            "ÉPOCA   3: PERDA TREINO 0.17650 PERDA VALIDAÇÃO 0.16614\n",
            "ÉPOCA   4: PERDA TREINO 0.16189 PERDA VALIDAÇÃO 0.15641\n",
            "ÉPOCA   5: PERDA TREINO 0.15480 PERDA VALIDAÇÃO 0.15076\n",
            "ÉPOCA   6: PERDA TREINO 0.15012 PERDA VALIDAÇÃO 0.14726\n",
            "ÉPOCA   7: PERDA TREINO 0.14699 PERDA VALIDAÇÃO 0.14429\n",
            "ÉPOCA   8: PERDA TREINO 0.14438 PERDA VALIDAÇÃO 0.14198\n",
            "ÉPOCA   9: PERDA TREINO 0.14227 PERDA VALIDAÇÃO 0.13991\n",
            "ÉPOCA  10: PERDA TREINO 0.14034 PERDA VALIDAÇÃO 0.14030\n",
            "ÉPOCA  11: PERDA TREINO 0.13871 PERDA VALIDAÇÃO 0.13708\n",
            "ÉPOCA  12: PERDA TREINO 0.13707 PERDA VALIDAÇÃO 0.13614\n",
            "ÉPOCA  13: PERDA TREINO 0.13578 PERDA VALIDAÇÃO 0.13408\n",
            "ÉPOCA  14: PERDA TREINO 0.13446 PERDA VALIDAÇÃO 0.13422\n",
            "ÉPOCA  15: PERDA TREINO 0.13332 PERDA VALIDAÇÃO 0.13213\n",
            "ÉPOCA  16: PERDA TREINO 0.13215 PERDA VALIDAÇÃO 0.13071\n",
            "ÉPOCA  17: PERDA TREINO 0.13107 PERDA VALIDAÇÃO 0.12914\n",
            "ÉPOCA  18: PERDA TREINO 0.12999 PERDA VALIDAÇÃO 0.12849\n",
            "ÉPOCA  19: PERDA TREINO 0.12916 PERDA VALIDAÇÃO 0.12746\n",
            "ÉPOCA  20: PERDA TREINO 0.12819 PERDA VALIDAÇÃO 0.12651\n"
          ],
          "name": "stdout"
        }
      ]
    },
    {
      "cell_type": "markdown",
      "metadata": {
        "id": "aD-e5URnMFUR"
      },
      "source": [
        "## Etapa 5: Geração do encoder"
      ]
    },
    {
      "cell_type": "code",
      "metadata": {
        "colab": {
          "base_uri": "https://localhost:8080/"
        },
        "id": "QA7ISUTUKkae",
        "outputId": "9ba3bec1-16c8-4ffa-fc29-ed65dd9ba655"
      },
      "source": [
        "for i, layer in enumerate(list(model.children())):\r\n",
        "  print(i, layer)"
      ],
      "execution_count": 16,
      "outputs": [
        {
          "output_type": "stream",
          "text": [
            "0 Conv2d(1, 16, kernel_size=(3, 3), stride=(1, 1))\n",
            "1 Conv2d(16, 8, kernel_size=(3, 3), stride=(1, 1), padding=(1, 1))\n",
            "2 Conv2d(8, 8, kernel_size=(3, 3), stride=(2, 2), padding=(1, 1))\n",
            "3 MaxPool2d(kernel_size=(2, 2), stride=(2, 2), padding=0, dilation=1, ceil_mode=False)\n",
            "4 MaxPool2d(kernel_size=(2, 2), stride=(2, 2), padding=(1, 1), dilation=1, ceil_mode=False)\n",
            "5 Flatten()\n",
            "6 Conv2d(8, 8, kernel_size=(3, 3), stride=(1, 1), padding=(1, 1))\n",
            "7 Conv2d(8, 8, kernel_size=(3, 3), stride=(1, 1), padding=(1, 1))\n",
            "8 Conv2d(8, 16, kernel_size=(3, 3), stride=(1, 1))\n",
            "9 Conv2d(16, 1, kernel_size=(3, 3), stride=(1, 1), padding=(1, 1))\n",
            "10 UpsamplingBilinear2d(scale_factor=2.0, mode=bilinear)\n",
            "11 ReLU()\n",
            "12 Sigmoid()\n"
          ],
          "name": "stdout"
        }
      ]
    },
    {
      "cell_type": "code",
      "metadata": {
        "id": "1gJ5gOPHMtsV"
      },
      "source": [
        "class encoder(nn.Module):\r\n",
        "  def __init__(self):\r\n",
        "    super().__init__()\r\n",
        "    self.encoder0 = list(model.children())[0]     # Conv2d => 1 -> 16\r\n",
        "    self.encoder1 = list(model.children())[1]     # Conv2d => 16 -> 8\r\n",
        "    self.encoder2 = list(model.children())[2]     # Conv2d => 8 -> 8\r\n",
        "\r\n",
        "    self.maxpool0 = list(model.children())[3]\r\n",
        "    self.maxpool1 = list(model.children())[4]\r\n",
        "\r\n",
        "    self.flatten = list(model.children())[5]\r\n",
        "\r\n",
        "    self.activation0 = list(model.children())[11]  # RELU\r\n",
        "\r\n",
        "  def forward(self, X):\r\n",
        "    X = self.maxpool0(self.activation0(self.encoder0(X)))\r\n",
        "    X = self.maxpool1(self.activation0(self.encoder1(X)))\r\n",
        "    X = self.flatten(self.activation0(self.encoder2(X)))\r\n",
        "    return X"
      ],
      "execution_count": 17,
      "outputs": []
    },
    {
      "cell_type": "code",
      "metadata": {
        "colab": {
          "base_uri": "https://localhost:8080/"
        },
        "id": "0aoGJKjUNLZ0",
        "outputId": "a947f384-3fc4-4c70-c410-61f632b377bb"
      },
      "source": [
        "model_enc = encoder()\r\n",
        "model_enc.to(device)"
      ],
      "execution_count": 18,
      "outputs": [
        {
          "output_type": "execute_result",
          "data": {
            "text/plain": [
              "encoder(\n",
              "  (encoder0): Conv2d(1, 16, kernel_size=(3, 3), stride=(1, 1))\n",
              "  (encoder1): Conv2d(16, 8, kernel_size=(3, 3), stride=(1, 1), padding=(1, 1))\n",
              "  (encoder2): Conv2d(8, 8, kernel_size=(3, 3), stride=(2, 2), padding=(1, 1))\n",
              "  (maxpool0): MaxPool2d(kernel_size=(2, 2), stride=(2, 2), padding=0, dilation=1, ceil_mode=False)\n",
              "  (maxpool1): MaxPool2d(kernel_size=(2, 2), stride=(2, 2), padding=(1, 1), dilation=1, ceil_mode=False)\n",
              "  (flatten): Flatten()\n",
              "  (activation0): ReLU()\n",
              ")"
            ]
          },
          "metadata": {
            "tags": []
          },
          "execution_count": 18
        }
      ]
    },
    {
      "cell_type": "markdown",
      "metadata": {
        "id": "bzKg1b_AOK2Z"
      },
      "source": [
        "## Etapa 6: Geração do decoder"
      ]
    },
    {
      "cell_type": "code",
      "metadata": {
        "colab": {
          "base_uri": "https://localhost:8080/"
        },
        "id": "nKko2Zi_yV22",
        "outputId": "e4154dda-7734-4f2b-8997-93b48016a7c6"
      },
      "source": [
        "for i, layer in enumerate(list(model.children())):\r\n",
        "  print(i, layer)"
      ],
      "execution_count": 19,
      "outputs": [
        {
          "output_type": "stream",
          "text": [
            "0 Conv2d(1, 16, kernel_size=(3, 3), stride=(1, 1))\n",
            "1 Conv2d(16, 8, kernel_size=(3, 3), stride=(1, 1), padding=(1, 1))\n",
            "2 Conv2d(8, 8, kernel_size=(3, 3), stride=(2, 2), padding=(1, 1))\n",
            "3 MaxPool2d(kernel_size=(2, 2), stride=(2, 2), padding=0, dilation=1, ceil_mode=False)\n",
            "4 MaxPool2d(kernel_size=(2, 2), stride=(2, 2), padding=(1, 1), dilation=1, ceil_mode=False)\n",
            "5 Flatten()\n",
            "6 Conv2d(8, 8, kernel_size=(3, 3), stride=(1, 1), padding=(1, 1))\n",
            "7 Conv2d(8, 8, kernel_size=(3, 3), stride=(1, 1), padding=(1, 1))\n",
            "8 Conv2d(8, 16, kernel_size=(3, 3), stride=(1, 1))\n",
            "9 Conv2d(16, 1, kernel_size=(3, 3), stride=(1, 1), padding=(1, 1))\n",
            "10 UpsamplingBilinear2d(scale_factor=2.0, mode=bilinear)\n",
            "11 ReLU()\n",
            "12 Sigmoid()\n"
          ],
          "name": "stdout"
        }
      ]
    },
    {
      "cell_type": "code",
      "metadata": {
        "id": "HAsPXHRjNQ88"
      },
      "source": [
        "class decoder(nn.Module):\r\n",
        "  def __init__(self):\r\n",
        "    super().__init__()\r\n",
        "    self.decoder0 = list(model.children())[6]       # Conv2d => 8 -> 8\r\n",
        "    self.decoder1 = list(model.children())[7]       # Conv2d => 8 -> 8\r\n",
        "    self.decoder2 = list(model.children())[8]       # Conv2d => 8 -> 16\r\n",
        "    self.decoder3 = list(model.children())[9]       # Conv2d => 16 -> 1\r\n",
        "\r\n",
        "    self.upsampling = list(model.children())[10]\r\n",
        "\r\n",
        "    self.activation0 = list(model.children())[11]    # Relu\r\n",
        "    self.activation1 = list(model.children())[12]    # Sigmoid\r\n",
        "\r\n",
        "  def forward(self, X):\r\n",
        "    X = X.view(-1,8,4,4)\r\n",
        "    X = self.upsampling(self.activation0(self.decoder0(X)))\r\n",
        "    X = self.upsampling(self.activation0(self.decoder1(X)))\r\n",
        "    X = self.upsampling(self.activation0(self.decoder2(X)))\r\n",
        "    X = self.activation1(self.decoder3(X))\r\n",
        "    return X"
      ],
      "execution_count": 32,
      "outputs": []
    },
    {
      "cell_type": "code",
      "metadata": {
        "colab": {
          "base_uri": "https://localhost:8080/"
        },
        "id": "fXRkQ7EZPLy9",
        "outputId": "75f2b705-9205-423d-dcfb-3e0c46b0ce7e"
      },
      "source": [
        "model_dec = decoder()\r\n",
        "model_dec.to(device)"
      ],
      "execution_count": 33,
      "outputs": [
        {
          "output_type": "execute_result",
          "data": {
            "text/plain": [
              "decoder(\n",
              "  (decoder0): Conv2d(8, 8, kernel_size=(3, 3), stride=(1, 1), padding=(1, 1))\n",
              "  (decoder1): Conv2d(8, 8, kernel_size=(3, 3), stride=(1, 1), padding=(1, 1))\n",
              "  (decoder2): Conv2d(8, 16, kernel_size=(3, 3), stride=(1, 1))\n",
              "  (decoder3): Conv2d(16, 1, kernel_size=(3, 3), stride=(1, 1), padding=(1, 1))\n",
              "  (upsampling): UpsamplingBilinear2d(scale_factor=2.0, mode=bilinear)\n",
              "  (activation0): ReLU()\n",
              "  (activation1): Sigmoid()\n",
              ")"
            ]
          },
          "metadata": {
            "tags": []
          },
          "execution_count": 33
        }
      ]
    },
    {
      "cell_type": "markdown",
      "metadata": {
        "id": "qT20_MkUzNlo"
      },
      "source": [
        "## Etapa 7: Visualização dos resultados"
      ]
    },
    {
      "cell_type": "code",
      "metadata": {
        "id": "P22y4VY2PPPt"
      },
      "source": [
        "num_images = 10\r\n",
        "img_test = next(iter(loader_test))[0][:num_images]\r\n",
        "img_test = img_test.to(device)"
      ],
      "execution_count": 34,
      "outputs": []
    },
    {
      "cell_type": "code",
      "metadata": {
        "colab": {
          "base_uri": "https://localhost:8080/"
        },
        "id": "kOfICKBO2EIJ",
        "outputId": "cdc091cd-70c7-4e12-cdee-c1afd179a984"
      },
      "source": [
        "img_test.shape"
      ],
      "execution_count": 35,
      "outputs": [
        {
          "output_type": "execute_result",
          "data": {
            "text/plain": [
              "torch.Size([10, 1, 28, 28])"
            ]
          },
          "metadata": {
            "tags": []
          },
          "execution_count": 35
        }
      ]
    },
    {
      "cell_type": "code",
      "metadata": {
        "id": "TUto7YB5PpJ1"
      },
      "source": [
        "model_enc.eval()\r\n",
        "img_cod = model_enc(img_test)"
      ],
      "execution_count": 36,
      "outputs": []
    },
    {
      "cell_type": "code",
      "metadata": {
        "colab": {
          "base_uri": "https://localhost:8080/"
        },
        "id": "HxlQWpmKpitS",
        "outputId": "d75bdf3e-9940-4cd8-d5dc-df127b9ea003"
      },
      "source": [
        "img_cod.shape"
      ],
      "execution_count": 37,
      "outputs": [
        {
          "output_type": "execute_result",
          "data": {
            "text/plain": [
              "torch.Size([10, 128])"
            ]
          },
          "metadata": {
            "tags": []
          },
          "execution_count": 37
        }
      ]
    },
    {
      "cell_type": "code",
      "metadata": {
        "id": "NtRe8hi2PrWF"
      },
      "source": [
        "model_dec.eval()\r\n",
        "img_dec = model_dec(img_cod)"
      ],
      "execution_count": 38,
      "outputs": []
    },
    {
      "cell_type": "code",
      "metadata": {
        "colab": {
          "base_uri": "https://localhost:8080/"
        },
        "id": "zFCZPgSNp10f",
        "outputId": "e5e4ec86-949f-4eac-f5a0-f1af0f7a9bd2"
      },
      "source": [
        "img_dec.shape"
      ],
      "execution_count": 39,
      "outputs": [
        {
          "output_type": "execute_result",
          "data": {
            "text/plain": [
              "torch.Size([10, 1, 28, 28])"
            ]
          },
          "metadata": {
            "tags": []
          },
          "execution_count": 39
        }
      ]
    },
    {
      "cell_type": "code",
      "metadata": {
        "id": "cw86HhO3Puy0"
      },
      "source": [
        "img_test = img_test.detach().cpu().numpy().reshape(-1,28,28)\r\n",
        "img_cod = img_cod.detach().cpu().numpy().reshape(-1,16,8)\r\n",
        "img_dec = img_dec.detach().cpu().numpy().reshape(-1,28,28)"
      ],
      "execution_count": 40,
      "outputs": []
    },
    {
      "cell_type": "code",
      "metadata": {
        "id": "-_vem0O8QMlN",
        "colab": {
          "base_uri": "https://localhost:8080/",
          "height": 235
        },
        "outputId": "a1c027e1-696e-4aae-ad8d-d9c9e5cd3b0a"
      },
      "source": [
        "fig, axes = plt.subplots(3, num_images, figsize=(10,4))\r\n",
        "for images, ax_row in zip([img_test, img_cod, img_dec], axes):\r\n",
        "  for img,ax in zip(images, ax_row):\r\n",
        "    ax.imshow(img,cmap='gray')\r\n",
        "    ax.get_xaxis().set_visible(False)\r\n",
        "    ax.get_yaxis().set_visible(False)"
      ],
      "execution_count": 41,
      "outputs": [
        {
          "output_type": "display_data",
          "data": {
            "image/png": "[encoded data removed]",
            "text/plain": [
              "<Figure size 720x288 with 30 Axes>"
            ]
          },
          "metadata": {
            "tags": [],
            "needs_background": "light"
          }
        }
      ]
    }
  ]
}