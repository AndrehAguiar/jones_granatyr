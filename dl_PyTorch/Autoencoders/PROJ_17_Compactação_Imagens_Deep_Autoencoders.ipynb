{
  "nbformat": 4,
  "nbformat_minor": 0,
  "metadata": {
    "colab": {
      "name": "PROJ_17-Compactação_Imagens-Deep_Autoencoders.ipynb",
      "provenance": [],
      "collapsed_sections": []
    },
    "kernelspec": {
      "name": "python3",
      "display_name": "Python 3"
    },
    "accelerator": "GPU",
    "widgets": {
      "application/vnd.jupyter.widget-state+json": {
        "ccb7d8d1408e4b439ef7bdaad6340397": {
          "model_module": "@jupyter-widgets/controls",
          "model_name": "HBoxModel",
          "state": {
            "_view_name": "HBoxView",
            "_dom_classes": [],
            "_model_name": "HBoxModel",
            "_view_module": "@jupyter-widgets/controls",
            "_model_module_version": "1.5.0",
            "_view_count": null,
            "_view_module_version": "1.5.0",
            "box_style": "",
            "layout": "IPY_MODEL_1a9b5530c0734b449c6585784baeb83a",
            "_model_module": "@jupyter-widgets/controls",
            "children": [
              "IPY_MODEL_bc6d17d6b8ff4b82a5cca8befbef1cd9",
              "IPY_MODEL_4fd4376e3eb241c9ac3bb5ce2bfec790"
            ]
          }
        },
        "1a9b5530c0734b449c6585784baeb83a": {
          "model_module": "@jupyter-widgets/base",
          "model_name": "LayoutModel",
          "state": {
            "_view_name": "LayoutView",
            "grid_template_rows": null,
            "right": null,
            "justify_content": null,
            "_view_module": "@jupyter-widgets/base",
            "overflow": null,
            "_model_module_version": "1.2.0",
            "_view_count": null,
            "flex_flow": null,
            "width": null,
            "min_width": null,
            "border": null,
            "align_items": null,
            "bottom": null,
            "_model_module": "@jupyter-widgets/base",
            "top": null,
            "grid_column": null,
            "overflow_y": null,
            "overflow_x": null,
            "grid_auto_flow": null,
            "grid_area": null,
            "grid_template_columns": null,
            "flex": null,
            "_model_name": "LayoutModel",
            "justify_items": null,
            "grid_row": null,
            "max_height": null,
            "align_content": null,
            "visibility": null,
            "align_self": null,
            "height": null,
            "min_height": null,
            "padding": null,
            "grid_auto_rows": null,
            "grid_gap": null,
            "max_width": null,
            "order": null,
            "_view_module_version": "1.2.0",
            "grid_template_areas": null,
            "object_position": null,
            "object_fit": null,
            "grid_auto_columns": null,
            "margin": null,
            "display": null,
            "left": null
          }
        },
        "bc6d17d6b8ff4b82a5cca8befbef1cd9": {
          "model_module": "@jupyter-widgets/controls",
          "model_name": "FloatProgressModel",
          "state": {
            "_view_name": "ProgressView",
            "style": "IPY_MODEL_2ed88627f6584935b4ebc2cc328c863a",
            "_dom_classes": [],
            "description": "",
            "_model_name": "FloatProgressModel",
            "bar_style": "info",
            "max": 1,
            "_view_module": "@jupyter-widgets/controls",
            "_model_module_version": "1.5.0",
            "value": 1,
            "_view_count": null,
            "_view_module_version": "1.5.0",
            "orientation": "horizontal",
            "min": 0,
            "description_tooltip": null,
            "_model_module": "@jupyter-widgets/controls",
            "layout": "IPY_MODEL_fd52fc9527264abca87af6a576e5319d"
          }
        },
        "4fd4376e3eb241c9ac3bb5ce2bfec790": {
          "model_module": "@jupyter-widgets/controls",
          "model_name": "HTMLModel",
          "state": {
            "_view_name": "HTMLView",
            "style": "IPY_MODEL_5717a379788943468d6d9b6984203f64",
            "_dom_classes": [],
            "description": "",
            "_model_name": "HTMLModel",
            "placeholder": "​",
            "_view_module": "@jupyter-widgets/controls",
            "_model_module_version": "1.5.0",
            "value": " 9920512/? [00:20&lt;00:00, 168344.46it/s]",
            "_view_count": null,
            "_view_module_version": "1.5.0",
            "description_tooltip": null,
            "_model_module": "@jupyter-widgets/controls",
            "layout": "IPY_MODEL_a0cdbec45c374340be14ab9e4bcb5286"
          }
        },
        "2ed88627f6584935b4ebc2cc328c863a": {
          "model_module": "@jupyter-widgets/controls",
          "model_name": "ProgressStyleModel",
          "state": {
            "_view_name": "StyleView",
            "_model_name": "ProgressStyleModel",
            "description_width": "initial",
            "_view_module": "@jupyter-widgets/base",
            "_model_module_version": "1.5.0",
            "_view_count": null,
            "_view_module_version": "1.2.0",
            "bar_color": null,
            "_model_module": "@jupyter-widgets/controls"
          }
        },
        "fd52fc9527264abca87af6a576e5319d": {
          "model_module": "@jupyter-widgets/base",
          "model_name": "LayoutModel",
          "state": {
            "_view_name": "LayoutView",
            "grid_template_rows": null,
            "right": null,
            "justify_content": null,
            "_view_module": "@jupyter-widgets/base",
            "overflow": null,
            "_model_module_version": "1.2.0",
            "_view_count": null,
            "flex_flow": null,
            "width": null,
            "min_width": null,
            "border": null,
            "align_items": null,
            "bottom": null,
            "_model_module": "@jupyter-widgets/base",
            "top": null,
            "grid_column": null,
            "overflow_y": null,
            "overflow_x": null,
            "grid_auto_flow": null,
            "grid_area": null,
            "grid_template_columns": null,
            "flex": null,
            "_model_name": "LayoutModel",
            "justify_items": null,
            "grid_row": null,
            "max_height": null,
            "align_content": null,
            "visibility": null,
            "align_self": null,
            "height": null,
            "min_height": null,
            "padding": null,
            "grid_auto_rows": null,
            "grid_gap": null,
            "max_width": null,
            "order": null,
            "_view_module_version": "1.2.0",
            "grid_template_areas": null,
            "object_position": null,
            "object_fit": null,
            "grid_auto_columns": null,
            "margin": null,
            "display": null,
            "left": null
          }
        },
        "5717a379788943468d6d9b6984203f64": {
          "model_module": "@jupyter-widgets/controls",
          "model_name": "DescriptionStyleModel",
          "state": {
            "_view_name": "StyleView",
            "_model_name": "DescriptionStyleModel",
            "description_width": "",
            "_view_module": "@jupyter-widgets/base",
            "_model_module_version": "1.5.0",
            "_view_count": null,
            "_view_module_version": "1.2.0",
            "_model_module": "@jupyter-widgets/controls"
          }
        },
        "a0cdbec45c374340be14ab9e4bcb5286": {
          "model_module": "@jupyter-widgets/base",
          "model_name": "LayoutModel",
          "state": {
            "_view_name": "LayoutView",
            "grid_template_rows": null,
            "right": null,
            "justify_content": null,
            "_view_module": "@jupyter-widgets/base",
            "overflow": null,
            "_model_module_version": "1.2.0",
            "_view_count": null,
            "flex_flow": null,
            "width": null,
            "min_width": null,
            "border": null,
            "align_items": null,
            "bottom": null,
            "_model_module": "@jupyter-widgets/base",
            "top": null,
            "grid_column": null,
            "overflow_y": null,
            "overflow_x": null,
            "grid_auto_flow": null,
            "grid_area": null,
            "grid_template_columns": null,
            "flex": null,
            "_model_name": "LayoutModel",
            "justify_items": null,
            "grid_row": null,
            "max_height": null,
            "align_content": null,
            "visibility": null,
            "align_self": null,
            "height": null,
            "min_height": null,
            "padding": null,
            "grid_auto_rows": null,
            "grid_gap": null,
            "max_width": null,
            "order": null,
            "_view_module_version": "1.2.0",
            "grid_template_areas": null,
            "object_position": null,
            "object_fit": null,
            "grid_auto_columns": null,
            "margin": null,
            "display": null,
            "left": null
          }
        },
        "9045d5ef799a4da3918cfac37718bcde": {
          "model_module": "@jupyter-widgets/controls",
          "model_name": "HBoxModel",
          "state": {
            "_view_name": "HBoxView",
            "_dom_classes": [],
            "_model_name": "HBoxModel",
            "_view_module": "@jupyter-widgets/controls",
            "_model_module_version": "1.5.0",
            "_view_count": null,
            "_view_module_version": "1.5.0",
            "box_style": "",
            "layout": "IPY_MODEL_d1e8b0495df74bbc96284d22f195ef75",
            "_model_module": "@jupyter-widgets/controls",
            "children": [
              "IPY_MODEL_f64842e54bec4ec89bd64ddfdbc6b02d",
              "IPY_MODEL_4f4855f7b09b4b7fbfcf1f9dab639589"
            ]
          }
        },
        "d1e8b0495df74bbc96284d22f195ef75": {
          "model_module": "@jupyter-widgets/base",
          "model_name": "LayoutModel",
          "state": {
            "_view_name": "LayoutView",
            "grid_template_rows": null,
            "right": null,
            "justify_content": null,
            "_view_module": "@jupyter-widgets/base",
            "overflow": null,
            "_model_module_version": "1.2.0",
            "_view_count": null,
            "flex_flow": null,
            "width": null,
            "min_width": null,
            "border": null,
            "align_items": null,
            "bottom": null,
            "_model_module": "@jupyter-widgets/base",
            "top": null,
            "grid_column": null,
            "overflow_y": null,
            "overflow_x": null,
            "grid_auto_flow": null,
            "grid_area": null,
            "grid_template_columns": null,
            "flex": null,
            "_model_name": "LayoutModel",
            "justify_items": null,
            "grid_row": null,
            "max_height": null,
            "align_content": null,
            "visibility": null,
            "align_self": null,
            "height": null,
            "min_height": null,
            "padding": null,
            "grid_auto_rows": null,
            "grid_gap": null,
            "max_width": null,
            "order": null,
            "_view_module_version": "1.2.0",
            "grid_template_areas": null,
            "object_position": null,
            "object_fit": null,
            "grid_auto_columns": null,
            "margin": null,
            "display": null,
            "left": null
          }
        },
        "f64842e54bec4ec89bd64ddfdbc6b02d": {
          "model_module": "@jupyter-widgets/controls",
          "model_name": "FloatProgressModel",
          "state": {
            "_view_name": "ProgressView",
            "style": "IPY_MODEL_22a60a0522a44fd284d76ff42efdfa85",
            "_dom_classes": [],
            "description": "",
            "_model_name": "FloatProgressModel",
            "bar_style": "success",
            "max": 1,
            "_view_module": "@jupyter-widgets/controls",
            "_model_module_version": "1.5.0",
            "value": 1,
            "_view_count": null,
            "_view_module_version": "1.5.0",
            "orientation": "horizontal",
            "min": 0,
            "description_tooltip": null,
            "_model_module": "@jupyter-widgets/controls",
            "layout": "IPY_MODEL_ce83bb6586424e52a66b0b4938d9bb67"
          }
        },
        "4f4855f7b09b4b7fbfcf1f9dab639589": {
          "model_module": "@jupyter-widgets/controls",
          "model_name": "HTMLModel",
          "state": {
            "_view_name": "HTMLView",
            "style": "IPY_MODEL_9e6d10b282314055ac980c59614411d0",
            "_dom_classes": [],
            "description": "",
            "_model_name": "HTMLModel",
            "placeholder": "​",
            "_view_module": "@jupyter-widgets/controls",
            "_model_module_version": "1.5.0",
            "value": " 32768/? [00:00&lt;00:00, 88000.02it/s]",
            "_view_count": null,
            "_view_module_version": "1.5.0",
            "description_tooltip": null,
            "_model_module": "@jupyter-widgets/controls",
            "layout": "IPY_MODEL_93b7bc81a0be4d76b8fff5e699ffd4ba"
          }
        },
        "22a60a0522a44fd284d76ff42efdfa85": {
          "model_module": "@jupyter-widgets/controls",
          "model_name": "ProgressStyleModel",
          "state": {
            "_view_name": "StyleView",
            "_model_name": "ProgressStyleModel",
            "description_width": "initial",
            "_view_module": "@jupyter-widgets/base",
            "_model_module_version": "1.5.0",
            "_view_count": null,
            "_view_module_version": "1.2.0",
            "bar_color": null,
            "_model_module": "@jupyter-widgets/controls"
          }
        },
        "ce83bb6586424e52a66b0b4938d9bb67": {
          "model_module": "@jupyter-widgets/base",
          "model_name": "LayoutModel",
          "state": {
            "_view_name": "LayoutView",
            "grid_template_rows": null,
            "right": null,
            "justify_content": null,
            "_view_module": "@jupyter-widgets/base",
            "overflow": null,
            "_model_module_version": "1.2.0",
            "_view_count": null,
            "flex_flow": null,
            "width": null,
            "min_width": null,
            "border": null,
            "align_items": null,
            "bottom": null,
            "_model_module": "@jupyter-widgets/base",
            "top": null,
            "grid_column": null,
            "overflow_y": null,
            "overflow_x": null,
            "grid_auto_flow": null,
            "grid_area": null,
            "grid_template_columns": null,
            "flex": null,
            "_model_name": "LayoutModel",
            "justify_items": null,
            "grid_row": null,
            "max_height": null,
            "align_content": null,
            "visibility": null,
            "align_self": null,
            "height": null,
            "min_height": null,
            "padding": null,
            "grid_auto_rows": null,
            "grid_gap": null,
            "max_width": null,
            "order": null,
            "_view_module_version": "1.2.0",
            "grid_template_areas": null,
            "object_position": null,
            "object_fit": null,
            "grid_auto_columns": null,
            "margin": null,
            "display": null,
            "left": null
          }
        },
        "9e6d10b282314055ac980c59614411d0": {
          "model_module": "@jupyter-widgets/controls",
          "model_name": "DescriptionStyleModel",
          "state": {
            "_view_name": "StyleView",
            "_model_name": "DescriptionStyleModel",
            "description_width": "",
            "_view_module": "@jupyter-widgets/base",
            "_model_module_version": "1.5.0",
            "_view_count": null,
            "_view_module_version": "1.2.0",
            "_model_module": "@jupyter-widgets/controls"
          }
        },
        "93b7bc81a0be4d76b8fff5e699ffd4ba": {
          "model_module": "@jupyter-widgets/base",
          "model_name": "LayoutModel",
          "state": {
            "_view_name": "LayoutView",
            "grid_template_rows": null,
            "right": null,
            "justify_content": null,
            "_view_module": "@jupyter-widgets/base",
            "overflow": null,
            "_model_module_version": "1.2.0",
            "_view_count": null,
            "flex_flow": null,
            "width": null,
            "min_width": null,
            "border": null,
            "align_items": null,
            "bottom": null,
            "_model_module": "@jupyter-widgets/base",
            "top": null,
            "grid_column": null,
            "overflow_y": null,
            "overflow_x": null,
            "grid_auto_flow": null,
            "grid_area": null,
            "grid_template_columns": null,
            "flex": null,
            "_model_name": "LayoutModel",
            "justify_items": null,
            "grid_row": null,
            "max_height": null,
            "align_content": null,
            "visibility": null,
            "align_self": null,
            "height": null,
            "min_height": null,
            "padding": null,
            "grid_auto_rows": null,
            "grid_gap": null,
            "max_width": null,
            "order": null,
            "_view_module_version": "1.2.0",
            "grid_template_areas": null,
            "object_position": null,
            "object_fit": null,
            "grid_auto_columns": null,
            "margin": null,
            "display": null,
            "left": null
          }
        },
        "17ff35cc2dbf4938a83163429746183d": {
          "model_module": "@jupyter-widgets/controls",
          "model_name": "HBoxModel",
          "state": {
            "_view_name": "HBoxView",
            "_dom_classes": [],
            "_model_name": "HBoxModel",
            "_view_module": "@jupyter-widgets/controls",
            "_model_module_version": "1.5.0",
            "_view_count": null,
            "_view_module_version": "1.5.0",
            "box_style": "",
            "layout": "IPY_MODEL_3a5e502bffa14e02af7b2071a2116764",
            "_model_module": "@jupyter-widgets/controls",
            "children": [
              "IPY_MODEL_590c18755cb94657be5ba891ee164d9f",
              "IPY_MODEL_2b83c0b06d9a4af38fb65ca11524e130"
            ]
          }
        },
        "3a5e502bffa14e02af7b2071a2116764": {
          "model_module": "@jupyter-widgets/base",
          "model_name": "LayoutModel",
          "state": {
            "_view_name": "LayoutView",
            "grid_template_rows": null,
            "right": null,
            "justify_content": null,
            "_view_module": "@jupyter-widgets/base",
            "overflow": null,
            "_model_module_version": "1.2.0",
            "_view_count": null,
            "flex_flow": null,
            "width": null,
            "min_width": null,
            "border": null,
            "align_items": null,
            "bottom": null,
            "_model_module": "@jupyter-widgets/base",
            "top": null,
            "grid_column": null,
            "overflow_y": null,
            "overflow_x": null,
            "grid_auto_flow": null,
            "grid_area": null,
            "grid_template_columns": null,
            "flex": null,
            "_model_name": "LayoutModel",
            "justify_items": null,
            "grid_row": null,
            "max_height": null,
            "align_content": null,
            "visibility": null,
            "align_self": null,
            "height": null,
            "min_height": null,
            "padding": null,
            "grid_auto_rows": null,
            "grid_gap": null,
            "max_width": null,
            "order": null,
            "_view_module_version": "1.2.0",
            "grid_template_areas": null,
            "object_position": null,
            "object_fit": null,
            "grid_auto_columns": null,
            "margin": null,
            "display": null,
            "left": null
          }
        },
        "590c18755cb94657be5ba891ee164d9f": {
          "model_module": "@jupyter-widgets/controls",
          "model_name": "FloatProgressModel",
          "state": {
            "_view_name": "ProgressView",
            "style": "IPY_MODEL_b817bbb3caa6434c9c65f20778d5d5c2",
            "_dom_classes": [],
            "description": "",
            "_model_name": "FloatProgressModel",
            "bar_style": "success",
            "max": 1,
            "_view_module": "@jupyter-widgets/controls",
            "_model_module_version": "1.5.0",
            "value": 1,
            "_view_count": null,
            "_view_module_version": "1.5.0",
            "orientation": "horizontal",
            "min": 0,
            "description_tooltip": null,
            "_model_module": "@jupyter-widgets/controls",
            "layout": "IPY_MODEL_6763c9d74c39485aafa30800ca4e3cf2"
          }
        },
        "2b83c0b06d9a4af38fb65ca11524e130": {
          "model_module": "@jupyter-widgets/controls",
          "model_name": "HTMLModel",
          "state": {
            "_view_name": "HTMLView",
            "style": "IPY_MODEL_6ac74782dac34928afdba099b11a122d",
            "_dom_classes": [],
            "description": "",
            "_model_name": "HTMLModel",
            "placeholder": "​",
            "_view_module": "@jupyter-widgets/controls",
            "_model_module_version": "1.5.0",
            "value": " 1654784/? [00:00&lt;00:00, 5656703.04it/s]",
            "_view_count": null,
            "_view_module_version": "1.5.0",
            "description_tooltip": null,
            "_model_module": "@jupyter-widgets/controls",
            "layout": "IPY_MODEL_2ddae83b9f134361ba96914a52a81eb2"
          }
        },
        "b817bbb3caa6434c9c65f20778d5d5c2": {
          "model_module": "@jupyter-widgets/controls",
          "model_name": "ProgressStyleModel",
          "state": {
            "_view_name": "StyleView",
            "_model_name": "ProgressStyleModel",
            "description_width": "initial",
            "_view_module": "@jupyter-widgets/base",
            "_model_module_version": "1.5.0",
            "_view_count": null,
            "_view_module_version": "1.2.0",
            "bar_color": null,
            "_model_module": "@jupyter-widgets/controls"
          }
        },
        "6763c9d74c39485aafa30800ca4e3cf2": {
          "model_module": "@jupyter-widgets/base",
          "model_name": "LayoutModel",
          "state": {
            "_view_name": "LayoutView",
            "grid_template_rows": null,
            "right": null,
            "justify_content": null,
            "_view_module": "@jupyter-widgets/base",
            "overflow": null,
            "_model_module_version": "1.2.0",
            "_view_count": null,
            "flex_flow": null,
            "width": null,
            "min_width": null,
            "border": null,
            "align_items": null,
            "bottom": null,
            "_model_module": "@jupyter-widgets/base",
            "top": null,
            "grid_column": null,
            "overflow_y": null,
            "overflow_x": null,
            "grid_auto_flow": null,
            "grid_area": null,
            "grid_template_columns": null,
            "flex": null,
            "_model_name": "LayoutModel",
            "justify_items": null,
            "grid_row": null,
            "max_height": null,
            "align_content": null,
            "visibility": null,
            "align_self": null,
            "height": null,
            "min_height": null,
            "padding": null,
            "grid_auto_rows": null,
            "grid_gap": null,
            "max_width": null,
            "order": null,
            "_view_module_version": "1.2.0",
            "grid_template_areas": null,
            "object_position": null,
            "object_fit": null,
            "grid_auto_columns": null,
            "margin": null,
            "display": null,
            "left": null
          }
        },
        "6ac74782dac34928afdba099b11a122d": {
          "model_module": "@jupyter-widgets/controls",
          "model_name": "DescriptionStyleModel",
          "state": {
            "_view_name": "StyleView",
            "_model_name": "DescriptionStyleModel",
            "description_width": "",
            "_view_module": "@jupyter-widgets/base",
            "_model_module_version": "1.5.0",
            "_view_count": null,
            "_view_module_version": "1.2.0",
            "_model_module": "@jupyter-widgets/controls"
          }
        },
        "2ddae83b9f134361ba96914a52a81eb2": {
          "model_module": "@jupyter-widgets/base",
          "model_name": "LayoutModel",
          "state": {
            "_view_name": "LayoutView",
            "grid_template_rows": null,
            "right": null,
            "justify_content": null,
            "_view_module": "@jupyter-widgets/base",
            "overflow": null,
            "_model_module_version": "1.2.0",
            "_view_count": null,
            "flex_flow": null,
            "width": null,
            "min_width": null,
            "border": null,
            "align_items": null,
            "bottom": null,
            "_model_module": "@jupyter-widgets/base",
            "top": null,
            "grid_column": null,
            "overflow_y": null,
            "overflow_x": null,
            "grid_auto_flow": null,
            "grid_area": null,
            "grid_template_columns": null,
            "flex": null,
            "_model_name": "LayoutModel",
            "justify_items": null,
            "grid_row": null,
            "max_height": null,
            "align_content": null,
            "visibility": null,
            "align_self": null,
            "height": null,
            "min_height": null,
            "padding": null,
            "grid_auto_rows": null,
            "grid_gap": null,
            "max_width": null,
            "order": null,
            "_view_module_version": "1.2.0",
            "grid_template_areas": null,
            "object_position": null,
            "object_fit": null,
            "grid_auto_columns": null,
            "margin": null,
            "display": null,
            "left": null
          }
        },
        "0900acbd8ded41c0ad350e090f1ef14d": {
          "model_module": "@jupyter-widgets/controls",
          "model_name": "HBoxModel",
          "state": {
            "_view_name": "HBoxView",
            "_dom_classes": [],
            "_model_name": "HBoxModel",
            "_view_module": "@jupyter-widgets/controls",
            "_model_module_version": "1.5.0",
            "_view_count": null,
            "_view_module_version": "1.5.0",
            "box_style": "",
            "layout": "IPY_MODEL_e4066bcd4096498fb94a3860e8d8b266",
            "_model_module": "@jupyter-widgets/controls",
            "children": [
              "IPY_MODEL_0c192dfac5d04337a96a985d40b867f5",
              "IPY_MODEL_6f1f9a351e744c7e8040ca739d8b83d9"
            ]
          }
        },
        "e4066bcd4096498fb94a3860e8d8b266": {
          "model_module": "@jupyter-widgets/base",
          "model_name": "LayoutModel",
          "state": {
            "_view_name": "LayoutView",
            "grid_template_rows": null,
            "right": null,
            "justify_content": null,
            "_view_module": "@jupyter-widgets/base",
            "overflow": null,
            "_model_module_version": "1.2.0",
            "_view_count": null,
            "flex_flow": null,
            "width": null,
            "min_width": null,
            "border": null,
            "align_items": null,
            "bottom": null,
            "_model_module": "@jupyter-widgets/base",
            "top": null,
            "grid_column": null,
            "overflow_y": null,
            "overflow_x": null,
            "grid_auto_flow": null,
            "grid_area": null,
            "grid_template_columns": null,
            "flex": null,
            "_model_name": "LayoutModel",
            "justify_items": null,
            "grid_row": null,
            "max_height": null,
            "align_content": null,
            "visibility": null,
            "align_self": null,
            "height": null,
            "min_height": null,
            "padding": null,
            "grid_auto_rows": null,
            "grid_gap": null,
            "max_width": null,
            "order": null,
            "_view_module_version": "1.2.0",
            "grid_template_areas": null,
            "object_position": null,
            "object_fit": null,
            "grid_auto_columns": null,
            "margin": null,
            "display": null,
            "left": null
          }
        },
        "0c192dfac5d04337a96a985d40b867f5": {
          "model_module": "@jupyter-widgets/controls",
          "model_name": "FloatProgressModel",
          "state": {
            "_view_name": "ProgressView",
            "style": "IPY_MODEL_c03e5c6c1d0b40e28dd715aecb8cfaea",
            "_dom_classes": [],
            "description": "",
            "_model_name": "FloatProgressModel",
            "bar_style": "info",
            "max": 1,
            "_view_module": "@jupyter-widgets/controls",
            "_model_module_version": "1.5.0",
            "value": 0,
            "_view_count": null,
            "_view_module_version": "1.5.0",
            "orientation": "horizontal",
            "min": 0,
            "description_tooltip": null,
            "_model_module": "@jupyter-widgets/controls",
            "layout": "IPY_MODEL_5275a6c81c50447f90530d46e517fbf2"
          }
        },
        "6f1f9a351e744c7e8040ca739d8b83d9": {
          "model_module": "@jupyter-widgets/controls",
          "model_name": "HTMLModel",
          "state": {
            "_view_name": "HTMLView",
            "style": "IPY_MODEL_8881ce23684b49a49f2a1eccbb7e51d0",
            "_dom_classes": [],
            "description": "",
            "_model_name": "HTMLModel",
            "placeholder": "​",
            "_view_module": "@jupyter-widgets/controls",
            "_model_module_version": "1.5.0",
            "value": " 0/? [00:00&lt;?, ?it/s]",
            "_view_count": null,
            "_view_module_version": "1.5.0",
            "description_tooltip": null,
            "_model_module": "@jupyter-widgets/controls",
            "layout": "IPY_MODEL_9d45e90fe30847c880eadfc89e783021"
          }
        },
        "c03e5c6c1d0b40e28dd715aecb8cfaea": {
          "model_module": "@jupyter-widgets/controls",
          "model_name": "ProgressStyleModel",
          "state": {
            "_view_name": "StyleView",
            "_model_name": "ProgressStyleModel",
            "description_width": "initial",
            "_view_module": "@jupyter-widgets/base",
            "_model_module_version": "1.5.0",
            "_view_count": null,
            "_view_module_version": "1.2.0",
            "bar_color": null,
            "_model_module": "@jupyter-widgets/controls"
          }
        },
        "5275a6c81c50447f90530d46e517fbf2": {
          "model_module": "@jupyter-widgets/base",
          "model_name": "LayoutModel",
          "state": {
            "_view_name": "LayoutView",
            "grid_template_rows": null,
            "right": null,
            "justify_content": null,
            "_view_module": "@jupyter-widgets/base",
            "overflow": null,
            "_model_module_version": "1.2.0",
            "_view_count": null,
            "flex_flow": null,
            "width": null,
            "min_width": null,
            "border": null,
            "align_items": null,
            "bottom": null,
            "_model_module": "@jupyter-widgets/base",
            "top": null,
            "grid_column": null,
            "overflow_y": null,
            "overflow_x": null,
            "grid_auto_flow": null,
            "grid_area": null,
            "grid_template_columns": null,
            "flex": null,
            "_model_name": "LayoutModel",
            "justify_items": null,
            "grid_row": null,
            "max_height": null,
            "align_content": null,
            "visibility": null,
            "align_self": null,
            "height": null,
            "min_height": null,
            "padding": null,
            "grid_auto_rows": null,
            "grid_gap": null,
            "max_width": null,
            "order": null,
            "_view_module_version": "1.2.0",
            "grid_template_areas": null,
            "object_position": null,
            "object_fit": null,
            "grid_auto_columns": null,
            "margin": null,
            "display": null,
            "left": null
          }
        },
        "8881ce23684b49a49f2a1eccbb7e51d0": {
          "model_module": "@jupyter-widgets/controls",
          "model_name": "DescriptionStyleModel",
          "state": {
            "_view_name": "StyleView",
            "_model_name": "DescriptionStyleModel",
            "description_width": "",
            "_view_module": "@jupyter-widgets/base",
            "_model_module_version": "1.5.0",
            "_view_count": null,
            "_view_module_version": "1.2.0",
            "_model_module": "@jupyter-widgets/controls"
          }
        },
        "9d45e90fe30847c880eadfc89e783021": {
          "model_module": "@jupyter-widgets/base",
          "model_name": "LayoutModel",
          "state": {
            "_view_name": "LayoutView",
            "grid_template_rows": null,
            "right": null,
            "justify_content": null,
            "_view_module": "@jupyter-widgets/base",
            "overflow": null,
            "_model_module_version": "1.2.0",
            "_view_count": null,
            "flex_flow": null,
            "width": null,
            "min_width": null,
            "border": null,
            "align_items": null,
            "bottom": null,
            "_model_module": "@jupyter-widgets/base",
            "top": null,
            "grid_column": null,
            "overflow_y": null,
            "overflow_x": null,
            "grid_auto_flow": null,
            "grid_area": null,
            "grid_template_columns": null,
            "flex": null,
            "_model_name": "LayoutModel",
            "justify_items": null,
            "grid_row": null,
            "max_height": null,
            "align_content": null,
            "visibility": null,
            "align_self": null,
            "height": null,
            "min_height": null,
            "padding": null,
            "grid_auto_rows": null,
            "grid_gap": null,
            "max_width": null,
            "order": null,
            "_view_module_version": "1.2.0",
            "grid_template_areas": null,
            "object_position": null,
            "object_fit": null,
            "grid_auto_columns": null,
            "margin": null,
            "display": null,
            "left": null
          }
        }
      }
    }
  },
  "cells": [
    {
      "cell_type": "markdown",
      "metadata": {
        "id": "qXjduQd5Cl_7"
      },
      "source": [
        "# Projeto 17: Compactação de imagens com Deep Autoencoders"
      ]
    },
    {
      "cell_type": "code",
      "metadata": {
        "colab": {
          "base_uri": "https://localhost:8080/"
        },
        "id": "qb1M0qv-C3uI",
        "outputId": "1b24e67b-c223-4e67-dd73-72181a093463"
      },
      "source": [
        "!pip install torch==1.4.0 torchvision==0.5.0"
      ],
      "execution_count": 1,
      "outputs": [
        {
          "output_type": "stream",
          "text": [
            "Collecting torch==1.4.0\n",
            "\u001b[?25l  Downloading https://files.pythonhosted.org/packages/1a/3b/fa92ece1e58a6a48ec598bab327f39d69808133e5b2fb33002ca754e381e/torch-1.4.0-cp37-cp37m-manylinux1_x86_64.whl (753.4MB)\n",
            "\u001b[K     |████████████████████████████████| 753.4MB 21kB/s \n",
            "\u001b[?25hCollecting torchvision==0.5.0\n",
            "\u001b[?25l  Downloading https://files.pythonhosted.org/packages/1c/32/cb0e4c43cd717da50258887b088471568990b5a749784c465a8a1962e021/torchvision-0.5.0-cp37-cp37m-manylinux1_x86_64.whl (4.0MB)\n",
            "\u001b[K     |████████████████████████████████| 4.0MB 44.4MB/s \n",
            "\u001b[?25hRequirement already satisfied: six in /usr/local/lib/python3.7/dist-packages (from torchvision==0.5.0) (1.15.0)\n",
            "Requirement already satisfied: pillow>=4.1.1 in /usr/local/lib/python3.7/dist-packages (from torchvision==0.5.0) (7.0.0)\n",
            "Requirement already satisfied: numpy in /usr/local/lib/python3.7/dist-packages (from torchvision==0.5.0) (1.19.5)\n",
            "Installing collected packages: torch, torchvision\n",
            "  Found existing installation: torch 1.7.0+cu101\n",
            "    Uninstalling torch-1.7.0+cu101:\n",
            "      Successfully uninstalled torch-1.7.0+cu101\n",
            "  Found existing installation: torchvision 0.8.1+cu101\n",
            "    Uninstalling torchvision-0.8.1+cu101:\n",
            "      Successfully uninstalled torchvision-0.8.1+cu101\n",
            "Successfully installed torch-1.4.0 torchvision-0.5.0\n"
          ],
          "name": "stdout"
        }
      ]
    },
    {
      "cell_type": "markdown",
      "metadata": {
        "id": "McziGO9nCxgw"
      },
      "source": [
        "## Etapa 1: Importação das bibliotecas"
      ]
    },
    {
      "cell_type": "code",
      "metadata": {
        "id": "JTEjylbOCRTw"
      },
      "source": [
        "import torch\r\n",
        "from torch import nn, optim\r\n",
        "from torchvision import datasets, transforms\r\n",
        "import matplotlib.pyplot as plt"
      ],
      "execution_count": 2,
      "outputs": []
    },
    {
      "cell_type": "code",
      "metadata": {
        "colab": {
          "base_uri": "https://localhost:8080/"
        },
        "id": "T9KaX_nEDT6y",
        "outputId": "23a2eb4e-14de-4a52-a9f8-a95d01c71733"
      },
      "source": [
        "torch.manual_seed(123)"
      ],
      "execution_count": 3,
      "outputs": [
        {
          "output_type": "execute_result",
          "data": {
            "text/plain": [
              "<torch._C.Generator at 0x7f8b9eecf110>"
            ]
          },
          "metadata": {
            "tags": []
          },
          "execution_count": 3
        }
      ]
    },
    {
      "cell_type": "markdown",
      "metadata": {
        "id": "Xy05htWoDXvn"
      },
      "source": [
        "## Etapa 2: Base de dados"
      ]
    },
    {
      "cell_type": "code",
      "metadata": {
        "colab": {
          "base_uri": "https://localhost:8080/",
          "height": 369,
          "referenced_widgets": [
            "ccb7d8d1408e4b439ef7bdaad6340397",
            "1a9b5530c0734b449c6585784baeb83a",
            "bc6d17d6b8ff4b82a5cca8befbef1cd9",
            "4fd4376e3eb241c9ac3bb5ce2bfec790",
            "2ed88627f6584935b4ebc2cc328c863a",
            "fd52fc9527264abca87af6a576e5319d",
            "5717a379788943468d6d9b6984203f64",
            "a0cdbec45c374340be14ab9e4bcb5286",
            "9045d5ef799a4da3918cfac37718bcde",
            "d1e8b0495df74bbc96284d22f195ef75",
            "f64842e54bec4ec89bd64ddfdbc6b02d",
            "4f4855f7b09b4b7fbfcf1f9dab639589",
            "22a60a0522a44fd284d76ff42efdfa85",
            "ce83bb6586424e52a66b0b4938d9bb67",
            "9e6d10b282314055ac980c59614411d0",
            "93b7bc81a0be4d76b8fff5e699ffd4ba",
            "17ff35cc2dbf4938a83163429746183d",
            "3a5e502bffa14e02af7b2071a2116764",
            "590c18755cb94657be5ba891ee164d9f",
            "2b83c0b06d9a4af38fb65ca11524e130",
            "b817bbb3caa6434c9c65f20778d5d5c2",
            "6763c9d74c39485aafa30800ca4e3cf2",
            "6ac74782dac34928afdba099b11a122d",
            "2ddae83b9f134361ba96914a52a81eb2",
            "0900acbd8ded41c0ad350e090f1ef14d",
            "e4066bcd4096498fb94a3860e8d8b266",
            "0c192dfac5d04337a96a985d40b867f5",
            "6f1f9a351e744c7e8040ca739d8b83d9",
            "c03e5c6c1d0b40e28dd715aecb8cfaea",
            "5275a6c81c50447f90530d46e517fbf2",
            "8881ce23684b49a49f2a1eccbb7e51d0",
            "9d45e90fe30847c880eadfc89e783021"
          ]
        },
        "id": "q7cup41_DWzX",
        "outputId": "5eb07836-e5d8-4152-b79f-909e15bbf1d2"
      },
      "source": [
        "data_train = datasets.MNIST('MNIST-data', train = True, download=True,\r\n",
        "                               transform = transforms.ToTensor())\r\n",
        "loader_train = torch.utils.data.DataLoader(data_train, batch_size=256,\r\n",
        "                                           shuffle = True)"
      ],
      "execution_count": 4,
      "outputs": [
        {
          "output_type": "stream",
          "text": [
            "Downloading http://yann.lecun.com/exdb/mnist/train-images-idx3-ubyte.gz to MNIST-data/MNIST/raw/train-images-idx3-ubyte.gz\n"
          ],
          "name": "stdout"
        },
        {
          "output_type": "display_data",
          "data": {
            "application/vnd.jupyter.widget-view+json": {
              "model_id": "ccb7d8d1408e4b439ef7bdaad6340397",
              "version_minor": 0,
              "version_major": 2
            },
            "text/plain": [
              "HBox(children=(FloatProgress(value=1.0, bar_style='info', max=1.0), HTML(value='')))"
            ]
          },
          "metadata": {
            "tags": []
          }
        },
        {
          "output_type": "stream",
          "text": [
            "Extracting MNIST-data/MNIST/raw/train-images-idx3-ubyte.gz to MNIST-data/MNIST/raw\n",
            "Downloading http://yann.lecun.com/exdb/mnist/train-labels-idx1-ubyte.gz to MNIST-data/MNIST/raw/train-labels-idx1-ubyte.gz\n"
          ],
          "name": "stdout"
        },
        {
          "output_type": "display_data",
          "data": {
            "application/vnd.jupyter.widget-view+json": {
              "model_id": "9045d5ef799a4da3918cfac37718bcde",
              "version_minor": 0,
              "version_major": 2
            },
            "text/plain": [
              "HBox(children=(FloatProgress(value=1.0, bar_style='info', max=1.0), HTML(value='')))"
            ]
          },
          "metadata": {
            "tags": []
          }
        },
        {
          "output_type": "stream",
          "text": [
            "Extracting MNIST-data/MNIST/raw/train-labels-idx1-ubyte.gz to MNIST-data/MNIST/raw\n",
            "Downloading http://yann.lecun.com/exdb/mnist/t10k-images-idx3-ubyte.gz to MNIST-data/MNIST/raw/t10k-images-idx3-ubyte.gz\n"
          ],
          "name": "stdout"
        },
        {
          "output_type": "display_data",
          "data": {
            "application/vnd.jupyter.widget-view+json": {
              "model_id": "17ff35cc2dbf4938a83163429746183d",
              "version_minor": 0,
              "version_major": 2
            },
            "text/plain": [
              "HBox(children=(FloatProgress(value=1.0, bar_style='info', max=1.0), HTML(value='')))"
            ]
          },
          "metadata": {
            "tags": []
          }
        },
        {
          "output_type": "stream",
          "text": [
            "Extracting MNIST-data/MNIST/raw/t10k-images-idx3-ubyte.gz to MNIST-data/MNIST/raw\n",
            "Downloading http://yann.lecun.com/exdb/mnist/t10k-labels-idx1-ubyte.gz to MNIST-data/MNIST/raw/t10k-labels-idx1-ubyte.gz\n",
            "\n",
            "\n"
          ],
          "name": "stdout"
        },
        {
          "output_type": "display_data",
          "data": {
            "application/vnd.jupyter.widget-view+json": {
              "model_id": "0900acbd8ded41c0ad350e090f1ef14d",
              "version_minor": 0,
              "version_major": 2
            },
            "text/plain": [
              "HBox(children=(FloatProgress(value=1.0, bar_style='info', max=1.0), HTML(value='')))"
            ]
          },
          "metadata": {
            "tags": []
          }
        },
        {
          "output_type": "stream",
          "text": [
            "Extracting MNIST-data/MNIST/raw/t10k-labels-idx1-ubyte.gz to MNIST-data/MNIST/raw\n",
            "Processing...\n",
            "Done!\n"
          ],
          "name": "stdout"
        }
      ]
    },
    {
      "cell_type": "code",
      "metadata": {
        "id": "iEd6ymZmEErm"
      },
      "source": [
        "data_test = datasets.MNIST('MNIST-data', train = False, download=True,\r\n",
        "                           transform = transforms.ToTensor())\r\n",
        "loader_test = torch.utils.data.DataLoader(data_test, batch_size=256,\r\n",
        "                                          shuffle=True)"
      ],
      "execution_count": 5,
      "outputs": []
    },
    {
      "cell_type": "markdown",
      "metadata": {
        "id": "LKoBC32mE3nb"
      },
      "source": [
        "## Etapa 3: Construção do autoencoder"
      ]
    },
    {
      "cell_type": "code",
      "metadata": {
        "id": "6zfJUzQJEebc"
      },
      "source": [
        "# 784 -> 128 -> 64 -> 32 -> 64 -> 128 -> 784\r\n",
        "class autoencoder(nn.Module):\r\n",
        "  def __init__(self):\r\n",
        "    super().__init__()\r\n",
        "    # CAMADA DO ENCODER\r\n",
        "    self.encoder0 = nn.Linear(in_features=784, out_features=128)\r\n",
        "    self.encoder1 = nn.Linear(128,64)\r\n",
        "    self.encoder2 = nn.Linear(64,32)\r\n",
        "\r\n",
        "    # CAMADA DO DECODER\r\n",
        "    self.decoder0 = nn.Linear(32,64)\r\n",
        "    self.decoder1 = nn.Linear(64,128)\r\n",
        "    self.decoder2 = nn.Linear(128,784)\r\n",
        "\r\n",
        "    # CAMADAS DE ATIVAÇÃO\r\n",
        "    self.activation0 = nn.ReLU()\r\n",
        "    self.activation1 = nn.Sigmoid()\r\n",
        "\r\n",
        "  def forward(self, X):\r\n",
        "    # ESTRUTURA DO ENCODER    \r\n",
        "    X = self.activation0(self.encoder0(X))\r\n",
        "    X = self.activation0(self.encoder1(X))\r\n",
        "    X = self.activation0(self.encoder2(X))\r\n",
        "\r\n",
        "    # ESTRUTURA DO DECODER\r\n",
        "    X = self.activation0(self.decoder0(X))\r\n",
        "    X = self.activation0(self.decoder1(X))\r\n",
        "    X = self.activation1(self.decoder2(X))\r\n",
        "    return X"
      ],
      "execution_count": 6,
      "outputs": []
    },
    {
      "cell_type": "code",
      "metadata": {
        "colab": {
          "base_uri": "https://localhost:8080/"
        },
        "id": "YjNijSo1Hui9",
        "outputId": "f57db33e-f986-412c-8de8-3da9ada299a8"
      },
      "source": [
        "device = torch.device('cuda') if torch.cuda.is_available() else torch.device('cpu')\r\n",
        "device"
      ],
      "execution_count": 7,
      "outputs": [
        {
          "output_type": "execute_result",
          "data": {
            "text/plain": [
              "device(type='cuda')"
            ]
          },
          "metadata": {
            "tags": []
          },
          "execution_count": 7
        }
      ]
    },
    {
      "cell_type": "code",
      "metadata": {
        "colab": {
          "base_uri": "https://localhost:8080/"
        },
        "id": "lwHkSXj5H5a6",
        "outputId": "5f1b97b2-4116-4ca9-87af-abf208d9e584"
      },
      "source": [
        "model = autoencoder()\r\n",
        "model.to(device)"
      ],
      "execution_count": 8,
      "outputs": [
        {
          "output_type": "execute_result",
          "data": {
            "text/plain": [
              "autoencoder(\n",
              "  (encoder0): Linear(in_features=784, out_features=128, bias=True)\n",
              "  (encoder1): Linear(in_features=128, out_features=64, bias=True)\n",
              "  (encoder2): Linear(in_features=64, out_features=32, bias=True)\n",
              "  (decoder0): Linear(in_features=32, out_features=64, bias=True)\n",
              "  (decoder1): Linear(in_features=64, out_features=128, bias=True)\n",
              "  (decoder2): Linear(in_features=128, out_features=784, bias=True)\n",
              "  (activation0): ReLU()\n",
              "  (activation1): Sigmoid()\n",
              ")"
            ]
          },
          "metadata": {
            "tags": []
          },
          "execution_count": 8
        }
      ]
    },
    {
      "cell_type": "code",
      "metadata": {
        "id": "qdK_55A0IAj6"
      },
      "source": [
        "criterion = nn.BCELoss()\r\n",
        "optimizer = optim.Adam(model.parameters())"
      ],
      "execution_count": 9,
      "outputs": []
    },
    {
      "cell_type": "markdown",
      "metadata": {
        "id": "CrFgufitIPNb"
      },
      "source": [
        "## Etapa 4: Treinamento do modelo"
      ]
    },
    {
      "cell_type": "code",
      "metadata": {
        "colab": {
          "base_uri": "https://localhost:8080/"
        },
        "id": "F4GVvU0yIMFB",
        "outputId": "ee6dd9ac-9c68-461c-8a3b-d715dc0e9085"
      },
      "source": [
        "for epoch in range(50):\r\n",
        "  # TREINAMENTO\r\n",
        "  running_loss_train = 0.\r\n",
        "  for data in loader_train:\r\n",
        "    model.train()\r\n",
        "    inputs, _ = data\r\n",
        "    inputs = inputs.to(device)\r\n",
        "    inputs = inputs.view(-1, 28*28)\r\n",
        "\r\n",
        "    optimizer.zero_grad()\r\n",
        "\r\n",
        "    outputs = model(inputs)\r\n",
        "    loss = criterion(outputs, inputs.view(*outputs.shape))\r\n",
        "    loss.backward()\r\n",
        "\r\n",
        "    optimizer.step()\r\n",
        "\r\n",
        "    running_loss_train += loss.item()\r\n",
        "\r\n",
        "  # VALIDAÇÃO\r\n",
        "  running_loss_val = 0.\r\n",
        "  for data in loader_test:\r\n",
        "    model.eval()\r\n",
        "    inputs, _ = data\r\n",
        "    inputs = inputs.to(device)\r\n",
        "    inputs = inputs.view(-1,28*28)\r\n",
        "    \r\n",
        "    outputs = model(inputs)\r\n",
        "    loss = criterion(outputs, inputs.view(*outputs.shape))\r\n",
        "    running_loss_val += loss.item()\r\n",
        "\r\n",
        "  print('ÉPOCA {:3d}: PERDA TREINO {:.5f} PERDA VALIDAÇÃO {:.5f}' \\\r\n",
        "        .format(epoch+1, running_loss_train/len(loader_train), running_loss_val/len(loader_test)))"
      ],
      "execution_count": 10,
      "outputs": [
        {
          "output_type": "stream",
          "text": [
            "ÉPOCA   1: PERDA TREINO 0.29591 PERDA VALIDAÇÃO 0.23410\n",
            "ÉPOCA   2: PERDA TREINO 0.21089 PERDA VALIDAÇÃO 0.18304\n",
            "ÉPOCA   3: PERDA TREINO 0.16522 PERDA VALIDAÇÃO 0.15275\n",
            "ÉPOCA   4: PERDA TREINO 0.14859 PERDA VALIDAÇÃO 0.14325\n",
            "ÉPOCA   5: PERDA TREINO 0.14161 PERDA VALIDAÇÃO 0.13721\n",
            "ÉPOCA   6: PERDA TREINO 0.13651 PERDA VALIDAÇÃO 0.13312\n",
            "ÉPOCA   7: PERDA TREINO 0.13225 PERDA VALIDAÇÃO 0.12899\n",
            "ÉPOCA   8: PERDA TREINO 0.12865 PERDA VALIDAÇÃO 0.12500\n",
            "ÉPOCA   9: PERDA TREINO 0.12524 PERDA VALIDAÇÃO 0.12257\n",
            "ÉPOCA  10: PERDA TREINO 0.12226 PERDA VALIDAÇÃO 0.11961\n",
            "ÉPOCA  11: PERDA TREINO 0.11975 PERDA VALIDAÇÃO 0.11692\n",
            "ÉPOCA  12: PERDA TREINO 0.11760 PERDA VALIDAÇÃO 0.11542\n",
            "ÉPOCA  13: PERDA TREINO 0.11579 PERDA VALIDAÇÃO 0.11372\n",
            "ÉPOCA  14: PERDA TREINO 0.11417 PERDA VALIDAÇÃO 0.11240\n",
            "ÉPOCA  15: PERDA TREINO 0.11274 PERDA VALIDAÇÃO 0.11065\n",
            "ÉPOCA  16: PERDA TREINO 0.11142 PERDA VALIDAÇÃO 0.10962\n",
            "ÉPOCA  17: PERDA TREINO 0.11028 PERDA VALIDAÇÃO 0.10925\n",
            "ÉPOCA  18: PERDA TREINO 0.10923 PERDA VALIDAÇÃO 0.10712\n",
            "ÉPOCA  19: PERDA TREINO 0.10820 PERDA VALIDAÇÃO 0.10691\n",
            "ÉPOCA  20: PERDA TREINO 0.10722 PERDA VALIDAÇÃO 0.10560\n",
            "ÉPOCA  21: PERDA TREINO 0.10648 PERDA VALIDAÇÃO 0.10491\n",
            "ÉPOCA  22: PERDA TREINO 0.10570 PERDA VALIDAÇÃO 0.10402\n",
            "ÉPOCA  23: PERDA TREINO 0.10497 PERDA VALIDAÇÃO 0.10400\n",
            "ÉPOCA  24: PERDA TREINO 0.10429 PERDA VALIDAÇÃO 0.10296\n",
            "ÉPOCA  25: PERDA TREINO 0.10354 PERDA VALIDAÇÃO 0.10207\n",
            "ÉPOCA  26: PERDA TREINO 0.10290 PERDA VALIDAÇÃO 0.10176\n",
            "ÉPOCA  27: PERDA TREINO 0.10218 PERDA VALIDAÇÃO 0.10087\n",
            "ÉPOCA  28: PERDA TREINO 0.10160 PERDA VALIDAÇÃO 0.10034\n",
            "ÉPOCA  29: PERDA TREINO 0.10106 PERDA VALIDAÇÃO 0.10025\n",
            "ÉPOCA  30: PERDA TREINO 0.10050 PERDA VALIDAÇÃO 0.09960\n",
            "ÉPOCA  31: PERDA TREINO 0.10009 PERDA VALIDAÇÃO 0.09930\n",
            "ÉPOCA  32: PERDA TREINO 0.09956 PERDA VALIDAÇÃO 0.09858\n",
            "ÉPOCA  33: PERDA TREINO 0.09909 PERDA VALIDAÇÃO 0.09787\n",
            "ÉPOCA  34: PERDA TREINO 0.09863 PERDA VALIDAÇÃO 0.09808\n",
            "ÉPOCA  35: PERDA TREINO 0.09818 PERDA VALIDAÇÃO 0.09698\n",
            "ÉPOCA  36: PERDA TREINO 0.09775 PERDA VALIDAÇÃO 0.09688\n",
            "ÉPOCA  37: PERDA TREINO 0.09733 PERDA VALIDAÇÃO 0.09635\n",
            "ÉPOCA  38: PERDA TREINO 0.09689 PERDA VALIDAÇÃO 0.09611\n",
            "ÉPOCA  39: PERDA TREINO 0.09648 PERDA VALIDAÇÃO 0.09546\n",
            "ÉPOCA  40: PERDA TREINO 0.09603 PERDA VALIDAÇÃO 0.09528\n",
            "ÉPOCA  41: PERDA TREINO 0.09568 PERDA VALIDAÇÃO 0.09456\n",
            "ÉPOCA  42: PERDA TREINO 0.09533 PERDA VALIDAÇÃO 0.09458\n",
            "ÉPOCA  43: PERDA TREINO 0.09489 PERDA VALIDAÇÃO 0.09401\n",
            "ÉPOCA  44: PERDA TREINO 0.09459 PERDA VALIDAÇÃO 0.09342\n",
            "ÉPOCA  45: PERDA TREINO 0.09427 PERDA VALIDAÇÃO 0.09405\n",
            "ÉPOCA  46: PERDA TREINO 0.09401 PERDA VALIDAÇÃO 0.09316\n",
            "ÉPOCA  47: PERDA TREINO 0.09376 PERDA VALIDAÇÃO 0.09333\n",
            "ÉPOCA  48: PERDA TREINO 0.09346 PERDA VALIDAÇÃO 0.09278\n",
            "ÉPOCA  49: PERDA TREINO 0.09324 PERDA VALIDAÇÃO 0.09271\n",
            "ÉPOCA  50: PERDA TREINO 0.09302 PERDA VALIDAÇÃO 0.09230\n"
          ],
          "name": "stdout"
        }
      ]
    },
    {
      "cell_type": "markdown",
      "metadata": {
        "id": "aD-e5URnMFUR"
      },
      "source": [
        "## Etapa 5: Geração do encoder"
      ]
    },
    {
      "cell_type": "code",
      "metadata": {
        "colab": {
          "base_uri": "https://localhost:8080/"
        },
        "id": "QA7ISUTUKkae",
        "outputId": "f6619814-6b1f-4c0e-8c21-d6958e83378b"
      },
      "source": [
        "list(model.children())"
      ],
      "execution_count": 11,
      "outputs": [
        {
          "output_type": "execute_result",
          "data": {
            "text/plain": [
              "[Linear(in_features=784, out_features=128, bias=True),\n",
              " Linear(in_features=128, out_features=64, bias=True),\n",
              " Linear(in_features=64, out_features=32, bias=True),\n",
              " Linear(in_features=32, out_features=64, bias=True),\n",
              " Linear(in_features=64, out_features=128, bias=True),\n",
              " Linear(in_features=128, out_features=784, bias=True),\n",
              " ReLU(),\n",
              " Sigmoid()]"
            ]
          },
          "metadata": {
            "tags": []
          },
          "execution_count": 11
        }
      ]
    },
    {
      "cell_type": "code",
      "metadata": {
        "id": "1gJ5gOPHMtsV"
      },
      "source": [
        "class encoder(nn.Module):\r\n",
        "  def __init__(self):\r\n",
        "    super().__init__()\r\n",
        "    self.encoder0 = list(model.children())[0]     # Linear => 784 -> 128\r\n",
        "    self.encoder1 = list(model.children())[1]     # Linear => 128 -> 64\r\n",
        "    self.encoder2 = list(model.children())[2]     # Linear => 64 -> 32\r\n",
        "    self.activation0 = list(model.children())[6]  # RELU\r\n",
        "\r\n",
        "  def forward(self, X):\r\n",
        "    X = self.activation0(self.encoder0(X))\r\n",
        "    X = self.activation0(self.encoder1(X))\r\n",
        "    X = self.activation0(self.encoder2(X))\r\n",
        "    return X"
      ],
      "execution_count": 20,
      "outputs": []
    },
    {
      "cell_type": "code",
      "metadata": {
        "colab": {
          "base_uri": "https://localhost:8080/"
        },
        "id": "0aoGJKjUNLZ0",
        "outputId": "962aa4bd-1a2c-4e54-9da4-888537e1a831"
      },
      "source": [
        "model_enc = encoder()\r\n",
        "model_enc.to(device)"
      ],
      "execution_count": 21,
      "outputs": [
        {
          "output_type": "execute_result",
          "data": {
            "text/plain": [
              "encoder(\n",
              "  (encoder0): Linear(in_features=784, out_features=128, bias=True)\n",
              "  (encoder1): Linear(in_features=128, out_features=64, bias=True)\n",
              "  (encoder2): Linear(in_features=64, out_features=32, bias=True)\n",
              "  (activation0): ReLU()\n",
              ")"
            ]
          },
          "metadata": {
            "tags": []
          },
          "execution_count": 21
        }
      ]
    },
    {
      "cell_type": "markdown",
      "metadata": {
        "id": "bzKg1b_AOK2Z"
      },
      "source": [
        "## Etapa 6: Geração do decoder"
      ]
    },
    {
      "cell_type": "code",
      "metadata": {
        "colab": {
          "base_uri": "https://localhost:8080/"
        },
        "id": "nKko2Zi_yV22",
        "outputId": "ac6504cb-5341-4da8-c489-dec0e8779bfb"
      },
      "source": [
        "list(model.children())"
      ],
      "execution_count": 22,
      "outputs": [
        {
          "output_type": "execute_result",
          "data": {
            "text/plain": [
              "[Linear(in_features=784, out_features=128, bias=True),\n",
              " Linear(in_features=128, out_features=64, bias=True),\n",
              " Linear(in_features=64, out_features=32, bias=True),\n",
              " Linear(in_features=32, out_features=64, bias=True),\n",
              " Linear(in_features=64, out_features=128, bias=True),\n",
              " Linear(in_features=128, out_features=784, bias=True),\n",
              " ReLU(),\n",
              " Sigmoid()]"
            ]
          },
          "metadata": {
            "tags": []
          },
          "execution_count": 22
        }
      ]
    },
    {
      "cell_type": "code",
      "metadata": {
        "id": "HAsPXHRjNQ88"
      },
      "source": [
        "class decoder(nn.Module):\r\n",
        "  def __init__(self):\r\n",
        "    super().__init__()\r\n",
        "    self.decoder0 = list(model.children())[3]       # Linear => 32 -> 64\r\n",
        "    self.decoder1 = list(model.children())[4]       # Linear => 64 -> 128\r\n",
        "    self.decoder2 = list(model.children())[5]       # Linear => 128 -> 784\r\n",
        "    self.activation0 = list(model.children())[6]    # Relu\r\n",
        "    self.activation1 = list(model.children())[7]    # Sigmoid\r\n",
        "\r\n",
        "  def forward(self, X):\r\n",
        "    X = self.activation0(self.decoder0(X))\r\n",
        "    X = self.activation0(self.decoder1(X))\r\n",
        "    X = self.activation1(self.decoder2(X))\r\n",
        "    return X"
      ],
      "execution_count": 23,
      "outputs": []
    },
    {
      "cell_type": "code",
      "metadata": {
        "colab": {
          "base_uri": "https://localhost:8080/"
        },
        "id": "fXRkQ7EZPLy9",
        "outputId": "830dfcf6-4d83-4ba5-b90a-2cdb67fd23f7"
      },
      "source": [
        "model_dec = decoder()\r\n",
        "model_dec.to(device)"
      ],
      "execution_count": 24,
      "outputs": [
        {
          "output_type": "execute_result",
          "data": {
            "text/plain": [
              "decoder(\n",
              "  (decoder0): Linear(in_features=32, out_features=64, bias=True)\n",
              "  (decoder1): Linear(in_features=64, out_features=128, bias=True)\n",
              "  (decoder2): Linear(in_features=128, out_features=784, bias=True)\n",
              "  (activation0): ReLU()\n",
              "  (activation1): Sigmoid()\n",
              ")"
            ]
          },
          "metadata": {
            "tags": []
          },
          "execution_count": 24
        }
      ]
    },
    {
      "cell_type": "markdown",
      "metadata": {
        "id": "qT20_MkUzNlo"
      },
      "source": [
        "## Etapa 7: Visualização dos resultados"
      ]
    },
    {
      "cell_type": "code",
      "metadata": {
        "id": "P22y4VY2PPPt"
      },
      "source": [
        "num_images = 10\r\n",
        "img_test = next(iter(loader_test))[0][:num_images]\r\n",
        "img_test = img_test.to(device)\r\n",
        "img_test = img_test.view(-1, 28*28)"
      ],
      "execution_count": 25,
      "outputs": []
    },
    {
      "cell_type": "code",
      "metadata": {
        "colab": {
          "base_uri": "https://localhost:8080/"
        },
        "id": "kOfICKBO2EIJ",
        "outputId": "2dcc7bf8-293a-4b5d-c057-300b169ec998"
      },
      "source": [
        "img_test.shape"
      ],
      "execution_count": 26,
      "outputs": [
        {
          "output_type": "execute_result",
          "data": {
            "text/plain": [
              "torch.Size([10, 784])"
            ]
          },
          "metadata": {
            "tags": []
          },
          "execution_count": 26
        }
      ]
    },
    {
      "cell_type": "code",
      "metadata": {
        "id": "TUto7YB5PpJ1"
      },
      "source": [
        "model_enc.eval()\r\n",
        "img_cod = model_enc(img_test)"
      ],
      "execution_count": 27,
      "outputs": []
    },
    {
      "cell_type": "code",
      "metadata": {
        "colab": {
          "base_uri": "https://localhost:8080/"
        },
        "id": "HxlQWpmKpitS",
        "outputId": "7f75b0ff-bc51-4c89-a9cc-04a5ae73859c"
      },
      "source": [
        "img_cod.shape"
      ],
      "execution_count": 28,
      "outputs": [
        {
          "output_type": "execute_result",
          "data": {
            "text/plain": [
              "torch.Size([10, 32])"
            ]
          },
          "metadata": {
            "tags": []
          },
          "execution_count": 28
        }
      ]
    },
    {
      "cell_type": "code",
      "metadata": {
        "id": "NtRe8hi2PrWF"
      },
      "source": [
        "model_dec.eval()\r\n",
        "img_dec = model_dec(img_cod)"
      ],
      "execution_count": 29,
      "outputs": []
    },
    {
      "cell_type": "code",
      "metadata": {
        "colab": {
          "base_uri": "https://localhost:8080/"
        },
        "id": "zFCZPgSNp10f",
        "outputId": "3675e6fc-0148-4fbb-8cf3-2569df819ff8"
      },
      "source": [
        "img_dec.shape"
      ],
      "execution_count": 30,
      "outputs": [
        {
          "output_type": "execute_result",
          "data": {
            "text/plain": [
              "torch.Size([10, 784])"
            ]
          },
          "metadata": {
            "tags": []
          },
          "execution_count": 30
        }
      ]
    },
    {
      "cell_type": "code",
      "metadata": {
        "id": "cw86HhO3Puy0"
      },
      "source": [
        "img_test = img_test.detach().cpu().numpy().reshape(-1,28,28)\r\n",
        "img_cod = img_cod.detach().cpu().numpy().reshape(-1,8,4)\r\n",
        "img_dec = img_dec.detach().cpu().numpy().reshape(-1,28,28)"
      ],
      "execution_count": 31,
      "outputs": []
    },
    {
      "cell_type": "code",
      "metadata": {
        "id": "-_vem0O8QMlN",
        "colab": {
          "base_uri": "https://localhost:8080/",
          "height": 235
        },
        "outputId": "6ca8ae18-e2a1-472e-9cf8-f42d058880d2"
      },
      "source": [
        "fig, axes = plt.subplots(3, num_images, figsize=(10,4))\r\n",
        "for images, ax_row in zip([img_test, img_cod, img_dec], axes):\r\n",
        "  for img,ax in zip(images, ax_row):\r\n",
        "    ax.imshow(img,cmap='gray')\r\n",
        "    ax.get_xaxis().set_visible(False)\r\n",
        "    ax.get_yaxis().set_visible(False)"
      ],
      "execution_count": 32,
      "outputs": [
        {
          "output_type": "display_data",
          "data": {
            "image/png": "[encoded data removed]",
            "text/plain": [
              "<Figure size 720x288 with 30 Axes>"
            ]
          },
          "metadata": {
            "tags": [],
            "needs_background": "light"
          }
        }
      ]
    }
  ]
}