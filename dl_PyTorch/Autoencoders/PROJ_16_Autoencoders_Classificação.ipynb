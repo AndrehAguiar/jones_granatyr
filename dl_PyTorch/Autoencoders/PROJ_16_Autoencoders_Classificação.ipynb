{
  "nbformat": 4,
  "nbformat_minor": 0,
  "metadata": {
    "colab": {
      "name": "PROJ_16-Autoencoders_Classificação.ipynb",
      "provenance": [],
      "collapsed_sections": []
    },
    "kernelspec": {
      "name": "python3",
      "display_name": "Python 3"
    },
    "accelerator": "GPU",
    "widgets": {
      "application/vnd.jupyter.widget-state+json": {
        "0969f5263f0b40a6814bfc5f47e9f134": {
          "model_module": "@jupyter-widgets/controls",
          "model_name": "HBoxModel",
          "state": {
            "_view_name": "HBoxView",
            "_dom_classes": [],
            "_model_name": "HBoxModel",
            "_view_module": "@jupyter-widgets/controls",
            "_model_module_version": "1.5.0",
            "_view_count": null,
            "_view_module_version": "1.5.0",
            "box_style": "",
            "layout": "IPY_MODEL_b5fcd0a19e064f1a89a82fb58187bb73",
            "_model_module": "@jupyter-widgets/controls",
            "children": [
              "IPY_MODEL_5d7ae0380a574de88c80e34557b51139",
              "IPY_MODEL_ecabf7a6ffd6490dbcbc1d3a9476a50e"
            ]
          }
        },
        "b5fcd0a19e064f1a89a82fb58187bb73": {
          "model_module": "@jupyter-widgets/base",
          "model_name": "LayoutModel",
          "state": {
            "_view_name": "LayoutView",
            "grid_template_rows": null,
            "right": null,
            "justify_content": null,
            "_view_module": "@jupyter-widgets/base",
            "overflow": null,
            "_model_module_version": "1.2.0",
            "_view_count": null,
            "flex_flow": null,
            "width": null,
            "min_width": null,
            "border": null,
            "align_items": null,
            "bottom": null,
            "_model_module": "@jupyter-widgets/base",
            "top": null,
            "grid_column": null,
            "overflow_y": null,
            "overflow_x": null,
            "grid_auto_flow": null,
            "grid_area": null,
            "grid_template_columns": null,
            "flex": null,
            "_model_name": "LayoutModel",
            "justify_items": null,
            "grid_row": null,
            "max_height": null,
            "align_content": null,
            "visibility": null,
            "align_self": null,
            "height": null,
            "min_height": null,
            "padding": null,
            "grid_auto_rows": null,
            "grid_gap": null,
            "max_width": null,
            "order": null,
            "_view_module_version": "1.2.0",
            "grid_template_areas": null,
            "object_position": null,
            "object_fit": null,
            "grid_auto_columns": null,
            "margin": null,
            "display": null,
            "left": null
          }
        },
        "5d7ae0380a574de88c80e34557b51139": {
          "model_module": "@jupyter-widgets/controls",
          "model_name": "FloatProgressModel",
          "state": {
            "_view_name": "ProgressView",
            "style": "IPY_MODEL_ccf42a2e14354bedab0cce91ec8e4dbe",
            "_dom_classes": [],
            "description": "",
            "_model_name": "FloatProgressModel",
            "bar_style": "info",
            "max": 1,
            "_view_module": "@jupyter-widgets/controls",
            "_model_module_version": "1.5.0",
            "value": 1,
            "_view_count": null,
            "_view_module_version": "1.5.0",
            "orientation": "horizontal",
            "min": 0,
            "description_tooltip": null,
            "_model_module": "@jupyter-widgets/controls",
            "layout": "IPY_MODEL_18cb12c6a5e74870b31dd249391aae76"
          }
        },
        "ecabf7a6ffd6490dbcbc1d3a9476a50e": {
          "model_module": "@jupyter-widgets/controls",
          "model_name": "HTMLModel",
          "state": {
            "_view_name": "HTMLView",
            "style": "IPY_MODEL_1b01986a735a47ffb080dc4681146170",
            "_dom_classes": [],
            "description": "",
            "_model_name": "HTMLModel",
            "placeholder": "​",
            "_view_module": "@jupyter-widgets/controls",
            "_model_module_version": "1.5.0",
            "value": " 9920512/? [00:20&lt;00:00, 1046675.75it/s]",
            "_view_count": null,
            "_view_module_version": "1.5.0",
            "description_tooltip": null,
            "_model_module": "@jupyter-widgets/controls",
            "layout": "IPY_MODEL_b50f5b09adf64c1586406ec97de0d7d5"
          }
        },
        "ccf42a2e14354bedab0cce91ec8e4dbe": {
          "model_module": "@jupyter-widgets/controls",
          "model_name": "ProgressStyleModel",
          "state": {
            "_view_name": "StyleView",
            "_model_name": "ProgressStyleModel",
            "description_width": "initial",
            "_view_module": "@jupyter-widgets/base",
            "_model_module_version": "1.5.0",
            "_view_count": null,
            "_view_module_version": "1.2.0",
            "bar_color": null,
            "_model_module": "@jupyter-widgets/controls"
          }
        },
        "18cb12c6a5e74870b31dd249391aae76": {
          "model_module": "@jupyter-widgets/base",
          "model_name": "LayoutModel",
          "state": {
            "_view_name": "LayoutView",
            "grid_template_rows": null,
            "right": null,
            "justify_content": null,
            "_view_module": "@jupyter-widgets/base",
            "overflow": null,
            "_model_module_version": "1.2.0",
            "_view_count": null,
            "flex_flow": null,
            "width": null,
            "min_width": null,
            "border": null,
            "align_items": null,
            "bottom": null,
            "_model_module": "@jupyter-widgets/base",
            "top": null,
            "grid_column": null,
            "overflow_y": null,
            "overflow_x": null,
            "grid_auto_flow": null,
            "grid_area": null,
            "grid_template_columns": null,
            "flex": null,
            "_model_name": "LayoutModel",
            "justify_items": null,
            "grid_row": null,
            "max_height": null,
            "align_content": null,
            "visibility": null,
            "align_self": null,
            "height": null,
            "min_height": null,
            "padding": null,
            "grid_auto_rows": null,
            "grid_gap": null,
            "max_width": null,
            "order": null,
            "_view_module_version": "1.2.0",
            "grid_template_areas": null,
            "object_position": null,
            "object_fit": null,
            "grid_auto_columns": null,
            "margin": null,
            "display": null,
            "left": null
          }
        },
        "1b01986a735a47ffb080dc4681146170": {
          "model_module": "@jupyter-widgets/controls",
          "model_name": "DescriptionStyleModel",
          "state": {
            "_view_name": "StyleView",
            "_model_name": "DescriptionStyleModel",
            "description_width": "",
            "_view_module": "@jupyter-widgets/base",
            "_model_module_version": "1.5.0",
            "_view_count": null,
            "_view_module_version": "1.2.0",
            "_model_module": "@jupyter-widgets/controls"
          }
        },
        "b50f5b09adf64c1586406ec97de0d7d5": {
          "model_module": "@jupyter-widgets/base",
          "model_name": "LayoutModel",
          "state": {
            "_view_name": "LayoutView",
            "grid_template_rows": null,
            "right": null,
            "justify_content": null,
            "_view_module": "@jupyter-widgets/base",
            "overflow": null,
            "_model_module_version": "1.2.0",
            "_view_count": null,
            "flex_flow": null,
            "width": null,
            "min_width": null,
            "border": null,
            "align_items": null,
            "bottom": null,
            "_model_module": "@jupyter-widgets/base",
            "top": null,
            "grid_column": null,
            "overflow_y": null,
            "overflow_x": null,
            "grid_auto_flow": null,
            "grid_area": null,
            "grid_template_columns": null,
            "flex": null,
            "_model_name": "LayoutModel",
            "justify_items": null,
            "grid_row": null,
            "max_height": null,
            "align_content": null,
            "visibility": null,
            "align_self": null,
            "height": null,
            "min_height": null,
            "padding": null,
            "grid_auto_rows": null,
            "grid_gap": null,
            "max_width": null,
            "order": null,
            "_view_module_version": "1.2.0",
            "grid_template_areas": null,
            "object_position": null,
            "object_fit": null,
            "grid_auto_columns": null,
            "margin": null,
            "display": null,
            "left": null
          }
        },
        "af73677a3228492eb5b8c96d3dfd9e05": {
          "model_module": "@jupyter-widgets/controls",
          "model_name": "HBoxModel",
          "state": {
            "_view_name": "HBoxView",
            "_dom_classes": [],
            "_model_name": "HBoxModel",
            "_view_module": "@jupyter-widgets/controls",
            "_model_module_version": "1.5.0",
            "_view_count": null,
            "_view_module_version": "1.5.0",
            "box_style": "",
            "layout": "IPY_MODEL_c7bdbddac16e44638da1e3283ae5f308",
            "_model_module": "@jupyter-widgets/controls",
            "children": [
              "IPY_MODEL_2a0b6276b5be43a3a83c328cb4ac4724",
              "IPY_MODEL_5f53b4f34091483aba0bc620d971f6ea"
            ]
          }
        },
        "c7bdbddac16e44638da1e3283ae5f308": {
          "model_module": "@jupyter-widgets/base",
          "model_name": "LayoutModel",
          "state": {
            "_view_name": "LayoutView",
            "grid_template_rows": null,
            "right": null,
            "justify_content": null,
            "_view_module": "@jupyter-widgets/base",
            "overflow": null,
            "_model_module_version": "1.2.0",
            "_view_count": null,
            "flex_flow": null,
            "width": null,
            "min_width": null,
            "border": null,
            "align_items": null,
            "bottom": null,
            "_model_module": "@jupyter-widgets/base",
            "top": null,
            "grid_column": null,
            "overflow_y": null,
            "overflow_x": null,
            "grid_auto_flow": null,
            "grid_area": null,
            "grid_template_columns": null,
            "flex": null,
            "_model_name": "LayoutModel",
            "justify_items": null,
            "grid_row": null,
            "max_height": null,
            "align_content": null,
            "visibility": null,
            "align_self": null,
            "height": null,
            "min_height": null,
            "padding": null,
            "grid_auto_rows": null,
            "grid_gap": null,
            "max_width": null,
            "order": null,
            "_view_module_version": "1.2.0",
            "grid_template_areas": null,
            "object_position": null,
            "object_fit": null,
            "grid_auto_columns": null,
            "margin": null,
            "display": null,
            "left": null
          }
        },
        "2a0b6276b5be43a3a83c328cb4ac4724": {
          "model_module": "@jupyter-widgets/controls",
          "model_name": "FloatProgressModel",
          "state": {
            "_view_name": "ProgressView",
            "style": "IPY_MODEL_8e724a35aff84c7f9d704c1141c8d03a",
            "_dom_classes": [],
            "description": "",
            "_model_name": "FloatProgressModel",
            "bar_style": "success",
            "max": 1,
            "_view_module": "@jupyter-widgets/controls",
            "_model_module_version": "1.5.0",
            "value": 1,
            "_view_count": null,
            "_view_module_version": "1.5.0",
            "orientation": "horizontal",
            "min": 0,
            "description_tooltip": null,
            "_model_module": "@jupyter-widgets/controls",
            "layout": "IPY_MODEL_fe284f4f176149a5a8d663e3a68bab6d"
          }
        },
        "5f53b4f34091483aba0bc620d971f6ea": {
          "model_module": "@jupyter-widgets/controls",
          "model_name": "HTMLModel",
          "state": {
            "_view_name": "HTMLView",
            "style": "IPY_MODEL_c3c262559743471fa4a26280967fe692",
            "_dom_classes": [],
            "description": "",
            "_model_name": "HTMLModel",
            "placeholder": "​",
            "_view_module": "@jupyter-widgets/controls",
            "_model_module_version": "1.5.0",
            "value": " 32768/? [00:01&lt;00:00, 24124.60it/s]",
            "_view_count": null,
            "_view_module_version": "1.5.0",
            "description_tooltip": null,
            "_model_module": "@jupyter-widgets/controls",
            "layout": "IPY_MODEL_ff0b49bbe80f46d8aa1fc1bb12d0cba9"
          }
        },
        "8e724a35aff84c7f9d704c1141c8d03a": {
          "model_module": "@jupyter-widgets/controls",
          "model_name": "ProgressStyleModel",
          "state": {
            "_view_name": "StyleView",
            "_model_name": "ProgressStyleModel",
            "description_width": "initial",
            "_view_module": "@jupyter-widgets/base",
            "_model_module_version": "1.5.0",
            "_view_count": null,
            "_view_module_version": "1.2.0",
            "bar_color": null,
            "_model_module": "@jupyter-widgets/controls"
          }
        },
        "fe284f4f176149a5a8d663e3a68bab6d": {
          "model_module": "@jupyter-widgets/base",
          "model_name": "LayoutModel",
          "state": {
            "_view_name": "LayoutView",
            "grid_template_rows": null,
            "right": null,
            "justify_content": null,
            "_view_module": "@jupyter-widgets/base",
            "overflow": null,
            "_model_module_version": "1.2.0",
            "_view_count": null,
            "flex_flow": null,
            "width": null,
            "min_width": null,
            "border": null,
            "align_items": null,
            "bottom": null,
            "_model_module": "@jupyter-widgets/base",
            "top": null,
            "grid_column": null,
            "overflow_y": null,
            "overflow_x": null,
            "grid_auto_flow": null,
            "grid_area": null,
            "grid_template_columns": null,
            "flex": null,
            "_model_name": "LayoutModel",
            "justify_items": null,
            "grid_row": null,
            "max_height": null,
            "align_content": null,
            "visibility": null,
            "align_self": null,
            "height": null,
            "min_height": null,
            "padding": null,
            "grid_auto_rows": null,
            "grid_gap": null,
            "max_width": null,
            "order": null,
            "_view_module_version": "1.2.0",
            "grid_template_areas": null,
            "object_position": null,
            "object_fit": null,
            "grid_auto_columns": null,
            "margin": null,
            "display": null,
            "left": null
          }
        },
        "c3c262559743471fa4a26280967fe692": {
          "model_module": "@jupyter-widgets/controls",
          "model_name": "DescriptionStyleModel",
          "state": {
            "_view_name": "StyleView",
            "_model_name": "DescriptionStyleModel",
            "description_width": "",
            "_view_module": "@jupyter-widgets/base",
            "_model_module_version": "1.5.0",
            "_view_count": null,
            "_view_module_version": "1.2.0",
            "_model_module": "@jupyter-widgets/controls"
          }
        },
        "ff0b49bbe80f46d8aa1fc1bb12d0cba9": {
          "model_module": "@jupyter-widgets/base",
          "model_name": "LayoutModel",
          "state": {
            "_view_name": "LayoutView",
            "grid_template_rows": null,
            "right": null,
            "justify_content": null,
            "_view_module": "@jupyter-widgets/base",
            "overflow": null,
            "_model_module_version": "1.2.0",
            "_view_count": null,
            "flex_flow": null,
            "width": null,
            "min_width": null,
            "border": null,
            "align_items": null,
            "bottom": null,
            "_model_module": "@jupyter-widgets/base",
            "top": null,
            "grid_column": null,
            "overflow_y": null,
            "overflow_x": null,
            "grid_auto_flow": null,
            "grid_area": null,
            "grid_template_columns": null,
            "flex": null,
            "_model_name": "LayoutModel",
            "justify_items": null,
            "grid_row": null,
            "max_height": null,
            "align_content": null,
            "visibility": null,
            "align_self": null,
            "height": null,
            "min_height": null,
            "padding": null,
            "grid_auto_rows": null,
            "grid_gap": null,
            "max_width": null,
            "order": null,
            "_view_module_version": "1.2.0",
            "grid_template_areas": null,
            "object_position": null,
            "object_fit": null,
            "grid_auto_columns": null,
            "margin": null,
            "display": null,
            "left": null
          }
        },
        "020c2747998d46fa92e6583555bb2bd0": {
          "model_module": "@jupyter-widgets/controls",
          "model_name": "HBoxModel",
          "state": {
            "_view_name": "HBoxView",
            "_dom_classes": [],
            "_model_name": "HBoxModel",
            "_view_module": "@jupyter-widgets/controls",
            "_model_module_version": "1.5.0",
            "_view_count": null,
            "_view_module_version": "1.5.0",
            "box_style": "",
            "layout": "IPY_MODEL_250f1b883ab0475d8f9e2c01aaba94f8",
            "_model_module": "@jupyter-widgets/controls",
            "children": [
              "IPY_MODEL_6a3a1019121a4077b474f48feeb47cb4",
              "IPY_MODEL_5681f57363974418a038183e14ddbe42"
            ]
          }
        },
        "250f1b883ab0475d8f9e2c01aaba94f8": {
          "model_module": "@jupyter-widgets/base",
          "model_name": "LayoutModel",
          "state": {
            "_view_name": "LayoutView",
            "grid_template_rows": null,
            "right": null,
            "justify_content": null,
            "_view_module": "@jupyter-widgets/base",
            "overflow": null,
            "_model_module_version": "1.2.0",
            "_view_count": null,
            "flex_flow": null,
            "width": null,
            "min_width": null,
            "border": null,
            "align_items": null,
            "bottom": null,
            "_model_module": "@jupyter-widgets/base",
            "top": null,
            "grid_column": null,
            "overflow_y": null,
            "overflow_x": null,
            "grid_auto_flow": null,
            "grid_area": null,
            "grid_template_columns": null,
            "flex": null,
            "_model_name": "LayoutModel",
            "justify_items": null,
            "grid_row": null,
            "max_height": null,
            "align_content": null,
            "visibility": null,
            "align_self": null,
            "height": null,
            "min_height": null,
            "padding": null,
            "grid_auto_rows": null,
            "grid_gap": null,
            "max_width": null,
            "order": null,
            "_view_module_version": "1.2.0",
            "grid_template_areas": null,
            "object_position": null,
            "object_fit": null,
            "grid_auto_columns": null,
            "margin": null,
            "display": null,
            "left": null
          }
        },
        "6a3a1019121a4077b474f48feeb47cb4": {
          "model_module": "@jupyter-widgets/controls",
          "model_name": "FloatProgressModel",
          "state": {
            "_view_name": "ProgressView",
            "style": "IPY_MODEL_125e12e0eaff4a748628f0809bbdbea2",
            "_dom_classes": [],
            "description": "",
            "_model_name": "FloatProgressModel",
            "bar_style": "success",
            "max": 1,
            "_view_module": "@jupyter-widgets/controls",
            "_model_module_version": "1.5.0",
            "value": 1,
            "_view_count": null,
            "_view_module_version": "1.5.0",
            "orientation": "horizontal",
            "min": 0,
            "description_tooltip": null,
            "_model_module": "@jupyter-widgets/controls",
            "layout": "IPY_MODEL_8db4f66a268e4831be5555ecc08c9770"
          }
        },
        "5681f57363974418a038183e14ddbe42": {
          "model_module": "@jupyter-widgets/controls",
          "model_name": "HTMLModel",
          "state": {
            "_view_name": "HTMLView",
            "style": "IPY_MODEL_646bdcb82f9d423c96604ba6f0e69197",
            "_dom_classes": [],
            "description": "",
            "_model_name": "HTMLModel",
            "placeholder": "​",
            "_view_module": "@jupyter-widgets/controls",
            "_model_module_version": "1.5.0",
            "value": " 1654784/? [00:01&lt;00:00, 1520637.19it/s]",
            "_view_count": null,
            "_view_module_version": "1.5.0",
            "description_tooltip": null,
            "_model_module": "@jupyter-widgets/controls",
            "layout": "IPY_MODEL_0f1937cede2142949da405399652c1ee"
          }
        },
        "125e12e0eaff4a748628f0809bbdbea2": {
          "model_module": "@jupyter-widgets/controls",
          "model_name": "ProgressStyleModel",
          "state": {
            "_view_name": "StyleView",
            "_model_name": "ProgressStyleModel",
            "description_width": "initial",
            "_view_module": "@jupyter-widgets/base",
            "_model_module_version": "1.5.0",
            "_view_count": null,
            "_view_module_version": "1.2.0",
            "bar_color": null,
            "_model_module": "@jupyter-widgets/controls"
          }
        },
        "8db4f66a268e4831be5555ecc08c9770": {
          "model_module": "@jupyter-widgets/base",
          "model_name": "LayoutModel",
          "state": {
            "_view_name": "LayoutView",
            "grid_template_rows": null,
            "right": null,
            "justify_content": null,
            "_view_module": "@jupyter-widgets/base",
            "overflow": null,
            "_model_module_version": "1.2.0",
            "_view_count": null,
            "flex_flow": null,
            "width": null,
            "min_width": null,
            "border": null,
            "align_items": null,
            "bottom": null,
            "_model_module": "@jupyter-widgets/base",
            "top": null,
            "grid_column": null,
            "overflow_y": null,
            "overflow_x": null,
            "grid_auto_flow": null,
            "grid_area": null,
            "grid_template_columns": null,
            "flex": null,
            "_model_name": "LayoutModel",
            "justify_items": null,
            "grid_row": null,
            "max_height": null,
            "align_content": null,
            "visibility": null,
            "align_self": null,
            "height": null,
            "min_height": null,
            "padding": null,
            "grid_auto_rows": null,
            "grid_gap": null,
            "max_width": null,
            "order": null,
            "_view_module_version": "1.2.0",
            "grid_template_areas": null,
            "object_position": null,
            "object_fit": null,
            "grid_auto_columns": null,
            "margin": null,
            "display": null,
            "left": null
          }
        },
        "646bdcb82f9d423c96604ba6f0e69197": {
          "model_module": "@jupyter-widgets/controls",
          "model_name": "DescriptionStyleModel",
          "state": {
            "_view_name": "StyleView",
            "_model_name": "DescriptionStyleModel",
            "description_width": "",
            "_view_module": "@jupyter-widgets/base",
            "_model_module_version": "1.5.0",
            "_view_count": null,
            "_view_module_version": "1.2.0",
            "_model_module": "@jupyter-widgets/controls"
          }
        },
        "0f1937cede2142949da405399652c1ee": {
          "model_module": "@jupyter-widgets/base",
          "model_name": "LayoutModel",
          "state": {
            "_view_name": "LayoutView",
            "grid_template_rows": null,
            "right": null,
            "justify_content": null,
            "_view_module": "@jupyter-widgets/base",
            "overflow": null,
            "_model_module_version": "1.2.0",
            "_view_count": null,
            "flex_flow": null,
            "width": null,
            "min_width": null,
            "border": null,
            "align_items": null,
            "bottom": null,
            "_model_module": "@jupyter-widgets/base",
            "top": null,
            "grid_column": null,
            "overflow_y": null,
            "overflow_x": null,
            "grid_auto_flow": null,
            "grid_area": null,
            "grid_template_columns": null,
            "flex": null,
            "_model_name": "LayoutModel",
            "justify_items": null,
            "grid_row": null,
            "max_height": null,
            "align_content": null,
            "visibility": null,
            "align_self": null,
            "height": null,
            "min_height": null,
            "padding": null,
            "grid_auto_rows": null,
            "grid_gap": null,
            "max_width": null,
            "order": null,
            "_view_module_version": "1.2.0",
            "grid_template_areas": null,
            "object_position": null,
            "object_fit": null,
            "grid_auto_columns": null,
            "margin": null,
            "display": null,
            "left": null
          }
        },
        "19e10758ed624719bb1efb7e7f213dc8": {
          "model_module": "@jupyter-widgets/controls",
          "model_name": "HBoxModel",
          "state": {
            "_view_name": "HBoxView",
            "_dom_classes": [],
            "_model_name": "HBoxModel",
            "_view_module": "@jupyter-widgets/controls",
            "_model_module_version": "1.5.0",
            "_view_count": null,
            "_view_module_version": "1.5.0",
            "box_style": "",
            "layout": "IPY_MODEL_0358056645254f4c8e3a0b12f91e3b44",
            "_model_module": "@jupyter-widgets/controls",
            "children": [
              "IPY_MODEL_9c32d276d6674d8f887e7e0457779567",
              "IPY_MODEL_3d3e488a0ce14b35939f00e4a9af3813"
            ]
          }
        },
        "0358056645254f4c8e3a0b12f91e3b44": {
          "model_module": "@jupyter-widgets/base",
          "model_name": "LayoutModel",
          "state": {
            "_view_name": "LayoutView",
            "grid_template_rows": null,
            "right": null,
            "justify_content": null,
            "_view_module": "@jupyter-widgets/base",
            "overflow": null,
            "_model_module_version": "1.2.0",
            "_view_count": null,
            "flex_flow": null,
            "width": null,
            "min_width": null,
            "border": null,
            "align_items": null,
            "bottom": null,
            "_model_module": "@jupyter-widgets/base",
            "top": null,
            "grid_column": null,
            "overflow_y": null,
            "overflow_x": null,
            "grid_auto_flow": null,
            "grid_area": null,
            "grid_template_columns": null,
            "flex": null,
            "_model_name": "LayoutModel",
            "justify_items": null,
            "grid_row": null,
            "max_height": null,
            "align_content": null,
            "visibility": null,
            "align_self": null,
            "height": null,
            "min_height": null,
            "padding": null,
            "grid_auto_rows": null,
            "grid_gap": null,
            "max_width": null,
            "order": null,
            "_view_module_version": "1.2.0",
            "grid_template_areas": null,
            "object_position": null,
            "object_fit": null,
            "grid_auto_columns": null,
            "margin": null,
            "display": null,
            "left": null
          }
        },
        "9c32d276d6674d8f887e7e0457779567": {
          "model_module": "@jupyter-widgets/controls",
          "model_name": "FloatProgressModel",
          "state": {
            "_view_name": "ProgressView",
            "style": "IPY_MODEL_881277a27997431b86ca4e56141ff0ad",
            "_dom_classes": [],
            "description": "",
            "_model_name": "FloatProgressModel",
            "bar_style": "success",
            "max": 1,
            "_view_module": "@jupyter-widgets/controls",
            "_model_module_version": "1.5.0",
            "value": 1,
            "_view_count": null,
            "_view_module_version": "1.5.0",
            "orientation": "horizontal",
            "min": 0,
            "description_tooltip": null,
            "_model_module": "@jupyter-widgets/controls",
            "layout": "IPY_MODEL_84900afa3d174219b4c0a28314027865"
          }
        },
        "3d3e488a0ce14b35939f00e4a9af3813": {
          "model_module": "@jupyter-widgets/controls",
          "model_name": "HTMLModel",
          "state": {
            "_view_name": "HTMLView",
            "style": "IPY_MODEL_9729d06f7271495c96b1d4a260a9d9c7",
            "_dom_classes": [],
            "description": "",
            "_model_name": "HTMLModel",
            "placeholder": "​",
            "_view_module": "@jupyter-widgets/controls",
            "_model_module_version": "1.5.0",
            "value": " 8192/? [00:00&lt;00:00, 22509.40it/s]",
            "_view_count": null,
            "_view_module_version": "1.5.0",
            "description_tooltip": null,
            "_model_module": "@jupyter-widgets/controls",
            "layout": "IPY_MODEL_837753fbb6be4345a19fc3a63b64b3d0"
          }
        },
        "881277a27997431b86ca4e56141ff0ad": {
          "model_module": "@jupyter-widgets/controls",
          "model_name": "ProgressStyleModel",
          "state": {
            "_view_name": "StyleView",
            "_model_name": "ProgressStyleModel",
            "description_width": "initial",
            "_view_module": "@jupyter-widgets/base",
            "_model_module_version": "1.5.0",
            "_view_count": null,
            "_view_module_version": "1.2.0",
            "bar_color": null,
            "_model_module": "@jupyter-widgets/controls"
          }
        },
        "84900afa3d174219b4c0a28314027865": {
          "model_module": "@jupyter-widgets/base",
          "model_name": "LayoutModel",
          "state": {
            "_view_name": "LayoutView",
            "grid_template_rows": null,
            "right": null,
            "justify_content": null,
            "_view_module": "@jupyter-widgets/base",
            "overflow": null,
            "_model_module_version": "1.2.0",
            "_view_count": null,
            "flex_flow": null,
            "width": null,
            "min_width": null,
            "border": null,
            "align_items": null,
            "bottom": null,
            "_model_module": "@jupyter-widgets/base",
            "top": null,
            "grid_column": null,
            "overflow_y": null,
            "overflow_x": null,
            "grid_auto_flow": null,
            "grid_area": null,
            "grid_template_columns": null,
            "flex": null,
            "_model_name": "LayoutModel",
            "justify_items": null,
            "grid_row": null,
            "max_height": null,
            "align_content": null,
            "visibility": null,
            "align_self": null,
            "height": null,
            "min_height": null,
            "padding": null,
            "grid_auto_rows": null,
            "grid_gap": null,
            "max_width": null,
            "order": null,
            "_view_module_version": "1.2.0",
            "grid_template_areas": null,
            "object_position": null,
            "object_fit": null,
            "grid_auto_columns": null,
            "margin": null,
            "display": null,
            "left": null
          }
        },
        "9729d06f7271495c96b1d4a260a9d9c7": {
          "model_module": "@jupyter-widgets/controls",
          "model_name": "DescriptionStyleModel",
          "state": {
            "_view_name": "StyleView",
            "_model_name": "DescriptionStyleModel",
            "description_width": "",
            "_view_module": "@jupyter-widgets/base",
            "_model_module_version": "1.5.0",
            "_view_count": null,
            "_view_module_version": "1.2.0",
            "_model_module": "@jupyter-widgets/controls"
          }
        },
        "837753fbb6be4345a19fc3a63b64b3d0": {
          "model_module": "@jupyter-widgets/base",
          "model_name": "LayoutModel",
          "state": {
            "_view_name": "LayoutView",
            "grid_template_rows": null,
            "right": null,
            "justify_content": null,
            "_view_module": "@jupyter-widgets/base",
            "overflow": null,
            "_model_module_version": "1.2.0",
            "_view_count": null,
            "flex_flow": null,
            "width": null,
            "min_width": null,
            "border": null,
            "align_items": null,
            "bottom": null,
            "_model_module": "@jupyter-widgets/base",
            "top": null,
            "grid_column": null,
            "overflow_y": null,
            "overflow_x": null,
            "grid_auto_flow": null,
            "grid_area": null,
            "grid_template_columns": null,
            "flex": null,
            "_model_name": "LayoutModel",
            "justify_items": null,
            "grid_row": null,
            "max_height": null,
            "align_content": null,
            "visibility": null,
            "align_self": null,
            "height": null,
            "min_height": null,
            "padding": null,
            "grid_auto_rows": null,
            "grid_gap": null,
            "max_width": null,
            "order": null,
            "_view_module_version": "1.2.0",
            "grid_template_areas": null,
            "object_position": null,
            "object_fit": null,
            "grid_auto_columns": null,
            "margin": null,
            "display": null,
            "left": null
          }
        }
      }
    }
  },
  "cells": [
    {
      "cell_type": "markdown",
      "metadata": {
        "id": "qXjduQd5Cl_7"
      },
      "source": [
        "# Projeto 16: Autoencoders e classificação"
      ]
    },
    {
      "cell_type": "code",
      "metadata": {
        "colab": {
          "base_uri": "https://localhost:8080/"
        },
        "id": "qb1M0qv-C3uI",
        "outputId": "37fab3dd-1701-4872-87ca-a460e97e9788"
      },
      "source": [
        "!pip install torch==1.4.0 torchvision==0.5.0"
      ],
      "execution_count": 1,
      "outputs": [
        {
          "output_type": "stream",
          "text": [
            "Collecting torch==1.4.0\n",
            "\u001b[?25l  Downloading https://files.pythonhosted.org/packages/24/19/4804aea17cd136f1705a5e98a00618cb8f6ccc375ad8bfa437408e09d058/torch-1.4.0-cp36-cp36m-manylinux1_x86_64.whl (753.4MB)\n",
            "\u001b[K     |████████████████████████████████| 753.4MB 21kB/s \n",
            "\u001b[?25hCollecting torchvision==0.5.0\n",
            "\u001b[?25l  Downloading https://files.pythonhosted.org/packages/7e/90/6141bf41f5655c78e24f40f710fdd4f8a8aff6c8b7c6f0328240f649bdbe/torchvision-0.5.0-cp36-cp36m-manylinux1_x86_64.whl (4.0MB)\n",
            "\u001b[K     |████████████████████████████████| 4.0MB 49.1MB/s \n",
            "\u001b[?25hRequirement already satisfied: pillow>=4.1.1 in /usr/local/lib/python3.6/dist-packages (from torchvision==0.5.0) (7.0.0)\n",
            "Requirement already satisfied: numpy in /usr/local/lib/python3.6/dist-packages (from torchvision==0.5.0) (1.19.5)\n",
            "Requirement already satisfied: six in /usr/local/lib/python3.6/dist-packages (from torchvision==0.5.0) (1.15.0)\n",
            "Installing collected packages: torch, torchvision\n",
            "  Found existing installation: torch 1.7.0+cu101\n",
            "    Uninstalling torch-1.7.0+cu101:\n",
            "      Successfully uninstalled torch-1.7.0+cu101\n",
            "  Found existing installation: torchvision 0.8.1+cu101\n",
            "    Uninstalling torchvision-0.8.1+cu101:\n",
            "      Successfully uninstalled torchvision-0.8.1+cu101\n",
            "Successfully installed torch-1.4.0 torchvision-0.5.0\n"
          ],
          "name": "stdout"
        }
      ]
    },
    {
      "cell_type": "markdown",
      "metadata": {
        "id": "McziGO9nCxgw"
      },
      "source": [
        "## Etapa 1: Importação das bibliotecas"
      ]
    },
    {
      "cell_type": "code",
      "metadata": {
        "id": "JTEjylbOCRTw"
      },
      "source": [
        "import torch\r\n",
        "from torch import nn, optim\r\n",
        "from torchvision import datasets, transforms\r\n",
        "from sklearn.metrics import accuracy_score"
      ],
      "execution_count": 2,
      "outputs": []
    },
    {
      "cell_type": "code",
      "metadata": {
        "colab": {
          "base_uri": "https://localhost:8080/"
        },
        "id": "T9KaX_nEDT6y",
        "outputId": "f2bac53a-e088-41df-9413-4a4db11977e8"
      },
      "source": [
        "torch.manual_seed(123)"
      ],
      "execution_count": 3,
      "outputs": [
        {
          "output_type": "execute_result",
          "data": {
            "text/plain": [
              "<torch._C.Generator at 0x7f9670595fd0>"
            ]
          },
          "metadata": {
            "tags": []
          },
          "execution_count": 3
        }
      ]
    },
    {
      "cell_type": "markdown",
      "metadata": {
        "id": "Xy05htWoDXvn"
      },
      "source": [
        "## Etapa 2: Base de dados"
      ]
    },
    {
      "cell_type": "code",
      "metadata": {
        "colab": {
          "base_uri": "https://localhost:8080/",
          "height": 335,
          "referenced_widgets": [
            "0969f5263f0b40a6814bfc5f47e9f134",
            "b5fcd0a19e064f1a89a82fb58187bb73",
            "5d7ae0380a574de88c80e34557b51139",
            "ecabf7a6ffd6490dbcbc1d3a9476a50e",
            "ccf42a2e14354bedab0cce91ec8e4dbe",
            "18cb12c6a5e74870b31dd249391aae76",
            "1b01986a735a47ffb080dc4681146170",
            "b50f5b09adf64c1586406ec97de0d7d5",
            "af73677a3228492eb5b8c96d3dfd9e05",
            "c7bdbddac16e44638da1e3283ae5f308",
            "2a0b6276b5be43a3a83c328cb4ac4724",
            "5f53b4f34091483aba0bc620d971f6ea",
            "8e724a35aff84c7f9d704c1141c8d03a",
            "fe284f4f176149a5a8d663e3a68bab6d",
            "c3c262559743471fa4a26280967fe692",
            "ff0b49bbe80f46d8aa1fc1bb12d0cba9",
            "020c2747998d46fa92e6583555bb2bd0",
            "250f1b883ab0475d8f9e2c01aaba94f8",
            "6a3a1019121a4077b474f48feeb47cb4",
            "5681f57363974418a038183e14ddbe42",
            "125e12e0eaff4a748628f0809bbdbea2",
            "8db4f66a268e4831be5555ecc08c9770",
            "646bdcb82f9d423c96604ba6f0e69197",
            "0f1937cede2142949da405399652c1ee",
            "19e10758ed624719bb1efb7e7f213dc8",
            "0358056645254f4c8e3a0b12f91e3b44",
            "9c32d276d6674d8f887e7e0457779567",
            "3d3e488a0ce14b35939f00e4a9af3813",
            "881277a27997431b86ca4e56141ff0ad",
            "84900afa3d174219b4c0a28314027865",
            "9729d06f7271495c96b1d4a260a9d9c7",
            "837753fbb6be4345a19fc3a63b64b3d0"
          ]
        },
        "id": "q7cup41_DWzX",
        "outputId": "12ea9b7b-28af-4ef3-87cf-f97b02c65232"
      },
      "source": [
        "data_train = datasets.MNIST('MNIST-data', train = True, download=True,\r\n",
        "                               transform = transforms.ToTensor())\r\n",
        "loader_train = torch.utils.data.DataLoader(data_train, batch_size=256,\r\n",
        "                                           shuffle = True)"
      ],
      "execution_count": 4,
      "outputs": [
        {
          "output_type": "stream",
          "text": [
            "Downloading http://yann.lecun.com/exdb/mnist/train-images-idx3-ubyte.gz to MNIST-data/MNIST/raw/train-images-idx3-ubyte.gz\n"
          ],
          "name": "stdout"
        },
        {
          "output_type": "display_data",
          "data": {
            "application/vnd.jupyter.widget-view+json": {
              "model_id": "0969f5263f0b40a6814bfc5f47e9f134",
              "version_minor": 0,
              "version_major": 2
            },
            "text/plain": [
              "HBox(children=(FloatProgress(value=1.0, bar_style='info', max=1.0), HTML(value='')))"
            ]
          },
          "metadata": {
            "tags": []
          }
        },
        {
          "output_type": "stream",
          "text": [
            "Extracting MNIST-data/MNIST/raw/train-images-idx3-ubyte.gz to MNIST-data/MNIST/raw\n",
            "Downloading http://yann.lecun.com/exdb/mnist/train-labels-idx1-ubyte.gz to MNIST-data/MNIST/raw/train-labels-idx1-ubyte.gz\n"
          ],
          "name": "stdout"
        },
        {
          "output_type": "display_data",
          "data": {
            "application/vnd.jupyter.widget-view+json": {
              "model_id": "af73677a3228492eb5b8c96d3dfd9e05",
              "version_minor": 0,
              "version_major": 2
            },
            "text/plain": [
              "HBox(children=(FloatProgress(value=1.0, bar_style='info', max=1.0), HTML(value='')))"
            ]
          },
          "metadata": {
            "tags": []
          }
        },
        {
          "output_type": "stream",
          "text": [
            "Extracting MNIST-data/MNIST/raw/train-labels-idx1-ubyte.gz to MNIST-data/MNIST/raw\n",
            "Downloading http://yann.lecun.com/exdb/mnist/t10k-images-idx3-ubyte.gz to MNIST-data/MNIST/raw/t10k-images-idx3-ubyte.gz\n"
          ],
          "name": "stdout"
        },
        {
          "output_type": "display_data",
          "data": {
            "application/vnd.jupyter.widget-view+json": {
              "model_id": "020c2747998d46fa92e6583555bb2bd0",
              "version_minor": 0,
              "version_major": 2
            },
            "text/plain": [
              "HBox(children=(FloatProgress(value=1.0, bar_style='info', max=1.0), HTML(value='')))"
            ]
          },
          "metadata": {
            "tags": []
          }
        },
        {
          "output_type": "stream",
          "text": [
            "Extracting MNIST-data/MNIST/raw/t10k-images-idx3-ubyte.gz to MNIST-data/MNIST/raw\n",
            "Downloading http://yann.lecun.com/exdb/mnist/t10k-labels-idx1-ubyte.gz to MNIST-data/MNIST/raw/t10k-labels-idx1-ubyte.gz\n"
          ],
          "name": "stdout"
        },
        {
          "output_type": "display_data",
          "data": {
            "application/vnd.jupyter.widget-view+json": {
              "model_id": "19e10758ed624719bb1efb7e7f213dc8",
              "version_minor": 0,
              "version_major": 2
            },
            "text/plain": [
              "HBox(children=(FloatProgress(value=1.0, bar_style='info', max=1.0), HTML(value='')))"
            ]
          },
          "metadata": {
            "tags": []
          }
        },
        {
          "output_type": "stream",
          "text": [
            "Extracting MNIST-data/MNIST/raw/t10k-labels-idx1-ubyte.gz to MNIST-data/MNIST/raw\n",
            "Processing...\n",
            "Done!\n"
          ],
          "name": "stdout"
        }
      ]
    },
    {
      "cell_type": "code",
      "metadata": {
        "id": "iEd6ymZmEErm"
      },
      "source": [
        "data_test = datasets.MNIST('MNIST-data', train = False, download=True,\r\n",
        "                           transform = transforms.ToTensor())\r\n",
        "loader_test = torch.utils.data.DataLoader(data_test, batch_size=256,\r\n",
        "                                          shuffle=True)"
      ],
      "execution_count": 5,
      "outputs": []
    },
    {
      "cell_type": "markdown",
      "metadata": {
        "id": "LKoBC32mE3nb"
      },
      "source": [
        "## Etapa 3: Construção do autoencoder"
      ]
    },
    {
      "cell_type": "code",
      "metadata": {
        "colab": {
          "base_uri": "https://localhost:8080/"
        },
        "id": "6zfJUzQJEebc",
        "outputId": "b99061fe-dc47-4f2e-f129-44ce7d5de27d"
      },
      "source": [
        "class autoencoder(nn.Module):\r\n",
        "  def __init__(self):\r\n",
        "    super().__init__()\r\n",
        "    self.dense0 = nn.Linear(in_features=784, out_features=32)\r\n",
        "    self.activation0 = nn.ReLU()\r\n",
        "    self.dense1 = nn.Linear(32,784)\r\n",
        "    self.activation1 = nn.Sigmoid()\r\n",
        "\r\n",
        "  def forward(self, X):\r\n",
        "    X = self.dense0(X)\r\n",
        "    X = self.activation0(X)\r\n",
        "    X = self.dense1(X)\r\n",
        "    X = self.activation1(X)\r\n",
        "    return X"
      ],
      "execution_count": 6,
      "outputs": [
        {
          "output_type": "stream",
          "text": [
            "\n",
            "\n",
            "\n"
          ],
          "name": "stdout"
        }
      ]
    },
    {
      "cell_type": "code",
      "metadata": {
        "colab": {
          "base_uri": "https://localhost:8080/"
        },
        "id": "YjNijSo1Hui9",
        "outputId": "7fb617be-e61a-4e93-b5cc-2fb5cfe9e331"
      },
      "source": [
        "device = torch.device('cuda') if torch.cuda.is_available() else torch.device('cpu')\r\n",
        "device"
      ],
      "execution_count": 7,
      "outputs": [
        {
          "output_type": "execute_result",
          "data": {
            "text/plain": [
              "device(type='cuda')"
            ]
          },
          "metadata": {
            "tags": []
          },
          "execution_count": 7
        }
      ]
    },
    {
      "cell_type": "code",
      "metadata": {
        "colab": {
          "base_uri": "https://localhost:8080/"
        },
        "id": "lwHkSXj5H5a6",
        "outputId": "042cf933-a64b-461b-d3a4-e2d3fc079816"
      },
      "source": [
        "model = autoencoder()\r\n",
        "model.to(device)"
      ],
      "execution_count": 8,
      "outputs": [
        {
          "output_type": "execute_result",
          "data": {
            "text/plain": [
              "autoencoder(\n",
              "  (dense0): Linear(in_features=784, out_features=32, bias=True)\n",
              "  (activation0): ReLU()\n",
              "  (dense1): Linear(in_features=32, out_features=784, bias=True)\n",
              "  (activation1): Sigmoid()\n",
              ")"
            ]
          },
          "metadata": {
            "tags": []
          },
          "execution_count": 8
        }
      ]
    },
    {
      "cell_type": "code",
      "metadata": {
        "id": "qdK_55A0IAj6"
      },
      "source": [
        "criterion = nn.BCELoss()\r\n",
        "optimizer = optim.Adam(model.parameters())"
      ],
      "execution_count": 11,
      "outputs": []
    },
    {
      "cell_type": "markdown",
      "metadata": {
        "id": "CrFgufitIPNb"
      },
      "source": [
        "## Etapa 4: Treinamento do modelo"
      ]
    },
    {
      "cell_type": "code",
      "metadata": {
        "colab": {
          "base_uri": "https://localhost:8080/"
        },
        "id": "F4GVvU0yIMFB",
        "outputId": "57587000-f796-4f9b-f81b-f806d45d952e"
      },
      "source": [
        "for epoch in range(20):\r\n",
        "  running_loss_train = 0.\r\n",
        "  for data in loader_train:\r\n",
        "    model.train()\r\n",
        "    inputs, _ = data\r\n",
        "    inputs = inputs.to(device)\r\n",
        "    inputs = inputs.view(-1, 28*28)\r\n",
        "\r\n",
        "    optimizer.zero_grad()\r\n",
        "\r\n",
        "    outputs = model(inputs)\r\n",
        "    loss = criterion(outputs, inputs.view(*outputs.shape))\r\n",
        "    loss.backward()\r\n",
        "\r\n",
        "    optimizer.step()\r\n",
        "\r\n",
        "    running_loss_train += loss.item()\r\n",
        "\r\n",
        "  running_loss_val = 0.\r\n",
        "  for data in loader_test:\r\n",
        "    model.eval()\r\n",
        "    inputs, _ = data\r\n",
        "    inputs = inputs.to(device)\r\n",
        "    inputs = inputs.view(-1,28*28)\r\n",
        "    \r\n",
        "    outputs = model(inputs)\r\n",
        "    loss = criterion(outputs, inputs.view(*outputs.shape))\r\n",
        "    running_loss_val += loss.item()\r\n",
        "\r\n",
        "  print('ÉPOCA {:3d}: PERDA TREINO {:.5f} PERDA VALIDAÇÃO {:.5f}' \\\r\n",
        "        .format(epoch+1, running_loss_train/len(loader_train), running_loss_val/len(loader_test)))"
      ],
      "execution_count": 12,
      "outputs": [
        {
          "output_type": "stream",
          "text": [
            "ÉPOCA   1: PERDA TREINO 0.29703 PERDA VALIDAÇÃO 0.20237\n",
            "ÉPOCA   2: PERDA TREINO 0.18216 PERDA VALIDAÇÃO 0.16382\n",
            "ÉPOCA   3: PERDA TREINO 0.15509 PERDA VALIDAÇÃO 0.14599\n",
            "ÉPOCA   4: PERDA TREINO 0.14117 PERDA VALIDAÇÃO 0.13517\n",
            "ÉPOCA   5: PERDA TREINO 0.13216 PERDA VALIDAÇÃO 0.12711\n",
            "ÉPOCA   6: PERDA TREINO 0.12553 PERDA VALIDAÇÃO 0.12166\n",
            "ÉPOCA   7: PERDA TREINO 0.12053 PERDA VALIDAÇÃO 0.11690\n",
            "ÉPOCA   8: PERDA TREINO 0.11689 PERDA VALIDAÇÃO 0.11407\n",
            "ÉPOCA   9: PERDA TREINO 0.11434 PERDA VALIDAÇÃO 0.11195\n",
            "ÉPOCA  10: PERDA TREINO 0.11261 PERDA VALIDAÇÃO 0.11056\n",
            "ÉPOCA  11: PERDA TREINO 0.11141 PERDA VALIDAÇÃO 0.10932\n",
            "ÉPOCA  12: PERDA TREINO 0.11064 PERDA VALIDAÇÃO 0.10881\n",
            "ÉPOCA  13: PERDA TREINO 0.11008 PERDA VALIDAÇÃO 0.10857\n",
            "ÉPOCA  14: PERDA TREINO 0.10975 PERDA VALIDAÇÃO 0.10802\n",
            "ÉPOCA  15: PERDA TREINO 0.10948 PERDA VALIDAÇÃO 0.10766\n",
            "ÉPOCA  16: PERDA TREINO 0.10927 PERDA VALIDAÇÃO 0.10746\n",
            "ÉPOCA  17: PERDA TREINO 0.10904 PERDA VALIDAÇÃO 0.10659\n",
            "ÉPOCA  18: PERDA TREINO 0.10740 PERDA VALIDAÇÃO 0.10526\n",
            "ÉPOCA  19: PERDA TREINO 0.10691 PERDA VALIDAÇÃO 0.10534\n",
            "ÉPOCA  20: PERDA TREINO 0.10671 PERDA VALIDAÇÃO 0.10498\n"
          ],
          "name": "stdout"
        }
      ]
    },
    {
      "cell_type": "markdown",
      "metadata": {
        "id": "aD-e5URnMFUR"
      },
      "source": [
        "## Etapa 5: Geração do encoder"
      ]
    },
    {
      "cell_type": "code",
      "metadata": {
        "colab": {
          "base_uri": "https://localhost:8080/"
        },
        "id": "QA7ISUTUKkae",
        "outputId": "d0051232-33a7-493b-8e13-f2ccbc40f859"
      },
      "source": [
        "list(model.children())"
      ],
      "execution_count": 13,
      "outputs": [
        {
          "output_type": "execute_result",
          "data": {
            "text/plain": [
              "[Linear(in_features=784, out_features=32, bias=True),\n",
              " ReLU(),\n",
              " Linear(in_features=32, out_features=784, bias=True),\n",
              " Sigmoid()]"
            ]
          },
          "metadata": {
            "tags": []
          },
          "execution_count": 13
        }
      ]
    },
    {
      "cell_type": "code",
      "metadata": {
        "id": "1gJ5gOPHMtsV"
      },
      "source": [
        "class encoder(nn.Module):\r\n",
        "  def __init__(self):\r\n",
        "    super().__init__()\r\n",
        "    self.dense0 = list(model.children())[0]\r\n",
        "    self.activation0 = list(model.children())[1]\r\n",
        "\r\n",
        "  def forward(self, X):\r\n",
        "    X = self.dense0(X)\r\n",
        "    X = self.activation0(X)\r\n",
        "    return X"
      ],
      "execution_count": 14,
      "outputs": []
    },
    {
      "cell_type": "code",
      "metadata": {
        "colab": {
          "base_uri": "https://localhost:8080/"
        },
        "id": "0aoGJKjUNLZ0",
        "outputId": "0f5d4a82-4b05-4bb2-90c0-5edbe643ae39"
      },
      "source": [
        "model_enc = encoder()\r\n",
        "model_enc.to(device)"
      ],
      "execution_count": 15,
      "outputs": [
        {
          "output_type": "execute_result",
          "data": {
            "text/plain": [
              "encoder(\n",
              "  (dense0): Linear(in_features=784, out_features=32, bias=True)\n",
              "  (activation0): ReLU()\n",
              ")"
            ]
          },
          "metadata": {
            "tags": []
          },
          "execution_count": 15
        }
      ]
    },
    {
      "cell_type": "markdown",
      "metadata": {
        "id": "bzKg1b_AOK2Z"
      },
      "source": [
        "## Etapa 6: Codificação dos previsores"
      ]
    },
    {
      "cell_type": "code",
      "metadata": {
        "id": "HAsPXHRjNQ88"
      },
      "source": [
        "X_train = data_train.data.float() / 255\r\n",
        "X_train = X_train.view(-1,784)\r\n",
        "X_train = X_train.to(device)"
      ],
      "execution_count": 16,
      "outputs": []
    },
    {
      "cell_type": "code",
      "metadata": {
        "colab": {
          "base_uri": "https://localhost:8080/"
        },
        "id": "fXRkQ7EZPLy9",
        "outputId": "13d22f8b-c531-4ea7-949f-0c8997c26490"
      },
      "source": [
        "X_train.shape"
      ],
      "execution_count": 17,
      "outputs": [
        {
          "output_type": "execute_result",
          "data": {
            "text/plain": [
              "torch.Size([60000, 784])"
            ]
          },
          "metadata": {
            "tags": []
          },
          "execution_count": 17
        }
      ]
    },
    {
      "cell_type": "code",
      "metadata": {
        "id": "P22y4VY2PPPt"
      },
      "source": [
        "with torch.no_grad():\r\n",
        "  X_train_cod = model_enc(X_train)\r\n",
        "cls_train = data_train.targets"
      ],
      "execution_count": 18,
      "outputs": []
    },
    {
      "cell_type": "code",
      "metadata": {
        "colab": {
          "base_uri": "https://localhost:8080/"
        },
        "id": "TUto7YB5PpJ1",
        "outputId": "67e2a492-af2d-4b22-fd64-6dcd8455f0f8"
      },
      "source": [
        "X_train_cod.shape"
      ],
      "execution_count": 19,
      "outputs": [
        {
          "output_type": "execute_result",
          "data": {
            "text/plain": [
              "torch.Size([60000, 32])"
            ]
          },
          "metadata": {
            "tags": []
          },
          "execution_count": 19
        }
      ]
    },
    {
      "cell_type": "code",
      "metadata": {
        "colab": {
          "base_uri": "https://localhost:8080/"
        },
        "id": "NtRe8hi2PrWF",
        "outputId": "6dfcad39-7afb-4f83-f6a1-a83e5209056e"
      },
      "source": [
        "cls_train"
      ],
      "execution_count": 20,
      "outputs": [
        {
          "output_type": "execute_result",
          "data": {
            "text/plain": [
              "tensor([5, 0, 4,  ..., 5, 6, 8])"
            ]
          },
          "metadata": {
            "tags": []
          },
          "execution_count": 20
        }
      ]
    },
    {
      "cell_type": "code",
      "metadata": {
        "id": "cw86HhO3Puy0"
      },
      "source": [
        "data_train_cod = torch.utils.data.TensorDataset(X_train_cod, cls_train)\r\n",
        "loader_train_cod = torch.utils.data.DataLoader(data_train_cod, batch_size=256, shuffle=True)"
      ],
      "execution_count": 21,
      "outputs": []
    },
    {
      "cell_type": "code",
      "metadata": {
        "id": "-_vem0O8QMlN"
      },
      "source": [
        "X_val = data_test.data.float() / 255\r\n",
        "X_val = X_val.view(-1,784)\r\n",
        "X_val = X_val.to(device)"
      ],
      "execution_count": 25,
      "outputs": []
    },
    {
      "cell_type": "code",
      "metadata": {
        "id": "7Cpowzb-QXGE"
      },
      "source": [
        "with torch.no_grad():\r\n",
        "  X_val_cod = model_enc(X_val)\r\n",
        "cls_val = data_test.targets"
      ],
      "execution_count": 26,
      "outputs": []
    },
    {
      "cell_type": "code",
      "metadata": {
        "colab": {
          "base_uri": "https://localhost:8080/"
        },
        "id": "fImV5p2ZQfET",
        "outputId": "c24ef20e-88c7-49f3-c2a7-9075162be209"
      },
      "source": [
        "X_val_cod.shape"
      ],
      "execution_count": 27,
      "outputs": [
        {
          "output_type": "execute_result",
          "data": {
            "text/plain": [
              "torch.Size([10000, 32])"
            ]
          },
          "metadata": {
            "tags": []
          },
          "execution_count": 27
        }
      ]
    },
    {
      "cell_type": "code",
      "metadata": {
        "id": "a6Gvb9izQz3R"
      },
      "source": [
        "data_test_cod = torch.utils.data.TensorDataset(X_val_cod, cls_val)\r\n",
        "loader_val_cod = torch.utils.data.DataLoader(data_test_cod, batch_size=256, shuffle=True)"
      ],
      "execution_count": 28,
      "outputs": []
    },
    {
      "cell_type": "markdown",
      "metadata": {
        "id": "oM4MpPWTSVdt"
      },
      "source": [
        "## Etapa 7: Classificação sem redução de dimensionalidade"
      ]
    },
    {
      "cell_type": "code",
      "metadata": {
        "id": "1T9_xkRKS1Z4"
      },
      "source": [
        "cls_1 = nn.Sequential(nn.Linear(784,397),\r\n",
        "                      nn.ReLU(),\r\n",
        "                      nn.Linear(397,10),\r\n",
        "                      nn.LogSoftmax())"
      ],
      "execution_count": 29,
      "outputs": []
    },
    {
      "cell_type": "code",
      "metadata": {
        "id": "ssypdXh8THVi"
      },
      "source": [
        "cls_1.to(device)\r\n",
        "criterion = nn.NLLLoss()\r\n",
        "optimizer = optim.Adam(cls_1.parameters())"
      ],
      "execution_count": 30,
      "outputs": []
    },
    {
      "cell_type": "code",
      "metadata": {
        "colab": {
          "base_uri": "https://localhost:8080/"
        },
        "id": "_lcJA9AHRKzh",
        "outputId": "ff50dd91-4bce-4e60-ef94-38fe2c82f2b1"
      },
      "source": [
        "for epoch in range(20):\r\n",
        "  running_loss_train = 0.\r\n",
        "  running_acc_train = 0.\r\n",
        "  for data in loader_train:\r\n",
        "    cls_1.train()\r\n",
        "    inputs, labels = data\r\n",
        "    inputs, labels = inputs.to(device), labels.to(device)\r\n",
        "    inputs = inputs.view(-1,28*28)\r\n",
        "\r\n",
        "    optimizer.zero_grad()\r\n",
        "    outputs = cls_1(inputs)\r\n",
        "    ps = torch.exp(outputs)\r\n",
        "    _, top_class = ps.topk(k=1, dim=1)\r\n",
        "    loss = criterion(outputs, labels)\r\n",
        "    loss.backward()\r\n",
        "    optimizer.step()\r\n",
        "\r\n",
        "    running_loss_train += loss.item()\r\n",
        "    running_acc_train += accuracy_score(labels.detach().cpu().numpy(),\r\n",
        "                                        top_class.detach().cpu().numpy())\r\n",
        "    \r\n",
        "  \r\n",
        "  running_loss_test = 0.\r\n",
        "  running_acc_val = 0.\r\n",
        "  for data in loader_test:\r\n",
        "    cls_1.eval()\r\n",
        "    inputs, labels = data\r\n",
        "    inputs, labels = inputs.to(device), labels.to(device)\r\n",
        "    inputs = inputs.view(-1,28*28)\r\n",
        "    \r\n",
        "    outputs = cls_1(inputs)\r\n",
        "    ps = torch.exp(outputs)\r\n",
        "    _, top_class = ps.topk(k=1, dim=1)\r\n",
        "    loss = criterion(outputs, labels)\r\n",
        "    \r\n",
        "    running_loss_val += loss.item()\r\n",
        "    running_acc_val += accuracy_score(labels.detach().cpu().numpy(),\r\n",
        "                                      top_class.detach().cpu().numpy())\r\n",
        "    \r\n",
        "  print('ÉPOCA {:3d}: PERDA TREINO {:.5f} - PRECISÃO TREINO {:5f} | PERDA VALIDAÇÃO {:.5f} - PRECISÃO VALIDAÇÃO {:5f}' \\\r\n",
        "        .format(epoch+1, running_loss_train/len(loader_train),\r\n",
        "                running_acc_train/len(loader_train),\r\n",
        "                running_loss_val/len(loader_test),\r\n",
        "                running_acc_val/len(loader_test)))"
      ],
      "execution_count": 32,
      "outputs": [
        {
          "output_type": "stream",
          "text": [
            "/usr/local/lib/python3.6/dist-packages/torch/nn/modules/container.py:100: UserWarning: Implicit dimension choice for log_softmax has been deprecated. Change the call to include dim=X as an argument.\n",
            "  input = module(input)\n"
          ],
          "name": "stderr"
        },
        {
          "output_type": "stream",
          "text": [
            "ÉPOCA   1: PERDA TREINO 0.01251 - PRECISÃO TREINO 0.997557 | PERDA VALIDAÇÃO 1.39427 - PRECISÃO VALIDAÇÃO 0.980371\n",
            "ÉPOCA   2: PERDA TREINO 0.01083 - PRECISÃO TREINO 0.998072 | PERDA VALIDAÇÃO 1.45822 - PRECISÃO VALIDAÇÃO 0.980469\n",
            "ÉPOCA   3: PERDA TREINO 0.00864 - PRECISÃO TREINO 0.998604 | PERDA VALIDAÇÃO 1.52449 - PRECISÃO VALIDAÇÃO 0.979688\n",
            "ÉPOCA   4: PERDA TREINO 0.00646 - PRECISÃO TREINO 0.999202 | PERDA VALIDAÇÃO 1.59472 - PRECISÃO VALIDAÇÃO 0.979102\n",
            "ÉPOCA   5: PERDA TREINO 0.00539 - PRECISÃO TREINO 0.999302 | PERDA VALIDAÇÃO 1.66207 - PRECISÃO VALIDAÇÃO 0.981543\n",
            "ÉPOCA   6: PERDA TREINO 0.00507 - PRECISÃO TREINO 0.999252 | PERDA VALIDAÇÃO 1.73423 - PRECISÃO VALIDAÇÃO 0.980078\n",
            "ÉPOCA   7: PERDA TREINO 0.00389 - PRECISÃO TREINO 0.999584 | PERDA VALIDAÇÃO 1.80596 - PRECISÃO VALIDAÇÃO 0.980469\n",
            "ÉPOCA   8: PERDA TREINO 0.00321 - PRECISÃO TREINO 0.999734 | PERDA VALIDAÇÃO 1.87378 - PRECISÃO VALIDAÇÃO 0.981543\n",
            "ÉPOCA   9: PERDA TREINO 0.00238 - PRECISÃO TREINO 0.999934 | PERDA VALIDAÇÃO 1.94384 - PRECISÃO VALIDAÇÃO 0.980762\n",
            "ÉPOCA  10: PERDA TREINO 0.00177 - PRECISÃO TREINO 1.000000 | PERDA VALIDAÇÃO 2.01661 - PRECISÃO VALIDAÇÃO 0.979980\n",
            "ÉPOCA  11: PERDA TREINO 0.00157 - PRECISÃO TREINO 0.999967 | PERDA VALIDAÇÃO 2.08442 - PRECISÃO VALIDAÇÃO 0.982031\n",
            "ÉPOCA  12: PERDA TREINO 0.00141 - PRECISÃO TREINO 0.999967 | PERDA VALIDAÇÃO 2.16561 - PRECISÃO VALIDAÇÃO 0.979980\n",
            "ÉPOCA  13: PERDA TREINO 0.00126 - PRECISÃO TREINO 0.999983 | PERDA VALIDAÇÃO 2.23845 - PRECISÃO VALIDAÇÃO 0.981934\n",
            "ÉPOCA  14: PERDA TREINO 0.00109 - PRECISÃO TREINO 0.999983 | PERDA VALIDAÇÃO 2.31539 - PRECISÃO VALIDAÇÃO 0.980371\n",
            "ÉPOCA  15: PERDA TREINO 0.00114 - PRECISÃO TREINO 0.999983 | PERDA VALIDAÇÃO 2.38803 - PRECISÃO VALIDAÇÃO 0.981738\n",
            "ÉPOCA  16: PERDA TREINO 0.00215 - PRECISÃO TREINO 0.999523 | PERDA VALIDAÇÃO 2.48903 - PRECISÃO VALIDAÇÃO 0.977441\n",
            "ÉPOCA  17: PERDA TREINO 0.01925 - PRECISÃO TREINO 0.993129 | PERDA VALIDAÇÃO 2.57073 - PRECISÃO VALIDAÇÃO 0.980273\n",
            "ÉPOCA  18: PERDA TREINO 0.00461 - PRECISÃO TREINO 0.998969 | PERDA VALIDAÇÃO 2.64506 - PRECISÃO VALIDAÇÃO 0.981738\n",
            "ÉPOCA  19: PERDA TREINO 0.00136 - PRECISÃO TREINO 0.999917 | PERDA VALIDAÇÃO 2.72219 - PRECISÃO VALIDAÇÃO 0.981836\n",
            "ÉPOCA  20: PERDA TREINO 0.00069 - PRECISÃO TREINO 1.000000 | PERDA VALIDAÇÃO 2.79942 - PRECISÃO VALIDAÇÃO 0.982324\n"
          ],
          "name": "stdout"
        }
      ]
    },
    {
      "cell_type": "markdown",
      "metadata": {
        "id": "ke0Q7-TUXHgQ"
      },
      "source": [
        "## Etapa 8: Classificação com redução de dimensionalidade"
      ]
    },
    {
      "cell_type": "code",
      "metadata": {
        "id": "guqTAzwOWaas"
      },
      "source": [
        "cls_2 = nn.Sequential(\r\n",
        "    nn.Linear(32,21),\r\n",
        "    nn.ReLU(),\r\n",
        "    nn.Linear(21,10),\r\n",
        "    nn.LogSoftmax()\r\n",
        ")"
      ],
      "execution_count": 33,
      "outputs": []
    },
    {
      "cell_type": "code",
      "metadata": {
        "id": "sRLLF_lhXcdf"
      },
      "source": [
        "cls_2.to(device)\r\n",
        "criterion = nn.NLLLoss()\r\n",
        "optimizer = optim.Adam(cls_2.parameters())"
      ],
      "execution_count": 35,
      "outputs": []
    },
    {
      "cell_type": "code",
      "metadata": {
        "colab": {
          "base_uri": "https://localhost:8080/"
        },
        "id": "JcepBQszXmVf",
        "outputId": "3c756131-abf1-4fef-a91d-debc24dfcb2b"
      },
      "source": [
        "for epoch in range(20):\r\n",
        "  running_loss_train = 0.\r\n",
        "  running_acc_train = 0.\r\n",
        "  for data in loader_train_cod:\r\n",
        "    cls_2.train()\r\n",
        "    inputs, labels = data\r\n",
        "    inputs, labels = inputs.to(device), labels.to(device)\r\n",
        "\r\n",
        "    optimizer.zero_grad()\r\n",
        "    outputs = cls_2(inputs)\r\n",
        "    ps = torch.exp(outputs)\r\n",
        "    _, top_class = ps.topk(k=1, dim=1)\r\n",
        "    loss = criterion(outputs, labels)\r\n",
        "    loss.backward()\r\n",
        "    optimizer.step()\r\n",
        "\r\n",
        "    running_loss_train += loss.item()\r\n",
        "    running_acc_train += accuracy_score(labels.detach().cpu().numpy(),\r\n",
        "                                        top_class.detach().cpu().numpy())\r\n",
        "    \r\n",
        "  \r\n",
        "  running_loss_test = 0.\r\n",
        "  running_acc_val = 0.\r\n",
        "  for data in loader_val_cod:\r\n",
        "    cls_2.eval()\r\n",
        "    inputs, labels = data\r\n",
        "    inputs, labels = inputs.to(device), labels.to(device)\r\n",
        "    \r\n",
        "    outputs = cls_2(inputs)\r\n",
        "    ps = torch.exp(outputs)\r\n",
        "    _, top_class = ps.topk(k=1, dim=1)\r\n",
        "    loss = criterion(outputs, labels)\r\n",
        "    \r\n",
        "    running_loss_val += loss.item()\r\n",
        "    running_acc_val += accuracy_score(labels.detach().cpu().numpy(),\r\n",
        "                                      top_class.detach().cpu().numpy())\r\n",
        "    \r\n",
        "  print('ÉPOCA {:3d}: PERDA TREINO {:.5f} - PRECISÃO TREINO {:5f} | PERDA VALIDAÇÃO {:.5f} - PRECISÃO VALIDAÇÃO {:5f}' \\\r\n",
        "        .format(epoch+1, running_loss_train/len(loader_train),\r\n",
        "                running_acc_train/len(loader_train),\r\n",
        "                running_loss_val/len(loader_test),\r\n",
        "                running_acc_val/len(loader_test)))"
      ],
      "execution_count": 38,
      "outputs": [
        {
          "output_type": "stream",
          "text": [
            "/usr/local/lib/python3.6/dist-packages/torch/nn/modules/container.py:100: UserWarning: Implicit dimension choice for log_softmax has been deprecated. Change the call to include dim=X as an argument.\n",
            "  input = module(input)\n"
          ],
          "name": "stderr"
        },
        {
          "output_type": "stream",
          "text": [
            "ÉPOCA   1: PERDA TREINO 0.56218 - PRECISÃO TREINO 0.838697 | PERDA VALIDAÇÃO 3.23756 - PRECISÃO VALIDAÇÃO 0.878613\n",
            "ÉPOCA   2: PERDA TREINO 0.42664 - PRECISÃO TREINO 0.873881 | PERDA VALIDAÇÃO 3.60756 - PRECISÃO VALIDAÇÃO 0.890332\n",
            "ÉPOCA   3: PERDA TREINO 0.38372 - PRECISÃO TREINO 0.885849 | PERDA VALIDAÇÃO 3.96128 - PRECISÃO VALIDAÇÃO 0.895508\n",
            "ÉPOCA   4: PERDA TREINO 0.36144 - PRECISÃO TREINO 0.892055 | PERDA VALIDAÇÃO 4.28803 - PRECISÃO VALIDAÇÃO 0.901953\n",
            "ÉPOCA   5: PERDA TREINO 0.34467 - PRECISÃO TREINO 0.896260 | PERDA VALIDAÇÃO 4.60722 - PRECISÃO VALIDAÇÃO 0.903809\n",
            "ÉPOCA   6: PERDA TREINO 0.33244 - PRECISÃO TREINO 0.899939 | PERDA VALIDAÇÃO 4.91879 - PRECISÃO VALIDAÇÃO 0.906055\n",
            "ÉPOCA   7: PERDA TREINO 0.32159 - PRECISÃO TREINO 0.903480 | PERDA VALIDAÇÃO 5.21671 - PRECISÃO VALIDAÇÃO 0.910742\n",
            "ÉPOCA   8: PERDA TREINO 0.31317 - PRECISÃO TREINO 0.904555 | PERDA VALIDAÇÃO 5.51260 - PRECISÃO VALIDAÇÃO 0.911133\n",
            "ÉPOCA   9: PERDA TREINO 0.30583 - PRECISÃO TREINO 0.907530 | PERDA VALIDAÇÃO 5.79280 - PRECISÃO VALIDAÇÃO 0.916797\n",
            "ÉPOCA  10: PERDA TREINO 0.29721 - PRECISÃO TREINO 0.909990 | PERDA VALIDAÇÃO 6.06796 - PRECISÃO VALIDAÇÃO 0.915625\n",
            "ÉPOCA  11: PERDA TREINO 0.29184 - PRECISÃO TREINO 0.911918 | PERDA VALIDAÇÃO 6.33484 - PRECISÃO VALIDAÇÃO 0.920410\n",
            "ÉPOCA  12: PERDA TREINO 0.28679 - PRECISÃO TREINO 0.913403 | PERDA VALIDAÇÃO 6.59636 - PRECISÃO VALIDAÇÃO 0.921094\n",
            "ÉPOCA  13: PERDA TREINO 0.27991 - PRECISÃO TREINO 0.914955 | PERDA VALIDAÇÃO 6.86361 - PRECISÃO VALIDAÇÃO 0.920215\n",
            "ÉPOCA  14: PERDA TREINO 0.27462 - PRECISÃO TREINO 0.916384 | PERDA VALIDAÇÃO 7.12374 - PRECISÃO VALIDAÇÃO 0.922461\n",
            "ÉPOCA  15: PERDA TREINO 0.26985 - PRECISÃO TREINO 0.917797 | PERDA VALIDAÇÃO 7.38813 - PRECISÃO VALIDAÇÃO 0.921777\n",
            "ÉPOCA  16: PERDA TREINO 0.26631 - PRECISÃO TREINO 0.919609 | PERDA VALIDAÇÃO 7.64540 - PRECISÃO VALIDAÇÃO 0.920703\n",
            "ÉPOCA  17: PERDA TREINO 0.26123 - PRECISÃO TREINO 0.921099 | PERDA VALIDAÇÃO 7.89062 - PRECISÃO VALIDAÇÃO 0.926855\n",
            "ÉPOCA  18: PERDA TREINO 0.25863 - PRECISÃO TREINO 0.921969 | PERDA VALIDAÇÃO 8.14866 - PRECISÃO VALIDAÇÃO 0.923340\n",
            "ÉPOCA  19: PERDA TREINO 0.25585 - PRECISÃO TREINO 0.922324 | PERDA VALIDAÇÃO 8.38676 - PRECISÃO VALIDAÇÃO 0.930078\n",
            "ÉPOCA  20: PERDA TREINO 0.25091 - PRECISÃO TREINO 0.924729 | PERDA VALIDAÇÃO 8.62392 - PRECISÃO VALIDAÇÃO 0.929004\n"
          ],
          "name": "stdout"
        }
      ]
    }
  ]
}